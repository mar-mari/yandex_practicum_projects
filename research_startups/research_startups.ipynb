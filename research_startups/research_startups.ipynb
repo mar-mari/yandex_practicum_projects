{
 "cells": [
  {
   "cell_type": "markdown",
   "metadata": {
    "id": "4mJbK1knrJgz"
   },
   "source": [
    "# Проект: Исследование стартапов"
   ]
  },
  {
   "cell_type": "markdown",
   "metadata": {},
   "source": [
    "Автор проекта: Мария Мартынова"
   ]
  },
  {
   "cell_type": "markdown",
   "metadata": {},
   "source": [
    "### Содержание\n",
    "\n",
    "- [Введение](#Введение)\n",
    "  - [Цель проекта](#Цель_проекта)\n",
    "  - [Описание данных](#Описание_данных)\n",
    "- [Шаг 1. Знакомство с данными: загрузка и первичная предобработка\"](#Шаг_1._Знакомство_с_данными:_загрузка_и_первичная_предобработка\")\n",
    "  - [Вывод общей информации, исправление названия столбцов](#Вывод_общей_информации,_исправление_названия_столбцов)\n",
    "  - [Смена типов и анализ пропусков](#Смена_типов_и_анализ_пропусков)\n",
    "- [Шаг2. Предобработка данных, предварительное исследование](#Предобработка_данных,_предварительное_исследование)\n",
    "  - [Раунды финансирования по годам](#Раунды)\n",
    "  - [Люди и их образование](#Люди_образование)\n",
    "  - [Объединять или не объединять — вот в чём вопрос](#Объединять_вопрос)\n",
    "  - [Проблемный датасет и причина возникновения пропусков](#Проблемный_датасет)\n",
    "- [Шаг 3. Исследовательский анализ объединённых таблиц](#Шаг_3)\n",
    "  - [Объединение данных](#Объединение_данных)\n",
    "  - [Анализ выбросов](#Анализ_выбросов)\n",
    "  - [Куплены забесплатно](#Куплены_забесплатно)\n",
    "  - [Цены стартапов по категориям](#Цены_стартапов)\n",
    "  - [Сколько раундов продержится стартап перед покупкой](#Сколько_раундов)\n",
    "- [Шаг 4. Итоговый вывод и рекомендании](#Шаг_4)\n",
    "\n"
   ]
  },
  {
   "cell_type": "markdown",
   "metadata": {
    "id": "P6j0r3worJg0"
   },
   "source": [
    "<a id=\"Цель_проекта\"></a>\n",
    "### Введение\n",
    "\n",
    "Финансовая компания, которая предоставляет льготные займы стартапам, хочет войти на инвестиционный рынок с прицелом на покупку, развитие и последующую перепродажу перспективных стартапов."
   ]
  },
  {
   "cell_type": "markdown",
   "metadata": {},
   "source": [
    "<a id=\"Цель_проекта\"></a>\n",
    "#### Цель проекта\n",
    "\n",
    "Подготовить датасет и проверить, что данные соответствуют здравому смыслу. Необходимо ответить на вопросы заказчика как о предобработке, так и о значении данных для бизнеса.\n",
    "\n",
    "**Вопросы по предобработке:**\n",
    "- Раунды финансирования по годам. В каком году типичный размер собранных в рамках одного раунда средств был максимален? Какая тенденция по количеству раундов и выделяемых в рамках каждого раунда средств наблюдалась в 2013 году?\n",
    "- Люди и образование. Зависит ли полнота сведений о сотрудниках (например, об их образовании) от размера компаний\n",
    "- Объединять или не объединять\n",
    "- Проблемный датасет и причина возникновения пропусков\n",
    "\n",
    "**Исследовательский анализ:**\n",
    "- Анализ выбросов. Заказчика интересует обычный для рассматриваемого периода размер средств, который предоставлялся компаниям.\n",
    "- Куплены забесплатно? Исследовать компании, которые были проданы за ноль или за один доллар\n",
    "- Цены стартапов по категориям\n",
    "- Сколько раундов продержится стартап перед покупкой\n"
   ]
  },
  {
   "cell_type": "markdown",
   "metadata": {},
   "source": [
    "<a id=\"Описание_данных\"></a>\n",
    "#### Описание данных \n",
    "\n",
    "\n",
    "**Таблица `acquisition`**\n",
    "\n",
    "Содержит информацию о покупках одними компаниями других компаний:\n",
    "- `id` — идентификатор покупки.\n",
    "- `acquiring_company_id` — идентификатор покупающей компании.\n",
    "- `acquired_company_id` — идентификатор покупаемой компании.\n",
    "- `term_code` — варианты расчёта.\n",
    "- `price_amount` — сумма сделки.\n",
    "- `acquired_at` — дата сделки.\n",
    "\n",
    "\n",
    "**Таблица company_and_rounds**\n",
    "\n",
    "Содержит информацию о компаниях и раундах финансирования:\n",
    "- `company ID` — идентификатор компании.\n",
    "- `name` — название компании.\n",
    "- `category code` — категория области деятельности компании.\n",
    "- `status` — статус компании.\n",
    "- `founded at` — дата инвестирования.\n",
    "- `closed at` — дата закрытия компании.\n",
    "- `domain` — официальный сайт компании.\n",
    "- `network username` — ник компании в сети.\n",
    "- `country code` — код страны компании.\n",
    "- `investment rounds` — число инвестиционных раундов.\n",
    "- `funding rounds` — число раундов финансирования.\n",
    "- `funding total` — сумма финансирования.\n",
    "- `milestones` — вехи финансирования.\n",
    "- `funding round id` — идентификатор этапа финансирования.\n",
    "- `company id` — идентификатор компании.\n",
    "- `funded at` — дата финансирования.\n",
    "- `funding round type` — тип финансирования.\n",
    "- `raised amount` — сумма финансирования.\n",
    "- `pre money valuation` — предварительная денежная оценка.\n",
    "- `participants` — число участников.\n",
    "- `is first round` — является ли раунд первым.\n",
    "- `is last round` — является раунд последним.\n",
    "\n",
    "**Таблица education**\n",
    "\n",
    "Содержит информацию об образовании сотрудника:\n",
    "\n",
    "- `id` — идентификатор записи об образовании.\n",
    "- `person_id` — идентификатор работника.\n",
    "- `instituition` — название учебного заведения.\n",
    "- `graduated_at` — дата получения образования.\n",
    "\n",
    "**Таблица people**\n",
    "\n",
    "Содержит информацию о сотрудниках:\n",
    "- `id` — идентификатор сотрудника.\n",
    "- `first_name` — имя сотрудника.\n",
    "- `last_name` — фамилия сотрудника.\n",
    "- `company_id` — идентификатор компании.\n",
    "- `network_username` — ник в социальных сетях.\n",
    "\n",
    "**Таблица degrees**\n",
    "\n",
    "Содержит информацию о типе образования сотрудника:\n",
    "\n",
    "- `id` — идентификатор записи.\n",
    "- `object_id` — идентификатор сотрудника.\n",
    "- `degree_type` — тип образования.\n",
    "- `subject` — специальность.\n",
    "\n",
    "**Таблица fund**\n",
    "\n",
    "Содержит информацию о фондах:\n",
    "\n",
    "- `id` — идентификатор фонда.\n",
    "- `name` — название фонда.\n",
    "- `category_code` — категория области деятельности компании.\n",
    "- `founded_at` — дата создания фонда.\n",
    "- `domain` — сайт фонда.\n",
    "- `network_username` — ник фонда в сети.\n",
    "- `country_code` — код страны фонда.\n",
    "- `investment_rounds` — число инвестиционных раундов.\n",
    "- `invested_companies` — число профинансированных компаний.\n",
    "- `milestones` — вехи финансирования.\n",
    "\n",
    "**Таблица investment**\n",
    "\n",
    "Содержит информацию о раундах инвестирования:\n",
    "\n",
    "- `id` — идентификатор этапа инвестирования.\n",
    "- `funding_round_id` — идентификатор раунда инвестирования.\n",
    "- `company_id` — индентификатор компании.\n",
    "- `funding_round_type` — тип финансирования.\n",
    "- `fund_id` — идентификатор фонда."
   ]
  },
  {
   "cell_type": "markdown",
   "metadata": {
    "id": "xqr6uttCrJg0"
   },
   "source": [
    "\n",
    "<a id=\"Шаг_1._Знакомство_с_данными:_загрузка_и_первичная_предобработка\"></a>\n",
    "## Шаг 1. Знакомство с данными: загрузка и первичная предобработка\n",
    "\n",
    "Названия файлов:\n",
    "* acquisition.csv\n",
    "* company_and_rounds.csv\n",
    "* degrees.csv\n",
    "* education.csv\n",
    "* fund.csv\n",
    "* investment.csv\n",
    "* people.csv\n",
    "\n",
    "Они находятся в папке datasets, если вы выполняете работу на платформе. В случае, если вы делаете работу локально, доступ к файлам в папке можно получить по адресу `https://code.s3.yandex.net/datasets/` + имя файла.\n",
    "\n",
    "<a id=\"Вывод_общей_информации,_исправление_названия_столбцов\"></a>\n",
    "### Вывод общей информации, исправление названия столбцов"
   ]
  },
  {
   "cell_type": "markdown",
   "metadata": {},
   "source": [
    "\n",
    "* Загрузите все данные по проекту."
   ]
  },
  {
   "cell_type": "code",
   "execution_count": 1,
   "metadata": {},
   "outputs": [],
   "source": [
    "# Импортируем библиотеки\n",
    "import pandas as pd\n",
    "\n",
    "# Загружаем библиотеки для визуализации данных\n",
    "import matplotlib.pyplot as plt\n",
    "import seaborn as sns"
   ]
  },
  {
   "cell_type": "code",
   "execution_count": 2,
   "metadata": {},
   "outputs": [],
   "source": [
    "# Выгружаем данные\n",
    "acquisition_df = pd.read_csv('https://code.s3.yandex.net/datasets/acquisition.csv')\n",
    "company_and_rounds_df = pd.read_csv('https://code.s3.yandex.net/datasets/company_and_rounds.csv')\n",
    "degrees_df = pd.read_csv('https://code.s3.yandex.net/datasets/degrees.csv')\n",
    "education_df = pd.read_csv('https://code.s3.yandex.net/datasets/education.csv')\n",
    "fund_df = pd.read_csv('https://code.s3.yandex.net/datasets/fund.csv')\n",
    "investment_df = pd.read_csv('https://code.s3.yandex.net/datasets/investment.csv')\n",
    "people_df = pd.read_csv('https://code.s3.yandex.net/datasets/people.csv')\n"
   ]
  },
  {
   "cell_type": "markdown",
   "metadata": {},
   "source": [
    "\n",
    "* Проверим названия столбцов."
   ]
  },
  {
   "cell_type": "markdown",
   "metadata": {},
   "source": [
    "<a id=\"acquisition_df\"></a>\n",
    "**Таблица `acquisition`:** Содержит информацию о покупках одними компаниями других компаний"
   ]
  },
  {
   "cell_type": "code",
   "execution_count": 3,
   "metadata": {},
   "outputs": [
    {
     "name": "stdout",
     "output_type": "stream",
     "text": [
      "\u001b[1mИнформация о acquisition__df:\u001b[0m\n",
      "<class 'pandas.core.frame.DataFrame'>\n",
      "RangeIndex: 9407 entries, 0 to 9406\n",
      "Data columns (total 6 columns):\n",
      " #   Column                Non-Null Count  Dtype \n",
      "---  ------                --------------  ----- \n",
      " 0   id                    9407 non-null   int64 \n",
      " 1   acquiring_company_id  9407 non-null   int64 \n",
      " 2   acquired_company_id   9407 non-null   int64 \n",
      " 3   term_code             1831 non-null   object\n",
      " 4   price_amount          9407 non-null   int64 \n",
      " 5   acquired_at           9378 non-null   object\n",
      "dtypes: int64(4), object(2)\n",
      "memory usage: 441.1+ KB\n"
     ]
    }
   ],
   "source": [
    "# Выведем информацию о загруженных датафреймах\n",
    "print('\\033[1m' + 'Информация о acquisition__df:' + '\\033[0m')\n",
    "acquisition_df.info()"
   ]
  },
  {
   "cell_type": "code",
   "execution_count": 4,
   "metadata": {},
   "outputs": [
    {
     "data": {
      "text/html": [
       "<div>\n",
       "<style scoped>\n",
       "    .dataframe tbody tr th:only-of-type {\n",
       "        vertical-align: middle;\n",
       "    }\n",
       "\n",
       "    .dataframe tbody tr th {\n",
       "        vertical-align: top;\n",
       "    }\n",
       "\n",
       "    .dataframe thead th {\n",
       "        text-align: right;\n",
       "    }\n",
       "</style>\n",
       "<table border=\"1\" class=\"dataframe\">\n",
       "  <thead>\n",
       "    <tr style=\"text-align: right;\">\n",
       "      <th></th>\n",
       "      <th>id</th>\n",
       "      <th>acquiring_company_id</th>\n",
       "      <th>acquired_company_id</th>\n",
       "      <th>term_code</th>\n",
       "      <th>price_amount</th>\n",
       "      <th>acquired_at</th>\n",
       "    </tr>\n",
       "  </thead>\n",
       "  <tbody>\n",
       "    <tr>\n",
       "      <th>0</th>\n",
       "      <td>1</td>\n",
       "      <td>11</td>\n",
       "      <td>10</td>\n",
       "      <td>NaN</td>\n",
       "      <td>20000000</td>\n",
       "      <td>2007-05-30</td>\n",
       "    </tr>\n",
       "    <tr>\n",
       "      <th>1</th>\n",
       "      <td>7</td>\n",
       "      <td>59</td>\n",
       "      <td>72</td>\n",
       "      <td>cash</td>\n",
       "      <td>60000000</td>\n",
       "      <td>2007-07-01</td>\n",
       "    </tr>\n",
       "    <tr>\n",
       "      <th>2</th>\n",
       "      <td>8</td>\n",
       "      <td>24</td>\n",
       "      <td>132</td>\n",
       "      <td>cash</td>\n",
       "      <td>280000000</td>\n",
       "      <td>2007-05-01</td>\n",
       "    </tr>\n",
       "    <tr>\n",
       "      <th>3</th>\n",
       "      <td>9</td>\n",
       "      <td>59</td>\n",
       "      <td>155</td>\n",
       "      <td>cash</td>\n",
       "      <td>100000000</td>\n",
       "      <td>2007-06-01</td>\n",
       "    </tr>\n",
       "    <tr>\n",
       "      <th>4</th>\n",
       "      <td>10</td>\n",
       "      <td>212</td>\n",
       "      <td>215</td>\n",
       "      <td>cash</td>\n",
       "      <td>25000000</td>\n",
       "      <td>2007-07-01</td>\n",
       "    </tr>\n",
       "  </tbody>\n",
       "</table>\n",
       "</div>"
      ],
      "text/plain": [
       "   id  acquiring_company_id  acquired_company_id term_code  price_amount  \\\n",
       "0   1                    11                   10       NaN      20000000   \n",
       "1   7                    59                   72      cash      60000000   \n",
       "2   8                    24                  132      cash     280000000   \n",
       "3   9                    59                  155      cash     100000000   \n",
       "4  10                   212                  215      cash      25000000   \n",
       "\n",
       "  acquired_at  \n",
       "0  2007-05-30  \n",
       "1  2007-07-01  \n",
       "2  2007-05-01  \n",
       "3  2007-06-01  \n",
       "4  2007-07-01  "
      ]
     },
     "execution_count": 4,
     "metadata": {},
     "output_type": "execute_result"
    }
   ],
   "source": [
    "# Выведем первые пять строк\n",
    "acquisition_df.head()"
   ]
  },
  {
   "cell_type": "markdown",
   "metadata": {},
   "source": [
    "---\n",
    "<a id=\"company_and_rounds_df\"></a>\n",
    "**Таблица `company_and_rounds_df`:** Содержит информацию о компаниях и раундах финансирования"
   ]
  },
  {
   "cell_type": "code",
   "execution_count": 5,
   "metadata": {},
   "outputs": [
    {
     "name": "stdout",
     "output_type": "stream",
     "text": [
      "\u001b[1mИнформация о company_and_rounds_df:\u001b[0m\n",
      "<class 'pandas.core.frame.DataFrame'>\n",
      "RangeIndex: 217774 entries, 0 to 217773\n",
      "Data columns (total 22 columns):\n",
      " #   Column                 Non-Null Count   Dtype  \n",
      "---  ------                 --------------   -----  \n",
      " 0   company  ID            217472 non-null  float64\n",
      " 1   name                   217472 non-null  object \n",
      " 2   category  code         143886 non-null  object \n",
      " 3   status                 217472 non-null  object \n",
      " 4   founded  at            109956 non-null  object \n",
      " 5   closed  at             3449 non-null    object \n",
      " 6   domain                 147159 non-null  object \n",
      " 7   network  username      95534 non-null   object \n",
      " 8   country  code          108607 non-null  object \n",
      " 9   investment  rounds     217472 non-null  float64\n",
      " 10  funding  rounds        217472 non-null  float64\n",
      " 11  funding  total         217472 non-null  float64\n",
      " 12  milestones             217472 non-null  float64\n",
      " 13  funding  round  id     52928 non-null   float64\n",
      " 14  company  id            52928 non-null   float64\n",
      " 15  funded  at             52680 non-null   object \n",
      " 16  funding  round  type   52928 non-null   object \n",
      " 17  raised  amount         52928 non-null   float64\n",
      " 18  pre  money  valuation  52928 non-null   float64\n",
      " 19  participants           52928 non-null   float64\n",
      " 20  is  first  round       52928 non-null   float64\n",
      " 21  is  last  round        52928 non-null   float64\n",
      "dtypes: float64(12), object(10)\n",
      "memory usage: 36.6+ MB\n"
     ]
    }
   ],
   "source": [
    "print('\\033[1m' + 'Информация о company_and_rounds_df:' + '\\033[0m')\n",
    "company_and_rounds_df.info()"
   ]
  },
  {
   "cell_type": "markdown",
   "metadata": {},
   "source": [
    "Есть дубликаты колонок `company  ID` и `company  id`. Название второй колонку переименуем в `company  id_funding`.\n",
    "\n",
    "Название колонок необходимо привести к стилю snake_case."
   ]
  },
  {
   "cell_type": "code",
   "execution_count": 6,
   "metadata": {},
   "outputs": [],
   "source": [
    "#Переимением company  id в company  id2\n",
    "company_and_rounds_df = company_and_rounds_df.rename(columns={'company  id': 'company  id_funding'})"
   ]
  },
  {
   "cell_type": "code",
   "execution_count": 7,
   "metadata": {},
   "outputs": [
    {
     "name": "stdout",
     "output_type": "stream",
     "text": [
      "\u001b[1mНазвание колонок:\u001b[0m Index(['company_id', 'name', 'category_code', 'status', 'founded_at',\n",
      "       'closed_at', 'domain', 'network_username', 'country_code',\n",
      "       'investment_rounds', 'funding_rounds', 'funding_total', 'milestones',\n",
      "       'funding_round_id', 'company_id_funding', 'funded_at',\n",
      "       'funding_round_type', 'raised_amount', 'pre_money_valuation',\n",
      "       'participants', 'is_first_round', 'is_last_round'],\n",
      "      dtype='object')\n"
     ]
    }
   ],
   "source": [
    "# Приведем названия к snake_case\n",
    "company_and_rounds_df.columns = company_and_rounds_df.columns.str.lower().str.replace('  ', '_')\n",
    "# Выведем информацию о названиях\n",
    "print('\\033[1m' + f'Название колонок:' + '\\033[0m' + f' {company_and_rounds_df.columns}' )\n"
   ]
  },
  {
   "cell_type": "code",
   "execution_count": 8,
   "metadata": {},
   "outputs": [
    {
     "data": {
      "text/html": [
       "<div>\n",
       "<style scoped>\n",
       "    .dataframe tbody tr th:only-of-type {\n",
       "        vertical-align: middle;\n",
       "    }\n",
       "\n",
       "    .dataframe tbody tr th {\n",
       "        vertical-align: top;\n",
       "    }\n",
       "\n",
       "    .dataframe thead th {\n",
       "        text-align: right;\n",
       "    }\n",
       "</style>\n",
       "<table border=\"1\" class=\"dataframe\">\n",
       "  <thead>\n",
       "    <tr style=\"text-align: right;\">\n",
       "      <th></th>\n",
       "      <th>company_id</th>\n",
       "      <th>name</th>\n",
       "      <th>category_code</th>\n",
       "      <th>status</th>\n",
       "      <th>founded_at</th>\n",
       "      <th>closed_at</th>\n",
       "      <th>domain</th>\n",
       "      <th>network_username</th>\n",
       "      <th>country_code</th>\n",
       "      <th>investment_rounds</th>\n",
       "      <th>...</th>\n",
       "      <th>milestones</th>\n",
       "      <th>funding_round_id</th>\n",
       "      <th>company_id_funding</th>\n",
       "      <th>funded_at</th>\n",
       "      <th>funding_round_type</th>\n",
       "      <th>raised_amount</th>\n",
       "      <th>pre_money_valuation</th>\n",
       "      <th>participants</th>\n",
       "      <th>is_first_round</th>\n",
       "      <th>is_last_round</th>\n",
       "    </tr>\n",
       "  </thead>\n",
       "  <tbody>\n",
       "    <tr>\n",
       "      <th>0</th>\n",
       "      <td>1.0</td>\n",
       "      <td>Wetpaint</td>\n",
       "      <td>web</td>\n",
       "      <td>operating</td>\n",
       "      <td>2005-10-17</td>\n",
       "      <td>NaN</td>\n",
       "      <td>wetpaint-inc.com</td>\n",
       "      <td>BachelrWetpaint</td>\n",
       "      <td>USA</td>\n",
       "      <td>0.0</td>\n",
       "      <td>...</td>\n",
       "      <td>5.0</td>\n",
       "      <td>888.0</td>\n",
       "      <td>1.0</td>\n",
       "      <td>2005-10-01</td>\n",
       "      <td>series-a</td>\n",
       "      <td>5250000.0</td>\n",
       "      <td>0.0</td>\n",
       "      <td>2.0</td>\n",
       "      <td>0.0</td>\n",
       "      <td>1.0</td>\n",
       "    </tr>\n",
       "    <tr>\n",
       "      <th>1</th>\n",
       "      <td>1.0</td>\n",
       "      <td>Wetpaint</td>\n",
       "      <td>web</td>\n",
       "      <td>operating</td>\n",
       "      <td>2005-10-17</td>\n",
       "      <td>NaN</td>\n",
       "      <td>wetpaint-inc.com</td>\n",
       "      <td>BachelrWetpaint</td>\n",
       "      <td>USA</td>\n",
       "      <td>0.0</td>\n",
       "      <td>...</td>\n",
       "      <td>5.0</td>\n",
       "      <td>889.0</td>\n",
       "      <td>1.0</td>\n",
       "      <td>2007-01-01</td>\n",
       "      <td>series-b</td>\n",
       "      <td>9500000.0</td>\n",
       "      <td>0.0</td>\n",
       "      <td>3.0</td>\n",
       "      <td>0.0</td>\n",
       "      <td>0.0</td>\n",
       "    </tr>\n",
       "    <tr>\n",
       "      <th>2</th>\n",
       "      <td>1.0</td>\n",
       "      <td>Wetpaint</td>\n",
       "      <td>web</td>\n",
       "      <td>operating</td>\n",
       "      <td>2005-10-17</td>\n",
       "      <td>NaN</td>\n",
       "      <td>wetpaint-inc.com</td>\n",
       "      <td>BachelrWetpaint</td>\n",
       "      <td>USA</td>\n",
       "      <td>0.0</td>\n",
       "      <td>...</td>\n",
       "      <td>5.0</td>\n",
       "      <td>2312.0</td>\n",
       "      <td>1.0</td>\n",
       "      <td>2008-05-19</td>\n",
       "      <td>series-c+</td>\n",
       "      <td>25000000.0</td>\n",
       "      <td>0.0</td>\n",
       "      <td>4.0</td>\n",
       "      <td>1.0</td>\n",
       "      <td>0.0</td>\n",
       "    </tr>\n",
       "    <tr>\n",
       "      <th>3</th>\n",
       "      <td>10.0</td>\n",
       "      <td>Flektor</td>\n",
       "      <td>games_video</td>\n",
       "      <td>acquired</td>\n",
       "      <td>NaN</td>\n",
       "      <td>NaN</td>\n",
       "      <td>flektor.com</td>\n",
       "      <td>NaN</td>\n",
       "      <td>USA</td>\n",
       "      <td>0.0</td>\n",
       "      <td>...</td>\n",
       "      <td>0.0</td>\n",
       "      <td>NaN</td>\n",
       "      <td>NaN</td>\n",
       "      <td>NaN</td>\n",
       "      <td>NaN</td>\n",
       "      <td>NaN</td>\n",
       "      <td>NaN</td>\n",
       "      <td>NaN</td>\n",
       "      <td>NaN</td>\n",
       "      <td>NaN</td>\n",
       "    </tr>\n",
       "    <tr>\n",
       "      <th>4</th>\n",
       "      <td>100.0</td>\n",
       "      <td>There</td>\n",
       "      <td>games_video</td>\n",
       "      <td>acquired</td>\n",
       "      <td>NaN</td>\n",
       "      <td>NaN</td>\n",
       "      <td>there.com</td>\n",
       "      <td>NaN</td>\n",
       "      <td>USA</td>\n",
       "      <td>0.0</td>\n",
       "      <td>...</td>\n",
       "      <td>4.0</td>\n",
       "      <td>NaN</td>\n",
       "      <td>NaN</td>\n",
       "      <td>NaN</td>\n",
       "      <td>NaN</td>\n",
       "      <td>NaN</td>\n",
       "      <td>NaN</td>\n",
       "      <td>NaN</td>\n",
       "      <td>NaN</td>\n",
       "      <td>NaN</td>\n",
       "    </tr>\n",
       "    <tr>\n",
       "      <th>5</th>\n",
       "      <td>10000.0</td>\n",
       "      <td>MYWEBBO</td>\n",
       "      <td>network_hosting</td>\n",
       "      <td>operating</td>\n",
       "      <td>2008-07-26</td>\n",
       "      <td>NaN</td>\n",
       "      <td>mywebbo.com</td>\n",
       "      <td>NaN</td>\n",
       "      <td>NaN</td>\n",
       "      <td>0.0</td>\n",
       "      <td>...</td>\n",
       "      <td>0.0</td>\n",
       "      <td>NaN</td>\n",
       "      <td>NaN</td>\n",
       "      <td>NaN</td>\n",
       "      <td>NaN</td>\n",
       "      <td>NaN</td>\n",
       "      <td>NaN</td>\n",
       "      <td>NaN</td>\n",
       "      <td>NaN</td>\n",
       "      <td>NaN</td>\n",
       "    </tr>\n",
       "    <tr>\n",
       "      <th>6</th>\n",
       "      <td>10001.0</td>\n",
       "      <td>THE Movie Streamer</td>\n",
       "      <td>games_video</td>\n",
       "      <td>operating</td>\n",
       "      <td>2008-07-26</td>\n",
       "      <td>NaN</td>\n",
       "      <td>themoviestreamer.com</td>\n",
       "      <td>NaN</td>\n",
       "      <td>NaN</td>\n",
       "      <td>0.0</td>\n",
       "      <td>...</td>\n",
       "      <td>0.0</td>\n",
       "      <td>NaN</td>\n",
       "      <td>NaN</td>\n",
       "      <td>NaN</td>\n",
       "      <td>NaN</td>\n",
       "      <td>NaN</td>\n",
       "      <td>NaN</td>\n",
       "      <td>NaN</td>\n",
       "      <td>NaN</td>\n",
       "      <td>NaN</td>\n",
       "    </tr>\n",
       "    <tr>\n",
       "      <th>7</th>\n",
       "      <td>10002.0</td>\n",
       "      <td>Synergie Media</td>\n",
       "      <td>advertising</td>\n",
       "      <td>operating</td>\n",
       "      <td>2007-06-27</td>\n",
       "      <td>NaN</td>\n",
       "      <td>synergie-media.com</td>\n",
       "      <td>NaN</td>\n",
       "      <td>MAR</td>\n",
       "      <td>0.0</td>\n",
       "      <td>...</td>\n",
       "      <td>0.0</td>\n",
       "      <td>NaN</td>\n",
       "      <td>NaN</td>\n",
       "      <td>NaN</td>\n",
       "      <td>NaN</td>\n",
       "      <td>NaN</td>\n",
       "      <td>NaN</td>\n",
       "      <td>NaN</td>\n",
       "      <td>NaN</td>\n",
       "      <td>NaN</td>\n",
       "    </tr>\n",
       "    <tr>\n",
       "      <th>8</th>\n",
       "      <td>10003.0</td>\n",
       "      <td>Green Basti Ecosystems</td>\n",
       "      <td>cleantech</td>\n",
       "      <td>operating</td>\n",
       "      <td>2008-08-20</td>\n",
       "      <td>NaN</td>\n",
       "      <td>NaN</td>\n",
       "      <td>NaN</td>\n",
       "      <td>IND</td>\n",
       "      <td>0.0</td>\n",
       "      <td>...</td>\n",
       "      <td>0.0</td>\n",
       "      <td>NaN</td>\n",
       "      <td>NaN</td>\n",
       "      <td>NaN</td>\n",
       "      <td>NaN</td>\n",
       "      <td>NaN</td>\n",
       "      <td>NaN</td>\n",
       "      <td>NaN</td>\n",
       "      <td>NaN</td>\n",
       "      <td>NaN</td>\n",
       "    </tr>\n",
       "    <tr>\n",
       "      <th>9</th>\n",
       "      <td>100042.0</td>\n",
       "      <td>HostNine</td>\n",
       "      <td>NaN</td>\n",
       "      <td>operating</td>\n",
       "      <td>NaN</td>\n",
       "      <td>NaN</td>\n",
       "      <td>hostnine.com</td>\n",
       "      <td>Hostnine</td>\n",
       "      <td>NaN</td>\n",
       "      <td>0.0</td>\n",
       "      <td>...</td>\n",
       "      <td>1.0</td>\n",
       "      <td>NaN</td>\n",
       "      <td>NaN</td>\n",
       "      <td>NaN</td>\n",
       "      <td>NaN</td>\n",
       "      <td>NaN</td>\n",
       "      <td>NaN</td>\n",
       "      <td>NaN</td>\n",
       "      <td>NaN</td>\n",
       "      <td>NaN</td>\n",
       "    </tr>\n",
       "    <tr>\n",
       "      <th>10</th>\n",
       "      <td>10005.0</td>\n",
       "      <td>Thomas Publishing</td>\n",
       "      <td>advertising</td>\n",
       "      <td>operating</td>\n",
       "      <td>NaN</td>\n",
       "      <td>NaN</td>\n",
       "      <td>thomaspublishing.com</td>\n",
       "      <td>NaN</td>\n",
       "      <td>USA</td>\n",
       "      <td>0.0</td>\n",
       "      <td>...</td>\n",
       "      <td>1.0</td>\n",
       "      <td>NaN</td>\n",
       "      <td>NaN</td>\n",
       "      <td>NaN</td>\n",
       "      <td>NaN</td>\n",
       "      <td>NaN</td>\n",
       "      <td>NaN</td>\n",
       "      <td>NaN</td>\n",
       "      <td>NaN</td>\n",
       "      <td>NaN</td>\n",
       "    </tr>\n",
       "    <tr>\n",
       "      <th>11</th>\n",
       "      <td>100062.0</td>\n",
       "      <td>Vetter Idea Management System</td>\n",
       "      <td>enterprise</td>\n",
       "      <td>operating</td>\n",
       "      <td>2011-08-01</td>\n",
       "      <td>NaN</td>\n",
       "      <td>getvetter.com</td>\n",
       "      <td>getvetter</td>\n",
       "      <td>NaN</td>\n",
       "      <td>0.0</td>\n",
       "      <td>...</td>\n",
       "      <td>1.0</td>\n",
       "      <td>NaN</td>\n",
       "      <td>NaN</td>\n",
       "      <td>NaN</td>\n",
       "      <td>NaN</td>\n",
       "      <td>NaN</td>\n",
       "      <td>NaN</td>\n",
       "      <td>NaN</td>\n",
       "      <td>NaN</td>\n",
       "      <td>NaN</td>\n",
       "    </tr>\n",
       "    <tr>\n",
       "      <th>12</th>\n",
       "      <td>100068.0</td>\n",
       "      <td>ChatRandom</td>\n",
       "      <td>games_video</td>\n",
       "      <td>operating</td>\n",
       "      <td>2011-02-01</td>\n",
       "      <td>NaN</td>\n",
       "      <td>chatrandom.com</td>\n",
       "      <td>chatrandom</td>\n",
       "      <td>NaN</td>\n",
       "      <td>0.0</td>\n",
       "      <td>...</td>\n",
       "      <td>1.0</td>\n",
       "      <td>NaN</td>\n",
       "      <td>NaN</td>\n",
       "      <td>NaN</td>\n",
       "      <td>NaN</td>\n",
       "      <td>NaN</td>\n",
       "      <td>NaN</td>\n",
       "      <td>NaN</td>\n",
       "      <td>NaN</td>\n",
       "      <td>NaN</td>\n",
       "    </tr>\n",
       "    <tr>\n",
       "      <th>13</th>\n",
       "      <td>10008.0</td>\n",
       "      <td>ScapadasAmorosas</td>\n",
       "      <td>other</td>\n",
       "      <td>operating</td>\n",
       "      <td>2007-03-01</td>\n",
       "      <td>NaN</td>\n",
       "      <td>scapadasamorosas.com</td>\n",
       "      <td>NaN</td>\n",
       "      <td>NaN</td>\n",
       "      <td>0.0</td>\n",
       "      <td>...</td>\n",
       "      <td>0.0</td>\n",
       "      <td>NaN</td>\n",
       "      <td>NaN</td>\n",
       "      <td>NaN</td>\n",
       "      <td>NaN</td>\n",
       "      <td>NaN</td>\n",
       "      <td>NaN</td>\n",
       "      <td>NaN</td>\n",
       "      <td>NaN</td>\n",
       "      <td>NaN</td>\n",
       "    </tr>\n",
       "    <tr>\n",
       "      <th>14</th>\n",
       "      <td>10009.0</td>\n",
       "      <td>dimension5 labs</td>\n",
       "      <td>advertising</td>\n",
       "      <td>operating</td>\n",
       "      <td>2008-08-01</td>\n",
       "      <td>NaN</td>\n",
       "      <td>d5labs.com</td>\n",
       "      <td>NaN</td>\n",
       "      <td>USA</td>\n",
       "      <td>0.0</td>\n",
       "      <td>...</td>\n",
       "      <td>1.0</td>\n",
       "      <td>NaN</td>\n",
       "      <td>NaN</td>\n",
       "      <td>NaN</td>\n",
       "      <td>NaN</td>\n",
       "      <td>NaN</td>\n",
       "      <td>NaN</td>\n",
       "      <td>NaN</td>\n",
       "      <td>NaN</td>\n",
       "      <td>NaN</td>\n",
       "    </tr>\n",
       "  </tbody>\n",
       "</table>\n",
       "<p>15 rows × 22 columns</p>\n",
       "</div>"
      ],
      "text/plain": [
       "    company_id                           name    category_code     status  \\\n",
       "0          1.0                       Wetpaint              web  operating   \n",
       "1          1.0                       Wetpaint              web  operating   \n",
       "2          1.0                       Wetpaint              web  operating   \n",
       "3         10.0                        Flektor      games_video   acquired   \n",
       "4        100.0                          There      games_video   acquired   \n",
       "5      10000.0                        MYWEBBO  network_hosting  operating   \n",
       "6      10001.0             THE Movie Streamer      games_video  operating   \n",
       "7      10002.0                 Synergie Media      advertising  operating   \n",
       "8      10003.0         Green Basti Ecosystems        cleantech  operating   \n",
       "9     100042.0                       HostNine              NaN  operating   \n",
       "10     10005.0              Thomas Publishing      advertising  operating   \n",
       "11    100062.0  Vetter Idea Management System       enterprise  operating   \n",
       "12    100068.0                     ChatRandom      games_video  operating   \n",
       "13     10008.0               ScapadasAmorosas            other  operating   \n",
       "14     10009.0                dimension5 labs      advertising  operating   \n",
       "\n",
       "    founded_at closed_at                domain network_username country_code  \\\n",
       "0   2005-10-17       NaN      wetpaint-inc.com  BachelrWetpaint          USA   \n",
       "1   2005-10-17       NaN      wetpaint-inc.com  BachelrWetpaint          USA   \n",
       "2   2005-10-17       NaN      wetpaint-inc.com  BachelrWetpaint          USA   \n",
       "3          NaN       NaN           flektor.com              NaN          USA   \n",
       "4          NaN       NaN             there.com              NaN          USA   \n",
       "5   2008-07-26       NaN           mywebbo.com              NaN          NaN   \n",
       "6   2008-07-26       NaN  themoviestreamer.com              NaN          NaN   \n",
       "7   2007-06-27       NaN    synergie-media.com              NaN          MAR   \n",
       "8   2008-08-20       NaN                   NaN              NaN          IND   \n",
       "9          NaN       NaN          hostnine.com         Hostnine          NaN   \n",
       "10         NaN       NaN  thomaspublishing.com              NaN          USA   \n",
       "11  2011-08-01       NaN         getvetter.com        getvetter          NaN   \n",
       "12  2011-02-01       NaN        chatrandom.com       chatrandom          NaN   \n",
       "13  2007-03-01       NaN  scapadasamorosas.com              NaN          NaN   \n",
       "14  2008-08-01       NaN            d5labs.com              NaN          USA   \n",
       "\n",
       "    investment_rounds  ...  milestones  funding_round_id  company_id_funding  \\\n",
       "0                 0.0  ...         5.0             888.0                 1.0   \n",
       "1                 0.0  ...         5.0             889.0                 1.0   \n",
       "2                 0.0  ...         5.0            2312.0                 1.0   \n",
       "3                 0.0  ...         0.0               NaN                 NaN   \n",
       "4                 0.0  ...         4.0               NaN                 NaN   \n",
       "5                 0.0  ...         0.0               NaN                 NaN   \n",
       "6                 0.0  ...         0.0               NaN                 NaN   \n",
       "7                 0.0  ...         0.0               NaN                 NaN   \n",
       "8                 0.0  ...         0.0               NaN                 NaN   \n",
       "9                 0.0  ...         1.0               NaN                 NaN   \n",
       "10                0.0  ...         1.0               NaN                 NaN   \n",
       "11                0.0  ...         1.0               NaN                 NaN   \n",
       "12                0.0  ...         1.0               NaN                 NaN   \n",
       "13                0.0  ...         0.0               NaN                 NaN   \n",
       "14                0.0  ...         1.0               NaN                 NaN   \n",
       "\n",
       "     funded_at  funding_round_type raised_amount pre_money_valuation  \\\n",
       "0   2005-10-01            series-a     5250000.0                 0.0   \n",
       "1   2007-01-01            series-b     9500000.0                 0.0   \n",
       "2   2008-05-19           series-c+    25000000.0                 0.0   \n",
       "3          NaN                 NaN           NaN                 NaN   \n",
       "4          NaN                 NaN           NaN                 NaN   \n",
       "5          NaN                 NaN           NaN                 NaN   \n",
       "6          NaN                 NaN           NaN                 NaN   \n",
       "7          NaN                 NaN           NaN                 NaN   \n",
       "8          NaN                 NaN           NaN                 NaN   \n",
       "9          NaN                 NaN           NaN                 NaN   \n",
       "10         NaN                 NaN           NaN                 NaN   \n",
       "11         NaN                 NaN           NaN                 NaN   \n",
       "12         NaN                 NaN           NaN                 NaN   \n",
       "13         NaN                 NaN           NaN                 NaN   \n",
       "14         NaN                 NaN           NaN                 NaN   \n",
       "\n",
       "    participants  is_first_round  is_last_round  \n",
       "0            2.0             0.0            1.0  \n",
       "1            3.0             0.0            0.0  \n",
       "2            4.0             1.0            0.0  \n",
       "3            NaN             NaN            NaN  \n",
       "4            NaN             NaN            NaN  \n",
       "5            NaN             NaN            NaN  \n",
       "6            NaN             NaN            NaN  \n",
       "7            NaN             NaN            NaN  \n",
       "8            NaN             NaN            NaN  \n",
       "9            NaN             NaN            NaN  \n",
       "10           NaN             NaN            NaN  \n",
       "11           NaN             NaN            NaN  \n",
       "12           NaN             NaN            NaN  \n",
       "13           NaN             NaN            NaN  \n",
       "14           NaN             NaN            NaN  \n",
       "\n",
       "[15 rows x 22 columns]"
      ]
     },
     "execution_count": 8,
     "metadata": {},
     "output_type": "execute_result"
    }
   ],
   "source": [
    "# Выведем первые пять строк\n",
    "company_and_rounds_df.head(15)"
   ]
  },
  {
   "cell_type": "markdown",
   "metadata": {},
   "source": [
    "---\n",
    "<a id=\"degrees_df\"></a>\n",
    "**Таблица `degrees_df`:** Содержит информацию о типе образования сотрудника"
   ]
  },
  {
   "cell_type": "code",
   "execution_count": 9,
   "metadata": {
    "scrolled": true
   },
   "outputs": [
    {
     "name": "stdout",
     "output_type": "stream",
     "text": [
      "\u001b[1mИнформация о degrees_df:\u001b[0m\n",
      "<class 'pandas.core.frame.DataFrame'>\n",
      "RangeIndex: 109610 entries, 0 to 109609\n",
      "Data columns (total 4 columns):\n",
      " #   Column       Non-Null Count   Dtype \n",
      "---  ------       --------------   ----- \n",
      " 0   id           109610 non-null  int64 \n",
      " 1   object_id    109610 non-null  object\n",
      " 2   degree_type  98392 non-null   object\n",
      " 3   subject      81298 non-null   object\n",
      "dtypes: int64(1), object(3)\n",
      "memory usage: 3.3+ MB\n"
     ]
    }
   ],
   "source": [
    "print('\\033[1m' + 'Информация о degrees_df:' + '\\033[0m')\n",
    "degrees_df.info()"
   ]
  },
  {
   "cell_type": "code",
   "execution_count": 10,
   "metadata": {},
   "outputs": [
    {
     "data": {
      "text/html": [
       "<div>\n",
       "<style scoped>\n",
       "    .dataframe tbody tr th:only-of-type {\n",
       "        vertical-align: middle;\n",
       "    }\n",
       "\n",
       "    .dataframe tbody tr th {\n",
       "        vertical-align: top;\n",
       "    }\n",
       "\n",
       "    .dataframe thead th {\n",
       "        text-align: right;\n",
       "    }\n",
       "</style>\n",
       "<table border=\"1\" class=\"dataframe\">\n",
       "  <thead>\n",
       "    <tr style=\"text-align: right;\">\n",
       "      <th></th>\n",
       "      <th>id</th>\n",
       "      <th>object_id</th>\n",
       "      <th>degree_type</th>\n",
       "      <th>subject</th>\n",
       "    </tr>\n",
       "  </thead>\n",
       "  <tbody>\n",
       "    <tr>\n",
       "      <th>0</th>\n",
       "      <td>1</td>\n",
       "      <td>p:6117</td>\n",
       "      <td>MBA</td>\n",
       "      <td>NaN</td>\n",
       "    </tr>\n",
       "    <tr>\n",
       "      <th>1</th>\n",
       "      <td>2</td>\n",
       "      <td>p:6136</td>\n",
       "      <td>BA</td>\n",
       "      <td>English, French</td>\n",
       "    </tr>\n",
       "    <tr>\n",
       "      <th>2</th>\n",
       "      <td>3</td>\n",
       "      <td>p:6136</td>\n",
       "      <td>MS</td>\n",
       "      <td>Mass Communication</td>\n",
       "    </tr>\n",
       "    <tr>\n",
       "      <th>3</th>\n",
       "      <td>4</td>\n",
       "      <td>p:6005</td>\n",
       "      <td>MS</td>\n",
       "      <td>Internet Technology</td>\n",
       "    </tr>\n",
       "    <tr>\n",
       "      <th>4</th>\n",
       "      <td>5</td>\n",
       "      <td>p:5832</td>\n",
       "      <td>BCS</td>\n",
       "      <td>Computer Science, Psychology</td>\n",
       "    </tr>\n",
       "  </tbody>\n",
       "</table>\n",
       "</div>"
      ],
      "text/plain": [
       "   id object_id degree_type                       subject\n",
       "0   1    p:6117         MBA                           NaN\n",
       "1   2    p:6136          BA               English, French\n",
       "2   3    p:6136          MS            Mass Communication\n",
       "3   4    p:6005          MS           Internet Technology\n",
       "4   5    p:5832         BCS  Computer Science, Psychology"
      ]
     },
     "execution_count": 10,
     "metadata": {},
     "output_type": "execute_result"
    }
   ],
   "source": [
    "# Выведем первые пять строк\n",
    "degrees_df.head()"
   ]
  },
  {
   "cell_type": "markdown",
   "metadata": {},
   "source": [
    "---\n",
    "<a id=\"education_df\"></a>\n",
    "**Таблица `education_df`:** Содержит информацию об образовании сотрудника"
   ]
  },
  {
   "cell_type": "code",
   "execution_count": 11,
   "metadata": {},
   "outputs": [
    {
     "name": "stdout",
     "output_type": "stream",
     "text": [
      "\u001b[1mИнформация о education_df:\u001b[0m\n",
      "<class 'pandas.core.frame.DataFrame'>\n",
      "RangeIndex: 109610 entries, 0 to 109609\n",
      "Data columns (total 4 columns):\n",
      " #   Column        Non-Null Count   Dtype \n",
      "---  ------        --------------   ----- \n",
      " 0   id            109610 non-null  int64 \n",
      " 1   person_id     109610 non-null  int64 \n",
      " 2   instituition  109555 non-null  object\n",
      " 3   graduated_at  58054 non-null   object\n",
      "dtypes: int64(2), object(2)\n",
      "memory usage: 3.3+ MB\n"
     ]
    }
   ],
   "source": [
    "print('\\033[1m' + 'Информация о education_df:' + '\\033[0m')\n",
    "education_df.info()"
   ]
  },
  {
   "cell_type": "code",
   "execution_count": 12,
   "metadata": {},
   "outputs": [
    {
     "data": {
      "text/html": [
       "<div>\n",
       "<style scoped>\n",
       "    .dataframe tbody tr th:only-of-type {\n",
       "        vertical-align: middle;\n",
       "    }\n",
       "\n",
       "    .dataframe tbody tr th {\n",
       "        vertical-align: top;\n",
       "    }\n",
       "\n",
       "    .dataframe thead th {\n",
       "        text-align: right;\n",
       "    }\n",
       "</style>\n",
       "<table border=\"1\" class=\"dataframe\">\n",
       "  <thead>\n",
       "    <tr style=\"text-align: right;\">\n",
       "      <th></th>\n",
       "      <th>id</th>\n",
       "      <th>person_id</th>\n",
       "      <th>instituition</th>\n",
       "      <th>graduated_at</th>\n",
       "    </tr>\n",
       "  </thead>\n",
       "  <tbody>\n",
       "    <tr>\n",
       "      <th>0</th>\n",
       "      <td>1</td>\n",
       "      <td>6117</td>\n",
       "      <td>NaN</td>\n",
       "      <td>NaN</td>\n",
       "    </tr>\n",
       "    <tr>\n",
       "      <th>1</th>\n",
       "      <td>2</td>\n",
       "      <td>6136</td>\n",
       "      <td>Washington University, St. Louis</td>\n",
       "      <td>1990-01-01</td>\n",
       "    </tr>\n",
       "    <tr>\n",
       "      <th>2</th>\n",
       "      <td>3</td>\n",
       "      <td>6136</td>\n",
       "      <td>Boston University</td>\n",
       "      <td>1992-01-01</td>\n",
       "    </tr>\n",
       "    <tr>\n",
       "      <th>3</th>\n",
       "      <td>4</td>\n",
       "      <td>6005</td>\n",
       "      <td>University of Greenwich</td>\n",
       "      <td>2006-01-01</td>\n",
       "    </tr>\n",
       "    <tr>\n",
       "      <th>4</th>\n",
       "      <td>5</td>\n",
       "      <td>5832</td>\n",
       "      <td>Rice University</td>\n",
       "      <td>NaN</td>\n",
       "    </tr>\n",
       "  </tbody>\n",
       "</table>\n",
       "</div>"
      ],
      "text/plain": [
       "   id  person_id                      instituition graduated_at\n",
       "0   1       6117                               NaN          NaN\n",
       "1   2       6136  Washington University, St. Louis   1990-01-01\n",
       "2   3       6136                 Boston University   1992-01-01\n",
       "3   4       6005           University of Greenwich   2006-01-01\n",
       "4   5       5832                   Rice University          NaN"
      ]
     },
     "execution_count": 12,
     "metadata": {},
     "output_type": "execute_result"
    }
   ],
   "source": [
    "# Выведем первые пять строк\n",
    "education_df.head()"
   ]
  },
  {
   "cell_type": "markdown",
   "metadata": {},
   "source": [
    "---\n",
    "<a id=\"fund_df\"></a>\n",
    "**Таблица `fund_df`:** Содержит информацию о фондах"
   ]
  },
  {
   "cell_type": "code",
   "execution_count": 13,
   "metadata": {},
   "outputs": [
    {
     "name": "stdout",
     "output_type": "stream",
     "text": [
      "\u001b[1mИнформация о fund_df:\u001b[0m\n",
      "<class 'pandas.core.frame.DataFrame'>\n",
      "RangeIndex: 11652 entries, 0 to 11651\n",
      "Data columns (total 9 columns):\n",
      " #   Column              Non-Null Count  Dtype \n",
      "---  ------              --------------  ----- \n",
      " 0   id                  11652 non-null  int64 \n",
      " 1   name                11650 non-null  object\n",
      " 2   founded_at          4605 non-null   object\n",
      " 3   domain              7362 non-null   object\n",
      " 4   network_username    2149 non-null   object\n",
      " 5   country_code        7053 non-null   object\n",
      " 6   investment_rounds   11652 non-null  int64 \n",
      " 7   invested_companies  11652 non-null  int64 \n",
      " 8   milestones          11652 non-null  int64 \n",
      "dtypes: int64(4), object(5)\n",
      "memory usage: 819.4+ KB\n"
     ]
    }
   ],
   "source": [
    "print('\\033[1m' + 'Информация о fund_df:' + '\\033[0m')\n",
    "fund_df.info()"
   ]
  },
  {
   "cell_type": "code",
   "execution_count": 14,
   "metadata": {},
   "outputs": [
    {
     "data": {
      "text/html": [
       "<div>\n",
       "<style scoped>\n",
       "    .dataframe tbody tr th:only-of-type {\n",
       "        vertical-align: middle;\n",
       "    }\n",
       "\n",
       "    .dataframe tbody tr th {\n",
       "        vertical-align: top;\n",
       "    }\n",
       "\n",
       "    .dataframe thead th {\n",
       "        text-align: right;\n",
       "    }\n",
       "</style>\n",
       "<table border=\"1\" class=\"dataframe\">\n",
       "  <thead>\n",
       "    <tr style=\"text-align: right;\">\n",
       "      <th></th>\n",
       "      <th>id</th>\n",
       "      <th>name</th>\n",
       "      <th>founded_at</th>\n",
       "      <th>domain</th>\n",
       "      <th>network_username</th>\n",
       "      <th>country_code</th>\n",
       "      <th>investment_rounds</th>\n",
       "      <th>invested_companies</th>\n",
       "      <th>milestones</th>\n",
       "    </tr>\n",
       "  </thead>\n",
       "  <tbody>\n",
       "    <tr>\n",
       "      <th>0</th>\n",
       "      <td>13131</td>\n",
       "      <td>NaN</td>\n",
       "      <td>NaN</td>\n",
       "      <td>NaN</td>\n",
       "      <td>NaN</td>\n",
       "      <td>NaN</td>\n",
       "      <td>0</td>\n",
       "      <td>0</td>\n",
       "      <td>0</td>\n",
       "    </tr>\n",
       "    <tr>\n",
       "      <th>1</th>\n",
       "      <td>1</td>\n",
       "      <td>Greylock Partners</td>\n",
       "      <td>1965-01-01</td>\n",
       "      <td>greylock.com</td>\n",
       "      <td>greylockvc</td>\n",
       "      <td>USA</td>\n",
       "      <td>307</td>\n",
       "      <td>196</td>\n",
       "      <td>0</td>\n",
       "    </tr>\n",
       "    <tr>\n",
       "      <th>2</th>\n",
       "      <td>10</td>\n",
       "      <td>Mission Ventures</td>\n",
       "      <td>1996-01-01</td>\n",
       "      <td>missionventures.com</td>\n",
       "      <td>NaN</td>\n",
       "      <td>USA</td>\n",
       "      <td>58</td>\n",
       "      <td>33</td>\n",
       "      <td>0</td>\n",
       "    </tr>\n",
       "    <tr>\n",
       "      <th>3</th>\n",
       "      <td>100</td>\n",
       "      <td>Kapor Enterprises, Inc.</td>\n",
       "      <td>NaN</td>\n",
       "      <td>kei.com</td>\n",
       "      <td>NaN</td>\n",
       "      <td>USA</td>\n",
       "      <td>2</td>\n",
       "      <td>1</td>\n",
       "      <td>0</td>\n",
       "    </tr>\n",
       "    <tr>\n",
       "      <th>4</th>\n",
       "      <td>1000</td>\n",
       "      <td>Speed Ventures</td>\n",
       "      <td>NaN</td>\n",
       "      <td>NaN</td>\n",
       "      <td>NaN</td>\n",
       "      <td>NaN</td>\n",
       "      <td>0</td>\n",
       "      <td>0</td>\n",
       "      <td>1</td>\n",
       "    </tr>\n",
       "  </tbody>\n",
       "</table>\n",
       "</div>"
      ],
      "text/plain": [
       "      id                     name  founded_at               domain  \\\n",
       "0  13131                      NaN         NaN                  NaN   \n",
       "1      1        Greylock Partners  1965-01-01         greylock.com   \n",
       "2     10         Mission Ventures  1996-01-01  missionventures.com   \n",
       "3    100  Kapor Enterprises, Inc.         NaN              kei.com   \n",
       "4   1000           Speed Ventures         NaN                  NaN   \n",
       "\n",
       "  network_username country_code  investment_rounds  invested_companies  \\\n",
       "0              NaN          NaN                  0                   0   \n",
       "1       greylockvc          USA                307                 196   \n",
       "2              NaN          USA                 58                  33   \n",
       "3              NaN          USA                  2                   1   \n",
       "4              NaN          NaN                  0                   0   \n",
       "\n",
       "   milestones  \n",
       "0           0  \n",
       "1           0  \n",
       "2           0  \n",
       "3           0  \n",
       "4           1  "
      ]
     },
     "execution_count": 14,
     "metadata": {},
     "output_type": "execute_result"
    }
   ],
   "source": [
    "# Выведем первые пять строк\n",
    "fund_df.head()"
   ]
  },
  {
   "cell_type": "markdown",
   "metadata": {},
   "source": [
    "---\n",
    "<a id=\"investment_df\"></a>\n",
    "**Таблица `investment_df`:** Содержит информацию о раундах инвестирования"
   ]
  },
  {
   "cell_type": "code",
   "execution_count": 15,
   "metadata": {},
   "outputs": [
    {
     "name": "stdout",
     "output_type": "stream",
     "text": [
      "\u001b[1mИнформация о investment_df:\u001b[0m\n",
      "<class 'pandas.core.frame.DataFrame'>\n",
      "RangeIndex: 61403 entries, 0 to 61402\n",
      "Data columns (total 4 columns):\n",
      " #   Column            Non-Null Count  Dtype\n",
      "---  ------            --------------  -----\n",
      " 0   id                61403 non-null  int64\n",
      " 1   funding_round_id  61403 non-null  int64\n",
      " 2   company_id        61403 non-null  int64\n",
      " 3   fund_id           61403 non-null  int64\n",
      "dtypes: int64(4)\n",
      "memory usage: 1.9 MB\n"
     ]
    }
   ],
   "source": [
    "print('\\033[1m' + 'Информация о investment_df:' + '\\033[0m')\n",
    "investment_df.info()"
   ]
  },
  {
   "cell_type": "code",
   "execution_count": 16,
   "metadata": {},
   "outputs": [
    {
     "data": {
      "text/html": [
       "<div>\n",
       "<style scoped>\n",
       "    .dataframe tbody tr th:only-of-type {\n",
       "        vertical-align: middle;\n",
       "    }\n",
       "\n",
       "    .dataframe tbody tr th {\n",
       "        vertical-align: top;\n",
       "    }\n",
       "\n",
       "    .dataframe thead th {\n",
       "        text-align: right;\n",
       "    }\n",
       "</style>\n",
       "<table border=\"1\" class=\"dataframe\">\n",
       "  <thead>\n",
       "    <tr style=\"text-align: right;\">\n",
       "      <th></th>\n",
       "      <th>id</th>\n",
       "      <th>funding_round_id</th>\n",
       "      <th>company_id</th>\n",
       "      <th>fund_id</th>\n",
       "    </tr>\n",
       "  </thead>\n",
       "  <tbody>\n",
       "    <tr>\n",
       "      <th>0</th>\n",
       "      <td>1</td>\n",
       "      <td>1</td>\n",
       "      <td>4</td>\n",
       "      <td>1</td>\n",
       "    </tr>\n",
       "    <tr>\n",
       "      <th>1</th>\n",
       "      <td>2</td>\n",
       "      <td>1</td>\n",
       "      <td>4</td>\n",
       "      <td>2</td>\n",
       "    </tr>\n",
       "    <tr>\n",
       "      <th>2</th>\n",
       "      <td>3</td>\n",
       "      <td>3</td>\n",
       "      <td>5</td>\n",
       "      <td>4</td>\n",
       "    </tr>\n",
       "    <tr>\n",
       "      <th>3</th>\n",
       "      <td>4</td>\n",
       "      <td>4</td>\n",
       "      <td>5</td>\n",
       "      <td>1</td>\n",
       "    </tr>\n",
       "    <tr>\n",
       "      <th>4</th>\n",
       "      <td>5</td>\n",
       "      <td>4</td>\n",
       "      <td>5</td>\n",
       "      <td>5</td>\n",
       "    </tr>\n",
       "  </tbody>\n",
       "</table>\n",
       "</div>"
      ],
      "text/plain": [
       "   id  funding_round_id  company_id  fund_id\n",
       "0   1                 1           4        1\n",
       "1   2                 1           4        2\n",
       "2   3                 3           5        4\n",
       "3   4                 4           5        1\n",
       "4   5                 4           5        5"
      ]
     },
     "execution_count": 16,
     "metadata": {},
     "output_type": "execute_result"
    }
   ],
   "source": [
    "# Выведем первые пять строк\n",
    "investment_df.head()"
   ]
  },
  {
   "cell_type": "markdown",
   "metadata": {},
   "source": [
    "---\n",
    "<a id=\"people_df\"></a>\n",
    "**Таблица `people_df`:** Содержит информацию о сотрудниках"
   ]
  },
  {
   "cell_type": "code",
   "execution_count": 17,
   "metadata": {},
   "outputs": [
    {
     "name": "stdout",
     "output_type": "stream",
     "text": [
      "\u001b[1mИнформация о people_df:\u001b[0m\n",
      "<class 'pandas.core.frame.DataFrame'>\n",
      "RangeIndex: 226709 entries, 0 to 226708\n",
      "Data columns (total 5 columns):\n",
      " #   Column            Non-Null Count   Dtype  \n",
      "---  ------            --------------   -----  \n",
      " 0   id                226709 non-null  int64  \n",
      " 1   first_name        226704 non-null  object \n",
      " 2   last_name         226708 non-null  object \n",
      " 3   company_id        34615 non-null   float64\n",
      " 4   network_username  38867 non-null   object \n",
      "dtypes: float64(1), int64(1), object(3)\n",
      "memory usage: 8.6+ MB\n"
     ]
    }
   ],
   "source": [
    "print('\\033[1m' + 'Информация о people_df:' + '\\033[0m')\n",
    "people_df.info()"
   ]
  },
  {
   "cell_type": "code",
   "execution_count": 18,
   "metadata": {},
   "outputs": [
    {
     "data": {
      "text/html": [
       "<div>\n",
       "<style scoped>\n",
       "    .dataframe tbody tr th:only-of-type {\n",
       "        vertical-align: middle;\n",
       "    }\n",
       "\n",
       "    .dataframe tbody tr th {\n",
       "        vertical-align: top;\n",
       "    }\n",
       "\n",
       "    .dataframe thead th {\n",
       "        text-align: right;\n",
       "    }\n",
       "</style>\n",
       "<table border=\"1\" class=\"dataframe\">\n",
       "  <thead>\n",
       "    <tr style=\"text-align: right;\">\n",
       "      <th></th>\n",
       "      <th>id</th>\n",
       "      <th>first_name</th>\n",
       "      <th>last_name</th>\n",
       "      <th>company_id</th>\n",
       "      <th>network_username</th>\n",
       "    </tr>\n",
       "  </thead>\n",
       "  <tbody>\n",
       "    <tr>\n",
       "      <th>0</th>\n",
       "      <td>10</td>\n",
       "      <td>Mark</td>\n",
       "      <td>Zuckerberg</td>\n",
       "      <td>5.0</td>\n",
       "      <td>NaN</td>\n",
       "    </tr>\n",
       "    <tr>\n",
       "      <th>1</th>\n",
       "      <td>100</td>\n",
       "      <td>Peter</td>\n",
       "      <td>Lester</td>\n",
       "      <td>27.0</td>\n",
       "      <td>NaN</td>\n",
       "    </tr>\n",
       "    <tr>\n",
       "      <th>2</th>\n",
       "      <td>1000</td>\n",
       "      <td>Dr. Steven</td>\n",
       "      <td>E. Saunders</td>\n",
       "      <td>292.0</td>\n",
       "      <td>NaN</td>\n",
       "    </tr>\n",
       "    <tr>\n",
       "      <th>3</th>\n",
       "      <td>10000</td>\n",
       "      <td>Neil</td>\n",
       "      <td>Capel</td>\n",
       "      <td>2526.0</td>\n",
       "      <td>NaN</td>\n",
       "    </tr>\n",
       "    <tr>\n",
       "      <th>4</th>\n",
       "      <td>100000</td>\n",
       "      <td>Sue</td>\n",
       "      <td>Pilsch</td>\n",
       "      <td>NaN</td>\n",
       "      <td>NaN</td>\n",
       "    </tr>\n",
       "  </tbody>\n",
       "</table>\n",
       "</div>"
      ],
      "text/plain": [
       "       id  first_name    last_name  company_id network_username\n",
       "0      10        Mark   Zuckerberg         5.0              NaN\n",
       "1     100       Peter       Lester        27.0              NaN\n",
       "2    1000  Dr. Steven  E. Saunders       292.0              NaN\n",
       "3   10000        Neil        Capel      2526.0              NaN\n",
       "4  100000         Sue       Pilsch         NaN              NaN"
      ]
     },
     "execution_count": 18,
     "metadata": {},
     "output_type": "execute_result"
    }
   ],
   "source": [
    "# Выведем первые пять строк\n",
    "people_df.head()"
   ]
  },
  {
   "cell_type": "markdown",
   "metadata": {},
   "source": [
    "\n",
    "* Выведите информацию, которая необходима вам для принятия решений о предобработке, для каждого из датасетов."
   ]
  },
  {
   "cell_type": "markdown",
   "metadata": {},
   "source": [
    "**Датафрейм [`acquisition_df`](#acquisition_df):**\n",
    "Колонку `acquired_at` необходимо привести к типу с датой. Числовые колонки `id`, `acquiring_company_id`, `acquired_company_id`, `price_amount` можно оптимизировать"
   ]
  },
  {
   "cell_type": "markdown",
   "metadata": {},
   "source": [
    "**Датафрейм [`company_and_rounds_df`](#company_and_rounds_df):**\n",
    "Колонки `founded_at`, `closed_at`, `funded_at`  необходимо привести к типу с датой. Колонку `company_id` необходимо привести к типу `int`, но для этого необходимо заполнить пропуски заглушками или удалить. "
   ]
  },
  {
   "cell_type": "markdown",
   "metadata": {},
   "source": [
    "**Датафрейм [`degrees_df`](#degrees_df):**\n",
    "Числовые колонки `id` можно оптимизировать"
   ]
  },
  {
   "cell_type": "markdown",
   "metadata": {},
   "source": [
    "**Датафрейм [`education_df`](#education_df):**\n",
    "Колонку `graduated_at`  необходимо привести к типу с датой. Числовые колонки `id`, `person_id` можно оптимизировать"
   ]
  },
  {
   "cell_type": "markdown",
   "metadata": {},
   "source": [
    "**Датафрейм [`fund_df`](#fund_df):**\n",
    "Колонку `founded_at`  необходимо привести к типу с датой. Числовые колонки `id`, `investment_rounds`, `invested_companies`, `milestones` можно оптимизировать"
   ]
  },
  {
   "cell_type": "markdown",
   "metadata": {},
   "source": [
    "**Датафрейм [`investment_df`](#investment_df):**\n",
    "Числовые колонки `id`, `funding_round_id`, `company_id`, `fund_id` можно оптимизировать"
   ]
  },
  {
   "cell_type": "markdown",
   "metadata": {},
   "source": [
    "**Датафрейм [`people_df`](#people_df):**\n",
    "Колонку `company_id` необходимо привести к типу `int`.Числовые колонки `id` можно оптимизировать"
   ]
  },
  {
   "cell_type": "markdown",
   "metadata": {
    "id": "mg2gEwh0rJg0"
   },
   "source": [
    "<a id=\"Смена_типов_и_анализ_пропусков\"></a>\n",
    "### Смена типов и анализ пропусков\n",
    "\n",
    "* Обработайте типы данных в столбцах, которые хранят значения даты и времени, если это необходимо."
   ]
  },
  {
   "cell_type": "code",
   "execution_count": 19,
   "metadata": {},
   "outputs": [],
   "source": [
    "# Преобразоваваем типы данных в acquisition_df\n",
    "\n",
    "# Оптимизируем целочисленный тип данных в датафрейме\n",
    "for column in ['id','acquiring_company_id','acquired_company_id',\n",
    "               'price_amount']:\n",
    "    acquisition_df[column] = pd.to_numeric(acquisition_df[column],\n",
    "                                    downcast='integer')\n",
    "    \n",
    "# В дату\n",
    "acquisition_df['acquired_at'] = pd.to_datetime(acquisition_df['acquired_at'])"
   ]
  },
  {
   "cell_type": "code",
   "execution_count": 21,
   "metadata": {},
   "outputs": [],
   "source": [
    "# Преобразоваваем типы данных в company_and_rounds_df\n",
    "    \n",
    "# Преобразуем колонку в дату\n",
    "company_and_rounds_df['founded_at'] = pd.to_datetime(company_and_rounds_df['founded_at'])\n",
    "company_and_rounds_df['closed_at'] = pd.to_datetime(company_and_rounds_df['closed_at'])\n",
    "company_and_rounds_df['funded_at'] = pd.to_datetime(company_and_rounds_df['funded_at'])\n"
   ]
  },
  {
   "cell_type": "code",
   "execution_count": 22,
   "metadata": {},
   "outputs": [],
   "source": [
    "# Преобразоваваем типы данных в degrees_df\n",
    "for column in ['id']:\n",
    "    degrees_df[column] = pd.to_numeric(degrees_df[column],\n",
    "                                    downcast='integer')"
   ]
  },
  {
   "cell_type": "code",
   "execution_count": 23,
   "metadata": {},
   "outputs": [],
   "source": [
    "# Преобразоваваем типы данных в education_df\n",
    "# Оптимизируем целочисленный тип данных в датафрейме\n",
    "for column in ['id', 'person_id']:\n",
    "    education_df[column] = pd.to_numeric(education_df[column],\n",
    "                                    downcast='integer')\n",
    "    \n",
    "# Преобразуем колонку в дату\n",
    "education_df['graduated_at'] = pd.to_datetime(education_df['graduated_at'])"
   ]
  },
  {
   "cell_type": "code",
   "execution_count": 24,
   "metadata": {},
   "outputs": [],
   "source": [
    "# Преобразоваваем типы данных в fund_df\n",
    "# Оптимизируем целочисленный тип данных в датафрейме\n",
    "for column in ['id', 'investment_rounds','invested_companies', 'milestones']:\n",
    "    fund_df[column] = pd.to_numeric(fund_df[column],\n",
    "                                    downcast='integer')\n",
    "    \n",
    "# Преобразуем колонку в дату\n",
    "fund_df['founded_at'] = pd.to_datetime(fund_df['founded_at'])"
   ]
  },
  {
   "cell_type": "code",
   "execution_count": 25,
   "metadata": {},
   "outputs": [],
   "source": [
    "# Преобразоваваем типы данных в investment_df\n",
    "# Оптимизируем целочисленный тип данных в датафрейме\n",
    "for column in ['id', 'funding_round_id', 'company_id', 'fund_id']:\n",
    "    investment_df[column] = pd.to_numeric(investment_df[column],\n",
    "                                    downcast='integer')"
   ]
  },
  {
   "cell_type": "code",
   "execution_count": 26,
   "metadata": {},
   "outputs": [],
   "source": [
    "# Преобразоваваем типы данных в people_df\n",
    "\n",
    "# Заменим пропуски на заглушки в company_id и company_id2\n",
    "#people_df['company_id'] = people_df['company_id'].fillna(-1)\n",
    "\n",
    "for column in ['id', 'company_id']:\n",
    "    people_df[column] = pd.to_numeric(people_df[column],\n",
    "                                    downcast='integer')\n"
   ]
  },
  {
   "cell_type": "markdown",
   "metadata": {},
   "source": [
    "\n",
    "* Оцените полноту данных — сделайте предварительный вывод, достаточно ли данных для решения задач проекта."
   ]
  },
  {
   "cell_type": "code",
   "execution_count": 27,
   "metadata": {
    "id": "FsL0A8RBrJg1"
   },
   "outputs": [
    {
     "name": "stdout",
     "output_type": "stream",
     "text": [
      "\u001b[1mКоличество пропусков в acquisition_df\u001b[0m\n"
     ]
    },
    {
     "data": {
      "text/html": [
       "<style  type=\"text/css\" >\n",
       "#T_38482_row0_col0,#T_38482_row0_col1,#T_38482_row1_col0,#T_38482_row1_col1,#T_38482_row2_col0,#T_38482_row2_col1,#T_38482_row4_col0,#T_38482_row4_col1,#T_38482_row5_col0,#T_38482_row5_col1{\n",
       "            background-color:  #3b4cc0;\n",
       "            color:  #f1f1f1;\n",
       "        }#T_38482_row3_col0,#T_38482_row3_col1{\n",
       "            background-color:  #b40426;\n",
       "            color:  #f1f1f1;\n",
       "        }</style><table id=\"T_38482_\" ><thead>    <tr>        <th class=\"blank level0\" ></th>        <th class=\"col_heading level0 col0\" >Кол-во пропусков</th>        <th class=\"col_heading level0 col1\" >Процент пропусков</th>    </tr></thead><tbody>\n",
       "                <tr>\n",
       "                        <th id=\"T_38482_level0_row0\" class=\"row_heading level0 row0\" >id</th>\n",
       "                        <td id=\"T_38482_row0_col0\" class=\"data row0 col0\" >0</td>\n",
       "                        <td id=\"T_38482_row0_col1\" class=\"data row0 col1\" >0.000000</td>\n",
       "            </tr>\n",
       "            <tr>\n",
       "                        <th id=\"T_38482_level0_row1\" class=\"row_heading level0 row1\" >acquiring_company_id</th>\n",
       "                        <td id=\"T_38482_row1_col0\" class=\"data row1 col0\" >0</td>\n",
       "                        <td id=\"T_38482_row1_col1\" class=\"data row1 col1\" >0.000000</td>\n",
       "            </tr>\n",
       "            <tr>\n",
       "                        <th id=\"T_38482_level0_row2\" class=\"row_heading level0 row2\" >acquired_company_id</th>\n",
       "                        <td id=\"T_38482_row2_col0\" class=\"data row2 col0\" >0</td>\n",
       "                        <td id=\"T_38482_row2_col1\" class=\"data row2 col1\" >0.000000</td>\n",
       "            </tr>\n",
       "            <tr>\n",
       "                        <th id=\"T_38482_level0_row3\" class=\"row_heading level0 row3\" >term_code</th>\n",
       "                        <td id=\"T_38482_row3_col0\" class=\"data row3 col0\" >7576</td>\n",
       "                        <td id=\"T_38482_row3_col1\" class=\"data row3 col1\" >80.540000</td>\n",
       "            </tr>\n",
       "            <tr>\n",
       "                        <th id=\"T_38482_level0_row4\" class=\"row_heading level0 row4\" >price_amount</th>\n",
       "                        <td id=\"T_38482_row4_col0\" class=\"data row4 col0\" >0</td>\n",
       "                        <td id=\"T_38482_row4_col1\" class=\"data row4 col1\" >0.000000</td>\n",
       "            </tr>\n",
       "            <tr>\n",
       "                        <th id=\"T_38482_level0_row5\" class=\"row_heading level0 row5\" >acquired_at</th>\n",
       "                        <td id=\"T_38482_row5_col0\" class=\"data row5 col0\" >29</td>\n",
       "                        <td id=\"T_38482_row5_col1\" class=\"data row5 col1\" >0.310000</td>\n",
       "            </tr>\n",
       "    </tbody></table>"
      ],
      "text/plain": [
       "<pandas.io.formats.style.Styler at 0x7f879f4f5430>"
      ]
     },
     "execution_count": 27,
     "metadata": {},
     "output_type": "execute_result"
    }
   ],
   "source": [
    "print('\\033[1m' + 'Количество пропусков в acquisition_df' + '\\033[0m')\n",
    "#создаем датафрейм с пропусками\n",
    "pass_acquisition_df = (pd.DataFrame({\n",
    "    'Кол-во пропусков': acquisition_df.isna().sum(),\n",
    "    'Процент пропусков': round(((acquisition_df.isna().sum() / acquisition_df.shape[0])*100),2)\n",
    "})).style.background_gradient(cmap='coolwarm')\n",
    "pass_acquisition_df"
   ]
  },
  {
   "cell_type": "markdown",
   "metadata": {},
   "source": [
    "Есть пропуски в данных вариантов расчета (term_code) - 80%"
   ]
  },
  {
   "cell_type": "code",
   "execution_count": 28,
   "metadata": {
    "scrolled": true
   },
   "outputs": [
    {
     "name": "stdout",
     "output_type": "stream",
     "text": [
      "\u001b[1mКоличество пропусков в company_and_rounds_df\u001b[0m\n"
     ]
    },
    {
     "data": {
      "text/html": [
       "<style  type=\"text/css\" >\n",
       "#T_e0c14_row0_col0,#T_e0c14_row0_col1,#T_e0c14_row1_col0,#T_e0c14_row1_col1,#T_e0c14_row3_col0,#T_e0c14_row3_col1,#T_e0c14_row9_col0,#T_e0c14_row9_col1,#T_e0c14_row10_col0,#T_e0c14_row10_col1,#T_e0c14_row11_col0,#T_e0c14_row11_col1,#T_e0c14_row12_col0,#T_e0c14_row12_col1{\n",
       "            background-color:  #3b4cc0;\n",
       "            color:  #f1f1f1;\n",
       "        }#T_e0c14_row2_col0,#T_e0c14_row2_col1{\n",
       "            background-color:  #aec9fc;\n",
       "            color:  #000000;\n",
       "        }#T_e0c14_row4_col0,#T_e0c14_row4_col1{\n",
       "            background-color:  #dddcdc;\n",
       "            color:  #000000;\n",
       "        }#T_e0c14_row5_col0,#T_e0c14_row5_col1{\n",
       "            background-color:  #b40426;\n",
       "            color:  #f1f1f1;\n",
       "        }#T_e0c14_row6_col0,#T_e0c14_row6_col1{\n",
       "            background-color:  #a9c6fd;\n",
       "            color:  #000000;\n",
       "        }#T_e0c14_row7_col0,#T_e0c14_row7_col1{\n",
       "            background-color:  #edd2c3;\n",
       "            color:  #000000;\n",
       "        }#T_e0c14_row8_col0,#T_e0c14_row8_col1{\n",
       "            background-color:  #dfdbd9;\n",
       "            color:  #000000;\n",
       "        }#T_e0c14_row13_col0,#T_e0c14_row13_col1,#T_e0c14_row14_col0,#T_e0c14_row14_col1,#T_e0c14_row16_col0,#T_e0c14_row16_col1,#T_e0c14_row17_col0,#T_e0c14_row17_col1,#T_e0c14_row18_col0,#T_e0c14_row18_col1,#T_e0c14_row19_col0,#T_e0c14_row19_col1,#T_e0c14_row20_col0,#T_e0c14_row20_col1,#T_e0c14_row21_col0,#T_e0c14_row21_col1{\n",
       "            background-color:  #f29274;\n",
       "            color:  #000000;\n",
       "        }#T_e0c14_row15_col0,#T_e0c14_row15_col1{\n",
       "            background-color:  #f29072;\n",
       "            color:  #000000;\n",
       "        }</style><table id=\"T_e0c14_\" ><thead>    <tr>        <th class=\"blank level0\" ></th>        <th class=\"col_heading level0 col0\" >Кол-во пропусков</th>        <th class=\"col_heading level0 col1\" >Процент пропусков</th>    </tr></thead><tbody>\n",
       "                <tr>\n",
       "                        <th id=\"T_e0c14_level0_row0\" class=\"row_heading level0 row0\" >company_id</th>\n",
       "                        <td id=\"T_e0c14_row0_col0\" class=\"data row0 col0\" >302</td>\n",
       "                        <td id=\"T_e0c14_row0_col1\" class=\"data row0 col1\" >0.140000</td>\n",
       "            </tr>\n",
       "            <tr>\n",
       "                        <th id=\"T_e0c14_level0_row1\" class=\"row_heading level0 row1\" >name</th>\n",
       "                        <td id=\"T_e0c14_row1_col0\" class=\"data row1 col0\" >302</td>\n",
       "                        <td id=\"T_e0c14_row1_col1\" class=\"data row1 col1\" >0.140000</td>\n",
       "            </tr>\n",
       "            <tr>\n",
       "                        <th id=\"T_e0c14_level0_row2\" class=\"row_heading level0 row2\" >category_code</th>\n",
       "                        <td id=\"T_e0c14_row2_col0\" class=\"data row2 col0\" >73888</td>\n",
       "                        <td id=\"T_e0c14_row2_col1\" class=\"data row2 col1\" >33.930000</td>\n",
       "            </tr>\n",
       "            <tr>\n",
       "                        <th id=\"T_e0c14_level0_row3\" class=\"row_heading level0 row3\" >status</th>\n",
       "                        <td id=\"T_e0c14_row3_col0\" class=\"data row3 col0\" >302</td>\n",
       "                        <td id=\"T_e0c14_row3_col1\" class=\"data row3 col1\" >0.140000</td>\n",
       "            </tr>\n",
       "            <tr>\n",
       "                        <th id=\"T_e0c14_level0_row4\" class=\"row_heading level0 row4\" >founded_at</th>\n",
       "                        <td id=\"T_e0c14_row4_col0\" class=\"data row4 col0\" >107818</td>\n",
       "                        <td id=\"T_e0c14_row4_col1\" class=\"data row4 col1\" >49.510000</td>\n",
       "            </tr>\n",
       "            <tr>\n",
       "                        <th id=\"T_e0c14_level0_row5\" class=\"row_heading level0 row5\" >closed_at</th>\n",
       "                        <td id=\"T_e0c14_row5_col0\" class=\"data row5 col0\" >214325</td>\n",
       "                        <td id=\"T_e0c14_row5_col1\" class=\"data row5 col1\" >98.420000</td>\n",
       "            </tr>\n",
       "            <tr>\n",
       "                        <th id=\"T_e0c14_level0_row6\" class=\"row_heading level0 row6\" >domain</th>\n",
       "                        <td id=\"T_e0c14_row6_col0\" class=\"data row6 col0\" >70615</td>\n",
       "                        <td id=\"T_e0c14_row6_col1\" class=\"data row6 col1\" >32.430000</td>\n",
       "            </tr>\n",
       "            <tr>\n",
       "                        <th id=\"T_e0c14_level0_row7\" class=\"row_heading level0 row7\" >network_username</th>\n",
       "                        <td id=\"T_e0c14_row7_col0\" class=\"data row7 col0\" >122240</td>\n",
       "                        <td id=\"T_e0c14_row7_col1\" class=\"data row7 col1\" >56.130000</td>\n",
       "            </tr>\n",
       "            <tr>\n",
       "                        <th id=\"T_e0c14_level0_row8\" class=\"row_heading level0 row8\" >country_code</th>\n",
       "                        <td id=\"T_e0c14_row8_col0\" class=\"data row8 col0\" >109167</td>\n",
       "                        <td id=\"T_e0c14_row8_col1\" class=\"data row8 col1\" >50.130000</td>\n",
       "            </tr>\n",
       "            <tr>\n",
       "                        <th id=\"T_e0c14_level0_row9\" class=\"row_heading level0 row9\" >investment_rounds</th>\n",
       "                        <td id=\"T_e0c14_row9_col0\" class=\"data row9 col0\" >302</td>\n",
       "                        <td id=\"T_e0c14_row9_col1\" class=\"data row9 col1\" >0.140000</td>\n",
       "            </tr>\n",
       "            <tr>\n",
       "                        <th id=\"T_e0c14_level0_row10\" class=\"row_heading level0 row10\" >funding_rounds</th>\n",
       "                        <td id=\"T_e0c14_row10_col0\" class=\"data row10 col0\" >302</td>\n",
       "                        <td id=\"T_e0c14_row10_col1\" class=\"data row10 col1\" >0.140000</td>\n",
       "            </tr>\n",
       "            <tr>\n",
       "                        <th id=\"T_e0c14_level0_row11\" class=\"row_heading level0 row11\" >funding_total</th>\n",
       "                        <td id=\"T_e0c14_row11_col0\" class=\"data row11 col0\" >302</td>\n",
       "                        <td id=\"T_e0c14_row11_col1\" class=\"data row11 col1\" >0.140000</td>\n",
       "            </tr>\n",
       "            <tr>\n",
       "                        <th id=\"T_e0c14_level0_row12\" class=\"row_heading level0 row12\" >milestones</th>\n",
       "                        <td id=\"T_e0c14_row12_col0\" class=\"data row12 col0\" >302</td>\n",
       "                        <td id=\"T_e0c14_row12_col1\" class=\"data row12 col1\" >0.140000</td>\n",
       "            </tr>\n",
       "            <tr>\n",
       "                        <th id=\"T_e0c14_level0_row13\" class=\"row_heading level0 row13\" >funding_round_id</th>\n",
       "                        <td id=\"T_e0c14_row13_col0\" class=\"data row13 col0\" >164846</td>\n",
       "                        <td id=\"T_e0c14_row13_col1\" class=\"data row13 col1\" >75.700000</td>\n",
       "            </tr>\n",
       "            <tr>\n",
       "                        <th id=\"T_e0c14_level0_row14\" class=\"row_heading level0 row14\" >company_id_funding</th>\n",
       "                        <td id=\"T_e0c14_row14_col0\" class=\"data row14 col0\" >164846</td>\n",
       "                        <td id=\"T_e0c14_row14_col1\" class=\"data row14 col1\" >75.700000</td>\n",
       "            </tr>\n",
       "            <tr>\n",
       "                        <th id=\"T_e0c14_level0_row15\" class=\"row_heading level0 row15\" >funded_at</th>\n",
       "                        <td id=\"T_e0c14_row15_col0\" class=\"data row15 col0\" >165094</td>\n",
       "                        <td id=\"T_e0c14_row15_col1\" class=\"data row15 col1\" >75.810000</td>\n",
       "            </tr>\n",
       "            <tr>\n",
       "                        <th id=\"T_e0c14_level0_row16\" class=\"row_heading level0 row16\" >funding_round_type</th>\n",
       "                        <td id=\"T_e0c14_row16_col0\" class=\"data row16 col0\" >164846</td>\n",
       "                        <td id=\"T_e0c14_row16_col1\" class=\"data row16 col1\" >75.700000</td>\n",
       "            </tr>\n",
       "            <tr>\n",
       "                        <th id=\"T_e0c14_level0_row17\" class=\"row_heading level0 row17\" >raised_amount</th>\n",
       "                        <td id=\"T_e0c14_row17_col0\" class=\"data row17 col0\" >164846</td>\n",
       "                        <td id=\"T_e0c14_row17_col1\" class=\"data row17 col1\" >75.700000</td>\n",
       "            </tr>\n",
       "            <tr>\n",
       "                        <th id=\"T_e0c14_level0_row18\" class=\"row_heading level0 row18\" >pre_money_valuation</th>\n",
       "                        <td id=\"T_e0c14_row18_col0\" class=\"data row18 col0\" >164846</td>\n",
       "                        <td id=\"T_e0c14_row18_col1\" class=\"data row18 col1\" >75.700000</td>\n",
       "            </tr>\n",
       "            <tr>\n",
       "                        <th id=\"T_e0c14_level0_row19\" class=\"row_heading level0 row19\" >participants</th>\n",
       "                        <td id=\"T_e0c14_row19_col0\" class=\"data row19 col0\" >164846</td>\n",
       "                        <td id=\"T_e0c14_row19_col1\" class=\"data row19 col1\" >75.700000</td>\n",
       "            </tr>\n",
       "            <tr>\n",
       "                        <th id=\"T_e0c14_level0_row20\" class=\"row_heading level0 row20\" >is_first_round</th>\n",
       "                        <td id=\"T_e0c14_row20_col0\" class=\"data row20 col0\" >164846</td>\n",
       "                        <td id=\"T_e0c14_row20_col1\" class=\"data row20 col1\" >75.700000</td>\n",
       "            </tr>\n",
       "            <tr>\n",
       "                        <th id=\"T_e0c14_level0_row21\" class=\"row_heading level0 row21\" >is_last_round</th>\n",
       "                        <td id=\"T_e0c14_row21_col0\" class=\"data row21 col0\" >164846</td>\n",
       "                        <td id=\"T_e0c14_row21_col1\" class=\"data row21 col1\" >75.700000</td>\n",
       "            </tr>\n",
       "    </tbody></table>"
      ],
      "text/plain": [
       "<pandas.io.formats.style.Styler at 0x7f879f4ef130>"
      ]
     },
     "execution_count": 28,
     "metadata": {},
     "output_type": "execute_result"
    }
   ],
   "source": [
    "print('\\033[1m' + 'Количество пропусков в company_and_rounds_df' + '\\033[0m')\n",
    "#создаем датафрейм с пропусками\n",
    "pass_company_and_rounds_df = (pd.DataFrame({\n",
    "    'Кол-во пропусков': company_and_rounds_df.isna().sum(),\n",
    "    'Процент пропусков': round(((company_and_rounds_df.isna().sum() / company_and_rounds_df.shape[0])*100),2)\n",
    "})).style.background_gradient(cmap='coolwarm')\n",
    "pass_company_and_rounds_df"
   ]
  },
  {
   "cell_type": "markdown",
   "metadata": {},
   "source": [
    "Видно, что в части данных почти одинаковый процент пропусков. В данных 2 датафрейма были объедины, поэтому возникло больше 75% пропусков"
   ]
  },
  {
   "cell_type": "code",
   "execution_count": 29,
   "metadata": {},
   "outputs": [
    {
     "name": "stdout",
     "output_type": "stream",
     "text": [
      "\u001b[1mКоличество пропусков в degrees_df\u001b[0m\n"
     ]
    },
    {
     "data": {
      "text/html": [
       "<style  type=\"text/css\" >\n",
       "#T_fe799_row0_col0,#T_fe799_row0_col1,#T_fe799_row1_col0,#T_fe799_row1_col1{\n",
       "            background-color:  #3b4cc0;\n",
       "            color:  #f1f1f1;\n",
       "        }#T_fe799_row2_col0,#T_fe799_row2_col1{\n",
       "            background-color:  #bfd3f6;\n",
       "            color:  #000000;\n",
       "        }#T_fe799_row3_col0,#T_fe799_row3_col1{\n",
       "            background-color:  #b40426;\n",
       "            color:  #f1f1f1;\n",
       "        }</style><table id=\"T_fe799_\" ><thead>    <tr>        <th class=\"blank level0\" ></th>        <th class=\"col_heading level0 col0\" >Кол-во пропусков</th>        <th class=\"col_heading level0 col1\" >Процент пропусков</th>    </tr></thead><tbody>\n",
       "                <tr>\n",
       "                        <th id=\"T_fe799_level0_row0\" class=\"row_heading level0 row0\" >id</th>\n",
       "                        <td id=\"T_fe799_row0_col0\" class=\"data row0 col0\" >0</td>\n",
       "                        <td id=\"T_fe799_row0_col1\" class=\"data row0 col1\" >0.000000</td>\n",
       "            </tr>\n",
       "            <tr>\n",
       "                        <th id=\"T_fe799_level0_row1\" class=\"row_heading level0 row1\" >object_id</th>\n",
       "                        <td id=\"T_fe799_row1_col0\" class=\"data row1 col0\" >0</td>\n",
       "                        <td id=\"T_fe799_row1_col1\" class=\"data row1 col1\" >0.000000</td>\n",
       "            </tr>\n",
       "            <tr>\n",
       "                        <th id=\"T_fe799_level0_row2\" class=\"row_heading level0 row2\" >degree_type</th>\n",
       "                        <td id=\"T_fe799_row2_col0\" class=\"data row2 col0\" >11218</td>\n",
       "                        <td id=\"T_fe799_row2_col1\" class=\"data row2 col1\" >10.230000</td>\n",
       "            </tr>\n",
       "            <tr>\n",
       "                        <th id=\"T_fe799_level0_row3\" class=\"row_heading level0 row3\" >subject</th>\n",
       "                        <td id=\"T_fe799_row3_col0\" class=\"data row3 col0\" >28312</td>\n",
       "                        <td id=\"T_fe799_row3_col1\" class=\"data row3 col1\" >25.830000</td>\n",
       "            </tr>\n",
       "    </tbody></table>"
      ],
      "text/plain": [
       "<pandas.io.formats.style.Styler at 0x7f879f356fd0>"
      ]
     },
     "execution_count": 29,
     "metadata": {},
     "output_type": "execute_result"
    }
   ],
   "source": [
    "print('\\033[1m' + 'Количество пропусков в degrees_df' + '\\033[0m')\n",
    "#создаем датафрейм с пропусками\n",
    "pass_degrees_df = (pd.DataFrame({\n",
    "    'Кол-во пропусков': degrees_df.isna().sum(),\n",
    "    'Процент пропусков': round(((degrees_df.isna().sum() / degrees_df.shape[0])*100),2)\n",
    "})).style.background_gradient(cmap='coolwarm')\n",
    "pass_degrees_df"
   ]
  },
  {
   "cell_type": "markdown",
   "metadata": {},
   "source": [
    "У 10% сотрудников нет данных о типе образовании"
   ]
  },
  {
   "cell_type": "code",
   "execution_count": 30,
   "metadata": {},
   "outputs": [
    {
     "name": "stdout",
     "output_type": "stream",
     "text": [
      "\u001b[1mКоличество пропусков в education_df\u001b[0m\n"
     ]
    },
    {
     "data": {
      "text/html": [
       "<style  type=\"text/css\" >\n",
       "#T_dbd9e_row0_col0,#T_dbd9e_row0_col1,#T_dbd9e_row1_col0,#T_dbd9e_row1_col1,#T_dbd9e_row2_col0,#T_dbd9e_row2_col1{\n",
       "            background-color:  #3b4cc0;\n",
       "            color:  #f1f1f1;\n",
       "        }#T_dbd9e_row3_col0,#T_dbd9e_row3_col1{\n",
       "            background-color:  #b40426;\n",
       "            color:  #f1f1f1;\n",
       "        }</style><table id=\"T_dbd9e_\" ><thead>    <tr>        <th class=\"blank level0\" ></th>        <th class=\"col_heading level0 col0\" >Кол-во пропусков</th>        <th class=\"col_heading level0 col1\" >Процент пропусков</th>    </tr></thead><tbody>\n",
       "                <tr>\n",
       "                        <th id=\"T_dbd9e_level0_row0\" class=\"row_heading level0 row0\" >id</th>\n",
       "                        <td id=\"T_dbd9e_row0_col0\" class=\"data row0 col0\" >0</td>\n",
       "                        <td id=\"T_dbd9e_row0_col1\" class=\"data row0 col1\" >0.000000</td>\n",
       "            </tr>\n",
       "            <tr>\n",
       "                        <th id=\"T_dbd9e_level0_row1\" class=\"row_heading level0 row1\" >person_id</th>\n",
       "                        <td id=\"T_dbd9e_row1_col0\" class=\"data row1 col0\" >0</td>\n",
       "                        <td id=\"T_dbd9e_row1_col1\" class=\"data row1 col1\" >0.000000</td>\n",
       "            </tr>\n",
       "            <tr>\n",
       "                        <th id=\"T_dbd9e_level0_row2\" class=\"row_heading level0 row2\" >instituition</th>\n",
       "                        <td id=\"T_dbd9e_row2_col0\" class=\"data row2 col0\" >55</td>\n",
       "                        <td id=\"T_dbd9e_row2_col1\" class=\"data row2 col1\" >0.050000</td>\n",
       "            </tr>\n",
       "            <tr>\n",
       "                        <th id=\"T_dbd9e_level0_row3\" class=\"row_heading level0 row3\" >graduated_at</th>\n",
       "                        <td id=\"T_dbd9e_row3_col0\" class=\"data row3 col0\" >51556</td>\n",
       "                        <td id=\"T_dbd9e_row3_col1\" class=\"data row3 col1\" >47.040000</td>\n",
       "            </tr>\n",
       "    </tbody></table>"
      ],
      "text/plain": [
       "<pandas.io.formats.style.Styler at 0x7f879f327880>"
      ]
     },
     "execution_count": 30,
     "metadata": {},
     "output_type": "execute_result"
    }
   ],
   "source": [
    "print('\\033[1m' + 'Количество пропусков в education_df' + '\\033[0m')\n",
    "#создаем датафрейм с пропусками\n",
    "pass_education_df = (pd.DataFrame({\n",
    "    'Кол-во пропусков': education_df.isna().sum(),\n",
    "    'Процент пропусков': round(((education_df.isna().sum() / education_df.shape[0])*100),2)\n",
    "})).style.background_gradient(cmap='coolwarm')\n",
    "pass_education_df"
   ]
  },
  {
   "cell_type": "markdown",
   "metadata": {},
   "source": [
    "Не хватает данных об образовании меньше чем у 1%. Но нет данных о дате получения образования (47%)"
   ]
  },
  {
   "cell_type": "code",
   "execution_count": 31,
   "metadata": {},
   "outputs": [
    {
     "name": "stdout",
     "output_type": "stream",
     "text": [
      "\u001b[1mКоличество пропусков в fund_df\u001b[0m\n"
     ]
    },
    {
     "data": {
      "text/html": [
       "<style  type=\"text/css\" >\n",
       "#T_d0d23_row0_col0,#T_d0d23_row0_col1,#T_d0d23_row1_col0,#T_d0d23_row1_col1,#T_d0d23_row6_col0,#T_d0d23_row6_col1,#T_d0d23_row7_col0,#T_d0d23_row7_col1,#T_d0d23_row8_col0,#T_d0d23_row8_col1{\n",
       "            background-color:  #3b4cc0;\n",
       "            color:  #f1f1f1;\n",
       "        }#T_d0d23_row2_col0,#T_d0d23_row2_col1{\n",
       "            background-color:  #f59d7e;\n",
       "            color:  #000000;\n",
       "        }#T_d0d23_row3_col0,#T_d0d23_row3_col1{\n",
       "            background-color:  #cfdaea;\n",
       "            color:  #000000;\n",
       "        }#T_d0d23_row4_col0,#T_d0d23_row4_col1{\n",
       "            background-color:  #b40426;\n",
       "            color:  #f1f1f1;\n",
       "        }#T_d0d23_row5_col0,#T_d0d23_row5_col1{\n",
       "            background-color:  #d8dce2;\n",
       "            color:  #000000;\n",
       "        }</style><table id=\"T_d0d23_\" ><thead>    <tr>        <th class=\"blank level0\" ></th>        <th class=\"col_heading level0 col0\" >Кол-во пропусков</th>        <th class=\"col_heading level0 col1\" >Процент пропусков</th>    </tr></thead><tbody>\n",
       "                <tr>\n",
       "                        <th id=\"T_d0d23_level0_row0\" class=\"row_heading level0 row0\" >id</th>\n",
       "                        <td id=\"T_d0d23_row0_col0\" class=\"data row0 col0\" >0</td>\n",
       "                        <td id=\"T_d0d23_row0_col1\" class=\"data row0 col1\" >0.000000</td>\n",
       "            </tr>\n",
       "            <tr>\n",
       "                        <th id=\"T_d0d23_level0_row1\" class=\"row_heading level0 row1\" >name</th>\n",
       "                        <td id=\"T_d0d23_row1_col0\" class=\"data row1 col0\" >2</td>\n",
       "                        <td id=\"T_d0d23_row1_col1\" class=\"data row1 col1\" >0.020000</td>\n",
       "            </tr>\n",
       "            <tr>\n",
       "                        <th id=\"T_d0d23_level0_row2\" class=\"row_heading level0 row2\" >founded_at</th>\n",
       "                        <td id=\"T_d0d23_row2_col0\" class=\"data row2 col0\" >7047</td>\n",
       "                        <td id=\"T_d0d23_row2_col1\" class=\"data row2 col1\" >60.480000</td>\n",
       "            </tr>\n",
       "            <tr>\n",
       "                        <th id=\"T_d0d23_level0_row3\" class=\"row_heading level0 row3\" >domain</th>\n",
       "                        <td id=\"T_d0d23_row3_col0\" class=\"data row3 col0\" >4290</td>\n",
       "                        <td id=\"T_d0d23_row3_col1\" class=\"data row3 col1\" >36.820000</td>\n",
       "            </tr>\n",
       "            <tr>\n",
       "                        <th id=\"T_d0d23_level0_row4\" class=\"row_heading level0 row4\" >network_username</th>\n",
       "                        <td id=\"T_d0d23_row4_col0\" class=\"data row4 col0\" >9503</td>\n",
       "                        <td id=\"T_d0d23_row4_col1\" class=\"data row4 col1\" >81.560000</td>\n",
       "            </tr>\n",
       "            <tr>\n",
       "                        <th id=\"T_d0d23_level0_row5\" class=\"row_heading level0 row5\" >country_code</th>\n",
       "                        <td id=\"T_d0d23_row5_col0\" class=\"data row5 col0\" >4599</td>\n",
       "                        <td id=\"T_d0d23_row5_col1\" class=\"data row5 col1\" >39.470000</td>\n",
       "            </tr>\n",
       "            <tr>\n",
       "                        <th id=\"T_d0d23_level0_row6\" class=\"row_heading level0 row6\" >investment_rounds</th>\n",
       "                        <td id=\"T_d0d23_row6_col0\" class=\"data row6 col0\" >0</td>\n",
       "                        <td id=\"T_d0d23_row6_col1\" class=\"data row6 col1\" >0.000000</td>\n",
       "            </tr>\n",
       "            <tr>\n",
       "                        <th id=\"T_d0d23_level0_row7\" class=\"row_heading level0 row7\" >invested_companies</th>\n",
       "                        <td id=\"T_d0d23_row7_col0\" class=\"data row7 col0\" >0</td>\n",
       "                        <td id=\"T_d0d23_row7_col1\" class=\"data row7 col1\" >0.000000</td>\n",
       "            </tr>\n",
       "            <tr>\n",
       "                        <th id=\"T_d0d23_level0_row8\" class=\"row_heading level0 row8\" >milestones</th>\n",
       "                        <td id=\"T_d0d23_row8_col0\" class=\"data row8 col0\" >0</td>\n",
       "                        <td id=\"T_d0d23_row8_col1\" class=\"data row8 col1\" >0.000000</td>\n",
       "            </tr>\n",
       "    </tbody></table>"
      ],
      "text/plain": [
       "<pandas.io.formats.style.Styler at 0x7f879f3315b0>"
      ]
     },
     "execution_count": 31,
     "metadata": {},
     "output_type": "execute_result"
    }
   ],
   "source": [
    "print('\\033[1m' + 'Количество пропусков в fund_df' + '\\033[0m')\n",
    "#создаем датафрейм с пропусками\n",
    "pass_fund_df = (pd.DataFrame({\n",
    "    'Кол-во пропусков': fund_df.isna().sum(),\n",
    "    'Процент пропусков': round(((fund_df.isna().sum() / fund_df.shape[0])*100),2)\n",
    "})).style.background_gradient(cmap='coolwarm')\n",
    "pass_fund_df\n"
   ]
  },
  {
   "cell_type": "code",
   "execution_count": 32,
   "metadata": {},
   "outputs": [
    {
     "name": "stdout",
     "output_type": "stream",
     "text": [
      "\u001b[1mКоличество пропусков в investment_df\u001b[0m\n"
     ]
    },
    {
     "data": {
      "text/html": [
       "<style  type=\"text/css\" >\n",
       "#T_dfeb1_row0_col0,#T_dfeb1_row0_col1,#T_dfeb1_row1_col0,#T_dfeb1_row1_col1,#T_dfeb1_row2_col0,#T_dfeb1_row2_col1,#T_dfeb1_row3_col0,#T_dfeb1_row3_col1{\n",
       "            background-color:  #3b4cc0;\n",
       "            color:  #f1f1f1;\n",
       "        }</style><table id=\"T_dfeb1_\" ><thead>    <tr>        <th class=\"blank level0\" ></th>        <th class=\"col_heading level0 col0\" >Кол-во пропусков</th>        <th class=\"col_heading level0 col1\" >Процент пропусков</th>    </tr></thead><tbody>\n",
       "                <tr>\n",
       "                        <th id=\"T_dfeb1_level0_row0\" class=\"row_heading level0 row0\" >id</th>\n",
       "                        <td id=\"T_dfeb1_row0_col0\" class=\"data row0 col0\" >0</td>\n",
       "                        <td id=\"T_dfeb1_row0_col1\" class=\"data row0 col1\" >0.000000</td>\n",
       "            </tr>\n",
       "            <tr>\n",
       "                        <th id=\"T_dfeb1_level0_row1\" class=\"row_heading level0 row1\" >funding_round_id</th>\n",
       "                        <td id=\"T_dfeb1_row1_col0\" class=\"data row1 col0\" >0</td>\n",
       "                        <td id=\"T_dfeb1_row1_col1\" class=\"data row1 col1\" >0.000000</td>\n",
       "            </tr>\n",
       "            <tr>\n",
       "                        <th id=\"T_dfeb1_level0_row2\" class=\"row_heading level0 row2\" >company_id</th>\n",
       "                        <td id=\"T_dfeb1_row2_col0\" class=\"data row2 col0\" >0</td>\n",
       "                        <td id=\"T_dfeb1_row2_col1\" class=\"data row2 col1\" >0.000000</td>\n",
       "            </tr>\n",
       "            <tr>\n",
       "                        <th id=\"T_dfeb1_level0_row3\" class=\"row_heading level0 row3\" >fund_id</th>\n",
       "                        <td id=\"T_dfeb1_row3_col0\" class=\"data row3 col0\" >0</td>\n",
       "                        <td id=\"T_dfeb1_row3_col1\" class=\"data row3 col1\" >0.000000</td>\n",
       "            </tr>\n",
       "    </tbody></table>"
      ],
      "text/plain": [
       "<pandas.io.formats.style.Styler at 0x7f879f4ebbb0>"
      ]
     },
     "execution_count": 32,
     "metadata": {},
     "output_type": "execute_result"
    }
   ],
   "source": [
    "print('\\033[1m' + 'Количество пропусков в investment_df' + '\\033[0m')\n",
    "#создаем датафрейм с пропусками\n",
    "pass_investment_df = (pd.DataFrame({\n",
    "    'Кол-во пропусков': investment_df.isna().sum(),\n",
    "    'Процент пропусков': round(((investment_df.isna().sum() / investment_df.shape[0])*100),2)\n",
    "})).style.background_gradient(cmap='coolwarm')\n",
    "pass_investment_df"
   ]
  },
  {
   "cell_type": "markdown",
   "metadata": {},
   "source": [
    "Пропусков нет."
   ]
  },
  {
   "cell_type": "code",
   "execution_count": 33,
   "metadata": {},
   "outputs": [
    {
     "name": "stdout",
     "output_type": "stream",
     "text": [
      "\u001b[1mКоличество пропусков в people_df\u001b[0m\n"
     ]
    },
    {
     "data": {
      "text/html": [
       "<style  type=\"text/css\" >\n",
       "#T_402c2_row0_col0,#T_402c2_row0_col1,#T_402c2_row1_col0,#T_402c2_row1_col1,#T_402c2_row2_col0,#T_402c2_row2_col1{\n",
       "            background-color:  #3b4cc0;\n",
       "            color:  #f1f1f1;\n",
       "        }#T_402c2_row3_col0,#T_402c2_row3_col1{\n",
       "            background-color:  #b40426;\n",
       "            color:  #f1f1f1;\n",
       "        }#T_402c2_row4_col0,#T_402c2_row4_col1{\n",
       "            background-color:  #bb1b2c;\n",
       "            color:  #f1f1f1;\n",
       "        }</style><table id=\"T_402c2_\" ><thead>    <tr>        <th class=\"blank level0\" ></th>        <th class=\"col_heading level0 col0\" >Кол-во пропусков</th>        <th class=\"col_heading level0 col1\" >Процент пропусков</th>    </tr></thead><tbody>\n",
       "                <tr>\n",
       "                        <th id=\"T_402c2_level0_row0\" class=\"row_heading level0 row0\" >id</th>\n",
       "                        <td id=\"T_402c2_row0_col0\" class=\"data row0 col0\" >0</td>\n",
       "                        <td id=\"T_402c2_row0_col1\" class=\"data row0 col1\" >0.000000</td>\n",
       "            </tr>\n",
       "            <tr>\n",
       "                        <th id=\"T_402c2_level0_row1\" class=\"row_heading level0 row1\" >first_name</th>\n",
       "                        <td id=\"T_402c2_row1_col0\" class=\"data row1 col0\" >5</td>\n",
       "                        <td id=\"T_402c2_row1_col1\" class=\"data row1 col1\" >0.000000</td>\n",
       "            </tr>\n",
       "            <tr>\n",
       "                        <th id=\"T_402c2_level0_row2\" class=\"row_heading level0 row2\" >last_name</th>\n",
       "                        <td id=\"T_402c2_row2_col0\" class=\"data row2 col0\" >1</td>\n",
       "                        <td id=\"T_402c2_row2_col1\" class=\"data row2 col1\" >0.000000</td>\n",
       "            </tr>\n",
       "            <tr>\n",
       "                        <th id=\"T_402c2_level0_row3\" class=\"row_heading level0 row3\" >company_id</th>\n",
       "                        <td id=\"T_402c2_row3_col0\" class=\"data row3 col0\" >192094</td>\n",
       "                        <td id=\"T_402c2_row3_col1\" class=\"data row3 col1\" >84.730000</td>\n",
       "            </tr>\n",
       "            <tr>\n",
       "                        <th id=\"T_402c2_level0_row4\" class=\"row_heading level0 row4\" >network_username</th>\n",
       "                        <td id=\"T_402c2_row4_col0\" class=\"data row4 col0\" >187842</td>\n",
       "                        <td id=\"T_402c2_row4_col1\" class=\"data row4 col1\" >82.860000</td>\n",
       "            </tr>\n",
       "    </tbody></table>"
      ],
      "text/plain": [
       "<pandas.io.formats.style.Styler at 0x7f879f35e970>"
      ]
     },
     "execution_count": 33,
     "metadata": {},
     "output_type": "execute_result"
    }
   ],
   "source": [
    "print('\\033[1m' + 'Количество пропусков в people_df' + '\\033[0m')\n",
    "#создаем датафрейм с пропусками\n",
    "pass_people_df = (pd.DataFrame({\n",
    "    'Кол-во пропусков': people_df.isna().sum(),\n",
    "    'Процент пропусков': round(((people_df.isna().sum() / people_df.shape[0])*100),2)\n",
    "})).style.background_gradient(cmap='coolwarm')\n",
    "pass_people_df"
   ]
  },
  {
   "cell_type": "markdown",
   "metadata": {},
   "source": [
    "Нет данных о компаниях - более 80%"
   ]
  },
  {
   "cell_type": "markdown",
   "metadata": {
    "id": "u60cHsn6rJg1"
   },
   "source": [
    "<a id=\"Предобработка_данных,_предварительное_исследование\"></a>\n",
    "## Шаг 2. Предобработка данных, предварительное исследование"
   ]
  },
  {
   "cell_type": "markdown",
   "metadata": {
    "id": "g2bHIIjcrJg1"
   },
   "source": [
    "<a id=\"Раунды\"></a>\n",
    "### Раунды финансирования по годам\n",
    "\n",
    "Задание необходимо выполнить без объединения и дополнительной предобработки на основе датасета `company_and_rounds.csv`.\n",
    "\n",
    "* Составьте сводную таблицу по годам, в которой на основании столбца `raised_amount` для каждого года указан:\n",
    "\n",
    "  * типичный размер средств, выделяемый в рамках одного раунда;\n",
    "  * общее количество раундов финансирования за этот год.\n",
    "\n",
    "* Оставьте в таблице информацию только для тех лет, для которых есть информация о более чем 50 раундах финансирования.\n",
    "\n",
    "* На основе получившейся таблицы постройте график, который будет отражать динамику типичного размера средств, которые стартапы получали в рамках одного раунда финансирования.\n",
    "\n",
    "На основе полученных данных ответьте на вопросы:\n",
    "\n",
    "* В каком году типичный размер собранных в рамках одного раунда средств был максимален?\n",
    "\n",
    "* Какая тенденция по количеству раундов и выделяемых в рамках каждого раунда средств наблюдалась в 2013 году?"
   ]
  },
  {
   "cell_type": "code",
   "execution_count": 34,
   "metadata": {
    "id": "ovyDibxNrJg1"
   },
   "outputs": [
    {
     "name": "stdout",
     "output_type": "stream",
     "text": [
      "\u001b[1mТаблица с типичными средствами финансирования и \u001b[0m\n",
      "\u001b[1mдля раундов более 50\u001b[0m\n"
     ]
    },
    {
     "data": {
      "text/html": [
       "<div>\n",
       "<style scoped>\n",
       "    .dataframe tbody tr th:only-of-type {\n",
       "        vertical-align: middle;\n",
       "    }\n",
       "\n",
       "    .dataframe tbody tr th {\n",
       "        vertical-align: top;\n",
       "    }\n",
       "\n",
       "    .dataframe thead th {\n",
       "        text-align: right;\n",
       "    }\n",
       "</style>\n",
       "<table border=\"1\" class=\"dataframe\">\n",
       "  <thead>\n",
       "    <tr style=\"text-align: right;\">\n",
       "      <th></th>\n",
       "      <th>raised_amount</th>\n",
       "    </tr>\n",
       "    <tr>\n",
       "      <th>funded_year</th>\n",
       "      <th></th>\n",
       "    </tr>\n",
       "  </thead>\n",
       "  <tbody>\n",
       "    <tr>\n",
       "      <th>2012.0</th>\n",
       "      <td>1000000</td>\n",
       "    </tr>\n",
       "    <tr>\n",
       "      <th>2011.0</th>\n",
       "      <td>1200000</td>\n",
       "    </tr>\n",
       "    <tr>\n",
       "      <th>2013.0</th>\n",
       "      <td>1200000</td>\n",
       "    </tr>\n",
       "    <tr>\n",
       "      <th>2010.0</th>\n",
       "      <td>1602500</td>\n",
       "    </tr>\n",
       "    <tr>\n",
       "      <th>1999.0</th>\n",
       "      <td>2000000</td>\n",
       "    </tr>\n",
       "    <tr>\n",
       "      <th>2009.0</th>\n",
       "      <td>2000000</td>\n",
       "    </tr>\n",
       "    <tr>\n",
       "      <th>2001.0</th>\n",
       "      <td>3000000</td>\n",
       "    </tr>\n",
       "    <tr>\n",
       "      <th>2003.0</th>\n",
       "      <td>3000000</td>\n",
       "    </tr>\n",
       "    <tr>\n",
       "      <th>2008.0</th>\n",
       "      <td>3110000</td>\n",
       "    </tr>\n",
       "    <tr>\n",
       "      <th>2007.0</th>\n",
       "      <td>3973320</td>\n",
       "    </tr>\n",
       "    <tr>\n",
       "      <th>2000.0</th>\n",
       "      <td>4200000</td>\n",
       "    </tr>\n",
       "    <tr>\n",
       "      <th>2002.0</th>\n",
       "      <td>4200000</td>\n",
       "    </tr>\n",
       "    <tr>\n",
       "      <th>2004.0</th>\n",
       "      <td>5000000</td>\n",
       "    </tr>\n",
       "    <tr>\n",
       "      <th>2006.0</th>\n",
       "      <td>5000000</td>\n",
       "    </tr>\n",
       "    <tr>\n",
       "      <th>2005.0</th>\n",
       "      <td>5500000</td>\n",
       "    </tr>\n",
       "  </tbody>\n",
       "</table>\n",
       "</div>"
      ],
      "text/plain": [
       "             raised_amount\n",
       "funded_year               \n",
       "2012.0             1000000\n",
       "2011.0             1200000\n",
       "2013.0             1200000\n",
       "2010.0             1602500\n",
       "1999.0             2000000\n",
       "2009.0             2000000\n",
       "2001.0             3000000\n",
       "2003.0             3000000\n",
       "2008.0             3110000\n",
       "2007.0             3973320\n",
       "2000.0             4200000\n",
       "2002.0             4200000\n",
       "2004.0             5000000\n",
       "2006.0             5000000\n",
       "2005.0             5500000"
      ]
     },
     "execution_count": 34,
     "metadata": {},
     "output_type": "execute_result"
    }
   ],
   "source": [
    "# Создаем колонку с годом финансирования\n",
    "company_and_rounds_df['funded_year'] = company_and_rounds_df['funded_at'].dt.year\n",
    "company_and_rounds_df['funded_year'] = company_and_rounds_df['funded_year'].astype(int, errors='ignore')\n",
    "# Создаем сводную таблицу\n",
    "pivot_raised_amount = pd.pivot_table(company_and_rounds_df, values='raised_amount', index='funded_year', aggfunc=['median', 'count'], fill_value=0)\n",
    "pivot_raised_amount_median = pd.pivot_table(company_and_rounds_df, values='raised_amount', index='funded_year', aggfunc='median', fill_value=0)\n",
    "pivot_raised_amount_count = pd.pivot_table(company_and_rounds_df, values='raised_amount', index='funded_year', aggfunc='count', fill_value=0)\n",
    "# Фильтруем по условию - более 50 раундов финансирования\n",
    "filter_pivot_raised_amount = pivot_raised_amount_median[pivot_raised_amount_count['raised_amount'] > 50]\n",
    "\n",
    "# Фильтруем по условию - более 50 раундов финансирования\n",
    "filter_pivot_raised_count = pivot_raised_amount_count[pivot_raised_amount_count['raised_amount'] > 50]\n",
    "\n",
    "print('\\033[1m' + 'Таблица с типичными средствами финансирования и ' + '\\033[0m')\n",
    "print('\\033[1m' + 'для раундов более 50'  + '\\033[0m')\n",
    "filter_pivot_raised_amount.sort_values(by='raised_amount')"
   ]
  },
  {
   "cell_type": "code",
   "execution_count": 35,
   "metadata": {},
   "outputs": [
    {
     "name": "stdout",
     "output_type": "stream",
     "text": [
      "\u001b[1mТаблица с типичными средствами финансирования и общим количесвом раундов финансирования\u001b[0m\n"
     ]
    },
    {
     "data": {
      "text/html": [
       "<div>\n",
       "<style scoped>\n",
       "    .dataframe tbody tr th:only-of-type {\n",
       "        vertical-align: middle;\n",
       "    }\n",
       "\n",
       "    .dataframe tbody tr th {\n",
       "        vertical-align: top;\n",
       "    }\n",
       "\n",
       "    .dataframe thead tr th {\n",
       "        text-align: left;\n",
       "    }\n",
       "\n",
       "    .dataframe thead tr:last-of-type th {\n",
       "        text-align: right;\n",
       "    }\n",
       "</style>\n",
       "<table border=\"1\" class=\"dataframe\">\n",
       "  <thead>\n",
       "    <tr>\n",
       "      <th></th>\n",
       "      <th>median</th>\n",
       "      <th>count</th>\n",
       "    </tr>\n",
       "    <tr>\n",
       "      <th></th>\n",
       "      <th>raised_amount</th>\n",
       "      <th>raised_amount</th>\n",
       "    </tr>\n",
       "    <tr>\n",
       "      <th>funded_year</th>\n",
       "      <th></th>\n",
       "      <th></th>\n",
       "    </tr>\n",
       "  </thead>\n",
       "  <tbody>\n",
       "    <tr>\n",
       "      <th>1960.0</th>\n",
       "      <td>0</td>\n",
       "      <td>9</td>\n",
       "    </tr>\n",
       "    <tr>\n",
       "      <th>1973.0</th>\n",
       "      <td>0</td>\n",
       "      <td>1</td>\n",
       "    </tr>\n",
       "    <tr>\n",
       "      <th>1974.0</th>\n",
       "      <td>0</td>\n",
       "      <td>2</td>\n",
       "    </tr>\n",
       "    <tr>\n",
       "      <th>1984.0</th>\n",
       "      <td>41000</td>\n",
       "      <td>3</td>\n",
       "    </tr>\n",
       "    <tr>\n",
       "      <th>1985.0</th>\n",
       "      <td>0</td>\n",
       "      <td>1</td>\n",
       "    </tr>\n",
       "    <tr>\n",
       "      <th>1987.0</th>\n",
       "      <td>1250000</td>\n",
       "      <td>2</td>\n",
       "    </tr>\n",
       "    <tr>\n",
       "      <th>1989.0</th>\n",
       "      <td>15000</td>\n",
       "      <td>1</td>\n",
       "    </tr>\n",
       "    <tr>\n",
       "      <th>1990.0</th>\n",
       "      <td>1000000</td>\n",
       "      <td>1</td>\n",
       "    </tr>\n",
       "    <tr>\n",
       "      <th>1992.0</th>\n",
       "      <td>2000000</td>\n",
       "      <td>1</td>\n",
       "    </tr>\n",
       "    <tr>\n",
       "      <th>1993.0</th>\n",
       "      <td>62500</td>\n",
       "      <td>2</td>\n",
       "    </tr>\n",
       "    <tr>\n",
       "      <th>1994.0</th>\n",
       "      <td>6700000</td>\n",
       "      <td>2</td>\n",
       "    </tr>\n",
       "    <tr>\n",
       "      <th>1995.0</th>\n",
       "      <td>2000000</td>\n",
       "      <td>7</td>\n",
       "    </tr>\n",
       "    <tr>\n",
       "      <th>1996.0</th>\n",
       "      <td>12500</td>\n",
       "      <td>7</td>\n",
       "    </tr>\n",
       "    <tr>\n",
       "      <th>1997.0</th>\n",
       "      <td>3300000</td>\n",
       "      <td>9</td>\n",
       "    </tr>\n",
       "    <tr>\n",
       "      <th>1998.0</th>\n",
       "      <td>100000</td>\n",
       "      <td>29</td>\n",
       "    </tr>\n",
       "    <tr>\n",
       "      <th>1999.0</th>\n",
       "      <td>2000000</td>\n",
       "      <td>76</td>\n",
       "    </tr>\n",
       "    <tr>\n",
       "      <th>2000.0</th>\n",
       "      <td>4200000</td>\n",
       "      <td>125</td>\n",
       "    </tr>\n",
       "    <tr>\n",
       "      <th>2001.0</th>\n",
       "      <td>3000000</td>\n",
       "      <td>96</td>\n",
       "    </tr>\n",
       "    <tr>\n",
       "      <th>2002.0</th>\n",
       "      <td>4200000</td>\n",
       "      <td>116</td>\n",
       "    </tr>\n",
       "    <tr>\n",
       "      <th>2003.0</th>\n",
       "      <td>3000000</td>\n",
       "      <td>159</td>\n",
       "    </tr>\n",
       "    <tr>\n",
       "      <th>2004.0</th>\n",
       "      <td>5000000</td>\n",
       "      <td>291</td>\n",
       "    </tr>\n",
       "    <tr>\n",
       "      <th>2005.0</th>\n",
       "      <td>5500000</td>\n",
       "      <td>1633</td>\n",
       "    </tr>\n",
       "    <tr>\n",
       "      <th>2006.0</th>\n",
       "      <td>5000000</td>\n",
       "      <td>2436</td>\n",
       "    </tr>\n",
       "    <tr>\n",
       "      <th>2007.0</th>\n",
       "      <td>3973320</td>\n",
       "      <td>3279</td>\n",
       "    </tr>\n",
       "    <tr>\n",
       "      <th>2008.0</th>\n",
       "      <td>3110000</td>\n",
       "      <td>3774</td>\n",
       "    </tr>\n",
       "    <tr>\n",
       "      <th>2009.0</th>\n",
       "      <td>2000000</td>\n",
       "      <td>4151</td>\n",
       "    </tr>\n",
       "    <tr>\n",
       "      <th>2010.0</th>\n",
       "      <td>1602500</td>\n",
       "      <td>6221</td>\n",
       "    </tr>\n",
       "    <tr>\n",
       "      <th>2011.0</th>\n",
       "      <td>1200000</td>\n",
       "      <td>9204</td>\n",
       "    </tr>\n",
       "    <tr>\n",
       "      <th>2012.0</th>\n",
       "      <td>1000000</td>\n",
       "      <td>9970</td>\n",
       "    </tr>\n",
       "    <tr>\n",
       "      <th>2013.0</th>\n",
       "      <td>1200000</td>\n",
       "      <td>11072</td>\n",
       "    </tr>\n",
       "  </tbody>\n",
       "</table>\n",
       "</div>"
      ],
      "text/plain": [
       "                   median         count\n",
       "            raised_amount raised_amount\n",
       "funded_year                            \n",
       "1960.0                  0             9\n",
       "1973.0                  0             1\n",
       "1974.0                  0             2\n",
       "1984.0              41000             3\n",
       "1985.0                  0             1\n",
       "1987.0            1250000             2\n",
       "1989.0              15000             1\n",
       "1990.0            1000000             1\n",
       "1992.0            2000000             1\n",
       "1993.0              62500             2\n",
       "1994.0            6700000             2\n",
       "1995.0            2000000             7\n",
       "1996.0              12500             7\n",
       "1997.0            3300000             9\n",
       "1998.0             100000            29\n",
       "1999.0            2000000            76\n",
       "2000.0            4200000           125\n",
       "2001.0            3000000            96\n",
       "2002.0            4200000           116\n",
       "2003.0            3000000           159\n",
       "2004.0            5000000           291\n",
       "2005.0            5500000          1633\n",
       "2006.0            5000000          2436\n",
       "2007.0            3973320          3279\n",
       "2008.0            3110000          3774\n",
       "2009.0            2000000          4151\n",
       "2010.0            1602500          6221\n",
       "2011.0            1200000          9204\n",
       "2012.0            1000000          9970\n",
       "2013.0            1200000         11072"
      ]
     },
     "execution_count": 35,
     "metadata": {},
     "output_type": "execute_result"
    }
   ],
   "source": [
    "print('\\033[1m' + 'Таблица с типичными средствами финансирования и общим количесвом раундов финансирования'  + '\\033[0m')\n",
    "pivot_raised_amount"
   ]
  },
  {
   "cell_type": "code",
   "execution_count": 36,
   "metadata": {
    "id": "HB81GTA9n04M"
   },
   "outputs": [
    {
     "data": {
      "image/png": "[encoded data removed]",
      "text/plain": [
       "<Figure size 432x288 with 1 Axes>"
      ]
     },
     "metadata": {
      "needs_background": "light"
     },
     "output_type": "display_data"
    }
   ],
   "source": [
    "# Строим линейный график\n",
    "filter_pivot_raised_amount.plot.line()\n",
    "\n",
    "# Настраиваем оси и отображаем график\n",
    "plt.grid(b=True) \n",
    "plt.title('Динамика типичного размера средств')\n",
    "plt.xlabel('Год')\n",
    "plt.ylabel('Сумма финансирования')\n",
    "plt.show()"
   ]
  },
  {
   "cell_type": "code",
   "execution_count": 37,
   "metadata": {},
   "outputs": [
    {
     "data": {
      "image/png": "[encoded data removed]",
      "text/plain": [
       "<Figure size 432x288 with 1 Axes>"
      ]
     },
     "metadata": {
      "needs_background": "light"
     },
     "output_type": "display_data"
    }
   ],
   "source": [
    "# Строим линейный график\n",
    "filter_pivot_raised_count.plot.line()\n",
    "\n",
    "# Настраиваем оси и отображаем график\n",
    "plt.grid(b=True) \n",
    "plt.title('Динамика количества раундов финансирования')\n",
    "plt.xlabel('Год')\n",
    "plt.ylabel('Сумма финансирования')\n",
    "plt.show()"
   ]
  },
  {
   "cell_type": "markdown",
   "metadata": {},
   "source": [
    "**Ответы на вопросы.**\n",
    "\n",
    "В каком году типичный размер собранных в рамках одного раунда средств был максимален?\n",
    "\n",
    " - Максимальный сбор средств в рамках одного раунда был в 2005 году\n",
    "\n",
    "Какая тенденция по количеству раундов и выделяемых в рамках каждого раунда средств наблюдалась в 2013 году?\n",
    "\n",
    "- В 2013 году после спада увеличилось количество фмнансирования и медиана по сумме финансирования\n"
   ]
  },
  {
   "cell_type": "markdown",
   "metadata": {
    "id": "45if1en1rJg2"
   },
   "source": [
    "<a id=\"Люди_образование\"></a>\n",
    "### Люди и их образование\n",
    "\n",
    "Заказчик хочет понять, зависит ли полнота сведений о сотрудниках (например, об их образовании) от размера компаний.\n",
    "\n",
    "* Оцените, насколько информация об образовании сотрудников полна. Используя датасеты `people.csv` и `education.csv`, разделите все компании на несколько групп по количеству сотрудников и оцените среднюю долю сотрудников без информации об образовании в каждой из групп. Обоснуйте выбранные границы групп.\n",
    "\n",
    "* Оцените, возможно ли для выполнения задания присоединить к этим таблицам ещё и таблицу `degrees.csv`."
   ]
  },
  {
   "cell_type": "code",
   "execution_count": 38,
   "metadata": {
    "id": "psPO7C4MrJg2"
   },
   "outputs": [
    {
     "name": "stdout",
     "output_type": "stream",
     "text": [
      "\u001b[1mОбщая статистика по кол-ву сотрудников:\u001b[0m\n"
     ]
    },
    {
     "data": {
      "text/plain": [
       "count    22922.000000\n",
       "mean         1.510121\n",
       "std          2.764321\n",
       "min          1.000000\n",
       "50%          1.000000\n",
       "60%          1.000000\n",
       "70%          1.000000\n",
       "80%          2.000000\n",
       "95%          4.000000\n",
       "99%          8.000000\n",
       "max        244.000000\n",
       "Name: id, dtype: float64"
      ]
     },
     "execution_count": 38,
     "metadata": {},
     "output_type": "execute_result"
    }
   ],
   "source": [
    "#Создаем переменную с количеством сотрудником по комнапиям\n",
    "count_people_company = people_df.groupby('company_id')['id'].count()\n",
    "\n",
    "# Посмотрим общую статистику по количеству сотрудников\n",
    "stat_count_people_company = count_people_company.describe(percentiles=[0.5, 0.6, 0.7, 0.8, 0.95, 0.99])\n",
    "print('\\033[1m' + 'Общая статистика по кол-ву сотрудников:'  + '\\033[0m')\n",
    "stat_count_people_company"
   ]
  },
  {
   "cell_type": "markdown",
   "metadata": {},
   "source": [
    "На основе данных по статистике можно компании поделить на 4 группы:\n",
    "- 1 группа (одиночный стартап): 1 сотрудник\n",
    "- 2 группа (маленькая компапия): от 2 до 4 сотрудников\n",
    "- 3 группа (средняя компания): от 5 до 8 сотрудников\n",
    "- 4 группа (большая компания): свыше 9 человек"
   ]
  },
  {
   "cell_type": "code",
   "execution_count": 39,
   "metadata": {},
   "outputs": [
    {
     "name": "stdout",
     "output_type": "stream",
     "text": [
      "\u001b[1mДатафрейм с компаниями, кол-вом сотрудников и категорией компании\u001b[0m\n"
     ]
    },
    {
     "data": {
      "text/html": [
       "<div>\n",
       "<style scoped>\n",
       "    .dataframe tbody tr th:only-of-type {\n",
       "        vertical-align: middle;\n",
       "    }\n",
       "\n",
       "    .dataframe tbody tr th {\n",
       "        vertical-align: top;\n",
       "    }\n",
       "\n",
       "    .dataframe thead th {\n",
       "        text-align: right;\n",
       "    }\n",
       "</style>\n",
       "<table border=\"1\" class=\"dataframe\">\n",
       "  <thead>\n",
       "    <tr style=\"text-align: right;\">\n",
       "      <th></th>\n",
       "      <th>company_id</th>\n",
       "      <th>count_people</th>\n",
       "      <th>group_company</th>\n",
       "    </tr>\n",
       "  </thead>\n",
       "  <tbody>\n",
       "    <tr>\n",
       "      <th>0</th>\n",
       "      <td>1.0</td>\n",
       "      <td>2</td>\n",
       "      <td>маленькая компапия</td>\n",
       "    </tr>\n",
       "    <tr>\n",
       "      <th>1</th>\n",
       "      <td>2.0</td>\n",
       "      <td>1</td>\n",
       "      <td>одиночный стартап</td>\n",
       "    </tr>\n",
       "    <tr>\n",
       "      <th>2</th>\n",
       "      <td>3.0</td>\n",
       "      <td>3</td>\n",
       "      <td>маленькая компапия</td>\n",
       "    </tr>\n",
       "    <tr>\n",
       "      <th>3</th>\n",
       "      <td>4.0</td>\n",
       "      <td>13</td>\n",
       "      <td>большая компания</td>\n",
       "    </tr>\n",
       "    <tr>\n",
       "      <th>4</th>\n",
       "      <td>5.0</td>\n",
       "      <td>61</td>\n",
       "      <td>большая компания</td>\n",
       "    </tr>\n",
       "    <tr>\n",
       "      <th>...</th>\n",
       "      <td>...</td>\n",
       "      <td>...</td>\n",
       "      <td>...</td>\n",
       "    </tr>\n",
       "    <tr>\n",
       "      <th>22917</th>\n",
       "      <td>285897.0</td>\n",
       "      <td>2</td>\n",
       "      <td>маленькая компапия</td>\n",
       "    </tr>\n",
       "    <tr>\n",
       "      <th>22918</th>\n",
       "      <td>285953.0</td>\n",
       "      <td>1</td>\n",
       "      <td>одиночный стартап</td>\n",
       "    </tr>\n",
       "    <tr>\n",
       "      <th>22919</th>\n",
       "      <td>285972.0</td>\n",
       "      <td>2</td>\n",
       "      <td>маленькая компапия</td>\n",
       "    </tr>\n",
       "    <tr>\n",
       "      <th>22920</th>\n",
       "      <td>285996.0</td>\n",
       "      <td>1</td>\n",
       "      <td>одиночный стартап</td>\n",
       "    </tr>\n",
       "    <tr>\n",
       "      <th>22921</th>\n",
       "      <td>286091.0</td>\n",
       "      <td>6</td>\n",
       "      <td>средняя компания</td>\n",
       "    </tr>\n",
       "  </tbody>\n",
       "</table>\n",
       "<p>22922 rows × 3 columns</p>\n",
       "</div>"
      ],
      "text/plain": [
       "       company_id  count_people       group_company\n",
       "0             1.0             2  маленькая компапия\n",
       "1             2.0             1   одиночный стартап\n",
       "2             3.0             3  маленькая компапия\n",
       "3             4.0            13    большая компания\n",
       "4             5.0            61    большая компания\n",
       "...           ...           ...                 ...\n",
       "22917    285897.0             2  маленькая компапия\n",
       "22918    285953.0             1   одиночный стартап\n",
       "22919    285972.0             2  маленькая компапия\n",
       "22920    285996.0             1   одиночный стартап\n",
       "22921    286091.0             6    средняя компания\n",
       "\n",
       "[22922 rows x 3 columns]"
      ]
     },
     "execution_count": 39,
     "metadata": {},
     "output_type": "execute_result"
    }
   ],
   "source": [
    "# Преобразовываем серию count_people_company в датефрем\n",
    "count_people_company_df = count_people_company.reset_index()\n",
    "count_people_company_df = count_people_company_df.rename(columns={'id': 'count_people'})\n",
    "\n",
    "\n",
    "# Функция для категоризации студентов\n",
    "def categorize_company(row):\n",
    "    if row['count_people'] >= 9:\n",
    "        return \"большая компания\"\n",
    "    elif row['count_people'] >= 5:\n",
    "        return \"средняя компания\"\n",
    "    elif row['count_people'] >= 2:\n",
    "        return \"маленькая компапия\"\n",
    "    else:\n",
    "        return \"одиночный стартап\"\n",
    "\n",
    "# Применение функции для категоризации\n",
    "count_people_company_df['group_company'] = count_people_company_df.apply(categorize_company, axis=1)\n",
    "print('\\033[1m' + 'Датафрейм с компаниями, кол-вом сотрудников и категорией компании'  + '\\033[0m')\n",
    "count_people_company_df  \n",
    "    \n"
   ]
  },
  {
   "cell_type": "code",
   "execution_count": 40,
   "metadata": {},
   "outputs": [
    {
     "data": {
      "text/html": [
       "<div>\n",
       "<style scoped>\n",
       "    .dataframe tbody tr th:only-of-type {\n",
       "        vertical-align: middle;\n",
       "    }\n",
       "\n",
       "    .dataframe tbody tr th {\n",
       "        vertical-align: top;\n",
       "    }\n",
       "\n",
       "    .dataframe thead th {\n",
       "        text-align: right;\n",
       "    }\n",
       "</style>\n",
       "<table border=\"1\" class=\"dataframe\">\n",
       "  <thead>\n",
       "    <tr style=\"text-align: right;\">\n",
       "      <th></th>\n",
       "      <th>id</th>\n",
       "      <th>first_name</th>\n",
       "      <th>last_name</th>\n",
       "      <th>company_id</th>\n",
       "      <th>network_username</th>\n",
       "      <th>count_people</th>\n",
       "      <th>group_company</th>\n",
       "      <th>id_education_records</th>\n",
       "      <th>person_id</th>\n",
       "      <th>instituition</th>\n",
       "      <th>graduated_at</th>\n",
       "    </tr>\n",
       "  </thead>\n",
       "  <tbody>\n",
       "    <tr>\n",
       "      <th>0</th>\n",
       "      <td>10</td>\n",
       "      <td>Mark</td>\n",
       "      <td>Zuckerberg</td>\n",
       "      <td>5.0</td>\n",
       "      <td>NaN</td>\n",
       "      <td>61.0</td>\n",
       "      <td>большая компания</td>\n",
       "      <td>2415.0</td>\n",
       "      <td>10.0</td>\n",
       "      <td>Harvard University</td>\n",
       "      <td>NaT</td>\n",
       "    </tr>\n",
       "    <tr>\n",
       "      <th>1</th>\n",
       "      <td>100</td>\n",
       "      <td>Peter</td>\n",
       "      <td>Lester</td>\n",
       "      <td>27.0</td>\n",
       "      <td>NaN</td>\n",
       "      <td>10.0</td>\n",
       "      <td>большая компания</td>\n",
       "      <td>NaN</td>\n",
       "      <td>NaN</td>\n",
       "      <td>NaN</td>\n",
       "      <td>NaT</td>\n",
       "    </tr>\n",
       "    <tr>\n",
       "      <th>2</th>\n",
       "      <td>1000</td>\n",
       "      <td>Dr. Steven</td>\n",
       "      <td>E. Saunders</td>\n",
       "      <td>292.0</td>\n",
       "      <td>NaN</td>\n",
       "      <td>3.0</td>\n",
       "      <td>маленькая компапия</td>\n",
       "      <td>NaN</td>\n",
       "      <td>NaN</td>\n",
       "      <td>NaN</td>\n",
       "      <td>NaT</td>\n",
       "    </tr>\n",
       "    <tr>\n",
       "      <th>3</th>\n",
       "      <td>10000</td>\n",
       "      <td>Neil</td>\n",
       "      <td>Capel</td>\n",
       "      <td>2526.0</td>\n",
       "      <td>NaN</td>\n",
       "      <td>2.0</td>\n",
       "      <td>маленькая компапия</td>\n",
       "      <td>NaN</td>\n",
       "      <td>NaN</td>\n",
       "      <td>NaN</td>\n",
       "      <td>NaT</td>\n",
       "    </tr>\n",
       "    <tr>\n",
       "      <th>4</th>\n",
       "      <td>100000</td>\n",
       "      <td>Sue</td>\n",
       "      <td>Pilsch</td>\n",
       "      <td>NaN</td>\n",
       "      <td>NaN</td>\n",
       "      <td>NaN</td>\n",
       "      <td>NaN</td>\n",
       "      <td>NaN</td>\n",
       "      <td>NaN</td>\n",
       "      <td>NaN</td>\n",
       "      <td>NaT</td>\n",
       "    </tr>\n",
       "    <tr>\n",
       "      <th>...</th>\n",
       "      <td>...</td>\n",
       "      <td>...</td>\n",
       "      <td>...</td>\n",
       "      <td>...</td>\n",
       "      <td>...</td>\n",
       "      <td>...</td>\n",
       "      <td>...</td>\n",
       "      <td>...</td>\n",
       "      <td>...</td>\n",
       "      <td>...</td>\n",
       "      <td>...</td>\n",
       "    </tr>\n",
       "    <tr>\n",
       "      <th>267689</th>\n",
       "      <td>99999</td>\n",
       "      <td>Ramon</td>\n",
       "      <td>Peypoch</td>\n",
       "      <td>NaN</td>\n",
       "      <td>NaN</td>\n",
       "      <td>NaN</td>\n",
       "      <td>NaN</td>\n",
       "      <td>NaN</td>\n",
       "      <td>NaN</td>\n",
       "      <td>NaN</td>\n",
       "      <td>NaT</td>\n",
       "    </tr>\n",
       "    <tr>\n",
       "      <th>267690</th>\n",
       "      <td>174088</td>\n",
       "      <td>Dr. Ray</td>\n",
       "      <td>Woods</td>\n",
       "      <td>188200.0</td>\n",
       "      <td>network</td>\n",
       "      <td>1.0</td>\n",
       "      <td>одиночный стартап</td>\n",
       "      <td>25958.0</td>\n",
       "      <td>174088.0</td>\n",
       "      <td>Sydney University Medical School</td>\n",
       "      <td>1982-01-01</td>\n",
       "    </tr>\n",
       "    <tr>\n",
       "      <th>267691</th>\n",
       "      <td>118386</td>\n",
       "      <td>Ricardo</td>\n",
       "      <td>Durand</td>\n",
       "      <td>143419.0</td>\n",
       "      <td>itechsocialnet</td>\n",
       "      <td>1.0</td>\n",
       "      <td>одиночный стартап</td>\n",
       "      <td>18871.0</td>\n",
       "      <td>118386.0</td>\n",
       "      <td>ESCS</td>\n",
       "      <td>2004-01-01</td>\n",
       "    </tr>\n",
       "    <tr>\n",
       "      <th>267692</th>\n",
       "      <td>175827</td>\n",
       "      <td>mahesh</td>\n",
       "      <td>kumar</td>\n",
       "      <td>NaN</td>\n",
       "      <td>socialnethubs</td>\n",
       "      <td>NaN</td>\n",
       "      <td>NaN</td>\n",
       "      <td>NaN</td>\n",
       "      <td>NaN</td>\n",
       "      <td>NaN</td>\n",
       "      <td>NaT</td>\n",
       "    </tr>\n",
       "    <tr>\n",
       "      <th>267693</th>\n",
       "      <td>178190</td>\n",
       "      <td>Alex</td>\n",
       "      <td>Smith</td>\n",
       "      <td>NaN</td>\n",
       "      <td>esocialnetlike</td>\n",
       "      <td>NaN</td>\n",
       "      <td>NaN</td>\n",
       "      <td>NaN</td>\n",
       "      <td>NaN</td>\n",
       "      <td>NaN</td>\n",
       "      <td>NaT</td>\n",
       "    </tr>\n",
       "  </tbody>\n",
       "</table>\n",
       "<p>267694 rows × 11 columns</p>\n",
       "</div>"
      ],
      "text/plain": [
       "            id  first_name    last_name  company_id network_username  \\\n",
       "0           10        Mark   Zuckerberg         5.0              NaN   \n",
       "1          100       Peter       Lester        27.0              NaN   \n",
       "2         1000  Dr. Steven  E. Saunders       292.0              NaN   \n",
       "3        10000        Neil        Capel      2526.0              NaN   \n",
       "4       100000         Sue       Pilsch         NaN              NaN   \n",
       "...        ...         ...          ...         ...              ...   \n",
       "267689   99999       Ramon      Peypoch         NaN              NaN   \n",
       "267690  174088     Dr. Ray        Woods    188200.0          network   \n",
       "267691  118386     Ricardo       Durand    143419.0   itechsocialnet   \n",
       "267692  175827      mahesh        kumar         NaN    socialnethubs   \n",
       "267693  178190        Alex        Smith         NaN   esocialnetlike   \n",
       "\n",
       "        count_people       group_company  id_education_records  person_id  \\\n",
       "0               61.0    большая компания                2415.0       10.0   \n",
       "1               10.0    большая компания                   NaN        NaN   \n",
       "2                3.0  маленькая компапия                   NaN        NaN   \n",
       "3                2.0  маленькая компапия                   NaN        NaN   \n",
       "4                NaN                 NaN                   NaN        NaN   \n",
       "...              ...                 ...                   ...        ...   \n",
       "267689           NaN                 NaN                   NaN        NaN   \n",
       "267690           1.0   одиночный стартап               25958.0   174088.0   \n",
       "267691           1.0   одиночный стартап               18871.0   118386.0   \n",
       "267692           NaN                 NaN                   NaN        NaN   \n",
       "267693           NaN                 NaN                   NaN        NaN   \n",
       "\n",
       "                            instituition graduated_at  \n",
       "0                     Harvard University          NaT  \n",
       "1                                    NaN          NaT  \n",
       "2                                    NaN          NaT  \n",
       "3                                    NaN          NaT  \n",
       "4                                    NaN          NaT  \n",
       "...                                  ...          ...  \n",
       "267689                               NaN          NaT  \n",
       "267690  Sydney University Medical School   1982-01-01  \n",
       "267691                              ESCS   2004-01-01  \n",
       "267692                               NaN          NaT  \n",
       "267693                               NaN          NaT  \n",
       "\n",
       "[267694 rows x 11 columns]"
      ]
     },
     "execution_count": 40,
     "metadata": {},
     "output_type": "execute_result"
    }
   ],
   "source": [
    "#Объеденим полученный датафрейм с people_df\n",
    "people_group_company_df = people_df.merge(count_people_company_df, how='left', on='company_id')\n",
    "\n",
    "#Переименуем столбец id в датафрейме education_df\n",
    "education_df = education_df.rename(columns={'id': 'id_education_records'})\n",
    "\n",
    "#Объеденим полученный датафрейм с education_df\n",
    "pce_df = pd.merge(people_group_company_df, education_df, how='left', left_on='id', right_on='person_id')\n",
    "pce_df"
   ]
  },
  {
   "cell_type": "code",
   "execution_count": 41,
   "metadata": {},
   "outputs": [
    {
     "name": "stdout",
     "output_type": "stream",
     "text": [
      "\u001b[1mКол-во сотрудников с информацией об образовании\u001b[0m\n"
     ]
    },
    {
     "data": {
      "text/plain": [
       "group_company\n",
       "большая компания       3257\n",
       "маленькая компапия     8091\n",
       "одиночный стартап     14911\n",
       "средняя компания       2379\n",
       "Name: id_education_records, dtype: int64"
      ]
     },
     "execution_count": 41,
     "metadata": {},
     "output_type": "execute_result"
    }
   ],
   "source": [
    "cpe = pce_df.groupby('group_company')['id_education_records'].count()\n",
    "print('\\033[1m' + 'Кол-во сотрудников с информацией об образовании'  + '\\033[0m')\n",
    "cpe"
   ]
  },
  {
   "cell_type": "code",
   "execution_count": 42,
   "metadata": {
    "id": "xdQ6H5ZSn1ZM"
   },
   "outputs": [
    {
     "name": "stdout",
     "output_type": "stream",
     "text": [
      "\u001b[1mВсего сотрудников по категориям компаний\u001b[0m\n"
     ]
    },
    {
     "data": {
      "text/plain": [
       "group_company\n",
       "большая компания      238491.0\n",
       "маленькая компапия     33900.0\n",
       "одиночный стартап      23292.0\n",
       "средняя компания       24982.0\n",
       "Name: count_people, dtype: float64"
      ]
     },
     "execution_count": 42,
     "metadata": {},
     "output_type": "execute_result"
    }
   ],
   "source": [
    "cpc = pce_df.groupby('group_company')['count_people'].sum()\n",
    "print('\\033[1m' + 'Всего сотрудников по категориям компаний'  + '\\033[0m')\n",
    "cpc"
   ]
  },
  {
   "cell_type": "code",
   "execution_count": 43,
   "metadata": {},
   "outputs": [
    {
     "name": "stdout",
     "output_type": "stream",
     "text": [
      "\u001b[1mСредняя доля (в %) сотрудников без информации об образовании в каждой из групп\u001b[0m\n"
     ]
    },
    {
     "data": {
      "text/plain": [
       "group_company\n",
       "большая компания      99.0\n",
       "маленькая компапия    76.0\n",
       "одиночный стартап     36.0\n",
       "средняя компания      90.0\n",
       "dtype: float64"
      ]
     },
     "execution_count": 43,
     "metadata": {},
     "output_type": "execute_result"
    }
   ],
   "source": [
    "percent_people_ed = round((cpc-cpe) / cpc * 100, 0)\n",
    "print('\\033[1m' + 'Средняя доля (в %) сотрудников без информации об образовании в каждой из групп'  + '\\033[0m')\n",
    "percent_people_ed"
   ]
  },
  {
   "cell_type": "markdown",
   "metadata": {},
   "source": [
    "Всего получилось в больших компаниях (численностью более 9 человек) у 99% сотрудников отсутствует информация об образовании, в средних компаниях - 90 %, с маленьких - 76%, в одиночных стартапах - 36%."
   ]
  },
  {
   "cell_type": "code",
   "execution_count": 44,
   "metadata": {},
   "outputs": [
    {
     "data": {
      "text/html": [
       "<div>\n",
       "<style scoped>\n",
       "    .dataframe tbody tr th:only-of-type {\n",
       "        vertical-align: middle;\n",
       "    }\n",
       "\n",
       "    .dataframe tbody tr th {\n",
       "        vertical-align: top;\n",
       "    }\n",
       "\n",
       "    .dataframe thead th {\n",
       "        text-align: right;\n",
       "    }\n",
       "</style>\n",
       "<table border=\"1\" class=\"dataframe\">\n",
       "  <thead>\n",
       "    <tr style=\"text-align: right;\">\n",
       "      <th></th>\n",
       "      <th>id</th>\n",
       "      <th>object_id</th>\n",
       "      <th>degree_type</th>\n",
       "      <th>subject</th>\n",
       "    </tr>\n",
       "  </thead>\n",
       "  <tbody>\n",
       "    <tr>\n",
       "      <th>0</th>\n",
       "      <td>1</td>\n",
       "      <td>p:6117</td>\n",
       "      <td>MBA</td>\n",
       "      <td>NaN</td>\n",
       "    </tr>\n",
       "    <tr>\n",
       "      <th>1</th>\n",
       "      <td>2</td>\n",
       "      <td>p:6136</td>\n",
       "      <td>BA</td>\n",
       "      <td>English, French</td>\n",
       "    </tr>\n",
       "    <tr>\n",
       "      <th>2</th>\n",
       "      <td>3</td>\n",
       "      <td>p:6136</td>\n",
       "      <td>MS</td>\n",
       "      <td>Mass Communication</td>\n",
       "    </tr>\n",
       "    <tr>\n",
       "      <th>3</th>\n",
       "      <td>4</td>\n",
       "      <td>p:6005</td>\n",
       "      <td>MS</td>\n",
       "      <td>Internet Technology</td>\n",
       "    </tr>\n",
       "    <tr>\n",
       "      <th>4</th>\n",
       "      <td>5</td>\n",
       "      <td>p:5832</td>\n",
       "      <td>BCS</td>\n",
       "      <td>Computer Science, Psychology</td>\n",
       "    </tr>\n",
       "    <tr>\n",
       "      <th>5</th>\n",
       "      <td>6</td>\n",
       "      <td>p:1017</td>\n",
       "      <td>BS</td>\n",
       "      <td>Computer Science</td>\n",
       "    </tr>\n",
       "    <tr>\n",
       "      <th>6</th>\n",
       "      <td>7</td>\n",
       "      <td>p:6176</td>\n",
       "      <td>BS</td>\n",
       "      <td>Computer Science</td>\n",
       "    </tr>\n",
       "    <tr>\n",
       "      <th>7</th>\n",
       "      <td>8</td>\n",
       "      <td>p:5412</td>\n",
       "      <td>MS</td>\n",
       "      <td>Politics</td>\n",
       "    </tr>\n",
       "    <tr>\n",
       "      <th>8</th>\n",
       "      <td>9</td>\n",
       "      <td>p:1243</td>\n",
       "      <td>BA</td>\n",
       "      <td>International Business &amp; Marketing</td>\n",
       "    </tr>\n",
       "    <tr>\n",
       "      <th>9</th>\n",
       "      <td>10</td>\n",
       "      <td>p:6265</td>\n",
       "      <td>BS</td>\n",
       "      <td>Economics</td>\n",
       "    </tr>\n",
       "  </tbody>\n",
       "</table>\n",
       "</div>"
      ],
      "text/plain": [
       "   id object_id degree_type                             subject\n",
       "0   1    p:6117         MBA                                 NaN\n",
       "1   2    p:6136          BA                     English, French\n",
       "2   3    p:6136          MS                  Mass Communication\n",
       "3   4    p:6005          MS                 Internet Technology\n",
       "4   5    p:5832         BCS        Computer Science, Psychology\n",
       "5   6    p:1017          BS                    Computer Science\n",
       "6   7    p:6176          BS                    Computer Science\n",
       "7   8    p:5412          MS                            Politics\n",
       "8   9    p:1243          BA  International Business & Marketing\n",
       "9  10    p:6265          BS                           Economics"
      ]
     },
     "execution_count": 44,
     "metadata": {},
     "output_type": "execute_result"
    }
   ],
   "source": [
    "# Посмотрим данные из degrees_df\n",
    "degrees_df.head(10)"
   ]
  },
  {
   "cell_type": "markdown",
   "metadata": {},
   "source": [
    "Присоединить датафрейм `degrees` возможно, но с предварительной обработкой колонки `object_id`. В этой колонке содержится идентификатор сотрудника, но он отличается от  идентификатора в таблицах `people` и `education` (или сразу к общему `pce_df`) наличием префикса `p:` и преобразовать к типу `int64`. После удаления префикса можно присоединить."
   ]
  },
  {
   "cell_type": "markdown",
   "metadata": {},
   "source": [
    "<a id=\"Объединять_вопрос\"></a>\n",
    "### Объединять или не объединять — вот в чём вопрос\n",
    "\n",
    "Некоторые названия столбцов встречаются в датасетах чаще других. И, например, в результате предварительной проверки датасетов было выяснено, что столбец `company_id` подходит для объединения данных, так как большая часть значений встречается в разных датасетах не один, а несколько раз. Этот столбец может быть использован для объединения данных.\n",
    "\n",
    "* Установите, подходит ли для объединения данных столбец `network_username`, который встречается в нескольких датасетах. Нам необходимо понимать, дублируется ли для разных датасетов информация в столбцах с таким названием, и если да — то насколько часто.\n",
    "\n",
    "* Оцените, можно ли использовать столбцы с именем `network_username` для объединения данных."
   ]
  },
  {
   "cell_type": "markdown",
   "metadata": {},
   "source": [
    "Данные столбец присутствует в трех датафреймах: `company_and_rounds_df`, `people_df`, `fund_df`. Уже из описания данных понятно, что в каждом датафрейме это разный столбец: в `company_and_rounds_df` - ник компании в сети, в `people_df` - ник сотрудника в социальных сетях, в `fund_df` - ник фонда в сети.\n"
   ]
  },
  {
   "cell_type": "code",
   "execution_count": 45,
   "metadata": {
    "id": "Cf5IjfOQrJg1"
   },
   "outputs": [
    {
     "name": "stdout",
     "output_type": "stream",
     "text": [
      "Уникальные значения в company_and_rounds_df ['01communique' '040hosting' '077football' ... 'zzoommedia' 'zzzzappcom'\n",
      " nan]\n",
      "Уникальные значения в people_df ['01konceptz' '03199618' '077football' ... 'zz4sheezy' 'zzdoublezz' nan]\n",
      "Уникальные значения в fund_df ['10xvp' '123Venture' '1BUSDWORLDWIDE' ... 'zionsbank' 'zylom' nan]\n"
     ]
    }
   ],
   "source": [
    "#Уникальные значения\n",
    "unique_network_username_1 = company_and_rounds_df['network_username'].sort_values().unique()\n",
    "unique_network_username_2 = people_df['network_username'].sort_values().unique()\n",
    "unique_network_username_3 = fund_df['network_username'].sort_values().unique()\n",
    "print(f'Уникальные значения в company_and_rounds_df {unique_network_username_1}')\n",
    "print(f'Уникальные значения в people_df {unique_network_username_2}')\n",
    "print(f'Уникальные значения в fund_df {unique_network_username_3}')\n"
   ]
  },
  {
   "cell_type": "markdown",
   "metadata": {},
   "source": [
    "Как видно из первых уникальных значений есть дубликаты, но при попытке объединить происходит ошибка."
   ]
  },
  {
   "cell_type": "markdown",
   "metadata": {},
   "source": [
    "Итог: по данному столбцу `network_username` объединять нельзя."
   ]
  },
  {
   "cell_type": "markdown",
   "metadata": {
    "id": "EHcODomVrJg1"
   },
   "source": [
    "<a id=\"Проблемный_датасет\"></a>\n",
    "### Проблемный датасет и причина возникновения пропусков\n",
    "\n",
    "Во время собственного анализа данных у заказчика больше всего вопросов возникло к датасету `company_and_rounds.csv`. В нём много пропусков как раз в информации о раундах, которая заказчику важна. Хотя информация об общем объёме финансирования по раундам присутствует в других датасетах, заказчик считает данные `company_and_rounds.csv` о размере средств наиболее верными.\n",
    "\n",
    "* Любым удобным способом приведите данные в вид, который позволяет проводить анализ в разрезе отдельных компаний. Можно изменять форму данных, порядок их хранения. Обратите внимание на структуру датасета, порядок и названия столбцов, проанализируйте значения.\n",
    "\n",
    "По гипотезе заказчика данные по компаниям из этой таблицы раньше хранились иначе, более удобным для исследования образом.\n",
    "\n",
    "* Максимальным образом сохраняя данные, сохранив их связность и исключив возможные возникающие при этом ошибки, подготовьте данные так, чтобы удобно было отобрать компании по параметрам и рассчитать показатели из расчёта на одну компанию."
   ]
  },
  {
   "cell_type": "code",
   "execution_count": 46,
   "metadata": {
    "id": "tJ6Sl6MKrJg1"
   },
   "outputs": [
    {
     "data": {
      "text/html": [
       "<style  type=\"text/css\" >\n",
       "#T_e0c14_row0_col0,#T_e0c14_row0_col1,#T_e0c14_row1_col0,#T_e0c14_row1_col1,#T_e0c14_row3_col0,#T_e0c14_row3_col1,#T_e0c14_row9_col0,#T_e0c14_row9_col1,#T_e0c14_row10_col0,#T_e0c14_row10_col1,#T_e0c14_row11_col0,#T_e0c14_row11_col1,#T_e0c14_row12_col0,#T_e0c14_row12_col1{\n",
       "            background-color:  #3b4cc0;\n",
       "            color:  #f1f1f1;\n",
       "            background-color:  #3b4cc0;\n",
       "            color:  #f1f1f1;\n",
       "        }#T_e0c14_row2_col0,#T_e0c14_row2_col1{\n",
       "            background-color:  #aec9fc;\n",
       "            color:  #000000;\n",
       "            background-color:  #aec9fc;\n",
       "            color:  #000000;\n",
       "        }#T_e0c14_row4_col0,#T_e0c14_row4_col1{\n",
       "            background-color:  #dddcdc;\n",
       "            color:  #000000;\n",
       "            background-color:  #dddcdc;\n",
       "            color:  #000000;\n",
       "        }#T_e0c14_row5_col0,#T_e0c14_row5_col1{\n",
       "            background-color:  #b40426;\n",
       "            color:  #f1f1f1;\n",
       "            background-color:  #b40426;\n",
       "            color:  #f1f1f1;\n",
       "        }#T_e0c14_row6_col0,#T_e0c14_row6_col1{\n",
       "            background-color:  #a9c6fd;\n",
       "            color:  #000000;\n",
       "            background-color:  #a9c6fd;\n",
       "            color:  #000000;\n",
       "        }#T_e0c14_row7_col0,#T_e0c14_row7_col1{\n",
       "            background-color:  #edd2c3;\n",
       "            color:  #000000;\n",
       "            background-color:  #edd2c3;\n",
       "            color:  #000000;\n",
       "        }#T_e0c14_row8_col0,#T_e0c14_row8_col1{\n",
       "            background-color:  #dfdbd9;\n",
       "            color:  #000000;\n",
       "            background-color:  #dfdbd9;\n",
       "            color:  #000000;\n",
       "        }#T_e0c14_row13_col0,#T_e0c14_row13_col1,#T_e0c14_row14_col0,#T_e0c14_row14_col1,#T_e0c14_row16_col0,#T_e0c14_row16_col1,#T_e0c14_row17_col0,#T_e0c14_row17_col1,#T_e0c14_row18_col0,#T_e0c14_row18_col1,#T_e0c14_row19_col0,#T_e0c14_row19_col1,#T_e0c14_row20_col0,#T_e0c14_row20_col1,#T_e0c14_row21_col0,#T_e0c14_row21_col1{\n",
       "            background-color:  #f29274;\n",
       "            color:  #000000;\n",
       "            background-color:  #f29274;\n",
       "            color:  #000000;\n",
       "        }#T_e0c14_row15_col0,#T_e0c14_row15_col1{\n",
       "            background-color:  #f29072;\n",
       "            color:  #000000;\n",
       "            background-color:  #f29072;\n",
       "            color:  #000000;\n",
       "        }</style><table id=\"T_e0c14_\" ><thead>    <tr>        <th class=\"blank level0\" ></th>        <th class=\"col_heading level0 col0\" >Кол-во пропусков</th>        <th class=\"col_heading level0 col1\" >Процент пропусков</th>    </tr></thead><tbody>\n",
       "                <tr>\n",
       "                        <th id=\"T_e0c14_level0_row0\" class=\"row_heading level0 row0\" >company_id</th>\n",
       "                        <td id=\"T_e0c14_row0_col0\" class=\"data row0 col0\" >302</td>\n",
       "                        <td id=\"T_e0c14_row0_col1\" class=\"data row0 col1\" >0.140000</td>\n",
       "            </tr>\n",
       "            <tr>\n",
       "                        <th id=\"T_e0c14_level0_row1\" class=\"row_heading level0 row1\" >name</th>\n",
       "                        <td id=\"T_e0c14_row1_col0\" class=\"data row1 col0\" >302</td>\n",
       "                        <td id=\"T_e0c14_row1_col1\" class=\"data row1 col1\" >0.140000</td>\n",
       "            </tr>\n",
       "            <tr>\n",
       "                        <th id=\"T_e0c14_level0_row2\" class=\"row_heading level0 row2\" >category_code</th>\n",
       "                        <td id=\"T_e0c14_row2_col0\" class=\"data row2 col0\" >73888</td>\n",
       "                        <td id=\"T_e0c14_row2_col1\" class=\"data row2 col1\" >33.930000</td>\n",
       "            </tr>\n",
       "            <tr>\n",
       "                        <th id=\"T_e0c14_level0_row3\" class=\"row_heading level0 row3\" >status</th>\n",
       "                        <td id=\"T_e0c14_row3_col0\" class=\"data row3 col0\" >302</td>\n",
       "                        <td id=\"T_e0c14_row3_col1\" class=\"data row3 col1\" >0.140000</td>\n",
       "            </tr>\n",
       "            <tr>\n",
       "                        <th id=\"T_e0c14_level0_row4\" class=\"row_heading level0 row4\" >founded_at</th>\n",
       "                        <td id=\"T_e0c14_row4_col0\" class=\"data row4 col0\" >107818</td>\n",
       "                        <td id=\"T_e0c14_row4_col1\" class=\"data row4 col1\" >49.510000</td>\n",
       "            </tr>\n",
       "            <tr>\n",
       "                        <th id=\"T_e0c14_level0_row5\" class=\"row_heading level0 row5\" >closed_at</th>\n",
       "                        <td id=\"T_e0c14_row5_col0\" class=\"data row5 col0\" >214325</td>\n",
       "                        <td id=\"T_e0c14_row5_col1\" class=\"data row5 col1\" >98.420000</td>\n",
       "            </tr>\n",
       "            <tr>\n",
       "                        <th id=\"T_e0c14_level0_row6\" class=\"row_heading level0 row6\" >domain</th>\n",
       "                        <td id=\"T_e0c14_row6_col0\" class=\"data row6 col0\" >70615</td>\n",
       "                        <td id=\"T_e0c14_row6_col1\" class=\"data row6 col1\" >32.430000</td>\n",
       "            </tr>\n",
       "            <tr>\n",
       "                        <th id=\"T_e0c14_level0_row7\" class=\"row_heading level0 row7\" >network_username</th>\n",
       "                        <td id=\"T_e0c14_row7_col0\" class=\"data row7 col0\" >122240</td>\n",
       "                        <td id=\"T_e0c14_row7_col1\" class=\"data row7 col1\" >56.130000</td>\n",
       "            </tr>\n",
       "            <tr>\n",
       "                        <th id=\"T_e0c14_level0_row8\" class=\"row_heading level0 row8\" >country_code</th>\n",
       "                        <td id=\"T_e0c14_row8_col0\" class=\"data row8 col0\" >109167</td>\n",
       "                        <td id=\"T_e0c14_row8_col1\" class=\"data row8 col1\" >50.130000</td>\n",
       "            </tr>\n",
       "            <tr>\n",
       "                        <th id=\"T_e0c14_level0_row9\" class=\"row_heading level0 row9\" >investment_rounds</th>\n",
       "                        <td id=\"T_e0c14_row9_col0\" class=\"data row9 col0\" >302</td>\n",
       "                        <td id=\"T_e0c14_row9_col1\" class=\"data row9 col1\" >0.140000</td>\n",
       "            </tr>\n",
       "            <tr>\n",
       "                        <th id=\"T_e0c14_level0_row10\" class=\"row_heading level0 row10\" >funding_rounds</th>\n",
       "                        <td id=\"T_e0c14_row10_col0\" class=\"data row10 col0\" >302</td>\n",
       "                        <td id=\"T_e0c14_row10_col1\" class=\"data row10 col1\" >0.140000</td>\n",
       "            </tr>\n",
       "            <tr>\n",
       "                        <th id=\"T_e0c14_level0_row11\" class=\"row_heading level0 row11\" >funding_total</th>\n",
       "                        <td id=\"T_e0c14_row11_col0\" class=\"data row11 col0\" >302</td>\n",
       "                        <td id=\"T_e0c14_row11_col1\" class=\"data row11 col1\" >0.140000</td>\n",
       "            </tr>\n",
       "            <tr>\n",
       "                        <th id=\"T_e0c14_level0_row12\" class=\"row_heading level0 row12\" >milestones</th>\n",
       "                        <td id=\"T_e0c14_row12_col0\" class=\"data row12 col0\" >302</td>\n",
       "                        <td id=\"T_e0c14_row12_col1\" class=\"data row12 col1\" >0.140000</td>\n",
       "            </tr>\n",
       "            <tr>\n",
       "                        <th id=\"T_e0c14_level0_row13\" class=\"row_heading level0 row13\" >funding_round_id</th>\n",
       "                        <td id=\"T_e0c14_row13_col0\" class=\"data row13 col0\" >164846</td>\n",
       "                        <td id=\"T_e0c14_row13_col1\" class=\"data row13 col1\" >75.700000</td>\n",
       "            </tr>\n",
       "            <tr>\n",
       "                        <th id=\"T_e0c14_level0_row14\" class=\"row_heading level0 row14\" >company_id_funding</th>\n",
       "                        <td id=\"T_e0c14_row14_col0\" class=\"data row14 col0\" >164846</td>\n",
       "                        <td id=\"T_e0c14_row14_col1\" class=\"data row14 col1\" >75.700000</td>\n",
       "            </tr>\n",
       "            <tr>\n",
       "                        <th id=\"T_e0c14_level0_row15\" class=\"row_heading level0 row15\" >funded_at</th>\n",
       "                        <td id=\"T_e0c14_row15_col0\" class=\"data row15 col0\" >165094</td>\n",
       "                        <td id=\"T_e0c14_row15_col1\" class=\"data row15 col1\" >75.810000</td>\n",
       "            </tr>\n",
       "            <tr>\n",
       "                        <th id=\"T_e0c14_level0_row16\" class=\"row_heading level0 row16\" >funding_round_type</th>\n",
       "                        <td id=\"T_e0c14_row16_col0\" class=\"data row16 col0\" >164846</td>\n",
       "                        <td id=\"T_e0c14_row16_col1\" class=\"data row16 col1\" >75.700000</td>\n",
       "            </tr>\n",
       "            <tr>\n",
       "                        <th id=\"T_e0c14_level0_row17\" class=\"row_heading level0 row17\" >raised_amount</th>\n",
       "                        <td id=\"T_e0c14_row17_col0\" class=\"data row17 col0\" >164846</td>\n",
       "                        <td id=\"T_e0c14_row17_col1\" class=\"data row17 col1\" >75.700000</td>\n",
       "            </tr>\n",
       "            <tr>\n",
       "                        <th id=\"T_e0c14_level0_row18\" class=\"row_heading level0 row18\" >pre_money_valuation</th>\n",
       "                        <td id=\"T_e0c14_row18_col0\" class=\"data row18 col0\" >164846</td>\n",
       "                        <td id=\"T_e0c14_row18_col1\" class=\"data row18 col1\" >75.700000</td>\n",
       "            </tr>\n",
       "            <tr>\n",
       "                        <th id=\"T_e0c14_level0_row19\" class=\"row_heading level0 row19\" >participants</th>\n",
       "                        <td id=\"T_e0c14_row19_col0\" class=\"data row19 col0\" >164846</td>\n",
       "                        <td id=\"T_e0c14_row19_col1\" class=\"data row19 col1\" >75.700000</td>\n",
       "            </tr>\n",
       "            <tr>\n",
       "                        <th id=\"T_e0c14_level0_row20\" class=\"row_heading level0 row20\" >is_first_round</th>\n",
       "                        <td id=\"T_e0c14_row20_col0\" class=\"data row20 col0\" >164846</td>\n",
       "                        <td id=\"T_e0c14_row20_col1\" class=\"data row20 col1\" >75.700000</td>\n",
       "            </tr>\n",
       "            <tr>\n",
       "                        <th id=\"T_e0c14_level0_row21\" class=\"row_heading level0 row21\" >is_last_round</th>\n",
       "                        <td id=\"T_e0c14_row21_col0\" class=\"data row21 col0\" >164846</td>\n",
       "                        <td id=\"T_e0c14_row21_col1\" class=\"data row21 col1\" >75.700000</td>\n",
       "            </tr>\n",
       "    </tbody></table>"
      ],
      "text/plain": [
       "<pandas.io.formats.style.Styler at 0x7f879f4ef130>"
      ]
     },
     "execution_count": 46,
     "metadata": {},
     "output_type": "execute_result"
    }
   ],
   "source": [
    "# Выведем еще раз информацию с пропусками в company_and_rounds.csv\n",
    "pass_company_and_rounds_df"
   ]
  },
  {
   "cell_type": "markdown",
   "metadata": {},
   "source": [
    "В столбцах начиная с `funding_round_id` почти одинаковое кол-во пропусков. Соответственно можно сделать вывод, что именно эти столбцы были из другого датафрейма с раундами финансирования. Разделим `company_and_rounds_df` на 2 отдельных датафрейма `company_df` и  `rounds_df`."
   ]
  },
  {
   "cell_type": "code",
   "execution_count": 47,
   "metadata": {
    "id": "SFfUmzron0Tc"
   },
   "outputs": [],
   "source": [
    "# Создадим отдельный датафрейм с компаниями\n",
    "company_df = company_and_rounds_df[['company_id', 'name', 'category_code', 'status',\n",
    "                                    'founded_at', 'closed_at', 'domain', \n",
    "                                   'network_username', 'country_code', 'investment_rounds',\n",
    "                                    'funding_rounds', 'funding_total', 'milestones']]\n",
    "# Создадим отдельный датафрейм с раундами финансирования\n",
    "rounds_df = company_and_rounds_df[['funding_round_id', 'company_id_funding', 'funded_at',\n",
    "                                  'funding_round_type', 'raised_amount', 'pre_money_valuation',\n",
    "                                  'participants', 'is_first_round', 'is_last_round']]\n",
    "# Создадим копию датафреймов\n",
    "company_df_copy = company_df\n",
    "rounds_df_copy = rounds_df"
   ]
  },
  {
   "cell_type": "markdown",
   "metadata": {},
   "source": [
    "Сначала проанализируем и преобразуем в корректный вид датафрейм `company_df`, удалим дубликаты, которые появились за счет раундов финансирования."
   ]
  },
  {
   "cell_type": "code",
   "execution_count": 48,
   "metadata": {},
   "outputs": [],
   "source": [
    "# Удалим дубликаты\n",
    "company_df = company_df.drop_duplicates().reset_index()\n",
    "del company_df['index']"
   ]
  },
  {
   "cell_type": "code",
   "execution_count": 49,
   "metadata": {},
   "outputs": [
    {
     "data": {
      "text/plain": [
       "1"
      ]
     },
     "execution_count": 49,
     "metadata": {},
     "output_type": "execute_result"
    }
   ],
   "source": [
    "# Проверим кол-во пропусков в company_id \n",
    "company_df['company_id'].isna().sum()"
   ]
  },
  {
   "cell_type": "code",
   "execution_count": 50,
   "metadata": {},
   "outputs": [],
   "source": [
    "# Удалим пропуск в company_id\n",
    "company_df = company_df.dropna(subset=['company_id'])"
   ]
  },
  {
   "cell_type": "code",
   "execution_count": 51,
   "metadata": {
    "scrolled": true
   },
   "outputs": [
    {
     "name": "stdout",
     "output_type": "stream",
     "text": [
      "\u001b[1mКоличество пропусков в company_df\u001b[0m\n"
     ]
    },
    {
     "data": {
      "text/html": [
       "<style  type=\"text/css\" >\n",
       "#T_79c3a_row0_col0,#T_79c3a_row0_col1,#T_79c3a_row1_col0,#T_79c3a_row1_col1,#T_79c3a_row3_col0,#T_79c3a_row3_col1,#T_79c3a_row9_col0,#T_79c3a_row9_col1,#T_79c3a_row10_col0,#T_79c3a_row10_col1,#T_79c3a_row11_col0,#T_79c3a_row11_col1,#T_79c3a_row12_col0,#T_79c3a_row12_col1{\n",
       "            background-color:  #3b4cc0;\n",
       "            color:  #f1f1f1;\n",
       "        }#T_79c3a_row2_col0,#T_79c3a_row2_col1{\n",
       "            background-color:  #b9d0f9;\n",
       "            color:  #000000;\n",
       "        }#T_79c3a_row4_col0,#T_79c3a_row4_col1{\n",
       "            background-color:  #e8d6cc;\n",
       "            color:  #000000;\n",
       "        }#T_79c3a_row5_col0,#T_79c3a_row5_col1{\n",
       "            background-color:  #b40426;\n",
       "            color:  #f1f1f1;\n",
       "        }#T_79c3a_row6_col0,#T_79c3a_row6_col1{\n",
       "            background-color:  #b3cdfb;\n",
       "            color:  #000000;\n",
       "        }#T_79c3a_row7_col0,#T_79c3a_row7_col1{\n",
       "            background-color:  #f2cbb7;\n",
       "            color:  #000000;\n",
       "        }#T_79c3a_row8_col0,#T_79c3a_row8_col1{\n",
       "            background-color:  #ebd3c6;\n",
       "            color:  #000000;\n",
       "        }</style><table id=\"T_79c3a_\" ><thead>    <tr>        <th class=\"blank level0\" ></th>        <th class=\"col_heading level0 col0\" >Кол-во пропусков</th>        <th class=\"col_heading level0 col1\" >Процент пропусков</th>    </tr></thead><tbody>\n",
       "                <tr>\n",
       "                        <th id=\"T_79c3a_level0_row0\" class=\"row_heading level0 row0\" >company_id</th>\n",
       "                        <td id=\"T_79c3a_row0_col0\" class=\"data row0 col0\" >0</td>\n",
       "                        <td id=\"T_79c3a_row0_col1\" class=\"data row0 col1\" >0.000000</td>\n",
       "            </tr>\n",
       "            <tr>\n",
       "                        <th id=\"T_79c3a_level0_row1\" class=\"row_heading level0 row1\" >name</th>\n",
       "                        <td id=\"T_79c3a_row1_col0\" class=\"data row1 col0\" >0</td>\n",
       "                        <td id=\"T_79c3a_row1_col1\" class=\"data row1 col1\" >0.000000</td>\n",
       "            </tr>\n",
       "            <tr>\n",
       "                        <th id=\"T_79c3a_level0_row2\" class=\"row_heading level0 row2\" >category_code</th>\n",
       "                        <td id=\"T_79c3a_row2_col0\" class=\"data row2 col0\" >73367</td>\n",
       "                        <td id=\"T_79c3a_row2_col1\" class=\"data row2 col1\" >37.330000</td>\n",
       "            </tr>\n",
       "            <tr>\n",
       "                        <th id=\"T_79c3a_level0_row3\" class=\"row_heading level0 row3\" >status</th>\n",
       "                        <td id=\"T_79c3a_row3_col0\" class=\"data row3 col0\" >0</td>\n",
       "                        <td id=\"T_79c3a_row3_col1\" class=\"data row3 col1\" >0.000000</td>\n",
       "            </tr>\n",
       "            <tr>\n",
       "                        <th id=\"T_79c3a_level0_row4\" class=\"row_heading level0 row4\" >founded_at</th>\n",
       "                        <td id=\"T_79c3a_row4_col0\" class=\"data row4 col0\" >105326</td>\n",
       "                        <td id=\"T_79c3a_row4_col1\" class=\"data row4 col1\" >53.590000</td>\n",
       "            </tr>\n",
       "            <tr>\n",
       "                        <th id=\"T_79c3a_level0_row5\" class=\"row_heading level0 row5\" >closed_at</th>\n",
       "                        <td id=\"T_79c3a_row5_col0\" class=\"data row5 col0\" >193933</td>\n",
       "                        <td id=\"T_79c3a_row5_col1\" class=\"data row5 col1\" >98.670000</td>\n",
       "            </tr>\n",
       "            <tr>\n",
       "                        <th id=\"T_79c3a_level0_row6\" class=\"row_heading level0 row6\" >domain</th>\n",
       "                        <td id=\"T_79c3a_row6_col0\" class=\"data row6 col0\" >70008</td>\n",
       "                        <td id=\"T_79c3a_row6_col1\" class=\"data row6 col1\" >35.620000</td>\n",
       "            </tr>\n",
       "            <tr>\n",
       "                        <th id=\"T_79c3a_level0_row7\" class=\"row_heading level0 row7\" >network_username</th>\n",
       "                        <td id=\"T_79c3a_row7_col0\" class=\"data row7 col0\" >115962</td>\n",
       "                        <td id=\"T_79c3a_row7_col1\" class=\"data row7 col1\" >59.000000</td>\n",
       "            </tr>\n",
       "            <tr>\n",
       "                        <th id=\"T_79c3a_level0_row8\" class=\"row_heading level0 row8\" >country_code</th>\n",
       "                        <td id=\"T_79c3a_row8_col0\" class=\"data row8 col0\" >108563</td>\n",
       "                        <td id=\"T_79c3a_row8_col1\" class=\"data row8 col1\" >55.230000</td>\n",
       "            </tr>\n",
       "            <tr>\n",
       "                        <th id=\"T_79c3a_level0_row9\" class=\"row_heading level0 row9\" >investment_rounds</th>\n",
       "                        <td id=\"T_79c3a_row9_col0\" class=\"data row9 col0\" >0</td>\n",
       "                        <td id=\"T_79c3a_row9_col1\" class=\"data row9 col1\" >0.000000</td>\n",
       "            </tr>\n",
       "            <tr>\n",
       "                        <th id=\"T_79c3a_level0_row10\" class=\"row_heading level0 row10\" >funding_rounds</th>\n",
       "                        <td id=\"T_79c3a_row10_col0\" class=\"data row10 col0\" >0</td>\n",
       "                        <td id=\"T_79c3a_row10_col1\" class=\"data row10 col1\" >0.000000</td>\n",
       "            </tr>\n",
       "            <tr>\n",
       "                        <th id=\"T_79c3a_level0_row11\" class=\"row_heading level0 row11\" >funding_total</th>\n",
       "                        <td id=\"T_79c3a_row11_col0\" class=\"data row11 col0\" >0</td>\n",
       "                        <td id=\"T_79c3a_row11_col1\" class=\"data row11 col1\" >0.000000</td>\n",
       "            </tr>\n",
       "            <tr>\n",
       "                        <th id=\"T_79c3a_level0_row12\" class=\"row_heading level0 row12\" >milestones</th>\n",
       "                        <td id=\"T_79c3a_row12_col0\" class=\"data row12 col0\" >0</td>\n",
       "                        <td id=\"T_79c3a_row12_col1\" class=\"data row12 col1\" >0.000000</td>\n",
       "            </tr>\n",
       "    </tbody></table>"
      ],
      "text/plain": [
       "<pandas.io.formats.style.Styler at 0x7f879f336550>"
      ]
     },
     "execution_count": 51,
     "metadata": {},
     "output_type": "execute_result"
    }
   ],
   "source": [
    "print('\\033[1m' + 'Количество пропусков в company_df' + '\\033[0m')\n",
    "#создаем датафрейм с пропусками\n",
    "pass_company_df = (pd.DataFrame({\n",
    "    'Кол-во пропусков': company_df.isna().sum(),\n",
    "    'Процент пропусков': round(((company_df.isna().sum() / company_df.shape[0])*100),2)\n",
    "})).style.background_gradient(cmap='coolwarm')\n",
    "pass_company_df"
   ]
  },
  {
   "cell_type": "code",
   "execution_count": 52,
   "metadata": {},
   "outputs": [],
   "source": [
    "# Оптимизируем целочисленный тип данных в датафрейме\n",
    "for column in ['company_id', 'milestones', 'investment_rounds', 'funding_rounds']:\n",
    "    company_df[column] = pd.to_numeric(company_df[column],\n",
    "                                    downcast='integer')"
   ]
  },
  {
   "cell_type": "code",
   "execution_count": 53,
   "metadata": {},
   "outputs": [
    {
     "name": "stdout",
     "output_type": "stream",
     "text": [
      "<class 'pandas.core.frame.DataFrame'>\n",
      "Int64Index: 196553 entries, 0 to 196552\n",
      "Data columns (total 13 columns):\n",
      " #   Column             Non-Null Count   Dtype         \n",
      "---  ------             --------------   -----         \n",
      " 0   company_id         196553 non-null  int32         \n",
      " 1   name               196553 non-null  object        \n",
      " 2   category_code      123186 non-null  object        \n",
      " 3   status             196553 non-null  object        \n",
      " 4   founded_at         91227 non-null   datetime64[ns]\n",
      " 5   closed_at          2620 non-null    datetime64[ns]\n",
      " 6   domain             126545 non-null  object        \n",
      " 7   network_username   80591 non-null   object        \n",
      " 8   country_code       87990 non-null   object        \n",
      " 9   investment_rounds  196553 non-null  int16         \n",
      " 10  funding_rounds     196553 non-null  int8          \n",
      " 11  funding_total      196553 non-null  float64       \n",
      " 12  milestones         196553 non-null  int8          \n",
      "dtypes: datetime64[ns](2), float64(1), int16(1), int32(1), int8(2), object(6)\n",
      "memory usage: 16.5+ MB\n"
     ]
    }
   ],
   "source": [
    "#Информация по датафрейму\n",
    "company_df.info()"
   ]
  },
  {
   "cell_type": "code",
   "execution_count": 54,
   "metadata": {},
   "outputs": [
    {
     "data": {
      "text/html": [
       "<div>\n",
       "<style scoped>\n",
       "    .dataframe tbody tr th:only-of-type {\n",
       "        vertical-align: middle;\n",
       "    }\n",
       "\n",
       "    .dataframe tbody tr th {\n",
       "        vertical-align: top;\n",
       "    }\n",
       "\n",
       "    .dataframe thead th {\n",
       "        text-align: right;\n",
       "    }\n",
       "</style>\n",
       "<table border=\"1\" class=\"dataframe\">\n",
       "  <thead>\n",
       "    <tr style=\"text-align: right;\">\n",
       "      <th></th>\n",
       "      <th>company_id</th>\n",
       "      <th>name</th>\n",
       "      <th>category_code</th>\n",
       "      <th>status</th>\n",
       "      <th>founded_at</th>\n",
       "      <th>closed_at</th>\n",
       "      <th>domain</th>\n",
       "      <th>network_username</th>\n",
       "      <th>country_code</th>\n",
       "      <th>investment_rounds</th>\n",
       "      <th>funding_rounds</th>\n",
       "      <th>funding_total</th>\n",
       "      <th>milestones</th>\n",
       "    </tr>\n",
       "  </thead>\n",
       "  <tbody>\n",
       "    <tr>\n",
       "      <th>0</th>\n",
       "      <td>1</td>\n",
       "      <td>Wetpaint</td>\n",
       "      <td>web</td>\n",
       "      <td>operating</td>\n",
       "      <td>2005-10-17</td>\n",
       "      <td>NaT</td>\n",
       "      <td>wetpaint-inc.com</td>\n",
       "      <td>BachelrWetpaint</td>\n",
       "      <td>USA</td>\n",
       "      <td>0</td>\n",
       "      <td>3</td>\n",
       "      <td>39750000.0</td>\n",
       "      <td>5</td>\n",
       "    </tr>\n",
       "    <tr>\n",
       "      <th>1</th>\n",
       "      <td>10</td>\n",
       "      <td>Flektor</td>\n",
       "      <td>games_video</td>\n",
       "      <td>acquired</td>\n",
       "      <td>NaT</td>\n",
       "      <td>NaT</td>\n",
       "      <td>flektor.com</td>\n",
       "      <td>NaN</td>\n",
       "      <td>USA</td>\n",
       "      <td>0</td>\n",
       "      <td>0</td>\n",
       "      <td>0.0</td>\n",
       "      <td>0</td>\n",
       "    </tr>\n",
       "    <tr>\n",
       "      <th>2</th>\n",
       "      <td>100</td>\n",
       "      <td>There</td>\n",
       "      <td>games_video</td>\n",
       "      <td>acquired</td>\n",
       "      <td>NaT</td>\n",
       "      <td>NaT</td>\n",
       "      <td>there.com</td>\n",
       "      <td>NaN</td>\n",
       "      <td>USA</td>\n",
       "      <td>0</td>\n",
       "      <td>0</td>\n",
       "      <td>0.0</td>\n",
       "      <td>4</td>\n",
       "    </tr>\n",
       "    <tr>\n",
       "      <th>3</th>\n",
       "      <td>10000</td>\n",
       "      <td>MYWEBBO</td>\n",
       "      <td>network_hosting</td>\n",
       "      <td>operating</td>\n",
       "      <td>2008-07-26</td>\n",
       "      <td>NaT</td>\n",
       "      <td>mywebbo.com</td>\n",
       "      <td>NaN</td>\n",
       "      <td>NaN</td>\n",
       "      <td>0</td>\n",
       "      <td>0</td>\n",
       "      <td>0.0</td>\n",
       "      <td>0</td>\n",
       "    </tr>\n",
       "    <tr>\n",
       "      <th>4</th>\n",
       "      <td>10001</td>\n",
       "      <td>THE Movie Streamer</td>\n",
       "      <td>games_video</td>\n",
       "      <td>operating</td>\n",
       "      <td>2008-07-26</td>\n",
       "      <td>NaT</td>\n",
       "      <td>themoviestreamer.com</td>\n",
       "      <td>NaN</td>\n",
       "      <td>NaN</td>\n",
       "      <td>0</td>\n",
       "      <td>0</td>\n",
       "      <td>0.0</td>\n",
       "      <td>0</td>\n",
       "    </tr>\n",
       "    <tr>\n",
       "      <th>...</th>\n",
       "      <td>...</td>\n",
       "      <td>...</td>\n",
       "      <td>...</td>\n",
       "      <td>...</td>\n",
       "      <td>...</td>\n",
       "      <td>...</td>\n",
       "      <td>...</td>\n",
       "      <td>...</td>\n",
       "      <td>...</td>\n",
       "      <td>...</td>\n",
       "      <td>...</td>\n",
       "      <td>...</td>\n",
       "      <td>...</td>\n",
       "    </tr>\n",
       "    <tr>\n",
       "      <th>196548</th>\n",
       "      <td>183352</td>\n",
       "      <td>Mattress Source</td>\n",
       "      <td>NaN</td>\n",
       "      <td>operating</td>\n",
       "      <td>NaT</td>\n",
       "      <td>NaT</td>\n",
       "      <td>mattresssourcestl.com</td>\n",
       "      <td>network</td>\n",
       "      <td>NaN</td>\n",
       "      <td>0</td>\n",
       "      <td>0</td>\n",
       "      <td>0.0</td>\n",
       "      <td>0</td>\n",
       "    </tr>\n",
       "    <tr>\n",
       "      <th>196549</th>\n",
       "      <td>3429</td>\n",
       "      <td>Zend Technologies</td>\n",
       "      <td>software</td>\n",
       "      <td>operating</td>\n",
       "      <td>1999-01-01</td>\n",
       "      <td>NaT</td>\n",
       "      <td>zend.com</td>\n",
       "      <td>networkzend</td>\n",
       "      <td>USA</td>\n",
       "      <td>0</td>\n",
       "      <td>4</td>\n",
       "      <td>44000000.0</td>\n",
       "      <td>6</td>\n",
       "    </tr>\n",
       "    <tr>\n",
       "      <th>196550</th>\n",
       "      <td>7748</td>\n",
       "      <td>Flowgram</td>\n",
       "      <td>web</td>\n",
       "      <td>closed</td>\n",
       "      <td>2007-06-01</td>\n",
       "      <td>2008-06-11</td>\n",
       "      <td>flowgram.com</td>\n",
       "      <td>network</td>\n",
       "      <td>USA</td>\n",
       "      <td>0</td>\n",
       "      <td>1</td>\n",
       "      <td>1300000.0</td>\n",
       "      <td>3</td>\n",
       "    </tr>\n",
       "    <tr>\n",
       "      <th>196551</th>\n",
       "      <td>174536</td>\n",
       "      <td>Pphotonet</td>\n",
       "      <td>games_video</td>\n",
       "      <td>operating</td>\n",
       "      <td>2012-05-01</td>\n",
       "      <td>NaT</td>\n",
       "      <td>pPhotonet.co</td>\n",
       "      <td>pPhotonet</td>\n",
       "      <td>NaN</td>\n",
       "      <td>0</td>\n",
       "      <td>0</td>\n",
       "      <td>0.0</td>\n",
       "      <td>0</td>\n",
       "    </tr>\n",
       "    <tr>\n",
       "      <th>196552</th>\n",
       "      <td>43233</td>\n",
       "      <td>Photonet</td>\n",
       "      <td>photo_video</td>\n",
       "      <td>acquired</td>\n",
       "      <td>2010-03-01</td>\n",
       "      <td>NaT</td>\n",
       "      <td>Photonet.com</td>\n",
       "      <td>Photonet</td>\n",
       "      <td>USA</td>\n",
       "      <td>0</td>\n",
       "      <td>3</td>\n",
       "      <td>57500000.0</td>\n",
       "      <td>3</td>\n",
       "    </tr>\n",
       "  </tbody>\n",
       "</table>\n",
       "<p>196553 rows × 13 columns</p>\n",
       "</div>"
      ],
      "text/plain": [
       "        company_id                name    category_code     status founded_at  \\\n",
       "0                1            Wetpaint              web  operating 2005-10-17   \n",
       "1               10             Flektor      games_video   acquired        NaT   \n",
       "2              100               There      games_video   acquired        NaT   \n",
       "3            10000             MYWEBBO  network_hosting  operating 2008-07-26   \n",
       "4            10001  THE Movie Streamer      games_video  operating 2008-07-26   \n",
       "...            ...                 ...              ...        ...        ...   \n",
       "196548      183352     Mattress Source              NaN  operating        NaT   \n",
       "196549        3429   Zend Technologies         software  operating 1999-01-01   \n",
       "196550        7748            Flowgram              web     closed 2007-06-01   \n",
       "196551      174536           Pphotonet      games_video  operating 2012-05-01   \n",
       "196552       43233            Photonet      photo_video   acquired 2010-03-01   \n",
       "\n",
       "        closed_at                 domain network_username country_code  \\\n",
       "0             NaT       wetpaint-inc.com  BachelrWetpaint          USA   \n",
       "1             NaT            flektor.com              NaN          USA   \n",
       "2             NaT              there.com              NaN          USA   \n",
       "3             NaT            mywebbo.com              NaN          NaN   \n",
       "4             NaT   themoviestreamer.com              NaN          NaN   \n",
       "...           ...                    ...              ...          ...   \n",
       "196548        NaT  mattresssourcestl.com          network          NaN   \n",
       "196549        NaT               zend.com      networkzend          USA   \n",
       "196550 2008-06-11           flowgram.com          network          USA   \n",
       "196551        NaT           pPhotonet.co        pPhotonet          NaN   \n",
       "196552        NaT           Photonet.com         Photonet          USA   \n",
       "\n",
       "        investment_rounds  funding_rounds  funding_total  milestones  \n",
       "0                       0               3     39750000.0           5  \n",
       "1                       0               0            0.0           0  \n",
       "2                       0               0            0.0           4  \n",
       "3                       0               0            0.0           0  \n",
       "4                       0               0            0.0           0  \n",
       "...                   ...             ...            ...         ...  \n",
       "196548                  0               0            0.0           0  \n",
       "196549                  0               4     44000000.0           6  \n",
       "196550                  0               1      1300000.0           3  \n",
       "196551                  0               0            0.0           0  \n",
       "196552                  0               3     57500000.0           3  \n",
       "\n",
       "[196553 rows x 13 columns]"
      ]
     },
     "execution_count": 54,
     "metadata": {},
     "output_type": "execute_result"
    }
   ],
   "source": [
    "#Выведем первые строки\n",
    "company_df"
   ]
  },
  {
   "cell_type": "markdown",
   "metadata": {},
   "source": [
    "Проанализируем и преобразуем в корректный вид датафрейм `rounds_df`"
   ]
  },
  {
   "cell_type": "code",
   "execution_count": 55,
   "metadata": {},
   "outputs": [
    {
     "data": {
      "text/html": [
       "<div>\n",
       "<style scoped>\n",
       "    .dataframe tbody tr th:only-of-type {\n",
       "        vertical-align: middle;\n",
       "    }\n",
       "\n",
       "    .dataframe tbody tr th {\n",
       "        vertical-align: top;\n",
       "    }\n",
       "\n",
       "    .dataframe thead th {\n",
       "        text-align: right;\n",
       "    }\n",
       "</style>\n",
       "<table border=\"1\" class=\"dataframe\">\n",
       "  <thead>\n",
       "    <tr style=\"text-align: right;\">\n",
       "      <th></th>\n",
       "      <th>funding_round_id</th>\n",
       "      <th>company_id_funding</th>\n",
       "      <th>funded_at</th>\n",
       "      <th>funding_round_type</th>\n",
       "      <th>raised_amount</th>\n",
       "      <th>pre_money_valuation</th>\n",
       "      <th>participants</th>\n",
       "      <th>is_first_round</th>\n",
       "      <th>is_last_round</th>\n",
       "    </tr>\n",
       "  </thead>\n",
       "  <tbody>\n",
       "    <tr>\n",
       "      <th>0</th>\n",
       "      <td>888.0</td>\n",
       "      <td>1.0</td>\n",
       "      <td>2005-10-01</td>\n",
       "      <td>series-a</td>\n",
       "      <td>5250000.0</td>\n",
       "      <td>0.0</td>\n",
       "      <td>2.0</td>\n",
       "      <td>0.0</td>\n",
       "      <td>1.0</td>\n",
       "    </tr>\n",
       "    <tr>\n",
       "      <th>1</th>\n",
       "      <td>889.0</td>\n",
       "      <td>1.0</td>\n",
       "      <td>2007-01-01</td>\n",
       "      <td>series-b</td>\n",
       "      <td>9500000.0</td>\n",
       "      <td>0.0</td>\n",
       "      <td>3.0</td>\n",
       "      <td>0.0</td>\n",
       "      <td>0.0</td>\n",
       "    </tr>\n",
       "    <tr>\n",
       "      <th>2</th>\n",
       "      <td>2312.0</td>\n",
       "      <td>1.0</td>\n",
       "      <td>2008-05-19</td>\n",
       "      <td>series-c+</td>\n",
       "      <td>25000000.0</td>\n",
       "      <td>0.0</td>\n",
       "      <td>4.0</td>\n",
       "      <td>1.0</td>\n",
       "      <td>0.0</td>\n",
       "    </tr>\n",
       "    <tr>\n",
       "      <th>3</th>\n",
       "      <td>NaN</td>\n",
       "      <td>NaN</td>\n",
       "      <td>NaT</td>\n",
       "      <td>NaN</td>\n",
       "      <td>NaN</td>\n",
       "      <td>NaN</td>\n",
       "      <td>NaN</td>\n",
       "      <td>NaN</td>\n",
       "      <td>NaN</td>\n",
       "    </tr>\n",
       "    <tr>\n",
       "      <th>4</th>\n",
       "      <td>NaN</td>\n",
       "      <td>NaN</td>\n",
       "      <td>NaT</td>\n",
       "      <td>NaN</td>\n",
       "      <td>NaN</td>\n",
       "      <td>NaN</td>\n",
       "      <td>NaN</td>\n",
       "      <td>NaN</td>\n",
       "      <td>NaN</td>\n",
       "    </tr>\n",
       "    <tr>\n",
       "      <th>...</th>\n",
       "      <td>...</td>\n",
       "      <td>...</td>\n",
       "      <td>...</td>\n",
       "      <td>...</td>\n",
       "      <td>...</td>\n",
       "      <td>...</td>\n",
       "      <td>...</td>\n",
       "      <td>...</td>\n",
       "      <td>...</td>\n",
       "    </tr>\n",
       "    <tr>\n",
       "      <th>217769</th>\n",
       "      <td>56454.0</td>\n",
       "      <td>282847.0</td>\n",
       "      <td>2011-01-31</td>\n",
       "      <td>other</td>\n",
       "      <td>5500000.0</td>\n",
       "      <td>0.0</td>\n",
       "      <td>0.0</td>\n",
       "      <td>1.0</td>\n",
       "      <td>1.0</td>\n",
       "    </tr>\n",
       "    <tr>\n",
       "      <th>217770</th>\n",
       "      <td>56542.0</td>\n",
       "      <td>55477.0</td>\n",
       "      <td>2011-01-13</td>\n",
       "      <td>venture</td>\n",
       "      <td>10633300.0</td>\n",
       "      <td>0.0</td>\n",
       "      <td>0.0</td>\n",
       "      <td>0.0</td>\n",
       "      <td>1.0</td>\n",
       "    </tr>\n",
       "    <tr>\n",
       "      <th>217771</th>\n",
       "      <td>56543.0</td>\n",
       "      <td>55477.0</td>\n",
       "      <td>2012-05-31</td>\n",
       "      <td>venture</td>\n",
       "      <td>2125720.0</td>\n",
       "      <td>0.0</td>\n",
       "      <td>0.0</td>\n",
       "      <td>1.0</td>\n",
       "      <td>0.0</td>\n",
       "    </tr>\n",
       "    <tr>\n",
       "      <th>217772</th>\n",
       "      <td>56928.0</td>\n",
       "      <td>283492.0</td>\n",
       "      <td>2013-12-03</td>\n",
       "      <td>venture</td>\n",
       "      <td>3602480.0</td>\n",
       "      <td>0.0</td>\n",
       "      <td>5.0</td>\n",
       "      <td>1.0</td>\n",
       "      <td>1.0</td>\n",
       "    </tr>\n",
       "    <tr>\n",
       "      <th>217773</th>\n",
       "      <td>57063.0</td>\n",
       "      <td>284191.0</td>\n",
       "      <td>2013-12-04</td>\n",
       "      <td>venture</td>\n",
       "      <td>7000000.0</td>\n",
       "      <td>0.0</td>\n",
       "      <td>4.0</td>\n",
       "      <td>1.0</td>\n",
       "      <td>1.0</td>\n",
       "    </tr>\n",
       "  </tbody>\n",
       "</table>\n",
       "<p>217774 rows × 9 columns</p>\n",
       "</div>"
      ],
      "text/plain": [
       "        funding_round_id  company_id_funding  funded_at funding_round_type  \\\n",
       "0                  888.0                 1.0 2005-10-01           series-a   \n",
       "1                  889.0                 1.0 2007-01-01           series-b   \n",
       "2                 2312.0                 1.0 2008-05-19          series-c+   \n",
       "3                    NaN                 NaN        NaT                NaN   \n",
       "4                    NaN                 NaN        NaT                NaN   \n",
       "...                  ...                 ...        ...                ...   \n",
       "217769           56454.0            282847.0 2011-01-31              other   \n",
       "217770           56542.0             55477.0 2011-01-13            venture   \n",
       "217771           56543.0             55477.0 2012-05-31            venture   \n",
       "217772           56928.0            283492.0 2013-12-03            venture   \n",
       "217773           57063.0            284191.0 2013-12-04            venture   \n",
       "\n",
       "        raised_amount  pre_money_valuation  participants  is_first_round  \\\n",
       "0           5250000.0                  0.0           2.0             0.0   \n",
       "1           9500000.0                  0.0           3.0             0.0   \n",
       "2          25000000.0                  0.0           4.0             1.0   \n",
       "3                 NaN                  NaN           NaN             NaN   \n",
       "4                 NaN                  NaN           NaN             NaN   \n",
       "...               ...                  ...           ...             ...   \n",
       "217769      5500000.0                  0.0           0.0             1.0   \n",
       "217770     10633300.0                  0.0           0.0             0.0   \n",
       "217771      2125720.0                  0.0           0.0             1.0   \n",
       "217772      3602480.0                  0.0           5.0             1.0   \n",
       "217773      7000000.0                  0.0           4.0             1.0   \n",
       "\n",
       "        is_last_round  \n",
       "0                 1.0  \n",
       "1                 0.0  \n",
       "2                 0.0  \n",
       "3                 NaN  \n",
       "4                 NaN  \n",
       "...               ...  \n",
       "217769            1.0  \n",
       "217770            1.0  \n",
       "217771            0.0  \n",
       "217772            1.0  \n",
       "217773            1.0  \n",
       "\n",
       "[217774 rows x 9 columns]"
      ]
     },
     "execution_count": 55,
     "metadata": {},
     "output_type": "execute_result"
    }
   ],
   "source": [
    "# Выведем первые строки\n",
    "rounds_df"
   ]
  },
  {
   "cell_type": "code",
   "execution_count": 56,
   "metadata": {},
   "outputs": [],
   "source": [
    "# Удалим пропуск в funding_round_id\n",
    "rounds_df = rounds_df.dropna(subset=['funding_round_id']).reset_index()\n",
    "\n",
    "del rounds_df['index']"
   ]
  },
  {
   "cell_type": "code",
   "execution_count": 57,
   "metadata": {},
   "outputs": [],
   "source": [
    "# Оптимизируем целочисленный тип данных в датафрейме\n",
    "for column in ['funding_round_id', 'company_id_funding', 'participants', \n",
    "               'is_first_round', 'is_last_round']:\n",
    "    rounds_df[column] = pd.to_numeric(rounds_df[column],\n",
    "                                    downcast='integer')"
   ]
  },
  {
   "cell_type": "code",
   "execution_count": 58,
   "metadata": {},
   "outputs": [
    {
     "name": "stdout",
     "output_type": "stream",
     "text": [
      "\u001b[1mКоличество пропусков в rounds_df\u001b[0m\n"
     ]
    },
    {
     "data": {
      "text/html": [
       "<style  type=\"text/css\" >\n",
       "#T_4c21b_row0_col0,#T_4c21b_row0_col1,#T_4c21b_row1_col0,#T_4c21b_row1_col1,#T_4c21b_row3_col0,#T_4c21b_row3_col1,#T_4c21b_row4_col0,#T_4c21b_row4_col1,#T_4c21b_row5_col0,#T_4c21b_row5_col1,#T_4c21b_row6_col0,#T_4c21b_row6_col1,#T_4c21b_row7_col0,#T_4c21b_row7_col1,#T_4c21b_row8_col0,#T_4c21b_row8_col1{\n",
       "            background-color:  #3b4cc0;\n",
       "            color:  #f1f1f1;\n",
       "        }#T_4c21b_row2_col0,#T_4c21b_row2_col1{\n",
       "            background-color:  #b40426;\n",
       "            color:  #f1f1f1;\n",
       "        }</style><table id=\"T_4c21b_\" ><thead>    <tr>        <th class=\"blank level0\" ></th>        <th class=\"col_heading level0 col0\" >Кол-во пропусков</th>        <th class=\"col_heading level0 col1\" >Процент пропусков</th>    </tr></thead><tbody>\n",
       "                <tr>\n",
       "                        <th id=\"T_4c21b_level0_row0\" class=\"row_heading level0 row0\" >funding_round_id</th>\n",
       "                        <td id=\"T_4c21b_row0_col0\" class=\"data row0 col0\" >0</td>\n",
       "                        <td id=\"T_4c21b_row0_col1\" class=\"data row0 col1\" >0.000000</td>\n",
       "            </tr>\n",
       "            <tr>\n",
       "                        <th id=\"T_4c21b_level0_row1\" class=\"row_heading level0 row1\" >company_id_funding</th>\n",
       "                        <td id=\"T_4c21b_row1_col0\" class=\"data row1 col0\" >0</td>\n",
       "                        <td id=\"T_4c21b_row1_col1\" class=\"data row1 col1\" >0.000000</td>\n",
       "            </tr>\n",
       "            <tr>\n",
       "                        <th id=\"T_4c21b_level0_row2\" class=\"row_heading level0 row2\" >funded_at</th>\n",
       "                        <td id=\"T_4c21b_row2_col0\" class=\"data row2 col0\" >248</td>\n",
       "                        <td id=\"T_4c21b_row2_col1\" class=\"data row2 col1\" >0.470000</td>\n",
       "            </tr>\n",
       "            <tr>\n",
       "                        <th id=\"T_4c21b_level0_row3\" class=\"row_heading level0 row3\" >funding_round_type</th>\n",
       "                        <td id=\"T_4c21b_row3_col0\" class=\"data row3 col0\" >0</td>\n",
       "                        <td id=\"T_4c21b_row3_col1\" class=\"data row3 col1\" >0.000000</td>\n",
       "            </tr>\n",
       "            <tr>\n",
       "                        <th id=\"T_4c21b_level0_row4\" class=\"row_heading level0 row4\" >raised_amount</th>\n",
       "                        <td id=\"T_4c21b_row4_col0\" class=\"data row4 col0\" >0</td>\n",
       "                        <td id=\"T_4c21b_row4_col1\" class=\"data row4 col1\" >0.000000</td>\n",
       "            </tr>\n",
       "            <tr>\n",
       "                        <th id=\"T_4c21b_level0_row5\" class=\"row_heading level0 row5\" >pre_money_valuation</th>\n",
       "                        <td id=\"T_4c21b_row5_col0\" class=\"data row5 col0\" >0</td>\n",
       "                        <td id=\"T_4c21b_row5_col1\" class=\"data row5 col1\" >0.000000</td>\n",
       "            </tr>\n",
       "            <tr>\n",
       "                        <th id=\"T_4c21b_level0_row6\" class=\"row_heading level0 row6\" >participants</th>\n",
       "                        <td id=\"T_4c21b_row6_col0\" class=\"data row6 col0\" >0</td>\n",
       "                        <td id=\"T_4c21b_row6_col1\" class=\"data row6 col1\" >0.000000</td>\n",
       "            </tr>\n",
       "            <tr>\n",
       "                        <th id=\"T_4c21b_level0_row7\" class=\"row_heading level0 row7\" >is_first_round</th>\n",
       "                        <td id=\"T_4c21b_row7_col0\" class=\"data row7 col0\" >0</td>\n",
       "                        <td id=\"T_4c21b_row7_col1\" class=\"data row7 col1\" >0.000000</td>\n",
       "            </tr>\n",
       "            <tr>\n",
       "                        <th id=\"T_4c21b_level0_row8\" class=\"row_heading level0 row8\" >is_last_round</th>\n",
       "                        <td id=\"T_4c21b_row8_col0\" class=\"data row8 col0\" >0</td>\n",
       "                        <td id=\"T_4c21b_row8_col1\" class=\"data row8 col1\" >0.000000</td>\n",
       "            </tr>\n",
       "    </tbody></table>"
      ],
      "text/plain": [
       "<pandas.io.formats.style.Styler at 0x7f879f0e93d0>"
      ]
     },
     "execution_count": 58,
     "metadata": {},
     "output_type": "execute_result"
    }
   ],
   "source": [
    "print('\\033[1m' + 'Количество пропусков в rounds_df' + '\\033[0m')\n",
    "#создаем датафрейм с пропусками\n",
    "pass_rounds_df = (pd.DataFrame({\n",
    "    'Кол-во пропусков': rounds_df.isna().sum(),\n",
    "    'Процент пропусков': round(((rounds_df.isna().sum() / rounds_df.shape[0])*100),2)\n",
    "})).style.background_gradient(cmap='coolwarm')\n",
    "pass_rounds_df"
   ]
  },
  {
   "cell_type": "code",
   "execution_count": 59,
   "metadata": {},
   "outputs": [
    {
     "name": "stdout",
     "output_type": "stream",
     "text": [
      "<class 'pandas.core.frame.DataFrame'>\n",
      "RangeIndex: 52928 entries, 0 to 52927\n",
      "Data columns (total 9 columns):\n",
      " #   Column               Non-Null Count  Dtype         \n",
      "---  ------               --------------  -----         \n",
      " 0   funding_round_id     52928 non-null  int32         \n",
      " 1   company_id_funding   52928 non-null  int32         \n",
      " 2   funded_at            52680 non-null  datetime64[ns]\n",
      " 3   funding_round_type   52928 non-null  object        \n",
      " 4   raised_amount        52928 non-null  float64       \n",
      " 5   pre_money_valuation  52928 non-null  float64       \n",
      " 6   participants         52928 non-null  int8          \n",
      " 7   is_first_round       52928 non-null  int8          \n",
      " 8   is_last_round        52928 non-null  int8          \n",
      "dtypes: datetime64[ns](1), float64(2), int32(2), int8(3), object(1)\n",
      "memory usage: 2.2+ MB\n"
     ]
    }
   ],
   "source": [
    "rounds_df.info()"
   ]
  },
  {
   "cell_type": "markdown",
   "metadata": {},
   "source": [
    "После разделения `company_and_rounds_df` получилось 2 отдельных датафрейма `company_df` и  `rounds_df`. Датафрейма `company_df` содержит 196553 строк и 13 колонок. Датафрейма `rounds_df` содержит 52928 строк и 9 колонок. Оба датафрейма были отчищены от дубликатов, которые возникли при первоначальном объединении. Данные приведены к необходимому виду."
   ]
  },
  {
   "cell_type": "markdown",
   "metadata": {
    "id": "bmVYhphNrJg2"
   },
   "source": [
    "<a id=\"Шаг_3\"></a>\n",
    "## Шаг 3. Исследовательский анализ объединённых таблиц\n",
    "\n",
    "<big>Приступите к шагу 3 после проверки ревьюера.</big>"
   ]
  },
  {
   "cell_type": "markdown",
   "metadata": {
    "id": "3Di6tCT3rJg2"
   },
   "source": [
    "<a id=\"Объединение_данных\"></a>\n",
    "### Объединение данных\n",
    "\n",
    "Объедините данные для ответа на вопросы заказчика, которые касаются интересующих его компаний.\n",
    "\n",
    "В качестве основы для объединённой таблицы возьмите данные из обработанного датасета `company_and_rounds.csv` — выберите только те компании, у которых указаны значения `funding_rounds` или `investment_rounds` больше нуля, или те, у которых в колонке `status` указано `acquired`.\n",
    "\n",
    "Далее работайте только с этими данными."
   ]
  },
  {
   "cell_type": "code",
   "execution_count": 60,
   "metadata": {
    "id": "mGYqoHS7rJg2"
   },
   "outputs": [
    {
     "name": "stdout",
     "output_type": "stream",
     "text": [
      "<class 'pandas.core.frame.DataFrame'>\n",
      "RangeIndex: 40747 entries, 0 to 40746\n",
      "Data columns (total 13 columns):\n",
      " #   Column             Non-Null Count  Dtype         \n",
      "---  ------             --------------  -----         \n",
      " 0   company_id         40747 non-null  int32         \n",
      " 1   name               40747 non-null  object        \n",
      " 2   category_code      35315 non-null  object        \n",
      " 3   status             40747 non-null  object        \n",
      " 4   founded_at         27807 non-null  datetime64[ns]\n",
      " 5   closed_at          2128 non-null   datetime64[ns]\n",
      " 6   domain             35754 non-null  object        \n",
      " 7   network_username   20850 non-null  object        \n",
      " 8   country_code       34742 non-null  object        \n",
      " 9   investment_rounds  40747 non-null  int16         \n",
      " 10  funding_rounds     40747 non-null  int8          \n",
      " 11  funding_total      40747 non-null  float64       \n",
      " 12  milestones         40747 non-null  int8          \n",
      "dtypes: datetime64[ns](2), float64(1), int16(1), int32(1), int8(2), object(6)\n",
      "memory usage: 3.1+ MB\n"
     ]
    }
   ],
   "source": [
    "#Создадим датафрейм с отфильтрованными данными из условия задачи\n",
    "company_df_filter = company_df[(company_df['funding_rounds'] > 0) | (company_df['investment_rounds'] > 0) | \n",
    "                               (company_df['status'] == 'acquired')]\n",
    "company_df_filter = company_df_filter.reset_index()\n",
    "del company_df_filter['index']\n",
    "#Выведем информацию о иноговом датафрейме\n",
    "company_df_filter.info()"
   ]
  },
  {
   "cell_type": "markdown",
   "metadata": {
    "id": "vJZ4mO2Un1yt"
   },
   "source": [
    "В отфильтрованном датафрейме `company_df_filter` 40747 строк и 13 колонок."
   ]
  },
  {
   "cell_type": "markdown",
   "metadata": {
    "id": "DFHINkV3rJg2"
   },
   "source": [
    "<a id=\"Анализ_выбросов\"></a>\n",
    "### Анализ выбросов\n",
    "\n",
    "Заказчика интересует обычный для рассматриваемого периода размер средств, который предоставлялся компаниям.\n",
    "\n",
    "* По предобработанному столбцу `funding_total` графическим способом оцените, какой размер общего финансирования для одной компании будет типичным, а какой — выбивающимся.\n",
    "\n",
    "* В процессе расчёта значений обратите внимание, например, на показатели, возвращаемые методом `.describe()`, — объясните их. Применимы ли к таким данным обычные способы нахождения типичных значений?"
   ]
  },
  {
   "cell_type": "code",
   "execution_count": 61,
   "metadata": {
    "id": "8jm75fKXrJg2"
   },
   "outputs": [
    {
     "data": {
      "image/png": "[encoded data removed]",
      "text/plain": [
       "<Figure size 432x288 with 1 Axes>"
      ]
     },
     "metadata": {
      "needs_background": "light"
     },
     "output_type": "display_data"
    }
   ],
   "source": [
    "# Постройте диаграмму размаха\n",
    "boxplot = company_df_filter.boxplot(column='funding_total',\n",
    "                    vert=False,\n",
    "                    showfliers=False)\n",
    "\n",
    "# Добавляем заголовок и метки оси\n",
    "boxplot.set_title('Распределение суммы финансирования')\n",
    "boxplot.set_xlabel('Сумма финансирования')\n",
    "\n",
    "plt.show()"
   ]
  },
  {
   "cell_type": "code",
   "execution_count": 62,
   "metadata": {
    "id": "dIWqyEomn2MU"
   },
   "outputs": [
    {
     "data": {
      "text/plain": [
       "count    4.074700e+04\n",
       "mean     1.013561e+07\n",
       "std      5.646436e+07\n",
       "min      0.000000e+00\n",
       "25%      0.000000e+00\n",
       "30%      0.000000e+00\n",
       "50%      6.000000e+05\n",
       "60%      1.500000e+06\n",
       "75%      5.650650e+06\n",
       "80%      8.749416e+06\n",
       "94%      3.796074e+07\n",
       "95%      4.350000e+07\n",
       "99%      1.339487e+08\n",
       "max      5.700000e+09\n",
       "Name: funding_total, dtype: float64"
      ]
     },
     "execution_count": 62,
     "metadata": {},
     "output_type": "execute_result"
    }
   ],
   "source": [
    "company_df_filter['funding_total'].describe(percentiles=[0.25, 0.3, 0.5, 0.6, 0.75, 0.8, 0.94, 0.95, 0.99])"
   ]
  },
  {
   "cell_type": "markdown",
   "metadata": {},
   "source": [
    "В данных присутствуют выбросы - максимальное значение 5,7 млрд у.е. Можно сравнить с 75 процентиль - значание 5,65 млн, в 1000 раз меньше. Из-за этого среднее значения получилось завышено. А у 25 процентиля значение 0. Попробуем отфильтровать данные от выбросов и посмотреть снова статистику."
   ]
  },
  {
   "cell_type": "code",
   "execution_count": 63,
   "metadata": {},
   "outputs": [
    {
     "data": {
      "text/plain": [
       "count    2.582700e+04\n",
       "mean     6.208408e+06\n",
       "std      9.012539e+06\n",
       "min      2.910000e+02\n",
       "25%      4.947810e+05\n",
       "50%      2.000000e+06\n",
       "75%      8.000000e+06\n",
       "max      4.344920e+07\n",
       "Name: funding_total, dtype: float64"
      ]
     },
     "execution_count": 63,
     "metadata": {},
     "output_type": "execute_result"
    }
   ],
   "source": [
    "# Находим 95-й процентиль\n",
    "funding_total_up = company_df_filter['funding_total'].quantile(0.95)\n",
    "\n",
    "# Находим 30-й процентиль\n",
    "funding_total_down = company_df_filter['funding_total'].quantile(0.30)\n",
    "\n",
    "\n",
    "# Отбираем данные, оставляя значения в пределах выбросов\n",
    "new_company_df_filter = company_df_filter.loc[(company_df_filter['funding_total'] < funding_total_up) & \n",
    "                                             (company_df_filter['funding_total'] > funding_total_down)]\n",
    "\n",
    "# Выводим новую статистику по funding_total\n",
    "new_company_df_filter['funding_total'].describe()"
   ]
  },
  {
   "cell_type": "markdown",
   "metadata": {},
   "source": [
    "После фильтрации по процентилям (отброли выброси) статистика по `funding_total` выглядит уже лучше. Среднее значение не превышает 75 процентиль. Разброс смещен в большую сторону"
   ]
  },
  {
   "cell_type": "code",
   "execution_count": 64,
   "metadata": {
    "scrolled": true
   },
   "outputs": [
    {
     "data": {
      "image/png": "[encoded data removed]",
      "text/plain": [
       "<Figure size 720x432 with 1 Axes>"
      ]
     },
     "metadata": {
      "needs_background": "light"
     },
     "output_type": "display_data"
    }
   ],
   "source": [
    "plt.figure(figsize=(10, 6))\n",
    "plt.hist(company_df['funding_total'], bins=50, color='skyblue', edgecolor='black', log=True)\n",
    "plt.xscale('log')  # Логарифмическая шкала по оси X\n",
    "plt.xlabel('Общее финансирование (логарифмическая шкала)')\n",
    "plt.ylabel('Количество компаний')\n",
    "plt.title('Распределение общего финансирования (логарифмическая шкала)')\n",
    "plt.show()"
   ]
  },
  {
   "cell_type": "markdown",
   "metadata": {
    "id": "JqkRAQrIrJg2"
   },
   "source": [
    "<a id=\"Куплены_забесплатно\"></a>\n",
    "### Куплены забесплатно?\n",
    "\n",
    "* Исследуйте компании, которые были проданы за ноль или за один доллар, и при этом известно, что у них был ненулевой общий объём финансирования.\n",
    "\n",
    "* Рассчитайте аналитически верхнюю и нижнюю границу выбросов для столбца `funding_total` и укажите, каким процентилям границы соответствуют. Учитывая озвученные выше предпосылки и собственные соображения, сделайте выводы о корректности планируемой заказчиком замены нижней и верхней границы выбросов на значения, рассчитанные по процентилям."
   ]
  },
  {
   "cell_type": "code",
   "execution_count": 65,
   "metadata": {},
   "outputs": [
    {
     "data": {
      "text/html": [
       "<div>\n",
       "<style scoped>\n",
       "    .dataframe tbody tr th:only-of-type {\n",
       "        vertical-align: middle;\n",
       "    }\n",
       "\n",
       "    .dataframe tbody tr th {\n",
       "        vertical-align: top;\n",
       "    }\n",
       "\n",
       "    .dataframe thead th {\n",
       "        text-align: right;\n",
       "    }\n",
       "</style>\n",
       "<table border=\"1\" class=\"dataframe\">\n",
       "  <thead>\n",
       "    <tr style=\"text-align: right;\">\n",
       "      <th></th>\n",
       "      <th>company_id</th>\n",
       "      <th>name</th>\n",
       "      <th>category_code</th>\n",
       "      <th>status</th>\n",
       "      <th>founded_at</th>\n",
       "      <th>closed_at</th>\n",
       "      <th>domain</th>\n",
       "      <th>network_username</th>\n",
       "      <th>country_code</th>\n",
       "      <th>investment_rounds</th>\n",
       "      <th>funding_rounds</th>\n",
       "      <th>funding_total</th>\n",
       "      <th>milestones</th>\n",
       "      <th>id</th>\n",
       "      <th>acquiring_company_id</th>\n",
       "      <th>acquired_company_id</th>\n",
       "      <th>term_code</th>\n",
       "      <th>price_amount</th>\n",
       "      <th>acquired_at</th>\n",
       "    </tr>\n",
       "  </thead>\n",
       "  <tbody>\n",
       "    <tr>\n",
       "      <th>0</th>\n",
       "      <td>10</td>\n",
       "      <td>Flektor</td>\n",
       "      <td>games_video</td>\n",
       "      <td>acquired</td>\n",
       "      <td>NaT</td>\n",
       "      <td>NaT</td>\n",
       "      <td>flektor.com</td>\n",
       "      <td>NaN</td>\n",
       "      <td>USA</td>\n",
       "      <td>0</td>\n",
       "      <td>0</td>\n",
       "      <td>0.0</td>\n",
       "      <td>0</td>\n",
       "      <td>1</td>\n",
       "      <td>11</td>\n",
       "      <td>10</td>\n",
       "      <td>NaN</td>\n",
       "      <td>20000000</td>\n",
       "      <td>2007-05-30</td>\n",
       "    </tr>\n",
       "    <tr>\n",
       "      <th>1</th>\n",
       "      <td>100</td>\n",
       "      <td>There</td>\n",
       "      <td>games_video</td>\n",
       "      <td>acquired</td>\n",
       "      <td>NaT</td>\n",
       "      <td>NaT</td>\n",
       "      <td>there.com</td>\n",
       "      <td>NaN</td>\n",
       "      <td>USA</td>\n",
       "      <td>0</td>\n",
       "      <td>0</td>\n",
       "      <td>0.0</td>\n",
       "      <td>4</td>\n",
       "      <td>20</td>\n",
       "      <td>377</td>\n",
       "      <td>100</td>\n",
       "      <td>cash</td>\n",
       "      <td>0</td>\n",
       "      <td>2005-05-29</td>\n",
       "    </tr>\n",
       "    <tr>\n",
       "      <th>2</th>\n",
       "      <td>1001</td>\n",
       "      <td>FriendFeed</td>\n",
       "      <td>web</td>\n",
       "      <td>acquired</td>\n",
       "      <td>2007-10-01</td>\n",
       "      <td>NaT</td>\n",
       "      <td>friendfeed.com</td>\n",
       "      <td>friendfeed</td>\n",
       "      <td>USA</td>\n",
       "      <td>0</td>\n",
       "      <td>1</td>\n",
       "      <td>5000000.0</td>\n",
       "      <td>3</td>\n",
       "      <td>1901</td>\n",
       "      <td>5</td>\n",
       "      <td>1001</td>\n",
       "      <td>cash_and_stock</td>\n",
       "      <td>47500000</td>\n",
       "      <td>2009-08-10</td>\n",
       "    </tr>\n",
       "    <tr>\n",
       "      <th>3</th>\n",
       "      <td>10014</td>\n",
       "      <td>Mobclix</td>\n",
       "      <td>mobile</td>\n",
       "      <td>acquired</td>\n",
       "      <td>2008-03-01</td>\n",
       "      <td>NaT</td>\n",
       "      <td>mobclix.com</td>\n",
       "      <td>mobclix</td>\n",
       "      <td>USA</td>\n",
       "      <td>0</td>\n",
       "      <td>1</td>\n",
       "      <td>0.0</td>\n",
       "      <td>4</td>\n",
       "      <td>3878</td>\n",
       "      <td>23054</td>\n",
       "      <td>10014</td>\n",
       "      <td>NaN</td>\n",
       "      <td>0</td>\n",
       "      <td>2010-09-30</td>\n",
       "    </tr>\n",
       "    <tr>\n",
       "      <th>4</th>\n",
       "      <td>100265</td>\n",
       "      <td>Coastal Supply Company</td>\n",
       "      <td>NaN</td>\n",
       "      <td>acquired</td>\n",
       "      <td>NaT</td>\n",
       "      <td>NaT</td>\n",
       "      <td>NaN</td>\n",
       "      <td>NaN</td>\n",
       "      <td>NaN</td>\n",
       "      <td>0</td>\n",
       "      <td>0</td>\n",
       "      <td>0.0</td>\n",
       "      <td>1</td>\n",
       "      <td>6106</td>\n",
       "      <td>38215</td>\n",
       "      <td>100265</td>\n",
       "      <td>NaN</td>\n",
       "      <td>0</td>\n",
       "      <td>2011-09-06</td>\n",
       "    </tr>\n",
       "    <tr>\n",
       "      <th>...</th>\n",
       "      <td>...</td>\n",
       "      <td>...</td>\n",
       "      <td>...</td>\n",
       "      <td>...</td>\n",
       "      <td>...</td>\n",
       "      <td>...</td>\n",
       "      <td>...</td>\n",
       "      <td>...</td>\n",
       "      <td>...</td>\n",
       "      <td>...</td>\n",
       "      <td>...</td>\n",
       "      <td>...</td>\n",
       "      <td>...</td>\n",
       "      <td>...</td>\n",
       "      <td>...</td>\n",
       "      <td>...</td>\n",
       "      <td>...</td>\n",
       "      <td>...</td>\n",
       "      <td>...</td>\n",
       "    </tr>\n",
       "    <tr>\n",
       "      <th>9385</th>\n",
       "      <td>11484</td>\n",
       "      <td>Networktise</td>\n",
       "      <td>web</td>\n",
       "      <td>acquired</td>\n",
       "      <td>2008-08-01</td>\n",
       "      <td>NaT</td>\n",
       "      <td>networktise.com</td>\n",
       "      <td>NaN</td>\n",
       "      <td>NaN</td>\n",
       "      <td>0</td>\n",
       "      <td>0</td>\n",
       "      <td>0.0</td>\n",
       "      <td>0</td>\n",
       "      <td>8605</td>\n",
       "      <td>205151</td>\n",
       "      <td>11484</td>\n",
       "      <td>NaN</td>\n",
       "      <td>0</td>\n",
       "      <td>2013-05-10</td>\n",
       "    </tr>\n",
       "    <tr>\n",
       "      <th>9386</th>\n",
       "      <td>153326</td>\n",
       "      <td>Yoke</td>\n",
       "      <td>web</td>\n",
       "      <td>acquired</td>\n",
       "      <td>NaT</td>\n",
       "      <td>NaT</td>\n",
       "      <td>apps.socialnet.com::yokeapp</td>\n",
       "      <td>NaN</td>\n",
       "      <td>NaN</td>\n",
       "      <td>0</td>\n",
       "      <td>1</td>\n",
       "      <td>500000.0</td>\n",
       "      <td>1</td>\n",
       "      <td>7948</td>\n",
       "      <td>2352</td>\n",
       "      <td>153326</td>\n",
       "      <td>NaN</td>\n",
       "      <td>0</td>\n",
       "      <td>2012-09-11</td>\n",
       "    </tr>\n",
       "    <tr>\n",
       "      <th>9387</th>\n",
       "      <td>53224</td>\n",
       "      <td>UberNetwork</td>\n",
       "      <td>web</td>\n",
       "      <td>acquired</td>\n",
       "      <td>NaT</td>\n",
       "      <td>NaT</td>\n",
       "      <td>ubernetwork.com::</td>\n",
       "      <td>NaN</td>\n",
       "      <td>NaN</td>\n",
       "      <td>0</td>\n",
       "      <td>0</td>\n",
       "      <td>0.0</td>\n",
       "      <td>1</td>\n",
       "      <td>5034</td>\n",
       "      <td>45529</td>\n",
       "      <td>53224</td>\n",
       "      <td>NaN</td>\n",
       "      <td>0</td>\n",
       "      <td>2011-01-23</td>\n",
       "    </tr>\n",
       "    <tr>\n",
       "      <th>9388</th>\n",
       "      <td>69612</td>\n",
       "      <td>Networkcism</td>\n",
       "      <td>NaN</td>\n",
       "      <td>acquired</td>\n",
       "      <td>NaT</td>\n",
       "      <td>NaT</td>\n",
       "      <td>networkcism.com</td>\n",
       "      <td>NaN</td>\n",
       "      <td>NaN</td>\n",
       "      <td>0</td>\n",
       "      <td>0</td>\n",
       "      <td>0.0</td>\n",
       "      <td>0</td>\n",
       "      <td>5189</td>\n",
       "      <td>22309</td>\n",
       "      <td>69612</td>\n",
       "      <td>NaN</td>\n",
       "      <td>0</td>\n",
       "      <td>2011-02-23</td>\n",
       "    </tr>\n",
       "    <tr>\n",
       "      <th>9389</th>\n",
       "      <td>43233</td>\n",
       "      <td>Photonet</td>\n",
       "      <td>photo_video</td>\n",
       "      <td>acquired</td>\n",
       "      <td>2010-03-01</td>\n",
       "      <td>NaT</td>\n",
       "      <td>Photonet.com</td>\n",
       "      <td>Photonet</td>\n",
       "      <td>USA</td>\n",
       "      <td>0</td>\n",
       "      <td>3</td>\n",
       "      <td>57500000.0</td>\n",
       "      <td>3</td>\n",
       "      <td>6968</td>\n",
       "      <td>5</td>\n",
       "      <td>43233</td>\n",
       "      <td>cash_and_stock</td>\n",
       "      <td>1010470000</td>\n",
       "      <td>2012-04-09</td>\n",
       "    </tr>\n",
       "  </tbody>\n",
       "</table>\n",
       "<p>9390 rows × 19 columns</p>\n",
       "</div>"
      ],
      "text/plain": [
       "      company_id                    name category_code    status founded_at  \\\n",
       "0             10                 Flektor   games_video  acquired        NaT   \n",
       "1            100                   There   games_video  acquired        NaT   \n",
       "2           1001              FriendFeed           web  acquired 2007-10-01   \n",
       "3          10014                 Mobclix        mobile  acquired 2008-03-01   \n",
       "4         100265  Coastal Supply Company           NaN  acquired        NaT   \n",
       "...          ...                     ...           ...       ...        ...   \n",
       "9385       11484             Networktise           web  acquired 2008-08-01   \n",
       "9386      153326                    Yoke           web  acquired        NaT   \n",
       "9387       53224             UberNetwork           web  acquired        NaT   \n",
       "9388       69612             Networkcism           NaN  acquired        NaT   \n",
       "9389       43233                Photonet   photo_video  acquired 2010-03-01   \n",
       "\n",
       "     closed_at                       domain network_username country_code  \\\n",
       "0          NaT                  flektor.com              NaN          USA   \n",
       "1          NaT                    there.com              NaN          USA   \n",
       "2          NaT               friendfeed.com       friendfeed          USA   \n",
       "3          NaT                  mobclix.com          mobclix          USA   \n",
       "4          NaT                          NaN              NaN          NaN   \n",
       "...        ...                          ...              ...          ...   \n",
       "9385       NaT              networktise.com              NaN          NaN   \n",
       "9386       NaT  apps.socialnet.com::yokeapp              NaN          NaN   \n",
       "9387       NaT            ubernetwork.com::              NaN          NaN   \n",
       "9388       NaT              networkcism.com              NaN          NaN   \n",
       "9389       NaT                 Photonet.com         Photonet          USA   \n",
       "\n",
       "      investment_rounds  funding_rounds  funding_total  milestones    id  \\\n",
       "0                     0               0            0.0           0     1   \n",
       "1                     0               0            0.0           4    20   \n",
       "2                     0               1      5000000.0           3  1901   \n",
       "3                     0               1            0.0           4  3878   \n",
       "4                     0               0            0.0           1  6106   \n",
       "...                 ...             ...            ...         ...   ...   \n",
       "9385                  0               0            0.0           0  8605   \n",
       "9386                  0               1       500000.0           1  7948   \n",
       "9387                  0               0            0.0           1  5034   \n",
       "9388                  0               0            0.0           0  5189   \n",
       "9389                  0               3     57500000.0           3  6968   \n",
       "\n",
       "      acquiring_company_id  acquired_company_id       term_code  price_amount  \\\n",
       "0                       11                   10             NaN      20000000   \n",
       "1                      377                  100            cash             0   \n",
       "2                        5                 1001  cash_and_stock      47500000   \n",
       "3                    23054                10014             NaN             0   \n",
       "4                    38215               100265             NaN             0   \n",
       "...                    ...                  ...             ...           ...   \n",
       "9385                205151                11484             NaN             0   \n",
       "9386                  2352               153326             NaN             0   \n",
       "9387                 45529                53224             NaN             0   \n",
       "9388                 22309                69612             NaN             0   \n",
       "9389                     5                43233  cash_and_stock    1010470000   \n",
       "\n",
       "     acquired_at  \n",
       "0     2007-05-30  \n",
       "1     2005-05-29  \n",
       "2     2009-08-10  \n",
       "3     2010-09-30  \n",
       "4     2011-09-06  \n",
       "...          ...  \n",
       "9385  2013-05-10  \n",
       "9386  2012-09-11  \n",
       "9387  2011-01-23  \n",
       "9388  2011-02-23  \n",
       "9389  2012-04-09  \n",
       "\n",
       "[9390 rows x 19 columns]"
      ]
     },
     "execution_count": 65,
     "metadata": {},
     "output_type": "execute_result"
    }
   ],
   "source": [
    "# Присоединяем датафрейм acquisition к компаниям\n",
    "company_acquisition_df = pd.merge(company_df_filter, acquisition_df, left_on='company_id', right_on='acquired_company_id')\n",
    "company_acquisition_df"
   ]
  },
  {
   "cell_type": "code",
   "execution_count": 66,
   "metadata": {
    "id": "wJHXCBwwrJg2"
   },
   "outputs": [],
   "source": [
    "#Создадим датафрейм с компаниями, которые были проданы за 0 или 1 доллар\n",
    "\n",
    "company_acquisition_df_filter = company_acquisition_df[((company_acquisition_df['price_amount'] == 0) |\n",
    "                                                               (company_acquisition_df['price_amount'] == 1))\n",
    "                                                              & (company_acquisition_df['funding_total'] != 0)]"
   ]
  },
  {
   "cell_type": "code",
   "execution_count": 67,
   "metadata": {
    "id": "-kA4CO27n2ql"
   },
   "outputs": [
    {
     "data": {
      "text/plain": [
       "count    1.618000e+03\n",
       "mean     1.815296e+07\n",
       "std      1.445030e+08\n",
       "min      3.750000e+03\n",
       "10%      5.135885e+05\n",
       "25%      2.000000e+06\n",
       "50%      6.000000e+06\n",
       "60%      9.400000e+06\n",
       "70%      1.300000e+07\n",
       "80%      2.000000e+07\n",
       "94%      4.551960e+07\n",
       "95%      5.148750e+07\n",
       "99%      1.515529e+08\n",
       "max      5.700000e+09\n",
       "Name: funding_total, dtype: float64"
      ]
     },
     "execution_count": 67,
     "metadata": {},
     "output_type": "execute_result"
    }
   ],
   "source": [
    "#Выведем статистику по funding_total в отфильтрованном датафлейме\n",
    "company_acquisition_df_filter['funding_total'].describe(percentiles=[0.1, 0.25, 0.5, 0.6, 0.7, 0.8, 0.94, 0.95, 0.99])"
   ]
  },
  {
   "cell_type": "code",
   "execution_count": 68,
   "metadata": {},
   "outputs": [
    {
     "name": "stdout",
     "output_type": "stream",
     "text": [
      "Верхний порог выбросов: 42500000.0\n",
      "Нижний порог выбросов: -4750000.0\n"
     ]
    }
   ],
   "source": [
    "# Вычисляем квартили Q1 и Q3\n",
    "Q1 = company_acquisition_df_filter['funding_total'].quantile(0.25)\n",
    "Q3 = company_acquisition_df_filter['funding_total'].quantile(0.75)\n",
    "\n",
    "# Вычисляем межквартильный размах IQR\n",
    "IQR = Q3 - Q1\n",
    "\n",
    "# Определяем верхний порог для выбросов\n",
    "upper_bound = Q3 + 2 * IQR\n",
    "# Определяем нижний порог для выбросов\n",
    "lower_bound = Q1 - 0.5*IQR\n",
    "\n",
    "print(f'Верхний порог выбросов: {upper_bound}')\n",
    "print(f'Нижний порог выбросов: {lower_bound}')"
   ]
  },
  {
   "cell_type": "markdown",
   "metadata": {},
   "source": [
    "Нижний повог получился отрицательный засчет больший максимальных значений и смещение графика распределения. \n",
    "\n",
    "Верхний порог соответствует примерно 94-95 процентилю.\n",
    "\n",
    "Лучше не использовать пороги выбросов, а ориентироваться на 10 и 95 процентиль."
   ]
  },
  {
   "cell_type": "markdown",
   "metadata": {
    "id": "mEiWpROjrJg2"
   },
   "source": [
    "<a id=\"Цены_стартапов\"></a>\n",
    "### Цены стартапов по категориям\n",
    "\n",
    "Категории стартапов с наибольшими ценами и значительным разбросом цен могут быть наиболее привлекательными для крупных инвесторов, которые готовы к высоким рискам ради потенциально больших доходов. Среди категорий стартапов выделите категории стартапов, характеризующиеся:\n",
    "\n",
    "* наибольшими ценами;\n",
    "* и наибольшим разбросом цен за стартап.\n",
    "\n",
    "Объясните, почему решили составить топ именно из такого числа категорий и почему рассчитывали именно так."
   ]
  },
  {
   "cell_type": "code",
   "execution_count": 69,
   "metadata": {
    "id": "jQ09dYUWrJg2"
   },
   "outputs": [],
   "source": [
    "# Создадим датафрейм по категориям компаний с наибольшим разбросом\n",
    "cpa_std = company_acquisition_df.groupby('category_code')['price_amount'].std().reset_index().sort_values(by='price_amount', ascending=False).reset_index()\n",
    "del cpa_std['index']\n",
    "cpa_std = cpa_std.rename(columns={'price_amount': 'std_price_amount'})\n",
    "# Создадим датафрейм по категориям компаний с наибольшими ценами\n",
    "cpa_mean = company_acquisition_df.groupby('category_code')['price_amount'].mean().reset_index().sort_values(by='price_amount', ascending=False).reset_index()\n",
    "del cpa_mean['index']\n",
    "cpa_mean = cpa_mean.rename(columns={'price_amount': 'mean_price_amount'})"
   ]
  },
  {
   "cell_type": "code",
   "execution_count": 70,
   "metadata": {},
   "outputs": [
    {
     "data": {
      "text/plain": [
       "count    4.000000e+01\n",
       "mean     3.685455e+08\n",
       "std      1.039662e+09\n",
       "min      0.000000e+00\n",
       "25%      2.878199e+07\n",
       "50%      1.039885e+08\n",
       "75%      2.568045e+08\n",
       "max      6.464338e+09\n",
       "Name: mean_price_amount, dtype: float64"
      ]
     },
     "execution_count": 70,
     "metadata": {},
     "output_type": "execute_result"
    }
   ],
   "source": [
    "# Изучим статистику\n",
    "cpa_mean['mean_price_amount'].describe()"
   ]
  },
  {
   "cell_type": "code",
   "execution_count": 71,
   "metadata": {},
   "outputs": [
    {
     "name": "stdout",
     "output_type": "stream",
     "text": [
      "\u001b[1mТОП 10 категорий компаний по наибольшими ценами за стартап\u001b[0m\n"
     ]
    },
    {
     "data": {
      "text/html": [
       "<div>\n",
       "<style scoped>\n",
       "    .dataframe tbody tr th:only-of-type {\n",
       "        vertical-align: middle;\n",
       "    }\n",
       "\n",
       "    .dataframe tbody tr th {\n",
       "        vertical-align: top;\n",
       "    }\n",
       "\n",
       "    .dataframe thead th {\n",
       "        text-align: right;\n",
       "    }\n",
       "</style>\n",
       "<table border=\"1\" class=\"dataframe\">\n",
       "  <thead>\n",
       "    <tr style=\"text-align: right;\">\n",
       "      <th></th>\n",
       "      <th>category_code</th>\n",
       "      <th>mean_price_amount</th>\n",
       "    </tr>\n",
       "  </thead>\n",
       "  <tbody>\n",
       "    <tr>\n",
       "      <th>0</th>\n",
       "      <td>enterprise</td>\n",
       "      <td>6.464338e+09</td>\n",
       "    </tr>\n",
       "    <tr>\n",
       "      <th>1</th>\n",
       "      <td>automotive</td>\n",
       "      <td>1.528600e+09</td>\n",
       "    </tr>\n",
       "    <tr>\n",
       "      <th>2</th>\n",
       "      <td>real_estate</td>\n",
       "      <td>1.256143e+09</td>\n",
       "    </tr>\n",
       "    <tr>\n",
       "      <th>3</th>\n",
       "      <td>public_relations</td>\n",
       "      <td>6.151903e+08</td>\n",
       "    </tr>\n",
       "    <tr>\n",
       "      <th>4</th>\n",
       "      <td>manufacturing</td>\n",
       "      <td>5.892724e+08</td>\n",
       "    </tr>\n",
       "    <tr>\n",
       "      <th>5</th>\n",
       "      <td>nanotech</td>\n",
       "      <td>5.840000e+08</td>\n",
       "    </tr>\n",
       "    <tr>\n",
       "      <th>6</th>\n",
       "      <td>biotech</td>\n",
       "      <td>4.263121e+08</td>\n",
       "    </tr>\n",
       "    <tr>\n",
       "      <th>7</th>\n",
       "      <td>health</td>\n",
       "      <td>3.944630e+08</td>\n",
       "    </tr>\n",
       "    <tr>\n",
       "      <th>8</th>\n",
       "      <td>finance</td>\n",
       "      <td>3.021988e+08</td>\n",
       "    </tr>\n",
       "    <tr>\n",
       "      <th>9</th>\n",
       "      <td>hospitality</td>\n",
       "      <td>2.802182e+08</td>\n",
       "    </tr>\n",
       "  </tbody>\n",
       "</table>\n",
       "</div>"
      ],
      "text/plain": [
       "      category_code  mean_price_amount\n",
       "0        enterprise       6.464338e+09\n",
       "1        automotive       1.528600e+09\n",
       "2       real_estate       1.256143e+09\n",
       "3  public_relations       6.151903e+08\n",
       "4     manufacturing       5.892724e+08\n",
       "5          nanotech       5.840000e+08\n",
       "6           biotech       4.263121e+08\n",
       "7            health       3.944630e+08\n",
       "8           finance       3.021988e+08\n",
       "9       hospitality       2.802182e+08"
      ]
     },
     "execution_count": 71,
     "metadata": {},
     "output_type": "execute_result"
    }
   ],
   "source": [
    "# Выведем датафрейм по категориям компаний с наибольшим разбросом топ 15\n",
    "print('\\033[1m' + 'ТОП 10 категорий компаний по наибольшими ценами за стартап' + '\\033[0m')\n",
    "cpa_mean.head(10)"
   ]
  },
  {
   "cell_type": "code",
   "execution_count": 72,
   "metadata": {},
   "outputs": [
    {
     "data": {
      "text/plain": [
       "count    3.800000e+01\n",
       "mean     3.989788e+09\n",
       "std      2.069159e+10\n",
       "min      0.000000e+00\n",
       "25%      9.829491e+07\n",
       "50%      4.212217e+08\n",
       "75%      7.840082e+08\n",
       "max      1.280882e+11\n",
       "Name: std_price_amount, dtype: float64"
      ]
     },
     "execution_count": 72,
     "metadata": {},
     "output_type": "execute_result"
    }
   ],
   "source": [
    "# Изучим статистику\n",
    "cpa_std['std_price_amount'].describe()"
   ]
  },
  {
   "cell_type": "code",
   "execution_count": 73,
   "metadata": {
    "id": "MFONscXPn29F"
   },
   "outputs": [
    {
     "name": "stdout",
     "output_type": "stream",
     "text": [
      "\u001b[1mТОП 10 категорий компаний по наибольшим разбросом цен за стартап\u001b[0m\n"
     ]
    },
    {
     "data": {
      "text/html": [
       "<div>\n",
       "<style scoped>\n",
       "    .dataframe tbody tr th:only-of-type {\n",
       "        vertical-align: middle;\n",
       "    }\n",
       "\n",
       "    .dataframe tbody tr th {\n",
       "        vertical-align: top;\n",
       "    }\n",
       "\n",
       "    .dataframe thead th {\n",
       "        text-align: right;\n",
       "    }\n",
       "</style>\n",
       "<table border=\"1\" class=\"dataframe\">\n",
       "  <thead>\n",
       "    <tr style=\"text-align: right;\">\n",
       "      <th></th>\n",
       "      <th>category_code</th>\n",
       "      <th>std_price_amount</th>\n",
       "    </tr>\n",
       "  </thead>\n",
       "  <tbody>\n",
       "    <tr>\n",
       "      <th>0</th>\n",
       "      <td>enterprise</td>\n",
       "      <td>1.280882e+11</td>\n",
       "    </tr>\n",
       "    <tr>\n",
       "      <th>1</th>\n",
       "      <td>public_relations</td>\n",
       "      <td>4.059244e+09</td>\n",
       "    </tr>\n",
       "    <tr>\n",
       "      <th>2</th>\n",
       "      <td>real_estate</td>\n",
       "      <td>2.505123e+09</td>\n",
       "    </tr>\n",
       "    <tr>\n",
       "      <th>3</th>\n",
       "      <td>automotive</td>\n",
       "      <td>2.297758e+09</td>\n",
       "    </tr>\n",
       "    <tr>\n",
       "      <th>4</th>\n",
       "      <td>biotech</td>\n",
       "      <td>1.540374e+09</td>\n",
       "    </tr>\n",
       "    <tr>\n",
       "      <th>5</th>\n",
       "      <td>health</td>\n",
       "      <td>1.249084e+09</td>\n",
       "    </tr>\n",
       "    <tr>\n",
       "      <th>6</th>\n",
       "      <td>other</td>\n",
       "      <td>1.085129e+09</td>\n",
       "    </tr>\n",
       "    <tr>\n",
       "      <th>7</th>\n",
       "      <td>manufacturing</td>\n",
       "      <td>9.696580e+08</td>\n",
       "    </tr>\n",
       "    <tr>\n",
       "      <th>8</th>\n",
       "      <td>finance</td>\n",
       "      <td>7.960985e+08</td>\n",
       "    </tr>\n",
       "    <tr>\n",
       "      <th>9</th>\n",
       "      <td>semiconductor</td>\n",
       "      <td>7.904889e+08</td>\n",
       "    </tr>\n",
       "  </tbody>\n",
       "</table>\n",
       "</div>"
      ],
      "text/plain": [
       "      category_code  std_price_amount\n",
       "0        enterprise      1.280882e+11\n",
       "1  public_relations      4.059244e+09\n",
       "2       real_estate      2.505123e+09\n",
       "3        automotive      2.297758e+09\n",
       "4           biotech      1.540374e+09\n",
       "5            health      1.249084e+09\n",
       "6             other      1.085129e+09\n",
       "7     manufacturing      9.696580e+08\n",
       "8           finance      7.960985e+08\n",
       "9     semiconductor      7.904889e+08"
      ]
     },
     "execution_count": 73,
     "metadata": {},
     "output_type": "execute_result"
    }
   ],
   "source": [
    "# Выведем датафрейм по категориям компаний с наибольшим разбросом топ 15\n",
    "print('\\033[1m' + 'ТОП 10 категорий компаний по наибольшим разбросом цен за стартап' + '\\033[0m')\n",
    "cpa_std.head(10)"
   ]
  },
  {
   "cell_type": "markdown",
   "metadata": {},
   "source": [
    "В обоих случаях взяли ТОП 10 компаний, чтобы значения были выше 75 процентиля."
   ]
  },
  {
   "cell_type": "code",
   "execution_count": 74,
   "metadata": {},
   "outputs": [],
   "source": [
    "#отфильтруем price_amount!=0\n",
    "company_acquisition_df_filter_price_amount = company_acquisition_df[(company_acquisition_df['price_amount'] != 0)]"
   ]
  },
  {
   "cell_type": "code",
   "execution_count": 75,
   "metadata": {},
   "outputs": [
    {
     "name": "stdout",
     "output_type": "stream",
     "text": [
      "\u001b[1mКоличество компаний по категориям\u001b[0m\n"
     ]
    },
    {
     "data": {
      "text/html": [
       "<div>\n",
       "<style scoped>\n",
       "    .dataframe tbody tr th:only-of-type {\n",
       "        vertical-align: middle;\n",
       "    }\n",
       "\n",
       "    .dataframe tbody tr th {\n",
       "        vertical-align: top;\n",
       "    }\n",
       "\n",
       "    .dataframe thead th {\n",
       "        text-align: right;\n",
       "    }\n",
       "</style>\n",
       "<table border=\"1\" class=\"dataframe\">\n",
       "  <thead>\n",
       "    <tr style=\"text-align: right;\">\n",
       "      <th></th>\n",
       "      <th>category_code</th>\n",
       "      <th>count_company</th>\n",
       "    </tr>\n",
       "  </thead>\n",
       "  <tbody>\n",
       "    <tr>\n",
       "      <th>0</th>\n",
       "      <td>software</td>\n",
       "      <td>403</td>\n",
       "    </tr>\n",
       "    <tr>\n",
       "      <th>1</th>\n",
       "      <td>biotech</td>\n",
       "      <td>263</td>\n",
       "    </tr>\n",
       "    <tr>\n",
       "      <th>2</th>\n",
       "      <td>web</td>\n",
       "      <td>260</td>\n",
       "    </tr>\n",
       "    <tr>\n",
       "      <th>3</th>\n",
       "      <td>mobile</td>\n",
       "      <td>117</td>\n",
       "    </tr>\n",
       "    <tr>\n",
       "      <th>4</th>\n",
       "      <td>enterprise</td>\n",
       "      <td>116</td>\n",
       "    </tr>\n",
       "    <tr>\n",
       "      <th>5</th>\n",
       "      <td>games_video</td>\n",
       "      <td>88</td>\n",
       "    </tr>\n",
       "    <tr>\n",
       "      <th>6</th>\n",
       "      <td>other</td>\n",
       "      <td>84</td>\n",
       "    </tr>\n",
       "    <tr>\n",
       "      <th>7</th>\n",
       "      <td>advertising</td>\n",
       "      <td>84</td>\n",
       "    </tr>\n",
       "    <tr>\n",
       "      <th>8</th>\n",
       "      <td>hardware</td>\n",
       "      <td>78</td>\n",
       "    </tr>\n",
       "    <tr>\n",
       "      <th>9</th>\n",
       "      <td>public_relations</td>\n",
       "      <td>74</td>\n",
       "    </tr>\n",
       "    <tr>\n",
       "      <th>10</th>\n",
       "      <td>semiconductor</td>\n",
       "      <td>71</td>\n",
       "    </tr>\n",
       "    <tr>\n",
       "      <th>11</th>\n",
       "      <td>network_hosting</td>\n",
       "      <td>64</td>\n",
       "    </tr>\n",
       "    <tr>\n",
       "      <th>12</th>\n",
       "      <td>ecommerce</td>\n",
       "      <td>50</td>\n",
       "    </tr>\n",
       "    <tr>\n",
       "      <th>13</th>\n",
       "      <td>cleantech</td>\n",
       "      <td>39</td>\n",
       "    </tr>\n",
       "    <tr>\n",
       "      <th>14</th>\n",
       "      <td>security</td>\n",
       "      <td>36</td>\n",
       "    </tr>\n",
       "    <tr>\n",
       "      <th>15</th>\n",
       "      <td>consulting</td>\n",
       "      <td>32</td>\n",
       "    </tr>\n",
       "    <tr>\n",
       "      <th>16</th>\n",
       "      <td>manufacturing</td>\n",
       "      <td>21</td>\n",
       "    </tr>\n",
       "    <tr>\n",
       "      <th>17</th>\n",
       "      <td>finance</td>\n",
       "      <td>20</td>\n",
       "    </tr>\n",
       "    <tr>\n",
       "      <th>18</th>\n",
       "      <td>search</td>\n",
       "      <td>19</td>\n",
       "    </tr>\n",
       "    <tr>\n",
       "      <th>19</th>\n",
       "      <td>health</td>\n",
       "      <td>10</td>\n",
       "    </tr>\n",
       "    <tr>\n",
       "      <th>20</th>\n",
       "      <td>news</td>\n",
       "      <td>9</td>\n",
       "    </tr>\n",
       "    <tr>\n",
       "      <th>21</th>\n",
       "      <td>hospitality</td>\n",
       "      <td>7</td>\n",
       "    </tr>\n",
       "    <tr>\n",
       "      <th>22</th>\n",
       "      <td>real_estate</td>\n",
       "      <td>6</td>\n",
       "    </tr>\n",
       "    <tr>\n",
       "      <th>23</th>\n",
       "      <td>education</td>\n",
       "      <td>6</td>\n",
       "    </tr>\n",
       "    <tr>\n",
       "      <th>24</th>\n",
       "      <td>photo_video</td>\n",
       "      <td>5</td>\n",
       "    </tr>\n",
       "    <tr>\n",
       "      <th>25</th>\n",
       "      <td>messaging</td>\n",
       "      <td>5</td>\n",
       "    </tr>\n",
       "    <tr>\n",
       "      <th>26</th>\n",
       "      <td>medical</td>\n",
       "      <td>4</td>\n",
       "    </tr>\n",
       "    <tr>\n",
       "      <th>27</th>\n",
       "      <td>social</td>\n",
       "      <td>4</td>\n",
       "    </tr>\n",
       "    <tr>\n",
       "      <th>28</th>\n",
       "      <td>travel</td>\n",
       "      <td>4</td>\n",
       "    </tr>\n",
       "    <tr>\n",
       "      <th>29</th>\n",
       "      <td>fashion</td>\n",
       "      <td>3</td>\n",
       "    </tr>\n",
       "    <tr>\n",
       "      <th>30</th>\n",
       "      <td>music</td>\n",
       "      <td>3</td>\n",
       "    </tr>\n",
       "    <tr>\n",
       "      <th>31</th>\n",
       "      <td>analytics</td>\n",
       "      <td>3</td>\n",
       "    </tr>\n",
       "    <tr>\n",
       "      <th>32</th>\n",
       "      <td>automotive</td>\n",
       "      <td>3</td>\n",
       "    </tr>\n",
       "    <tr>\n",
       "      <th>33</th>\n",
       "      <td>transportation</td>\n",
       "      <td>3</td>\n",
       "    </tr>\n",
       "    <tr>\n",
       "      <th>34</th>\n",
       "      <td>sports</td>\n",
       "      <td>2</td>\n",
       "    </tr>\n",
       "    <tr>\n",
       "      <th>35</th>\n",
       "      <td>nanotech</td>\n",
       "      <td>1</td>\n",
       "    </tr>\n",
       "    <tr>\n",
       "      <th>36</th>\n",
       "      <td>local</td>\n",
       "      <td>1</td>\n",
       "    </tr>\n",
       "  </tbody>\n",
       "</table>\n",
       "</div>"
      ],
      "text/plain": [
       "       category_code  count_company\n",
       "0           software            403\n",
       "1            biotech            263\n",
       "2                web            260\n",
       "3             mobile            117\n",
       "4         enterprise            116\n",
       "5        games_video             88\n",
       "6              other             84\n",
       "7        advertising             84\n",
       "8           hardware             78\n",
       "9   public_relations             74\n",
       "10     semiconductor             71\n",
       "11   network_hosting             64\n",
       "12         ecommerce             50\n",
       "13         cleantech             39\n",
       "14          security             36\n",
       "15        consulting             32\n",
       "16     manufacturing             21\n",
       "17           finance             20\n",
       "18            search             19\n",
       "19            health             10\n",
       "20              news              9\n",
       "21       hospitality              7\n",
       "22       real_estate              6\n",
       "23         education              6\n",
       "24       photo_video              5\n",
       "25         messaging              5\n",
       "26           medical              4\n",
       "27            social              4\n",
       "28            travel              4\n",
       "29           fashion              3\n",
       "30             music              3\n",
       "31         analytics              3\n",
       "32        automotive              3\n",
       "33    transportation              3\n",
       "34            sports              2\n",
       "35          nanotech              1\n",
       "36             local              1"
      ]
     },
     "execution_count": 75,
     "metadata": {},
     "output_type": "execute_result"
    }
   ],
   "source": [
    "#Изучим количество компаний по категориям\n",
    "count_category_code = company_acquisition_df_filter_price_amount.groupby('category_code')['company_id'].count().reset_index().sort_values(by='company_id', ascending=False).reset_index()\n",
    "del count_category_code['index']\n",
    "count_category_code = count_category_code.rename(columns={'company_id': 'count_company'})\n",
    "print('\\033[1m' + 'Количество компаний по категориям' + '\\033[0m')\n",
    "count_category_code\n"
   ]
  },
  {
   "cell_type": "code",
   "execution_count": 76,
   "metadata": {},
   "outputs": [
    {
     "name": "stdout",
     "output_type": "stream",
     "text": [
      "Медиана по числу компаний 19.0\n"
     ]
    }
   ],
   "source": [
    "#Посчитаем медиану по числу компаний\n",
    "median_count_category = count_category_code['count_company'].median()\n",
    "print(f'Медиана по числу компаний {median_count_category}')"
   ]
  },
  {
   "cell_type": "code",
   "execution_count": 77,
   "metadata": {},
   "outputs": [
    {
     "data": {
      "text/html": [
       "<div>\n",
       "<style scoped>\n",
       "    .dataframe tbody tr th:only-of-type {\n",
       "        vertical-align: middle;\n",
       "    }\n",
       "\n",
       "    .dataframe tbody tr th {\n",
       "        vertical-align: top;\n",
       "    }\n",
       "\n",
       "    .dataframe thead th {\n",
       "        text-align: right;\n",
       "    }\n",
       "</style>\n",
       "<table border=\"1\" class=\"dataframe\">\n",
       "  <thead>\n",
       "    <tr style=\"text-align: right;\">\n",
       "      <th></th>\n",
       "      <th>category_code</th>\n",
       "      <th>count_company</th>\n",
       "    </tr>\n",
       "  </thead>\n",
       "  <tbody>\n",
       "    <tr>\n",
       "      <th>0</th>\n",
       "      <td>software</td>\n",
       "      <td>403</td>\n",
       "    </tr>\n",
       "    <tr>\n",
       "      <th>1</th>\n",
       "      <td>biotech</td>\n",
       "      <td>263</td>\n",
       "    </tr>\n",
       "    <tr>\n",
       "      <th>2</th>\n",
       "      <td>web</td>\n",
       "      <td>260</td>\n",
       "    </tr>\n",
       "    <tr>\n",
       "      <th>3</th>\n",
       "      <td>mobile</td>\n",
       "      <td>117</td>\n",
       "    </tr>\n",
       "    <tr>\n",
       "      <th>4</th>\n",
       "      <td>enterprise</td>\n",
       "      <td>116</td>\n",
       "    </tr>\n",
       "    <tr>\n",
       "      <th>5</th>\n",
       "      <td>games_video</td>\n",
       "      <td>88</td>\n",
       "    </tr>\n",
       "    <tr>\n",
       "      <th>6</th>\n",
       "      <td>other</td>\n",
       "      <td>84</td>\n",
       "    </tr>\n",
       "    <tr>\n",
       "      <th>7</th>\n",
       "      <td>advertising</td>\n",
       "      <td>84</td>\n",
       "    </tr>\n",
       "    <tr>\n",
       "      <th>8</th>\n",
       "      <td>hardware</td>\n",
       "      <td>78</td>\n",
       "    </tr>\n",
       "    <tr>\n",
       "      <th>9</th>\n",
       "      <td>public_relations</td>\n",
       "      <td>74</td>\n",
       "    </tr>\n",
       "    <tr>\n",
       "      <th>10</th>\n",
       "      <td>semiconductor</td>\n",
       "      <td>71</td>\n",
       "    </tr>\n",
       "    <tr>\n",
       "      <th>11</th>\n",
       "      <td>network_hosting</td>\n",
       "      <td>64</td>\n",
       "    </tr>\n",
       "    <tr>\n",
       "      <th>12</th>\n",
       "      <td>ecommerce</td>\n",
       "      <td>50</td>\n",
       "    </tr>\n",
       "    <tr>\n",
       "      <th>13</th>\n",
       "      <td>cleantech</td>\n",
       "      <td>39</td>\n",
       "    </tr>\n",
       "    <tr>\n",
       "      <th>14</th>\n",
       "      <td>security</td>\n",
       "      <td>36</td>\n",
       "    </tr>\n",
       "    <tr>\n",
       "      <th>15</th>\n",
       "      <td>consulting</td>\n",
       "      <td>32</td>\n",
       "    </tr>\n",
       "    <tr>\n",
       "      <th>16</th>\n",
       "      <td>manufacturing</td>\n",
       "      <td>21</td>\n",
       "    </tr>\n",
       "    <tr>\n",
       "      <th>17</th>\n",
       "      <td>finance</td>\n",
       "      <td>20</td>\n",
       "    </tr>\n",
       "    <tr>\n",
       "      <th>18</th>\n",
       "      <td>search</td>\n",
       "      <td>19</td>\n",
       "    </tr>\n",
       "  </tbody>\n",
       "</table>\n",
       "</div>"
      ],
      "text/plain": [
       "       category_code  count_company\n",
       "0           software            403\n",
       "1            biotech            263\n",
       "2                web            260\n",
       "3             mobile            117\n",
       "4         enterprise            116\n",
       "5        games_video             88\n",
       "6              other             84\n",
       "7        advertising             84\n",
       "8           hardware             78\n",
       "9   public_relations             74\n",
       "10     semiconductor             71\n",
       "11   network_hosting             64\n",
       "12         ecommerce             50\n",
       "13         cleantech             39\n",
       "14          security             36\n",
       "15        consulting             32\n",
       "16     manufacturing             21\n",
       "17           finance             20\n",
       "18            search             19"
      ]
     },
     "execution_count": 77,
     "metadata": {},
     "output_type": "execute_result"
    }
   ],
   "source": [
    "#Оставим категории у которых число компаний выше медианы\n",
    "median_count_category_filter = count_category_code[count_category_code['count_company'] >= median_count_category]\n",
    "median_count_category_filter"
   ]
  },
  {
   "cell_type": "code",
   "execution_count": 78,
   "metadata": {},
   "outputs": [],
   "source": [
    "# Создадим датафрейм по категориям компаний с наибольшими ценами\n",
    "cpa_median = company_acquisition_df_filter_price_amount.groupby('category_code')['price_amount'].median().reset_index().sort_values(by='price_amount', ascending=False).reset_index()\n",
    "del cpa_median['index']\n",
    "cpa_median = cpa_median.rename(columns={'price_amount': 'median_price_amount'})"
   ]
  },
  {
   "cell_type": "code",
   "execution_count": 79,
   "metadata": {},
   "outputs": [
    {
     "data": {
      "text/plain": [
       "count    3.700000e+01\n",
       "mean     2.019957e+08\n",
       "std      3.975776e+08\n",
       "min      4.860000e+06\n",
       "25%      5.550000e+07\n",
       "50%      1.000000e+08\n",
       "75%      1.850000e+08\n",
       "max      2.400000e+09\n",
       "Name: median_price_amount, dtype: float64"
      ]
     },
     "execution_count": 79,
     "metadata": {},
     "output_type": "execute_result"
    }
   ],
   "source": [
    "# Изучим статистику\n",
    "cpa_median['median_price_amount'].describe()"
   ]
  },
  {
   "cell_type": "code",
   "execution_count": 80,
   "metadata": {},
   "outputs": [],
   "source": [
    "# Присоединим датафрейм к отфильтрованному по кол-ву \n",
    "# компаний датафрейм с типичными значаниями median_price_amount\n",
    "top_count_category_median = median_count_category_filter.merge(cpa_median, how='left', on='category_code')"
   ]
  },
  {
   "cell_type": "code",
   "execution_count": 81,
   "metadata": {},
   "outputs": [
    {
     "name": "stdout",
     "output_type": "stream",
     "text": [
      "\u001b[1mТОП категорий компаний по наибольшими ценами (медиана) за стартап\u001b[0m\n"
     ]
    },
    {
     "data": {
      "text/html": [
       "<div>\n",
       "<style scoped>\n",
       "    .dataframe tbody tr th:only-of-type {\n",
       "        vertical-align: middle;\n",
       "    }\n",
       "\n",
       "    .dataframe tbody tr th {\n",
       "        vertical-align: top;\n",
       "    }\n",
       "\n",
       "    .dataframe thead th {\n",
       "        text-align: right;\n",
       "    }\n",
       "</style>\n",
       "<table border=\"1\" class=\"dataframe\">\n",
       "  <thead>\n",
       "    <tr style=\"text-align: right;\">\n",
       "      <th></th>\n",
       "      <th>category_code</th>\n",
       "      <th>count_company</th>\n",
       "      <th>median_price_amount</th>\n",
       "    </tr>\n",
       "  </thead>\n",
       "  <tbody>\n",
       "    <tr>\n",
       "      <th>15</th>\n",
       "      <td>consulting</td>\n",
       "      <td>32</td>\n",
       "      <td>32150000</td>\n",
       "    </tr>\n",
       "    <tr>\n",
       "      <th>0</th>\n",
       "      <td>software</td>\n",
       "      <td>403</td>\n",
       "      <td>48140000</td>\n",
       "    </tr>\n",
       "    <tr>\n",
       "      <th>4</th>\n",
       "      <td>enterprise</td>\n",
       "      <td>116</td>\n",
       "      <td>54750000</td>\n",
       "    </tr>\n",
       "    <tr>\n",
       "      <th>2</th>\n",
       "      <td>web</td>\n",
       "      <td>260</td>\n",
       "      <td>55500000</td>\n",
       "    </tr>\n",
       "    <tr>\n",
       "      <th>3</th>\n",
       "      <td>mobile</td>\n",
       "      <td>117</td>\n",
       "      <td>56000000</td>\n",
       "    </tr>\n",
       "    <tr>\n",
       "      <th>5</th>\n",
       "      <td>games_video</td>\n",
       "      <td>88</td>\n",
       "      <td>58250000</td>\n",
       "    </tr>\n",
       "    <tr>\n",
       "      <th>7</th>\n",
       "      <td>advertising</td>\n",
       "      <td>84</td>\n",
       "      <td>60000000</td>\n",
       "    </tr>\n",
       "    <tr>\n",
       "      <th>6</th>\n",
       "      <td>other</td>\n",
       "      <td>84</td>\n",
       "      <td>71550000</td>\n",
       "    </tr>\n",
       "    <tr>\n",
       "      <th>8</th>\n",
       "      <td>hardware</td>\n",
       "      <td>78</td>\n",
       "      <td>76000000</td>\n",
       "    </tr>\n",
       "    <tr>\n",
       "      <th>18</th>\n",
       "      <td>search</td>\n",
       "      <td>19</td>\n",
       "      <td>90000000</td>\n",
       "    </tr>\n",
       "    <tr>\n",
       "      <th>10</th>\n",
       "      <td>semiconductor</td>\n",
       "      <td>71</td>\n",
       "      <td>100000000</td>\n",
       "    </tr>\n",
       "    <tr>\n",
       "      <th>11</th>\n",
       "      <td>network_hosting</td>\n",
       "      <td>64</td>\n",
       "      <td>102500000</td>\n",
       "    </tr>\n",
       "    <tr>\n",
       "      <th>9</th>\n",
       "      <td>public_relations</td>\n",
       "      <td>74</td>\n",
       "      <td>110000000</td>\n",
       "    </tr>\n",
       "    <tr>\n",
       "      <th>12</th>\n",
       "      <td>ecommerce</td>\n",
       "      <td>50</td>\n",
       "      <td>157500000</td>\n",
       "    </tr>\n",
       "    <tr>\n",
       "      <th>14</th>\n",
       "      <td>security</td>\n",
       "      <td>36</td>\n",
       "      <td>164500000</td>\n",
       "    </tr>\n",
       "    <tr>\n",
       "      <th>17</th>\n",
       "      <td>finance</td>\n",
       "      <td>20</td>\n",
       "      <td>171500000</td>\n",
       "    </tr>\n",
       "    <tr>\n",
       "      <th>13</th>\n",
       "      <td>cleantech</td>\n",
       "      <td>39</td>\n",
       "      <td>185000000</td>\n",
       "    </tr>\n",
       "    <tr>\n",
       "      <th>1</th>\n",
       "      <td>biotech</td>\n",
       "      <td>263</td>\n",
       "      <td>200000000</td>\n",
       "    </tr>\n",
       "    <tr>\n",
       "      <th>16</th>\n",
       "      <td>manufacturing</td>\n",
       "      <td>21</td>\n",
       "      <td>351000000</td>\n",
       "    </tr>\n",
       "  </tbody>\n",
       "</table>\n",
       "</div>"
      ],
      "text/plain": [
       "       category_code  count_company  median_price_amount\n",
       "15        consulting             32             32150000\n",
       "0           software            403             48140000\n",
       "4         enterprise            116             54750000\n",
       "2                web            260             55500000\n",
       "3             mobile            117             56000000\n",
       "5        games_video             88             58250000\n",
       "7        advertising             84             60000000\n",
       "6              other             84             71550000\n",
       "8           hardware             78             76000000\n",
       "18            search             19             90000000\n",
       "10     semiconductor             71            100000000\n",
       "11   network_hosting             64            102500000\n",
       "9   public_relations             74            110000000\n",
       "12         ecommerce             50            157500000\n",
       "14          security             36            164500000\n",
       "17           finance             20            171500000\n",
       "13         cleantech             39            185000000\n",
       "1            biotech            263            200000000\n",
       "16     manufacturing             21            351000000"
      ]
     },
     "execution_count": 81,
     "metadata": {},
     "output_type": "execute_result"
    }
   ],
   "source": [
    "# Выведем датафрейм по категориям компаний с наибольшим разбросом топ\n",
    "print('\\033[1m' + 'ТОП категорий компаний по наибольшими ценами (медиана) за стартап' + '\\033[0m')\n",
    "top_count_category_median.sort_values(by='median_price_amount')"
   ]
  },
  {
   "cell_type": "code",
   "execution_count": 82,
   "metadata": {},
   "outputs": [],
   "source": [
    "# Создадим датафрейм по категориям компаний с наибольшим разбросом\n",
    "cpa_std_new = company_acquisition_df_filter_price_amount.groupby('category_code')['price_amount'].std().reset_index().sort_values(by='price_amount', ascending=False).reset_index()\n",
    "del cpa_std_new['index']\n",
    "cpa_std_new = cpa_std_new.rename(columns={'price_amount': 'std_price_amount'})"
   ]
  },
  {
   "cell_type": "code",
   "execution_count": 83,
   "metadata": {},
   "outputs": [],
   "source": [
    "# Присоединим датафрейм к отфильтрованному по кол-ву \n",
    "# компаний датафрейм с типичными значаниями cpa_std_new\n",
    "top_count_category_std = median_count_category_filter.merge(cpa_std_new, how='left', on='category_code')"
   ]
  },
  {
   "cell_type": "code",
   "execution_count": 84,
   "metadata": {},
   "outputs": [
    {
     "name": "stdout",
     "output_type": "stream",
     "text": [
      "\u001b[1mТОП категорий компаний по наибольшим разбросом цен за стартап\u001b[0m\n"
     ]
    },
    {
     "data": {
      "text/html": [
       "<div>\n",
       "<style scoped>\n",
       "    .dataframe tbody tr th:only-of-type {\n",
       "        vertical-align: middle;\n",
       "    }\n",
       "\n",
       "    .dataframe tbody tr th {\n",
       "        vertical-align: top;\n",
       "    }\n",
       "\n",
       "    .dataframe thead th {\n",
       "        text-align: right;\n",
       "    }\n",
       "</style>\n",
       "<table border=\"1\" class=\"dataframe\">\n",
       "  <thead>\n",
       "    <tr style=\"text-align: right;\">\n",
       "      <th></th>\n",
       "      <th>category_code</th>\n",
       "      <th>count_company</th>\n",
       "      <th>std_price_amount</th>\n",
       "    </tr>\n",
       "  </thead>\n",
       "  <tbody>\n",
       "    <tr>\n",
       "      <th>12</th>\n",
       "      <td>ecommerce</td>\n",
       "      <td>50</td>\n",
       "      <td>2.814255e+08</td>\n",
       "    </tr>\n",
       "    <tr>\n",
       "      <th>18</th>\n",
       "      <td>search</td>\n",
       "      <td>19</td>\n",
       "      <td>3.395802e+08</td>\n",
       "    </tr>\n",
       "    <tr>\n",
       "      <th>7</th>\n",
       "      <td>advertising</td>\n",
       "      <td>84</td>\n",
       "      <td>4.954839e+08</td>\n",
       "    </tr>\n",
       "    <tr>\n",
       "      <th>8</th>\n",
       "      <td>hardware</td>\n",
       "      <td>78</td>\n",
       "      <td>6.450874e+08</td>\n",
       "    </tr>\n",
       "    <tr>\n",
       "      <th>11</th>\n",
       "      <td>network_hosting</td>\n",
       "      <td>64</td>\n",
       "      <td>6.769568e+08</td>\n",
       "    </tr>\n",
       "    <tr>\n",
       "      <th>2</th>\n",
       "      <td>web</td>\n",
       "      <td>260</td>\n",
       "      <td>6.954405e+08</td>\n",
       "    </tr>\n",
       "    <tr>\n",
       "      <th>13</th>\n",
       "      <td>cleantech</td>\n",
       "      <td>39</td>\n",
       "      <td>8.744196e+08</td>\n",
       "    </tr>\n",
       "    <tr>\n",
       "      <th>15</th>\n",
       "      <td>consulting</td>\n",
       "      <td>32</td>\n",
       "      <td>1.018109e+09</td>\n",
       "    </tr>\n",
       "    <tr>\n",
       "      <th>17</th>\n",
       "      <td>finance</td>\n",
       "      <td>20</td>\n",
       "      <td>1.052920e+09</td>\n",
       "    </tr>\n",
       "    <tr>\n",
       "      <th>16</th>\n",
       "      <td>manufacturing</td>\n",
       "      <td>21</td>\n",
       "      <td>1.060435e+09</td>\n",
       "    </tr>\n",
       "    <tr>\n",
       "      <th>10</th>\n",
       "      <td>semiconductor</td>\n",
       "      <td>71</td>\n",
       "      <td>1.122025e+09</td>\n",
       "    </tr>\n",
       "    <tr>\n",
       "      <th>0</th>\n",
       "      <td>software</td>\n",
       "      <td>403</td>\n",
       "      <td>1.204059e+09</td>\n",
       "    </tr>\n",
       "    <tr>\n",
       "      <th>3</th>\n",
       "      <td>mobile</td>\n",
       "      <td>117</td>\n",
       "      <td>1.319472e+09</td>\n",
       "    </tr>\n",
       "    <tr>\n",
       "      <th>14</th>\n",
       "      <td>security</td>\n",
       "      <td>36</td>\n",
       "      <td>1.378442e+09</td>\n",
       "    </tr>\n",
       "    <tr>\n",
       "      <th>5</th>\n",
       "      <td>games_video</td>\n",
       "      <td>88</td>\n",
       "      <td>1.463478e+09</td>\n",
       "    </tr>\n",
       "    <tr>\n",
       "      <th>1</th>\n",
       "      <td>biotech</td>\n",
       "      <td>263</td>\n",
       "      <td>1.968195e+09</td>\n",
       "    </tr>\n",
       "    <tr>\n",
       "      <th>6</th>\n",
       "      <td>other</td>\n",
       "      <td>84</td>\n",
       "      <td>2.060861e+09</td>\n",
       "    </tr>\n",
       "    <tr>\n",
       "      <th>9</th>\n",
       "      <td>public_relations</td>\n",
       "      <td>74</td>\n",
       "      <td>6.854338e+09</td>\n",
       "    </tr>\n",
       "    <tr>\n",
       "      <th>4</th>\n",
       "      <td>enterprise</td>\n",
       "      <td>116</td>\n",
       "      <td>2.413581e+11</td>\n",
       "    </tr>\n",
       "  </tbody>\n",
       "</table>\n",
       "</div>"
      ],
      "text/plain": [
       "       category_code  count_company  std_price_amount\n",
       "12         ecommerce             50      2.814255e+08\n",
       "18            search             19      3.395802e+08\n",
       "7        advertising             84      4.954839e+08\n",
       "8           hardware             78      6.450874e+08\n",
       "11   network_hosting             64      6.769568e+08\n",
       "2                web            260      6.954405e+08\n",
       "13         cleantech             39      8.744196e+08\n",
       "15        consulting             32      1.018109e+09\n",
       "17           finance             20      1.052920e+09\n",
       "16     manufacturing             21      1.060435e+09\n",
       "10     semiconductor             71      1.122025e+09\n",
       "0           software            403      1.204059e+09\n",
       "3             mobile            117      1.319472e+09\n",
       "14          security             36      1.378442e+09\n",
       "5        games_video             88      1.463478e+09\n",
       "1            biotech            263      1.968195e+09\n",
       "6              other             84      2.060861e+09\n",
       "9   public_relations             74      6.854338e+09\n",
       "4         enterprise            116      2.413581e+11"
      ]
     },
     "execution_count": 84,
     "metadata": {},
     "output_type": "execute_result"
    }
   ],
   "source": [
    "# Выведем датафрейм по категориям компаний с наибольшим разбросом топ\n",
    "print('\\033[1m' + 'ТОП категорий компаний по наибольшим разбросом цен за стартап' + '\\033[0m')\n",
    "top_count_category_std.sort_values(by='std_price_amount')"
   ]
  },
  {
   "cell_type": "markdown",
   "metadata": {},
   "source": [
    "ТОП категорий компаний выделили на основе количества компаний, чтобы количество компаний в категории было выше медианы кол-ва компаний в категории"
   ]
  },
  {
   "cell_type": "markdown",
   "metadata": {
    "id": "ADOfyVY_rJg3"
   },
   "source": [
    "<a id=\"Сколько_раундов\"></a>\n",
    "### Сколько раундов продержится стартап перед покупкой\n",
    "\n",
    "* Необходимо проанализировать столбец `funding_rounds`. Исследуйте значения столбца. Заказчика интересует типичное значение количества раундов для каждого возможного статуса стартапа.\n",
    "\n",
    "* Постройте график, который отображает, сколько в среднем раундов финансирования проходило для стартапов из каждой группы. Сделайте выводы."
   ]
  },
  {
   "cell_type": "code",
   "execution_count": 85,
   "metadata": {},
   "outputs": [],
   "source": [
    "#Отфильтруем компании у которых раундов больше 0\n",
    "company_df_with_funding_rounds = company_df[(company_df['funding_rounds'] > 0)]"
   ]
  },
  {
   "cell_type": "code",
   "execution_count": 86,
   "metadata": {
    "id": "hgXMPC4WrJg3"
   },
   "outputs": [
    {
     "data": {
      "text/html": [
       "<div>\n",
       "<style scoped>\n",
       "    .dataframe tbody tr th:only-of-type {\n",
       "        vertical-align: middle;\n",
       "    }\n",
       "\n",
       "    .dataframe tbody tr th {\n",
       "        vertical-align: top;\n",
       "    }\n",
       "\n",
       "    .dataframe thead th {\n",
       "        text-align: right;\n",
       "    }\n",
       "</style>\n",
       "<table border=\"1\" class=\"dataframe\">\n",
       "  <thead>\n",
       "    <tr style=\"text-align: right;\">\n",
       "      <th></th>\n",
       "      <th>status</th>\n",
       "      <th>median_funding_rounds</th>\n",
       "    </tr>\n",
       "  </thead>\n",
       "  <tbody>\n",
       "    <tr>\n",
       "      <th>0</th>\n",
       "      <td>acquired</td>\n",
       "      <td>1</td>\n",
       "    </tr>\n",
       "    <tr>\n",
       "      <th>1</th>\n",
       "      <td>closed</td>\n",
       "      <td>1</td>\n",
       "    </tr>\n",
       "    <tr>\n",
       "      <th>2</th>\n",
       "      <td>ipo</td>\n",
       "      <td>2</td>\n",
       "    </tr>\n",
       "    <tr>\n",
       "      <th>3</th>\n",
       "      <td>operating</td>\n",
       "      <td>1</td>\n",
       "    </tr>\n",
       "  </tbody>\n",
       "</table>\n",
       "</div>"
      ],
      "text/plain": [
       "      status  median_funding_rounds\n",
       "0   acquired                      1\n",
       "1     closed                      1\n",
       "2        ipo                      2\n",
       "3  operating                      1"
      ]
     },
     "execution_count": 86,
     "metadata": {},
     "output_type": "execute_result"
    }
   ],
   "source": [
    "# Создадим датафрейм по статусам компаний по числу раундов финансирования по медиане\n",
    "status_company_median = company_df_with_funding_rounds.groupby('status')['funding_rounds'].median().reset_index()\n",
    "status_company_median = status_company_median.rename(columns={'funding_rounds' :'median_funding_rounds'})\n",
    "status_company_median"
   ]
  },
  {
   "cell_type": "code",
   "execution_count": 87,
   "metadata": {},
   "outputs": [
    {
     "data": {
      "image/png": "[encoded data removed]",
      "text/plain": [
       "<Figure size 432x288 with 1 Axes>"
      ]
     },
     "metadata": {
      "needs_background": "light"
     },
     "output_type": "display_data"
    }
   ],
   "source": [
    "# Создадим датафрейм по статусам компаний по среднему числу раундов финансирования \n",
    "status_company_mean = round(company_df_with_funding_rounds.groupby('status')['funding_rounds'].mean(),1).reset_index()\n",
    "status_company_mean = status_company_mean.rename(columns={'funding_rounds' :'mean_funding_rounds'})\n",
    "\n",
    "# Строим график\n",
    "status_company_mean.plot(kind='bar', x='status', legend=False) \n",
    "# Добавляем подписи к осям и заголовок\n",
    "plt.xlabel('Статус компании', fontweight='bold')\n",
    "plt.ylabel('Среднее число раундов финансирования', fontweight='bold')\n",
    "plt.title('Среднее число раундов финансирования', fontsize=14, fontweight='bold')\n",
    "plt.xticks(rotation=0)\n",
    "\n",
    "# Выводим значения на график\n",
    "for i, value in enumerate(status_company_mean['mean_funding_rounds']):\n",
    "    plt.text(i, value-0.1, str(value), ha='center')\n",
    "\n",
    "plt.show()"
   ]
  },
  {
   "cell_type": "markdown",
   "metadata": {},
   "source": [
    "Если смотреть число раундов финансирования по медиане, то для компаний со статусом `ipo` значений 2, для остальных 1.\n",
    "\n",
    "Среднее число раундов для компаний:\n",
    "- со статусом `acquired` - 1.9\n",
    "- со статусом `closed` - 1.4\n",
    "- со статусом `ipo` - 2.5\n",
    "- со статусом `operating` - 1.6\n",
    "\n",
    "- У компании со статусом `closed` (это компании, которые закрыты) самое маленькое среднее значения числа раундов. Можно предположить, что они закрываются не успев достигнув поставленных целей финансирования.\n",
    "\n",
    "- У компании со статусом `operating` (которые продолжают свою работу) среднее число раундов финансирования 1.6. У этих компаний было больше финансирования и они продолжают свою работу.\n",
    "\n",
    "- У компании со статусом `acquired` (которые преобретены) среднее число раундов финансирования 1.9. Это означает что им требуется больше финансирования и возможно поэтому они были проданы.\n",
    "\n",
    "- У компании со статусом `ipo` (которые сделали первичное публичное предложение акций) среднее число раундов финансирования 2.5.Самое большое из всех компаний. Это может означать, что компании с этим статусом привлекают больше внимания для финансирования."
   ]
  },
  {
   "cell_type": "markdown",
   "metadata": {
    "id": "VAFEZ2HBrJg3"
   },
   "source": [
    "<a id=\"Шаг_4\"></a>\n",
    "## Шаг 4. Итоговый вывод и рекомендации\n",
    "\n",
    "Опишите, что было сделано в проекте, какие были сделаны выводы, подкрепляют ли они друг друга или заставляют сомневаться в полученных результатах."
   ]
  },
  {
   "cell_type": "markdown",
   "metadata": {},
   "source": [
    "В первой части проекта были изучены и частично обработаны данные (изменениы названия колонок в одном датафрейме). Также были проанализированы пропуски. Исходя из анализа пропусков и названия колонок датафрейм `company_and_rounds_df` был разделен на 2 - компании `company_df` и райнды финансирования `rounds_df`. \n",
    "\n",
    "В рамках предварительного анализа было выявлено, что максимальный сбор средств в рамках одного раунда был в 2005 году.Также в 2013 году после спада увеличилось количество финансирования и медиана по сумме финансирования.\n",
    "\n",
    "При анализе образования сотрудников выявлено,что в больших компаниях (численностью более 9 человек) у 99% сотрудников отсутствует информация об образовании, в средних компаниях - 90 %, с маленьких - 76%, в одиночных стартапах - 36%.\n",
    "\n",
    "При анализе выбросов было обнаружено много количество больших значений - 75 процентиль меньше среднего значения. значения можно отфильтровать между 30 и 95 процентилем.\n",
    "\n",
    "Были выделены ТОП категорий компаний по наибольшими ценами за стартап (категории consulting, software, enterprise, web, mobile) и по наибольшим разбросом цен за стартап (категории ecommerce, search, advertising, hardware, network_hosting).\n",
    "\n",
    "При анализе числа раундов финансирования по статусам - Среднее число раундов для компаний со статуcами `acquired` - 1.9, `closed` - 1.4, `ipo` - 2.5 `operating` - 1.6."
   ]
  }
 ],
 "metadata": {
  "ExecuteTimeLog": [
   {
    "duration": 1455,
    "start_time": "2025-02-01T19:02:55.230Z"
   },
   {
    "duration": 2762,
    "start_time": "2025-02-01T19:02:58.481Z"
   },
   {
    "duration": 15,
    "start_time": "2025-02-01T19:03:18.089Z"
   },
   {
    "duration": 133,
    "start_time": "2025-02-01T19:04:08.588Z"
   },
   {
    "duration": 111,
    "start_time": "2025-02-01T19:05:36.764Z"
   },
   {
    "duration": 216,
    "start_time": "2025-02-01T19:07:00.837Z"
   },
   {
    "duration": 118,
    "start_time": "2025-02-01T19:07:30.435Z"
   },
   {
    "duration": 13,
    "start_time": "2025-02-01T19:08:36.669Z"
   },
   {
    "duration": 108,
    "start_time": "2025-02-01T19:08:40.485Z"
   },
   {
    "duration": 27,
    "start_time": "2025-02-01T19:08:43.409Z"
   },
   {
    "duration": 20,
    "start_time": "2025-02-01T19:08:44.231Z"
   },
   {
    "duration": 13,
    "start_time": "2025-02-01T19:08:44.925Z"
   },
   {
    "duration": 13,
    "start_time": "2025-02-01T19:08:46.698Z"
   },
   {
    "duration": 41,
    "start_time": "2025-02-01T19:08:48.584Z"
   },
   {
    "duration": 5,
    "start_time": "2025-02-01T19:21:43.801Z"
   },
   {
    "duration": 72,
    "start_time": "2025-02-01T19:22:08.421Z"
   },
   {
    "duration": 7,
    "start_time": "2025-02-01T19:22:23.010Z"
   },
   {
    "duration": 5,
    "start_time": "2025-02-01T19:22:29.894Z"
   },
   {
    "duration": 5,
    "start_time": "2025-02-01T19:22:41.012Z"
   },
   {
    "duration": 6,
    "start_time": "2025-02-01T19:24:37.637Z"
   },
   {
    "duration": 4,
    "start_time": "2025-02-01T19:24:49.940Z"
   },
   {
    "duration": 5,
    "start_time": "2025-02-01T19:27:44.035Z"
   },
   {
    "duration": 1257,
    "start_time": "2025-02-01T19:27:56.681Z"
   },
   {
    "duration": 2159,
    "start_time": "2025-02-01T19:27:57.940Z"
   },
   {
    "duration": 21,
    "start_time": "2025-02-01T19:28:00.101Z"
   },
   {
    "duration": 144,
    "start_time": "2025-02-01T19:28:00.124Z"
   },
   {
    "duration": 5,
    "start_time": "2025-02-01T19:28:00.270Z"
   },
   {
    "duration": 161,
    "start_time": "2025-02-01T19:28:00.276Z"
   },
   {
    "duration": 18,
    "start_time": "2025-02-01T19:28:00.439Z"
   },
   {
    "duration": 15,
    "start_time": "2025-02-01T19:28:00.459Z"
   },
   {
    "duration": 86,
    "start_time": "2025-02-01T19:28:00.475Z"
   },
   {
    "duration": 48,
    "start_time": "2025-02-01T19:28:00.562Z"
   },
   {
    "duration": 13,
    "start_time": "2025-02-01T19:33:47.299Z"
   },
   {
    "duration": 24,
    "start_time": "2025-02-01T19:34:25.356Z"
   },
   {
    "duration": 9,
    "start_time": "2025-02-01T19:35:42.126Z"
   },
   {
    "duration": 7,
    "start_time": "2025-02-01T19:35:50.067Z"
   },
   {
    "duration": 10,
    "start_time": "2025-02-01T19:35:52.625Z"
   },
   {
    "duration": 7,
    "start_time": "2025-02-01T19:35:58.260Z"
   },
   {
    "duration": 9,
    "start_time": "2025-02-01T19:36:04.167Z"
   },
   {
    "duration": 65,
    "start_time": "2025-02-01T19:53:32.013Z"
   },
   {
    "duration": 90,
    "start_time": "2025-02-01T19:54:39.945Z"
   },
   {
    "duration": 59,
    "start_time": "2025-02-01T20:02:12.992Z"
   },
   {
    "duration": 8,
    "start_time": "2025-02-01T20:02:29.278Z"
   },
   {
    "duration": 1180,
    "start_time": "2025-02-01T20:13:45.951Z"
   },
   {
    "duration": 2729,
    "start_time": "2025-02-01T20:13:47.133Z"
   },
   {
    "duration": 12,
    "start_time": "2025-02-01T20:13:49.864Z"
   },
   {
    "duration": 29,
    "start_time": "2025-02-01T20:13:49.878Z"
   },
   {
    "duration": 128,
    "start_time": "2025-02-01T20:13:49.909Z"
   },
   {
    "duration": 4,
    "start_time": "2025-02-01T20:13:50.039Z"
   },
   {
    "duration": 44,
    "start_time": "2025-02-01T20:13:50.045Z"
   },
   {
    "duration": 52,
    "start_time": "2025-02-01T20:13:50.091Z"
   },
   {
    "duration": 19,
    "start_time": "2025-02-01T20:13:50.145Z"
   },
   {
    "duration": 31,
    "start_time": "2025-02-01T20:13:50.166Z"
   },
   {
    "duration": 11,
    "start_time": "2025-02-01T20:13:50.198Z"
   },
   {
    "duration": 35,
    "start_time": "2025-02-01T20:13:50.212Z"
   },
   {
    "duration": 32,
    "start_time": "2025-02-01T20:13:50.248Z"
   },
   {
    "duration": 39,
    "start_time": "2025-02-01T20:13:50.281Z"
   },
   {
    "duration": 61,
    "start_time": "2025-02-01T20:13:50.322Z"
   },
   {
    "duration": 52,
    "start_time": "2025-02-01T20:13:50.385Z"
   },
   {
    "duration": 9,
    "start_time": "2025-02-01T20:13:50.439Z"
   },
   {
    "duration": 183,
    "start_time": "2025-02-01T20:13:50.450Z"
   },
   {
    "duration": 1247,
    "start_time": "2025-02-01T20:25:31.790Z"
   },
   {
    "duration": 2470,
    "start_time": "2025-02-01T20:25:33.039Z"
   },
   {
    "duration": 14,
    "start_time": "2025-02-01T20:25:35.511Z"
   },
   {
    "duration": 20,
    "start_time": "2025-02-01T20:25:35.528Z"
   },
   {
    "duration": 139,
    "start_time": "2025-02-01T20:25:35.551Z"
   },
   {
    "duration": 121,
    "start_time": "2025-02-01T20:25:35.691Z"
   },
   {
    "duration": 0,
    "start_time": "2025-02-01T20:25:35.815Z"
   },
   {
    "duration": 0,
    "start_time": "2025-02-01T20:25:35.816Z"
   },
   {
    "duration": 0,
    "start_time": "2025-02-01T20:25:35.818Z"
   },
   {
    "duration": 0,
    "start_time": "2025-02-01T20:25:35.820Z"
   },
   {
    "duration": 0,
    "start_time": "2025-02-01T20:25:35.823Z"
   },
   {
    "duration": 0,
    "start_time": "2025-02-01T20:25:35.825Z"
   },
   {
    "duration": 0,
    "start_time": "2025-02-01T20:25:35.826Z"
   },
   {
    "duration": 0,
    "start_time": "2025-02-01T20:25:35.828Z"
   },
   {
    "duration": 0,
    "start_time": "2025-02-01T20:25:35.829Z"
   },
   {
    "duration": 0,
    "start_time": "2025-02-01T20:25:35.830Z"
   },
   {
    "duration": 0,
    "start_time": "2025-02-01T20:25:35.831Z"
   },
   {
    "duration": 0,
    "start_time": "2025-02-01T20:25:35.832Z"
   },
   {
    "duration": 0,
    "start_time": "2025-02-01T20:25:35.833Z"
   },
   {
    "duration": 15,
    "start_time": "2025-02-01T20:25:58.249Z"
   },
   {
    "duration": 49,
    "start_time": "2025-02-01T20:28:49.477Z"
   },
   {
    "duration": 6,
    "start_time": "2025-02-01T20:28:56.617Z"
   },
   {
    "duration": 1195,
    "start_time": "2025-02-01T20:29:12.146Z"
   },
   {
    "duration": 2608,
    "start_time": "2025-02-01T20:29:13.343Z"
   },
   {
    "duration": 13,
    "start_time": "2025-02-01T20:29:15.953Z"
   },
   {
    "duration": 59,
    "start_time": "2025-02-01T20:29:15.968Z"
   },
   {
    "duration": 102,
    "start_time": "2025-02-01T20:29:16.029Z"
   },
   {
    "duration": 50,
    "start_time": "2025-02-01T20:29:16.133Z"
   },
   {
    "duration": 15,
    "start_time": "2025-02-01T20:29:16.185Z"
   },
   {
    "duration": 27,
    "start_time": "2025-02-01T20:29:16.202Z"
   },
   {
    "duration": 72,
    "start_time": "2025-02-01T20:29:16.232Z"
   },
   {
    "duration": 10,
    "start_time": "2025-02-01T20:29:16.307Z"
   },
   {
    "duration": 25,
    "start_time": "2025-02-01T20:29:16.319Z"
   },
   {
    "duration": 8,
    "start_time": "2025-02-01T20:29:16.346Z"
   },
   {
    "duration": 53,
    "start_time": "2025-02-01T20:29:16.356Z"
   },
   {
    "duration": 34,
    "start_time": "2025-02-01T20:29:16.411Z"
   },
   {
    "duration": 11,
    "start_time": "2025-02-01T20:29:16.447Z"
   },
   {
    "duration": 62,
    "start_time": "2025-02-01T20:29:16.460Z"
   },
   {
    "duration": 165,
    "start_time": "2025-02-01T20:29:16.524Z"
   },
   {
    "duration": 32,
    "start_time": "2025-02-01T20:29:16.691Z"
   },
   {
    "duration": 5,
    "start_time": "2025-02-01T20:29:16.726Z"
   },
   {
    "duration": 1263,
    "start_time": "2025-02-01T20:29:55.973Z"
   },
   {
    "duration": 2237,
    "start_time": "2025-02-01T20:29:57.238Z"
   },
   {
    "duration": 11,
    "start_time": "2025-02-01T20:29:59.477Z"
   },
   {
    "duration": 60,
    "start_time": "2025-02-01T20:29:59.490Z"
   },
   {
    "duration": 106,
    "start_time": "2025-02-01T20:29:59.552Z"
   },
   {
    "duration": 31,
    "start_time": "2025-02-01T20:29:59.660Z"
   },
   {
    "duration": 14,
    "start_time": "2025-02-01T20:29:59.692Z"
   },
   {
    "duration": 53,
    "start_time": "2025-02-01T20:29:59.710Z"
   },
   {
    "duration": 32,
    "start_time": "2025-02-01T20:29:59.765Z"
   },
   {
    "duration": 8,
    "start_time": "2025-02-01T20:29:59.800Z"
   },
   {
    "duration": 34,
    "start_time": "2025-02-01T20:29:59.810Z"
   },
   {
    "duration": 9,
    "start_time": "2025-02-01T20:29:59.847Z"
   },
   {
    "duration": 149,
    "start_time": "2025-02-01T20:29:59.857Z"
   },
   {
    "duration": 38,
    "start_time": "2025-02-01T20:30:00.008Z"
   },
   {
    "duration": 25,
    "start_time": "2025-02-01T20:30:00.048Z"
   },
   {
    "duration": 68,
    "start_time": "2025-02-01T20:30:00.075Z"
   },
   {
    "duration": 95,
    "start_time": "2025-02-01T20:30:00.144Z"
   },
   {
    "duration": 18,
    "start_time": "2025-02-01T20:30:00.241Z"
   },
   {
    "duration": 36,
    "start_time": "2025-02-01T20:30:00.261Z"
   },
   {
    "duration": 110,
    "start_time": "2025-02-01T21:35:25.167Z"
   },
   {
    "duration": 7,
    "start_time": "2025-02-01T21:39:14.277Z"
   },
   {
    "duration": 15,
    "start_time": "2025-02-01T21:39:34.314Z"
   },
   {
    "duration": 10,
    "start_time": "2025-02-01T21:42:37.983Z"
   },
   {
    "duration": 1276,
    "start_time": "2025-02-01T21:43:04.979Z"
   },
   {
    "duration": 2635,
    "start_time": "2025-02-01T21:43:06.257Z"
   },
   {
    "duration": 15,
    "start_time": "2025-02-01T21:43:08.893Z"
   },
   {
    "duration": 62,
    "start_time": "2025-02-01T21:43:08.910Z"
   },
   {
    "duration": 113,
    "start_time": "2025-02-01T21:43:08.974Z"
   },
   {
    "duration": 30,
    "start_time": "2025-02-01T21:43:09.089Z"
   },
   {
    "duration": 5,
    "start_time": "2025-02-01T21:43:09.121Z"
   },
   {
    "duration": 28,
    "start_time": "2025-02-01T21:43:09.127Z"
   },
   {
    "duration": 53,
    "start_time": "2025-02-01T21:43:09.157Z"
   },
   {
    "duration": 11,
    "start_time": "2025-02-01T21:43:09.211Z"
   },
   {
    "duration": 48,
    "start_time": "2025-02-01T21:43:09.224Z"
   },
   {
    "duration": 17,
    "start_time": "2025-02-01T21:43:09.275Z"
   },
   {
    "duration": 19,
    "start_time": "2025-02-01T21:43:09.294Z"
   },
   {
    "duration": 11,
    "start_time": "2025-02-01T21:43:09.316Z"
   },
   {
    "duration": 17,
    "start_time": "2025-02-01T21:43:09.329Z"
   },
   {
    "duration": 7,
    "start_time": "2025-02-01T21:43:09.347Z"
   },
   {
    "duration": 83,
    "start_time": "2025-02-01T21:43:09.356Z"
   },
   {
    "duration": 9,
    "start_time": "2025-02-01T21:43:09.440Z"
   },
   {
    "duration": 8,
    "start_time": "2025-02-01T21:43:09.450Z"
   },
   {
    "duration": 14,
    "start_time": "2025-02-01T21:43:09.460Z"
   },
   {
    "duration": 28,
    "start_time": "2025-02-01T21:43:09.476Z"
   },
   {
    "duration": 1087,
    "start_time": "2025-02-01T21:46:22.903Z"
   },
   {
    "duration": 202,
    "start_time": "2025-02-01T21:47:27.101Z"
   },
   {
    "duration": 81,
    "start_time": "2025-02-01T21:47:30.281Z"
   },
   {
    "duration": 41,
    "start_time": "2025-02-01T21:49:17.923Z"
   },
   {
    "duration": 77,
    "start_time": "2025-02-01T21:49:21.424Z"
   },
   {
    "duration": 34,
    "start_time": "2025-02-01T21:50:55.206Z"
   },
   {
    "duration": 84,
    "start_time": "2025-02-01T21:50:58.128Z"
   },
   {
    "duration": 1049,
    "start_time": "2025-02-01T21:53:00.741Z"
   },
   {
    "duration": 6,
    "start_time": "2025-02-01T21:53:21.740Z"
   },
   {
    "duration": 6,
    "start_time": "2025-02-01T21:53:30.159Z"
   },
   {
    "duration": 24,
    "start_time": "2025-02-01T21:58:27.867Z"
   },
   {
    "duration": 15,
    "start_time": "2025-02-01T22:00:26.117Z"
   },
   {
    "duration": 12,
    "start_time": "2025-02-01T22:00:41.023Z"
   },
   {
    "duration": 85,
    "start_time": "2025-02-01T22:00:44.637Z"
   },
   {
    "duration": 87,
    "start_time": "2025-02-01T22:05:42.669Z"
   },
   {
    "duration": 86,
    "start_time": "2025-02-01T22:05:47.863Z"
   },
   {
    "duration": 29,
    "start_time": "2025-02-01T22:06:29.569Z"
   },
   {
    "duration": 1237,
    "start_time": "2025-02-01T22:06:37.289Z"
   },
   {
    "duration": 1937,
    "start_time": "2025-02-01T22:06:38.528Z"
   },
   {
    "duration": 12,
    "start_time": "2025-02-01T22:06:40.467Z"
   },
   {
    "duration": 39,
    "start_time": "2025-02-01T22:06:40.481Z"
   },
   {
    "duration": 109,
    "start_time": "2025-02-01T22:06:40.522Z"
   },
   {
    "duration": 52,
    "start_time": "2025-02-01T22:06:40.632Z"
   },
   {
    "duration": 17,
    "start_time": "2025-02-01T22:06:40.685Z"
   },
   {
    "duration": 131,
    "start_time": "2025-02-01T22:06:40.705Z"
   },
   {
    "duration": 24,
    "start_time": "2025-02-01T22:06:40.838Z"
   },
   {
    "duration": 134,
    "start_time": "2025-02-01T22:06:40.864Z"
   },
   {
    "duration": 32,
    "start_time": "2025-02-01T22:06:40.999Z"
   },
   {
    "duration": 7,
    "start_time": "2025-02-01T22:06:41.033Z"
   },
   {
    "duration": 11,
    "start_time": "2025-02-01T22:06:41.042Z"
   },
   {
    "duration": 14,
    "start_time": "2025-02-01T22:06:41.055Z"
   },
   {
    "duration": 21,
    "start_time": "2025-02-01T22:06:41.071Z"
   },
   {
    "duration": 12,
    "start_time": "2025-02-01T22:06:41.101Z"
   },
   {
    "duration": 42,
    "start_time": "2025-02-01T22:06:41.116Z"
   },
   {
    "duration": 14,
    "start_time": "2025-02-01T22:06:41.159Z"
   },
   {
    "duration": 25,
    "start_time": "2025-02-01T22:06:41.175Z"
   },
   {
    "duration": 22,
    "start_time": "2025-02-01T22:06:41.202Z"
   },
   {
    "duration": 219,
    "start_time": "2025-02-01T22:06:41.225Z"
   },
   {
    "duration": 85,
    "start_time": "2025-02-01T22:06:41.446Z"
   },
   {
    "duration": 5,
    "start_time": "2025-02-01T22:06:41.533Z"
   },
   {
    "duration": 54,
    "start_time": "2025-02-01T22:08:52.883Z"
   },
   {
    "duration": 78,
    "start_time": "2025-02-01T22:08:56.696Z"
   },
   {
    "duration": 55,
    "start_time": "2025-02-01T22:09:26.711Z"
   },
   {
    "duration": 88,
    "start_time": "2025-02-01T22:09:31.470Z"
   },
   {
    "duration": 69,
    "start_time": "2025-02-01T22:12:22.320Z"
   },
   {
    "duration": 89,
    "start_time": "2025-02-01T22:12:24.853Z"
   },
   {
    "duration": 71,
    "start_time": "2025-02-01T22:14:33.817Z"
   },
   {
    "duration": 77,
    "start_time": "2025-02-01T22:14:36.550Z"
   },
   {
    "duration": 5,
    "start_time": "2025-02-01T22:14:48.663Z"
   },
   {
    "duration": 8,
    "start_time": "2025-02-01T22:16:55.064Z"
   },
   {
    "duration": 26,
    "start_time": "2025-02-01T22:17:01.160Z"
   },
   {
    "duration": 24,
    "start_time": "2025-02-01T22:19:20.253Z"
   },
   {
    "duration": 16,
    "start_time": "2025-02-01T22:19:23.318Z"
   },
   {
    "duration": 1076,
    "start_time": "2025-02-01T22:29:17.242Z"
   },
   {
    "duration": 12,
    "start_time": "2025-02-01T22:30:22.343Z"
   },
   {
    "duration": 18,
    "start_time": "2025-02-01T22:30:25.747Z"
   },
   {
    "duration": 10,
    "start_time": "2025-02-01T22:30:58.141Z"
   },
   {
    "duration": 12,
    "start_time": "2025-02-01T22:32:02.725Z"
   },
   {
    "duration": 14,
    "start_time": "2025-02-01T22:32:05.714Z"
   },
   {
    "duration": 51,
    "start_time": "2025-02-01T22:32:35.810Z"
   },
   {
    "duration": 17,
    "start_time": "2025-02-01T22:33:43.046Z"
   },
   {
    "duration": 39,
    "start_time": "2025-02-01T22:33:45.044Z"
   },
   {
    "duration": 1252,
    "start_time": "2025-02-01T22:34:01.692Z"
   },
   {
    "duration": 2430,
    "start_time": "2025-02-01T22:34:02.946Z"
   },
   {
    "duration": 24,
    "start_time": "2025-02-01T22:34:05.378Z"
   },
   {
    "duration": 36,
    "start_time": "2025-02-01T22:34:05.404Z"
   },
   {
    "duration": 113,
    "start_time": "2025-02-01T22:34:05.442Z"
   },
   {
    "duration": 71,
    "start_time": "2025-02-01T22:34:05.558Z"
   },
   {
    "duration": 5,
    "start_time": "2025-02-01T22:34:05.632Z"
   },
   {
    "duration": 63,
    "start_time": "2025-02-01T22:34:05.639Z"
   },
   {
    "duration": 36,
    "start_time": "2025-02-01T22:34:05.704Z"
   },
   {
    "duration": 59,
    "start_time": "2025-02-01T22:34:05.743Z"
   },
   {
    "duration": 34,
    "start_time": "2025-02-01T22:34:05.804Z"
   },
   {
    "duration": 82,
    "start_time": "2025-02-01T22:34:05.839Z"
   },
   {
    "duration": 15,
    "start_time": "2025-02-01T22:34:05.923Z"
   },
   {
    "duration": 14,
    "start_time": "2025-02-01T22:34:05.939Z"
   },
   {
    "duration": 41,
    "start_time": "2025-02-01T22:34:05.954Z"
   },
   {
    "duration": 28,
    "start_time": "2025-02-01T22:34:05.997Z"
   },
   {
    "duration": 57,
    "start_time": "2025-02-01T22:34:06.027Z"
   },
   {
    "duration": 9,
    "start_time": "2025-02-01T22:34:06.085Z"
   },
   {
    "duration": 45,
    "start_time": "2025-02-01T22:34:06.095Z"
   },
   {
    "duration": 57,
    "start_time": "2025-02-01T22:34:06.141Z"
   },
   {
    "duration": 222,
    "start_time": "2025-02-01T22:34:06.200Z"
   },
   {
    "duration": 9,
    "start_time": "2025-02-01T22:34:06.424Z"
   },
   {
    "duration": 164,
    "start_time": "2025-02-01T22:34:06.435Z"
   },
   {
    "duration": 18,
    "start_time": "2025-02-01T22:34:06.601Z"
   },
   {
    "duration": 13,
    "start_time": "2025-02-01T22:34:06.624Z"
   },
   {
    "duration": 17,
    "start_time": "2025-02-01T22:34:06.638Z"
   },
   {
    "duration": 69,
    "start_time": "2025-02-01T22:34:06.657Z"
   },
   {
    "duration": 17,
    "start_time": "2025-02-01T22:34:28.824Z"
   },
   {
    "duration": 41,
    "start_time": "2025-02-01T22:34:31.429Z"
   },
   {
    "duration": 107,
    "start_time": "2025-02-01T22:35:15.978Z"
   },
   {
    "duration": 12,
    "start_time": "2025-02-01T22:35:23.262Z"
   },
   {
    "duration": 7,
    "start_time": "2025-02-01T22:38:36.652Z"
   },
   {
    "duration": 19,
    "start_time": "2025-02-01T22:41:21.552Z"
   },
   {
    "duration": 14,
    "start_time": "2025-02-01T22:41:48.025Z"
   },
   {
    "duration": 1232,
    "start_time": "2025-02-01T22:48:00.325Z"
   },
   {
    "duration": 2431,
    "start_time": "2025-02-01T22:48:01.559Z"
   },
   {
    "duration": 22,
    "start_time": "2025-02-01T22:48:03.992Z"
   },
   {
    "duration": 12,
    "start_time": "2025-02-01T22:48:04.018Z"
   },
   {
    "duration": 135,
    "start_time": "2025-02-01T22:48:04.032Z"
   },
   {
    "duration": 59,
    "start_time": "2025-02-01T22:48:04.168Z"
   },
   {
    "duration": 5,
    "start_time": "2025-02-01T22:48:04.228Z"
   },
   {
    "duration": 39,
    "start_time": "2025-02-01T22:48:04.235Z"
   },
   {
    "duration": 44,
    "start_time": "2025-02-01T22:48:04.276Z"
   },
   {
    "duration": 67,
    "start_time": "2025-02-01T22:48:04.323Z"
   },
   {
    "duration": 33,
    "start_time": "2025-02-01T22:48:04.392Z"
   },
   {
    "duration": 7,
    "start_time": "2025-02-01T22:48:04.427Z"
   },
   {
    "duration": 15,
    "start_time": "2025-02-01T22:48:04.436Z"
   },
   {
    "duration": 10,
    "start_time": "2025-02-01T22:48:04.453Z"
   },
   {
    "duration": 83,
    "start_time": "2025-02-01T22:48:04.464Z"
   },
   {
    "duration": 69,
    "start_time": "2025-02-01T22:48:04.549Z"
   },
   {
    "duration": 51,
    "start_time": "2025-02-01T22:48:04.620Z"
   },
   {
    "duration": 9,
    "start_time": "2025-02-01T22:48:04.672Z"
   },
   {
    "duration": 37,
    "start_time": "2025-02-01T22:48:04.682Z"
   },
   {
    "duration": 207,
    "start_time": "2025-02-01T22:48:04.721Z"
   },
   {
    "duration": 8,
    "start_time": "2025-02-01T22:48:04.929Z"
   },
   {
    "duration": 26,
    "start_time": "2025-02-01T22:48:04.938Z"
   },
   {
    "duration": 10,
    "start_time": "2025-02-01T22:48:04.965Z"
   },
   {
    "duration": 81,
    "start_time": "2025-02-01T22:48:04.977Z"
   },
   {
    "duration": 20,
    "start_time": "2025-02-01T22:48:05.059Z"
   },
   {
    "duration": 98,
    "start_time": "2025-02-01T22:48:05.081Z"
   },
   {
    "duration": 16,
    "start_time": "2025-02-01T22:48:05.181Z"
   },
   {
    "duration": 184,
    "start_time": "2025-02-01T22:48:05.200Z"
   },
   {
    "duration": 72,
    "start_time": "2025-02-01T22:48:05.386Z"
   },
   {
    "duration": 49,
    "start_time": "2025-02-01T22:48:05.461Z"
   },
   {
    "duration": 14,
    "start_time": "2025-02-01T22:48:05.516Z"
   },
   {
    "duration": 15,
    "start_time": "2025-02-01T22:48:05.532Z"
   },
   {
    "duration": 106,
    "start_time": "2025-02-01T22:48:05.549Z"
   },
   {
    "duration": 86,
    "start_time": "2025-02-01T22:49:50.007Z"
   },
   {
    "duration": 1253,
    "start_time": "2025-02-01T22:53:36.278Z"
   },
   {
    "duration": 2215,
    "start_time": "2025-02-01T22:53:37.533Z"
   },
   {
    "duration": 12,
    "start_time": "2025-02-01T22:53:39.750Z"
   },
   {
    "duration": 10,
    "start_time": "2025-02-01T22:53:39.764Z"
   },
   {
    "duration": 138,
    "start_time": "2025-02-01T22:53:39.776Z"
   },
   {
    "duration": 31,
    "start_time": "2025-02-01T22:53:39.917Z"
   },
   {
    "duration": 4,
    "start_time": "2025-02-01T22:53:39.950Z"
   },
   {
    "duration": 45,
    "start_time": "2025-02-01T22:53:39.956Z"
   },
   {
    "duration": 35,
    "start_time": "2025-02-01T22:53:40.012Z"
   },
   {
    "duration": 7,
    "start_time": "2025-02-01T22:53:40.049Z"
   },
   {
    "duration": 27,
    "start_time": "2025-02-01T22:53:40.057Z"
   },
   {
    "duration": 7,
    "start_time": "2025-02-01T22:53:40.086Z"
   },
   {
    "duration": 20,
    "start_time": "2025-02-01T22:53:40.100Z"
   },
   {
    "duration": 11,
    "start_time": "2025-02-01T22:53:40.122Z"
   },
   {
    "duration": 10,
    "start_time": "2025-02-01T22:53:40.135Z"
   },
   {
    "duration": 7,
    "start_time": "2025-02-01T22:53:40.147Z"
   },
   {
    "duration": 82,
    "start_time": "2025-02-01T22:53:40.155Z"
   },
   {
    "duration": 13,
    "start_time": "2025-02-01T22:53:40.239Z"
   },
   {
    "duration": 11,
    "start_time": "2025-02-01T22:53:40.254Z"
   },
   {
    "duration": 2,
    "start_time": "2025-02-01T22:53:40.267Z"
   },
   {
    "duration": 236,
    "start_time": "2025-02-01T22:53:40.271Z"
   },
   {
    "duration": 16,
    "start_time": "2025-02-01T22:53:40.508Z"
   },
   {
    "duration": 85,
    "start_time": "2025-02-01T22:53:40.526Z"
   },
   {
    "duration": 12,
    "start_time": "2025-02-01T22:53:40.613Z"
   },
   {
    "duration": 14,
    "start_time": "2025-02-01T22:53:40.626Z"
   },
   {
    "duration": 15,
    "start_time": "2025-02-01T22:53:40.641Z"
   },
   {
    "duration": 12,
    "start_time": "2025-02-01T22:53:40.658Z"
   },
   {
    "duration": 207,
    "start_time": "2025-02-01T22:53:40.673Z"
   },
   {
    "duration": 52,
    "start_time": "2025-02-01T22:53:40.882Z"
   },
   {
    "duration": 19,
    "start_time": "2025-02-01T22:53:40.936Z"
   },
   {
    "duration": 12,
    "start_time": "2025-02-01T22:53:40.957Z"
   },
   {
    "duration": 45,
    "start_time": "2025-02-01T22:53:40.971Z"
   },
   {
    "duration": 68,
    "start_time": "2025-02-01T22:53:41.017Z"
   },
   {
    "duration": 33,
    "start_time": "2025-02-01T22:55:01.532Z"
   },
   {
    "duration": 1273,
    "start_time": "2025-02-01T22:55:27.384Z"
   },
   {
    "duration": 1981,
    "start_time": "2025-02-01T22:55:28.659Z"
   },
   {
    "duration": 13,
    "start_time": "2025-02-01T22:55:30.641Z"
   },
   {
    "duration": 16,
    "start_time": "2025-02-01T22:55:30.657Z"
   },
   {
    "duration": 130,
    "start_time": "2025-02-01T22:55:30.675Z"
   },
   {
    "duration": 60,
    "start_time": "2025-02-01T22:55:30.810Z"
   },
   {
    "duration": 5,
    "start_time": "2025-02-01T22:55:30.871Z"
   },
   {
    "duration": 80,
    "start_time": "2025-02-01T22:55:30.877Z"
   },
   {
    "duration": 56,
    "start_time": "2025-02-01T22:55:30.959Z"
   },
   {
    "duration": 14,
    "start_time": "2025-02-01T22:55:31.019Z"
   },
   {
    "duration": 102,
    "start_time": "2025-02-01T22:55:31.035Z"
   },
   {
    "duration": 34,
    "start_time": "2025-02-01T22:55:31.139Z"
   },
   {
    "duration": 28,
    "start_time": "2025-02-01T22:55:31.175Z"
   },
   {
    "duration": 19,
    "start_time": "2025-02-01T22:55:31.206Z"
   },
   {
    "duration": 22,
    "start_time": "2025-02-01T22:55:31.227Z"
   },
   {
    "duration": 7,
    "start_time": "2025-02-01T22:55:31.250Z"
   },
   {
    "duration": 78,
    "start_time": "2025-02-01T22:55:31.258Z"
   },
   {
    "duration": 8,
    "start_time": "2025-02-01T22:55:31.338Z"
   },
   {
    "duration": 11,
    "start_time": "2025-02-01T22:55:31.348Z"
   },
   {
    "duration": 3,
    "start_time": "2025-02-01T22:55:31.360Z"
   },
   {
    "duration": 206,
    "start_time": "2025-02-01T22:55:31.365Z"
   },
   {
    "duration": 8,
    "start_time": "2025-02-01T22:55:31.573Z"
   },
   {
    "duration": 42,
    "start_time": "2025-02-01T22:55:31.582Z"
   },
   {
    "duration": 15,
    "start_time": "2025-02-01T22:55:31.626Z"
   },
   {
    "duration": 22,
    "start_time": "2025-02-01T22:55:31.643Z"
   },
   {
    "duration": 11,
    "start_time": "2025-02-01T22:55:31.667Z"
   },
   {
    "duration": 39,
    "start_time": "2025-02-01T22:55:31.680Z"
   },
   {
    "duration": 157,
    "start_time": "2025-02-01T22:55:31.723Z"
   },
   {
    "duration": 55,
    "start_time": "2025-02-01T22:55:31.882Z"
   },
   {
    "duration": 40,
    "start_time": "2025-02-01T22:55:31.940Z"
   },
   {
    "duration": 38,
    "start_time": "2025-02-01T22:55:31.981Z"
   },
   {
    "duration": 12,
    "start_time": "2025-02-01T22:55:32.021Z"
   },
   {
    "duration": 9,
    "start_time": "2025-02-01T22:55:32.034Z"
   },
   {
    "duration": 100,
    "start_time": "2025-02-01T22:55:32.045Z"
   },
   {
    "duration": 127,
    "start_time": "2025-02-01T23:16:42.715Z"
   },
   {
    "duration": 56,
    "start_time": "2025-02-01T23:17:01.491Z"
   },
   {
    "duration": 36,
    "start_time": "2025-02-01T23:17:16.341Z"
   },
   {
    "duration": 33,
    "start_time": "2025-02-01T23:18:36.765Z"
   },
   {
    "duration": 24,
    "start_time": "2025-02-01T23:19:02.548Z"
   },
   {
    "duration": 35,
    "start_time": "2025-02-01T23:19:16.830Z"
   },
   {
    "duration": 40,
    "start_time": "2025-02-01T23:23:39.877Z"
   },
   {
    "duration": 42,
    "start_time": "2025-02-01T23:24:41.996Z"
   },
   {
    "duration": 37,
    "start_time": "2025-02-01T23:26:01.240Z"
   },
   {
    "duration": 46,
    "start_time": "2025-02-01T23:26:47.925Z"
   },
   {
    "duration": 1269,
    "start_time": "2025-02-01T23:29:39.608Z"
   },
   {
    "duration": 2470,
    "start_time": "2025-02-01T23:29:40.879Z"
   },
   {
    "duration": 13,
    "start_time": "2025-02-01T23:29:43.351Z"
   },
   {
    "duration": 11,
    "start_time": "2025-02-01T23:29:43.366Z"
   },
   {
    "duration": 157,
    "start_time": "2025-02-01T23:29:43.380Z"
   },
   {
    "duration": 52,
    "start_time": "2025-02-01T23:29:43.538Z"
   },
   {
    "duration": 5,
    "start_time": "2025-02-01T23:29:43.592Z"
   },
   {
    "duration": 45,
    "start_time": "2025-02-01T23:29:43.602Z"
   },
   {
    "duration": 26,
    "start_time": "2025-02-01T23:29:43.649Z"
   },
   {
    "duration": 31,
    "start_time": "2025-02-01T23:29:43.676Z"
   },
   {
    "duration": 30,
    "start_time": "2025-02-01T23:29:43.709Z"
   },
   {
    "duration": 7,
    "start_time": "2025-02-01T23:29:43.741Z"
   },
   {
    "duration": 14,
    "start_time": "2025-02-01T23:29:43.750Z"
   },
   {
    "duration": 41,
    "start_time": "2025-02-01T23:29:43.766Z"
   },
   {
    "duration": 19,
    "start_time": "2025-02-01T23:29:43.816Z"
   },
   {
    "duration": 7,
    "start_time": "2025-02-01T23:29:43.836Z"
   },
   {
    "duration": 41,
    "start_time": "2025-02-01T23:29:43.844Z"
   },
   {
    "duration": 32,
    "start_time": "2025-02-01T23:29:43.887Z"
   },
   {
    "duration": 15,
    "start_time": "2025-02-01T23:29:43.922Z"
   },
   {
    "duration": 3,
    "start_time": "2025-02-01T23:29:43.938Z"
   },
   {
    "duration": 199,
    "start_time": "2025-02-01T23:29:43.942Z"
   },
   {
    "duration": 8,
    "start_time": "2025-02-01T23:29:44.143Z"
   },
   {
    "duration": 25,
    "start_time": "2025-02-01T23:29:44.152Z"
   },
   {
    "duration": 42,
    "start_time": "2025-02-01T23:29:44.179Z"
   },
   {
    "duration": 15,
    "start_time": "2025-02-01T23:29:44.225Z"
   },
   {
    "duration": 14,
    "start_time": "2025-02-01T23:29:44.242Z"
   },
   {
    "duration": 11,
    "start_time": "2025-02-01T23:29:44.257Z"
   },
   {
    "duration": 198,
    "start_time": "2025-02-01T23:29:44.270Z"
   },
   {
    "duration": 64,
    "start_time": "2025-02-01T23:29:44.470Z"
   },
   {
    "duration": 18,
    "start_time": "2025-02-01T23:29:44.536Z"
   },
   {
    "duration": 13,
    "start_time": "2025-02-01T23:29:44.555Z"
   },
   {
    "duration": 34,
    "start_time": "2025-02-01T23:29:44.569Z"
   },
   {
    "duration": 81,
    "start_time": "2025-02-01T23:29:44.610Z"
   },
   {
    "duration": 181,
    "start_time": "2025-02-01T23:29:44.692Z"
   },
   {
    "duration": 42,
    "start_time": "2025-02-01T23:32:23.520Z"
   },
   {
    "duration": 38,
    "start_time": "2025-02-01T23:34:54.143Z"
   },
   {
    "duration": 42,
    "start_time": "2025-02-01T23:35:09.116Z"
   },
   {
    "duration": 45,
    "start_time": "2025-02-01T23:35:56.826Z"
   },
   {
    "duration": 1024,
    "start_time": "2025-02-01T23:39:17.753Z"
   },
   {
    "duration": 1054,
    "start_time": "2025-02-01T23:39:35.138Z"
   },
   {
    "duration": 34,
    "start_time": "2025-02-01T23:40:26.925Z"
   },
   {
    "duration": 17,
    "start_time": "2025-02-01T23:42:20.158Z"
   },
   {
    "duration": 47,
    "start_time": "2025-02-01T23:42:29.615Z"
   },
   {
    "duration": 1117,
    "start_time": "2025-02-01T23:42:45.653Z"
   },
   {
    "duration": 33,
    "start_time": "2025-02-01T23:42:59.230Z"
   },
   {
    "duration": 992,
    "start_time": "2025-02-01T23:43:31.486Z"
   },
   {
    "duration": 36,
    "start_time": "2025-02-01T23:46:45.061Z"
   },
   {
    "duration": 42,
    "start_time": "2025-02-01T23:46:54.015Z"
   },
   {
    "duration": 36,
    "start_time": "2025-02-01T23:47:05.350Z"
   },
   {
    "duration": 51,
    "start_time": "2025-02-01T23:47:16.888Z"
   },
   {
    "duration": 67,
    "start_time": "2025-02-01T23:47:44.885Z"
   },
   {
    "duration": 34,
    "start_time": "2025-02-01T23:49:56.954Z"
   },
   {
    "duration": 37,
    "start_time": "2025-02-01T23:51:13.693Z"
   },
   {
    "duration": 38,
    "start_time": "2025-02-01T23:52:13.783Z"
   },
   {
    "duration": 1195,
    "start_time": "2025-02-01T23:52:39.958Z"
   },
   {
    "duration": 35,
    "start_time": "2025-02-02T00:03:40.657Z"
   },
   {
    "duration": 1173,
    "start_time": "2025-02-02T00:03:58.052Z"
   },
   {
    "duration": 2456,
    "start_time": "2025-02-02T00:03:59.228Z"
   },
   {
    "duration": 27,
    "start_time": "2025-02-02T00:04:01.688Z"
   },
   {
    "duration": 17,
    "start_time": "2025-02-02T00:04:01.720Z"
   },
   {
    "duration": 120,
    "start_time": "2025-02-02T00:04:01.738Z"
   },
   {
    "duration": 65,
    "start_time": "2025-02-02T00:04:01.860Z"
   },
   {
    "duration": 5,
    "start_time": "2025-02-02T00:04:01.927Z"
   },
   {
    "duration": 45,
    "start_time": "2025-02-02T00:04:01.934Z"
   },
   {
    "duration": 61,
    "start_time": "2025-02-02T00:04:01.982Z"
   },
   {
    "duration": 12,
    "start_time": "2025-02-02T00:04:02.045Z"
   },
   {
    "duration": 40,
    "start_time": "2025-02-02T00:04:02.059Z"
   },
   {
    "duration": 46,
    "start_time": "2025-02-02T00:04:02.101Z"
   },
   {
    "duration": 22,
    "start_time": "2025-02-02T00:04:02.149Z"
   },
   {
    "duration": 35,
    "start_time": "2025-02-02T00:04:02.172Z"
   },
   {
    "duration": 45,
    "start_time": "2025-02-02T00:04:02.209Z"
   },
   {
    "duration": 21,
    "start_time": "2025-02-02T00:04:02.256Z"
   },
   {
    "duration": 76,
    "start_time": "2025-02-02T00:04:02.278Z"
   },
   {
    "duration": 10,
    "start_time": "2025-02-02T00:04:02.356Z"
   },
   {
    "duration": 55,
    "start_time": "2025-02-02T00:04:02.369Z"
   },
   {
    "duration": 3,
    "start_time": "2025-02-02T00:04:02.425Z"
   },
   {
    "duration": 242,
    "start_time": "2025-02-02T00:04:02.430Z"
   },
   {
    "duration": 7,
    "start_time": "2025-02-02T00:04:02.674Z"
   },
   {
    "duration": 47,
    "start_time": "2025-02-02T00:04:02.683Z"
   },
   {
    "duration": 24,
    "start_time": "2025-02-02T00:04:02.731Z"
   },
   {
    "duration": 73,
    "start_time": "2025-02-02T00:04:02.756Z"
   },
   {
    "duration": 14,
    "start_time": "2025-02-02T00:04:02.831Z"
   },
   {
    "duration": 11,
    "start_time": "2025-02-02T00:04:02.849Z"
   },
   {
    "duration": 227,
    "start_time": "2025-02-02T00:04:02.862Z"
   },
   {
    "duration": 50,
    "start_time": "2025-02-02T00:04:03.091Z"
   },
   {
    "duration": 77,
    "start_time": "2025-02-02T00:04:03.142Z"
   },
   {
    "duration": 21,
    "start_time": "2025-02-02T00:04:03.221Z"
   },
   {
    "duration": 76,
    "start_time": "2025-02-02T00:04:03.244Z"
   },
   {
    "duration": 157,
    "start_time": "2025-02-02T00:04:03.322Z"
   },
   {
    "duration": 169,
    "start_time": "2025-02-02T00:04:03.481Z"
   },
   {
    "duration": 38,
    "start_time": "2025-02-02T00:07:14.037Z"
   },
   {
    "duration": 36,
    "start_time": "2025-02-02T00:08:00.046Z"
   },
   {
    "duration": 49,
    "start_time": "2025-02-02T00:08:18.096Z"
   },
   {
    "duration": 88,
    "start_time": "2025-02-02T00:10:18.915Z"
   },
   {
    "duration": 35,
    "start_time": "2025-02-02T00:10:26.755Z"
   },
   {
    "duration": 1232,
    "start_time": "2025-02-02T00:11:48.858Z"
   },
   {
    "duration": 35,
    "start_time": "2025-02-02T00:12:12.025Z"
   },
   {
    "duration": 47,
    "start_time": "2025-02-02T00:13:15.582Z"
   },
   {
    "duration": 44,
    "start_time": "2025-02-02T00:13:47.584Z"
   },
   {
    "duration": 35,
    "start_time": "2025-02-02T00:14:17.738Z"
   },
   {
    "duration": 24,
    "start_time": "2025-02-02T00:24:51.392Z"
   },
   {
    "duration": 168,
    "start_time": "2025-02-02T00:25:07.108Z"
   },
   {
    "duration": 176,
    "start_time": "2025-02-02T00:25:21.194Z"
   },
   {
    "duration": 163,
    "start_time": "2025-02-02T00:25:42.932Z"
   },
   {
    "duration": 211,
    "start_time": "2025-02-02T00:26:44.533Z"
   },
   {
    "duration": 173,
    "start_time": "2025-02-02T00:27:48.476Z"
   },
   {
    "duration": 162,
    "start_time": "2025-02-02T00:30:04.526Z"
   },
   {
    "duration": 53,
    "start_time": "2025-02-02T00:31:15.088Z"
   },
   {
    "duration": 188,
    "start_time": "2025-02-02T00:32:02.166Z"
   },
   {
    "duration": 69,
    "start_time": "2025-02-02T00:32:55.287Z"
   },
   {
    "duration": 168,
    "start_time": "2025-02-02T00:33:03.129Z"
   },
   {
    "duration": 9,
    "start_time": "2025-02-02T00:33:37.320Z"
   },
   {
    "duration": 4,
    "start_time": "2025-02-02T00:33:44.829Z"
   },
   {
    "duration": 161,
    "start_time": "2025-02-02T00:33:59.520Z"
   },
   {
    "duration": 52,
    "start_time": "2025-02-02T00:34:45.680Z"
   },
   {
    "duration": 36,
    "start_time": "2025-02-02T00:35:26.188Z"
   },
   {
    "duration": 27,
    "start_time": "2025-02-02T00:35:46.156Z"
   },
   {
    "duration": 39,
    "start_time": "2025-02-02T00:35:57.312Z"
   },
   {
    "duration": 23,
    "start_time": "2025-02-02T00:37:17.017Z"
   },
   {
    "duration": 25,
    "start_time": "2025-02-02T00:38:03.683Z"
   },
   {
    "duration": 17,
    "start_time": "2025-02-02T00:38:37.685Z"
   },
   {
    "duration": 92,
    "start_time": "2025-02-02T00:39:04.969Z"
   },
   {
    "duration": 46,
    "start_time": "2025-02-02T00:43:14.491Z"
   },
   {
    "duration": 1236,
    "start_time": "2025-02-02T00:44:00.214Z"
   },
   {
    "duration": 2610,
    "start_time": "2025-02-02T00:44:01.451Z"
   },
   {
    "duration": 13,
    "start_time": "2025-02-02T00:44:04.062Z"
   },
   {
    "duration": 49,
    "start_time": "2025-02-02T00:44:04.077Z"
   },
   {
    "duration": 106,
    "start_time": "2025-02-02T00:44:04.128Z"
   },
   {
    "duration": 32,
    "start_time": "2025-02-02T00:44:04.236Z"
   },
   {
    "duration": 5,
    "start_time": "2025-02-02T00:44:04.269Z"
   },
   {
    "duration": 64,
    "start_time": "2025-02-02T00:44:04.275Z"
   },
   {
    "duration": 24,
    "start_time": "2025-02-02T00:44:04.341Z"
   },
   {
    "duration": 20,
    "start_time": "2025-02-02T00:44:04.368Z"
   },
   {
    "duration": 41,
    "start_time": "2025-02-02T00:44:04.389Z"
   },
   {
    "duration": 7,
    "start_time": "2025-02-02T00:44:04.432Z"
   },
   {
    "duration": 15,
    "start_time": "2025-02-02T00:44:04.441Z"
   },
   {
    "duration": 9,
    "start_time": "2025-02-02T00:44:04.457Z"
   },
   {
    "duration": 44,
    "start_time": "2025-02-02T00:44:04.468Z"
   },
   {
    "duration": 11,
    "start_time": "2025-02-02T00:44:04.514Z"
   },
   {
    "duration": 44,
    "start_time": "2025-02-02T00:44:04.527Z"
   },
   {
    "duration": 36,
    "start_time": "2025-02-02T00:44:04.573Z"
   },
   {
    "duration": 20,
    "start_time": "2025-02-02T00:44:04.617Z"
   },
   {
    "duration": 3,
    "start_time": "2025-02-02T00:44:04.638Z"
   },
   {
    "duration": 203,
    "start_time": "2025-02-02T00:44:04.643Z"
   },
   {
    "duration": 8,
    "start_time": "2025-02-02T00:44:04.847Z"
   },
   {
    "duration": 94,
    "start_time": "2025-02-02T00:44:04.856Z"
   },
   {
    "duration": 10,
    "start_time": "2025-02-02T00:44:04.951Z"
   },
   {
    "duration": 28,
    "start_time": "2025-02-02T00:44:04.962Z"
   },
   {
    "duration": 34,
    "start_time": "2025-02-02T00:44:04.992Z"
   },
   {
    "duration": 55,
    "start_time": "2025-02-02T00:44:05.029Z"
   },
   {
    "duration": 188,
    "start_time": "2025-02-02T00:44:05.087Z"
   },
   {
    "duration": 66,
    "start_time": "2025-02-02T00:44:05.276Z"
   },
   {
    "duration": 25,
    "start_time": "2025-02-02T00:44:05.343Z"
   },
   {
    "duration": 109,
    "start_time": "2025-02-02T00:44:05.369Z"
   },
   {
    "duration": 56,
    "start_time": "2025-02-02T00:44:05.480Z"
   },
   {
    "duration": 102,
    "start_time": "2025-02-02T00:44:05.538Z"
   },
   {
    "duration": 73,
    "start_time": "2025-02-02T00:44:05.642Z"
   },
   {
    "duration": 33,
    "start_time": "2025-02-02T00:46:22.629Z"
   },
   {
    "duration": 46,
    "start_time": "2025-02-02T00:46:56.450Z"
   },
   {
    "duration": 40,
    "start_time": "2025-02-02T00:47:28.188Z"
   },
   {
    "duration": 1204,
    "start_time": "2025-02-02T00:50:16.687Z"
   },
   {
    "duration": 1384,
    "start_time": "2025-02-02T18:58:05.366Z"
   },
   {
    "duration": 2039,
    "start_time": "2025-02-02T18:58:06.752Z"
   },
   {
    "duration": 18,
    "start_time": "2025-02-02T18:58:08.793Z"
   },
   {
    "duration": 18,
    "start_time": "2025-02-02T18:58:08.814Z"
   },
   {
    "duration": 144,
    "start_time": "2025-02-02T18:58:08.835Z"
   },
   {
    "duration": 40,
    "start_time": "2025-02-02T18:58:08.981Z"
   },
   {
    "duration": 5,
    "start_time": "2025-02-02T18:58:09.023Z"
   },
   {
    "duration": 31,
    "start_time": "2025-02-02T18:58:09.030Z"
   },
   {
    "duration": 50,
    "start_time": "2025-02-02T18:58:09.063Z"
   },
   {
    "duration": 9,
    "start_time": "2025-02-02T18:58:09.115Z"
   },
   {
    "duration": 20,
    "start_time": "2025-02-02T18:58:09.126Z"
   },
   {
    "duration": 7,
    "start_time": "2025-02-02T18:58:09.148Z"
   },
   {
    "duration": 28,
    "start_time": "2025-02-02T18:58:09.156Z"
   },
   {
    "duration": 10,
    "start_time": "2025-02-02T18:58:09.209Z"
   },
   {
    "duration": 11,
    "start_time": "2025-02-02T18:58:09.221Z"
   },
   {
    "duration": 7,
    "start_time": "2025-02-02T18:58:09.234Z"
   },
   {
    "duration": 67,
    "start_time": "2025-02-02T18:58:09.243Z"
   },
   {
    "duration": 10,
    "start_time": "2025-02-02T18:58:09.312Z"
   },
   {
    "duration": 12,
    "start_time": "2025-02-02T18:58:09.324Z"
   },
   {
    "duration": 3,
    "start_time": "2025-02-02T18:58:09.337Z"
   },
   {
    "duration": 197,
    "start_time": "2025-02-02T18:58:09.341Z"
   },
   {
    "duration": 8,
    "start_time": "2025-02-02T18:58:09.540Z"
   },
   {
    "duration": 25,
    "start_time": "2025-02-02T18:58:09.549Z"
   },
   {
    "duration": 10,
    "start_time": "2025-02-02T18:58:09.576Z"
   },
   {
    "duration": 33,
    "start_time": "2025-02-02T18:58:09.588Z"
   },
   {
    "duration": 13,
    "start_time": "2025-02-02T18:58:09.622Z"
   },
   {
    "duration": 77,
    "start_time": "2025-02-02T18:58:09.637Z"
   },
   {
    "duration": 165,
    "start_time": "2025-02-02T18:58:09.715Z"
   },
   {
    "duration": 55,
    "start_time": "2025-02-02T18:58:09.882Z"
   },
   {
    "duration": 26,
    "start_time": "2025-02-02T18:58:09.939Z"
   },
   {
    "duration": 43,
    "start_time": "2025-02-02T18:58:09.967Z"
   },
   {
    "duration": 17,
    "start_time": "2025-02-02T18:58:10.012Z"
   },
   {
    "duration": 90,
    "start_time": "2025-02-02T18:58:10.030Z"
   },
   {
    "duration": 60,
    "start_time": "2025-02-02T18:58:10.122Z"
   },
   {
    "duration": 1260,
    "start_time": "2025-02-02T18:58:10.184Z"
   },
   {
    "duration": 161,
    "start_time": "2025-02-02T19:04:30.203Z"
   },
   {
    "duration": 40,
    "start_time": "2025-02-02T19:53:32.655Z"
   },
   {
    "duration": 37,
    "start_time": "2025-02-02T19:53:51.027Z"
   },
   {
    "duration": 40,
    "start_time": "2025-02-02T19:55:05.212Z"
   },
   {
    "duration": 9,
    "start_time": "2025-02-02T20:23:32.761Z"
   },
   {
    "duration": 1074,
    "start_time": "2025-02-02T20:23:38.363Z"
   },
   {
    "duration": 971,
    "start_time": "2025-02-02T20:24:55.587Z"
   },
   {
    "duration": 10,
    "start_time": "2025-02-02T20:25:04.642Z"
   },
   {
    "duration": 62,
    "start_time": "2025-02-02T20:25:50.522Z"
   },
   {
    "duration": 61,
    "start_time": "2025-02-02T20:26:02.462Z"
   },
   {
    "duration": 59,
    "start_time": "2025-02-02T20:26:09.950Z"
   },
   {
    "duration": 90,
    "start_time": "2025-02-02T20:26:14.215Z"
   },
   {
    "duration": 19,
    "start_time": "2025-02-02T20:26:19.705Z"
   },
   {
    "duration": 8,
    "start_time": "2025-02-02T20:27:13.456Z"
   },
   {
    "duration": 1205,
    "start_time": "2025-02-02T20:27:22.574Z"
   },
   {
    "duration": 2216,
    "start_time": "2025-02-02T20:27:23.781Z"
   },
   {
    "duration": 15,
    "start_time": "2025-02-02T20:27:25.999Z"
   },
   {
    "duration": 16,
    "start_time": "2025-02-02T20:27:26.018Z"
   },
   {
    "duration": 125,
    "start_time": "2025-02-02T20:27:26.035Z"
   },
   {
    "duration": 62,
    "start_time": "2025-02-02T20:27:26.161Z"
   },
   {
    "duration": 8,
    "start_time": "2025-02-02T20:27:26.228Z"
   },
   {
    "duration": 35,
    "start_time": "2025-02-02T20:27:26.239Z"
   },
   {
    "duration": 57,
    "start_time": "2025-02-02T20:27:26.276Z"
   },
   {
    "duration": 8,
    "start_time": "2025-02-02T20:27:26.336Z"
   },
   {
    "duration": 20,
    "start_time": "2025-02-02T20:27:26.346Z"
   },
   {
    "duration": 7,
    "start_time": "2025-02-02T20:27:26.367Z"
   },
   {
    "duration": 43,
    "start_time": "2025-02-02T20:27:26.376Z"
   },
   {
    "duration": 11,
    "start_time": "2025-02-02T20:27:26.426Z"
   },
   {
    "duration": 11,
    "start_time": "2025-02-02T20:27:26.438Z"
   },
   {
    "duration": 7,
    "start_time": "2025-02-02T20:27:26.450Z"
   },
   {
    "duration": 72,
    "start_time": "2025-02-02T20:27:26.459Z"
   },
   {
    "duration": 9,
    "start_time": "2025-02-02T20:27:26.533Z"
   },
   {
    "duration": 13,
    "start_time": "2025-02-02T20:27:26.543Z"
   },
   {
    "duration": 4,
    "start_time": "2025-02-02T20:27:26.557Z"
   },
   {
    "duration": 185,
    "start_time": "2025-02-02T20:27:26.562Z"
   },
   {
    "duration": 8,
    "start_time": "2025-02-02T20:27:26.749Z"
   },
   {
    "duration": 30,
    "start_time": "2025-02-02T20:27:26.759Z"
   },
   {
    "duration": 24,
    "start_time": "2025-02-02T20:27:26.791Z"
   },
   {
    "duration": 21,
    "start_time": "2025-02-02T20:27:26.817Z"
   },
   {
    "duration": 12,
    "start_time": "2025-02-02T20:27:26.840Z"
   },
   {
    "duration": 72,
    "start_time": "2025-02-02T20:27:26.854Z"
   },
   {
    "duration": 166,
    "start_time": "2025-02-02T20:27:26.931Z"
   },
   {
    "duration": 58,
    "start_time": "2025-02-02T20:27:27.098Z"
   },
   {
    "duration": 28,
    "start_time": "2025-02-02T20:27:27.158Z"
   },
   {
    "duration": 46,
    "start_time": "2025-02-02T20:27:27.187Z"
   },
   {
    "duration": 17,
    "start_time": "2025-02-02T20:27:27.234Z"
   },
   {
    "duration": 99,
    "start_time": "2025-02-02T20:27:27.253Z"
   },
   {
    "duration": 72,
    "start_time": "2025-02-02T20:27:27.353Z"
   },
   {
    "duration": 9,
    "start_time": "2025-02-02T20:27:27.427Z"
   },
   {
    "duration": 120,
    "start_time": "2025-02-02T20:27:27.437Z"
   },
   {
    "duration": 0,
    "start_time": "2025-02-02T20:27:27.558Z"
   },
   {
    "duration": 0,
    "start_time": "2025-02-02T20:27:27.559Z"
   },
   {
    "duration": 1305,
    "start_time": "2025-02-02T20:27:45.292Z"
   },
   {
    "duration": 1190,
    "start_time": "2025-02-02T20:27:56.875Z"
   },
   {
    "duration": 2144,
    "start_time": "2025-02-02T20:27:58.067Z"
   },
   {
    "duration": 16,
    "start_time": "2025-02-02T20:28:00.219Z"
   },
   {
    "duration": 12,
    "start_time": "2025-02-02T20:28:00.239Z"
   },
   {
    "duration": 126,
    "start_time": "2025-02-02T20:28:00.253Z"
   },
   {
    "duration": 75,
    "start_time": "2025-02-02T20:28:00.381Z"
   },
   {
    "duration": 4,
    "start_time": "2025-02-02T20:28:00.458Z"
   },
   {
    "duration": 49,
    "start_time": "2025-02-02T20:28:00.464Z"
   },
   {
    "duration": 31,
    "start_time": "2025-02-02T20:28:00.518Z"
   },
   {
    "duration": 8,
    "start_time": "2025-02-02T20:28:00.551Z"
   },
   {
    "duration": 27,
    "start_time": "2025-02-02T20:28:00.560Z"
   },
   {
    "duration": 6,
    "start_time": "2025-02-02T20:28:00.589Z"
   },
   {
    "duration": 30,
    "start_time": "2025-02-02T20:28:00.597Z"
   },
   {
    "duration": 17,
    "start_time": "2025-02-02T20:28:00.629Z"
   },
   {
    "duration": 20,
    "start_time": "2025-02-02T20:28:00.648Z"
   },
   {
    "duration": 35,
    "start_time": "2025-02-02T20:28:00.670Z"
   },
   {
    "duration": 57,
    "start_time": "2025-02-02T20:28:00.706Z"
   },
   {
    "duration": 9,
    "start_time": "2025-02-02T20:28:00.765Z"
   },
   {
    "duration": 12,
    "start_time": "2025-02-02T20:28:00.776Z"
   },
   {
    "duration": 55,
    "start_time": "2025-02-02T20:28:00.790Z"
   },
   {
    "duration": 180,
    "start_time": "2025-02-02T20:28:00.846Z"
   },
   {
    "duration": 8,
    "start_time": "2025-02-02T20:28:01.028Z"
   },
   {
    "duration": 28,
    "start_time": "2025-02-02T20:28:01.038Z"
   },
   {
    "duration": 12,
    "start_time": "2025-02-02T20:28:01.068Z"
   },
   {
    "duration": 39,
    "start_time": "2025-02-02T20:28:01.081Z"
   },
   {
    "duration": 13,
    "start_time": "2025-02-02T20:28:01.124Z"
   },
   {
    "duration": 63,
    "start_time": "2025-02-02T20:28:01.138Z"
   },
   {
    "duration": 177,
    "start_time": "2025-02-02T20:28:01.203Z"
   },
   {
    "duration": 63,
    "start_time": "2025-02-02T20:28:01.382Z"
   },
   {
    "duration": 27,
    "start_time": "2025-02-02T20:28:01.447Z"
   },
   {
    "duration": 50,
    "start_time": "2025-02-02T20:28:01.475Z"
   },
   {
    "duration": 15,
    "start_time": "2025-02-02T20:28:01.528Z"
   },
   {
    "duration": 103,
    "start_time": "2025-02-02T20:28:01.544Z"
   },
   {
    "duration": 77,
    "start_time": "2025-02-02T20:28:01.649Z"
   },
   {
    "duration": 13,
    "start_time": "2025-02-02T20:28:01.729Z"
   },
   {
    "duration": 192,
    "start_time": "2025-02-02T20:28:01.745Z"
   },
   {
    "duration": 0,
    "start_time": "2025-02-02T20:28:01.938Z"
   },
   {
    "duration": 9,
    "start_time": "2025-02-02T20:28:29.383Z"
   },
   {
    "duration": 60,
    "start_time": "2025-02-02T20:29:10.862Z"
   },
   {
    "duration": 42,
    "start_time": "2025-02-02T20:29:30.278Z"
   },
   {
    "duration": 37,
    "start_time": "2025-02-02T20:30:49.259Z"
   },
   {
    "duration": 56,
    "start_time": "2025-02-02T20:31:33.624Z"
   },
   {
    "duration": 11,
    "start_time": "2025-02-02T20:32:01.330Z"
   },
   {
    "duration": 88,
    "start_time": "2025-02-02T20:33:17.766Z"
   },
   {
    "duration": 163,
    "start_time": "2025-02-02T20:34:22.698Z"
   },
   {
    "duration": 5,
    "start_time": "2025-02-02T20:44:13.643Z"
   },
   {
    "duration": 15,
    "start_time": "2025-02-02T20:45:40.469Z"
   },
   {
    "duration": 12,
    "start_time": "2025-02-02T20:46:12.034Z"
   },
   {
    "duration": 1670,
    "start_time": "2025-02-04T12:56:01.784Z"
   },
   {
    "duration": 2279,
    "start_time": "2025-02-04T12:56:03.456Z"
   },
   {
    "duration": 13,
    "start_time": "2025-02-04T12:56:05.737Z"
   },
   {
    "duration": 52,
    "start_time": "2025-02-04T12:56:05.752Z"
   },
   {
    "duration": 120,
    "start_time": "2025-02-04T12:56:05.807Z"
   },
   {
    "duration": 50,
    "start_time": "2025-02-04T12:56:05.929Z"
   },
   {
    "duration": 4,
    "start_time": "2025-02-04T12:56:05.981Z"
   },
   {
    "duration": 75,
    "start_time": "2025-02-04T12:56:05.999Z"
   },
   {
    "duration": 83,
    "start_time": "2025-02-04T12:56:06.075Z"
   },
   {
    "duration": 12,
    "start_time": "2025-02-04T12:56:06.160Z"
   },
   {
    "duration": 46,
    "start_time": "2025-02-04T12:56:06.173Z"
   },
   {
    "duration": 30,
    "start_time": "2025-02-04T12:56:06.220Z"
   },
   {
    "duration": 42,
    "start_time": "2025-02-04T12:56:06.251Z"
   },
   {
    "duration": 11,
    "start_time": "2025-02-04T12:56:06.296Z"
   },
   {
    "duration": 20,
    "start_time": "2025-02-04T12:56:06.309Z"
   },
   {
    "duration": 10,
    "start_time": "2025-02-04T12:56:06.330Z"
   },
   {
    "duration": 98,
    "start_time": "2025-02-04T12:56:06.342Z"
   },
   {
    "duration": 10,
    "start_time": "2025-02-04T12:56:06.441Z"
   },
   {
    "duration": 34,
    "start_time": "2025-02-04T12:56:06.452Z"
   },
   {
    "duration": 3,
    "start_time": "2025-02-04T12:56:06.487Z"
   },
   {
    "duration": 160,
    "start_time": "2025-02-04T12:56:06.492Z"
   },
   {
    "duration": 8,
    "start_time": "2025-02-04T12:56:06.653Z"
   },
   {
    "duration": 36,
    "start_time": "2025-02-04T12:56:06.663Z"
   },
   {
    "duration": 12,
    "start_time": "2025-02-04T12:56:06.701Z"
   },
   {
    "duration": 19,
    "start_time": "2025-02-04T12:56:06.715Z"
   },
   {
    "duration": 13,
    "start_time": "2025-02-04T12:56:06.735Z"
   },
   {
    "duration": 84,
    "start_time": "2025-02-04T12:56:06.750Z"
   },
   {
    "duration": 171,
    "start_time": "2025-02-04T12:56:06.836Z"
   },
   {
    "duration": 47,
    "start_time": "2025-02-04T12:56:07.009Z"
   },
   {
    "duration": 46,
    "start_time": "2025-02-04T12:56:07.058Z"
   },
   {
    "duration": 22,
    "start_time": "2025-02-04T12:56:07.106Z"
   },
   {
    "duration": 30,
    "start_time": "2025-02-04T12:56:07.129Z"
   },
   {
    "duration": 117,
    "start_time": "2025-02-04T12:56:07.160Z"
   },
   {
    "duration": 90,
    "start_time": "2025-02-04T12:56:07.278Z"
   },
   {
    "duration": 11,
    "start_time": "2025-02-04T12:56:07.370Z"
   },
   {
    "duration": 179,
    "start_time": "2025-02-04T12:56:07.383Z"
   },
   {
    "duration": 12,
    "start_time": "2025-02-04T12:56:07.564Z"
   },
   {
    "duration": 163,
    "start_time": "2025-02-04T12:59:37.320Z"
   },
   {
    "duration": 17,
    "start_time": "2025-02-04T13:00:51.076Z"
   },
   {
    "duration": 165,
    "start_time": "2025-02-04T13:01:24.915Z"
   },
   {
    "duration": 64,
    "start_time": "2025-02-04T13:02:48.133Z"
   },
   {
    "duration": 1271,
    "start_time": "2025-02-04T13:03:11.992Z"
   },
   {
    "duration": 3215,
    "start_time": "2025-02-04T13:03:13.266Z"
   },
   {
    "duration": 22,
    "start_time": "2025-02-04T13:03:16.483Z"
   },
   {
    "duration": 22,
    "start_time": "2025-02-04T13:03:16.508Z"
   },
   {
    "duration": 116,
    "start_time": "2025-02-04T13:03:16.533Z"
   },
   {
    "duration": 60,
    "start_time": "2025-02-04T13:03:16.651Z"
   },
   {
    "duration": 5,
    "start_time": "2025-02-04T13:03:16.713Z"
   },
   {
    "duration": 65,
    "start_time": "2025-02-04T13:03:16.720Z"
   },
   {
    "duration": 52,
    "start_time": "2025-02-04T13:03:16.787Z"
   },
   {
    "duration": 28,
    "start_time": "2025-02-04T13:03:16.842Z"
   },
   {
    "duration": 34,
    "start_time": "2025-02-04T13:03:16.872Z"
   },
   {
    "duration": 39,
    "start_time": "2025-02-04T13:03:16.908Z"
   },
   {
    "duration": 40,
    "start_time": "2025-02-04T13:03:16.949Z"
   },
   {
    "duration": 27,
    "start_time": "2025-02-04T13:03:16.994Z"
   },
   {
    "duration": 59,
    "start_time": "2025-02-04T13:03:17.023Z"
   },
   {
    "duration": 42,
    "start_time": "2025-02-04T13:03:17.084Z"
   },
   {
    "duration": 107,
    "start_time": "2025-02-04T13:03:17.128Z"
   },
   {
    "duration": 18,
    "start_time": "2025-02-04T13:03:17.237Z"
   },
   {
    "duration": 27,
    "start_time": "2025-02-04T13:03:17.257Z"
   },
   {
    "duration": 18,
    "start_time": "2025-02-04T13:03:17.286Z"
   },
   {
    "duration": 171,
    "start_time": "2025-02-04T13:03:17.306Z"
   },
   {
    "duration": 22,
    "start_time": "2025-02-04T13:03:17.479Z"
   },
   {
    "duration": 38,
    "start_time": "2025-02-04T13:03:17.503Z"
   },
   {
    "duration": 12,
    "start_time": "2025-02-04T13:03:17.543Z"
   },
   {
    "duration": 15,
    "start_time": "2025-02-04T13:03:17.557Z"
   },
   {
    "duration": 34,
    "start_time": "2025-02-04T13:03:17.574Z"
   },
   {
    "duration": 61,
    "start_time": "2025-02-04T13:03:17.610Z"
   },
   {
    "duration": 180,
    "start_time": "2025-02-04T13:03:17.673Z"
   },
   {
    "duration": 65,
    "start_time": "2025-02-04T13:03:17.855Z"
   },
   {
    "duration": 30,
    "start_time": "2025-02-04T13:03:17.922Z"
   },
   {
    "duration": 49,
    "start_time": "2025-02-04T13:03:17.954Z"
   },
   {
    "duration": 18,
    "start_time": "2025-02-04T13:03:18.006Z"
   },
   {
    "duration": 110,
    "start_time": "2025-02-04T13:03:18.027Z"
   },
   {
    "duration": 96,
    "start_time": "2025-02-04T13:03:18.140Z"
   },
   {
    "duration": 12,
    "start_time": "2025-02-04T13:03:18.239Z"
   },
   {
    "duration": 197,
    "start_time": "2025-02-04T13:03:18.253Z"
   },
   {
    "duration": 172,
    "start_time": "2025-02-04T13:03:18.452Z"
   },
   {
    "duration": 12,
    "start_time": "2025-02-04T13:03:18.626Z"
   },
   {
    "duration": 164,
    "start_time": "2025-02-04T13:03:39.915Z"
   },
   {
    "duration": 67,
    "start_time": "2025-02-04T13:04:05.416Z"
   },
   {
    "duration": 63,
    "start_time": "2025-02-04T13:05:34.757Z"
   },
   {
    "duration": 61,
    "start_time": "2025-02-04T13:06:13.739Z"
   },
   {
    "duration": 12,
    "start_time": "2025-02-04T13:06:40.675Z"
   },
   {
    "duration": 10,
    "start_time": "2025-02-04T13:07:06.660Z"
   },
   {
    "duration": 15,
    "start_time": "2025-02-04T13:07:14.473Z"
   },
   {
    "duration": 177,
    "start_time": "2025-02-04T13:09:32.751Z"
   },
   {
    "duration": 120,
    "start_time": "2025-02-04T13:10:13.144Z"
   },
   {
    "duration": 15,
    "start_time": "2025-02-04T13:10:28.527Z"
   },
   {
    "duration": 19,
    "start_time": "2025-02-04T13:15:20.985Z"
   },
   {
    "duration": 19,
    "start_time": "2025-02-04T13:17:01.031Z"
   },
   {
    "duration": 161,
    "start_time": "2025-02-04T13:18:42.464Z"
   },
   {
    "duration": 19,
    "start_time": "2025-02-04T13:24:33.657Z"
   },
   {
    "duration": 7,
    "start_time": "2025-02-04T13:25:28.738Z"
   },
   {
    "duration": 10,
    "start_time": "2025-02-04T13:32:18.082Z"
   },
   {
    "duration": 71,
    "start_time": "2025-02-04T13:32:42.007Z"
   },
   {
    "duration": 77,
    "start_time": "2025-02-04T13:32:52.747Z"
   },
   {
    "duration": 16,
    "start_time": "2025-02-04T13:33:22.272Z"
   },
   {
    "duration": 17,
    "start_time": "2025-02-04T13:34:12.071Z"
   },
   {
    "duration": 8,
    "start_time": "2025-02-04T13:34:32.936Z"
   },
   {
    "duration": 17,
    "start_time": "2025-02-04T13:34:51.062Z"
   },
   {
    "duration": 1284,
    "start_time": "2025-02-04T13:35:24.571Z"
   },
   {
    "duration": 3137,
    "start_time": "2025-02-04T13:35:25.857Z"
   },
   {
    "duration": 16,
    "start_time": "2025-02-04T13:35:28.996Z"
   },
   {
    "duration": 24,
    "start_time": "2025-02-04T13:35:29.014Z"
   },
   {
    "duration": 134,
    "start_time": "2025-02-04T13:35:29.041Z"
   },
   {
    "duration": 63,
    "start_time": "2025-02-04T13:35:29.177Z"
   },
   {
    "duration": 7,
    "start_time": "2025-02-04T13:35:29.242Z"
   },
   {
    "duration": 59,
    "start_time": "2025-02-04T13:35:29.252Z"
   },
   {
    "duration": 57,
    "start_time": "2025-02-04T13:35:29.313Z"
   },
   {
    "duration": 9,
    "start_time": "2025-02-04T13:35:29.372Z"
   },
   {
    "duration": 40,
    "start_time": "2025-02-04T13:35:29.383Z"
   },
   {
    "duration": 9,
    "start_time": "2025-02-04T13:35:29.425Z"
   },
   {
    "duration": 24,
    "start_time": "2025-02-04T13:35:29.435Z"
   },
   {
    "duration": 11,
    "start_time": "2025-02-04T13:35:29.462Z"
   },
   {
    "duration": 29,
    "start_time": "2025-02-04T13:35:29.476Z"
   },
   {
    "duration": 8,
    "start_time": "2025-02-04T13:35:29.507Z"
   },
   {
    "duration": 44,
    "start_time": "2025-02-04T13:35:29.517Z"
   },
   {
    "duration": 35,
    "start_time": "2025-02-04T13:35:29.564Z"
   },
   {
    "duration": 35,
    "start_time": "2025-02-04T13:35:29.601Z"
   },
   {
    "duration": 3,
    "start_time": "2025-02-04T13:35:29.638Z"
   },
   {
    "duration": 194,
    "start_time": "2025-02-04T13:35:29.643Z"
   },
   {
    "duration": 10,
    "start_time": "2025-02-04T13:35:29.839Z"
   },
   {
    "duration": 52,
    "start_time": "2025-02-04T13:35:29.851Z"
   },
   {
    "duration": 12,
    "start_time": "2025-02-04T13:35:29.905Z"
   },
   {
    "duration": 13,
    "start_time": "2025-02-04T13:35:29.920Z"
   },
   {
    "duration": 13,
    "start_time": "2025-02-04T13:35:29.935Z"
   },
   {
    "duration": 74,
    "start_time": "2025-02-04T13:35:29.949Z"
   },
   {
    "duration": 174,
    "start_time": "2025-02-04T13:35:30.025Z"
   },
   {
    "duration": 53,
    "start_time": "2025-02-04T13:35:30.201Z"
   },
   {
    "duration": 122,
    "start_time": "2025-02-04T13:35:30.256Z"
   },
   {
    "duration": 48,
    "start_time": "2025-02-04T13:35:30.380Z"
   },
   {
    "duration": 39,
    "start_time": "2025-02-04T13:35:30.431Z"
   },
   {
    "duration": 94,
    "start_time": "2025-02-04T13:35:30.472Z"
   },
   {
    "duration": 94,
    "start_time": "2025-02-04T13:35:30.568Z"
   },
   {
    "duration": 12,
    "start_time": "2025-02-04T13:35:30.664Z"
   },
   {
    "duration": 254,
    "start_time": "2025-02-04T13:35:30.678Z"
   },
   {
    "duration": 260,
    "start_time": "2025-02-04T13:35:30.934Z"
   },
   {
    "duration": 20,
    "start_time": "2025-02-04T13:35:31.200Z"
   },
   {
    "duration": 43,
    "start_time": "2025-02-04T13:35:31.222Z"
   },
   {
    "duration": 125,
    "start_time": "2025-02-04T13:35:31.267Z"
   },
   {
    "duration": 194,
    "start_time": "2025-02-04T13:35:31.396Z"
   },
   {
    "duration": 93,
    "start_time": "2025-02-04T13:37:02.439Z"
   },
   {
    "duration": 111,
    "start_time": "2025-02-04T13:37:51.495Z"
   },
   {
    "duration": 15,
    "start_time": "2025-02-04T13:44:51.933Z"
   },
   {
    "duration": 10,
    "start_time": "2025-02-04T13:47:18.770Z"
   },
   {
    "duration": 87,
    "start_time": "2025-02-04T13:47:42.380Z"
   },
   {
    "duration": 9,
    "start_time": "2025-02-04T13:48:20.008Z"
   },
   {
    "duration": 1251,
    "start_time": "2025-02-04T13:48:30.907Z"
   },
   {
    "duration": 2115,
    "start_time": "2025-02-04T13:48:32.160Z"
   },
   {
    "duration": 23,
    "start_time": "2025-02-04T13:48:34.277Z"
   },
   {
    "duration": 60,
    "start_time": "2025-02-04T13:48:34.303Z"
   },
   {
    "duration": 104,
    "start_time": "2025-02-04T13:48:34.366Z"
   },
   {
    "duration": 38,
    "start_time": "2025-02-04T13:48:34.472Z"
   },
   {
    "duration": 5,
    "start_time": "2025-02-04T13:48:34.512Z"
   },
   {
    "duration": 39,
    "start_time": "2025-02-04T13:48:34.518Z"
   },
   {
    "duration": 44,
    "start_time": "2025-02-04T13:48:34.559Z"
   },
   {
    "duration": 20,
    "start_time": "2025-02-04T13:48:34.606Z"
   },
   {
    "duration": 27,
    "start_time": "2025-02-04T13:48:34.627Z"
   },
   {
    "duration": 8,
    "start_time": "2025-02-04T13:48:34.656Z"
   },
   {
    "duration": 33,
    "start_time": "2025-02-04T13:48:34.666Z"
   },
   {
    "duration": 22,
    "start_time": "2025-02-04T13:48:34.701Z"
   },
   {
    "duration": 32,
    "start_time": "2025-02-04T13:48:34.725Z"
   },
   {
    "duration": 6,
    "start_time": "2025-02-04T13:48:34.759Z"
   },
   {
    "duration": 50,
    "start_time": "2025-02-04T13:48:34.767Z"
   },
   {
    "duration": 10,
    "start_time": "2025-02-04T13:48:34.818Z"
   },
   {
    "duration": 15,
    "start_time": "2025-02-04T13:48:34.830Z"
   },
   {
    "duration": 4,
    "start_time": "2025-02-04T13:48:34.846Z"
   },
   {
    "duration": 201,
    "start_time": "2025-02-04T13:48:34.852Z"
   },
   {
    "duration": 9,
    "start_time": "2025-02-04T13:48:35.055Z"
   },
   {
    "duration": 44,
    "start_time": "2025-02-04T13:48:35.066Z"
   },
   {
    "duration": 12,
    "start_time": "2025-02-04T13:48:35.113Z"
   },
   {
    "duration": 24,
    "start_time": "2025-02-04T13:48:35.127Z"
   },
   {
    "duration": 13,
    "start_time": "2025-02-04T13:48:35.153Z"
   },
   {
    "duration": 79,
    "start_time": "2025-02-04T13:48:35.167Z"
   },
   {
    "duration": 165,
    "start_time": "2025-02-04T13:48:35.250Z"
   },
   {
    "duration": 48,
    "start_time": "2025-02-04T13:48:35.417Z"
   },
   {
    "duration": 49,
    "start_time": "2025-02-04T13:48:35.467Z"
   },
   {
    "duration": 23,
    "start_time": "2025-02-04T13:48:35.518Z"
   },
   {
    "duration": 17,
    "start_time": "2025-02-04T13:48:35.543Z"
   },
   {
    "duration": 110,
    "start_time": "2025-02-04T13:48:35.562Z"
   },
   {
    "duration": 104,
    "start_time": "2025-02-04T13:48:35.673Z"
   },
   {
    "duration": 23,
    "start_time": "2025-02-04T13:48:35.779Z"
   },
   {
    "duration": 201,
    "start_time": "2025-02-04T13:48:35.804Z"
   },
   {
    "duration": 172,
    "start_time": "2025-02-04T13:48:36.006Z"
   },
   {
    "duration": 28,
    "start_time": "2025-02-04T13:48:36.180Z"
   },
   {
    "duration": 157,
    "start_time": "2025-02-04T13:48:36.210Z"
   },
   {
    "duration": 159,
    "start_time": "2025-02-04T13:48:36.368Z"
   },
   {
    "duration": 0,
    "start_time": "2025-02-04T13:48:36.528Z"
   },
   {
    "duration": 0,
    "start_time": "2025-02-04T13:48:36.530Z"
   },
   {
    "duration": 90,
    "start_time": "2025-02-04T13:48:57.899Z"
   },
   {
    "duration": 89,
    "start_time": "2025-02-04T13:50:00.732Z"
   },
   {
    "duration": 173,
    "start_time": "2025-02-04T13:50:16.598Z"
   },
   {
    "duration": 274,
    "start_time": "2025-02-04T13:51:36.456Z"
   },
   {
    "duration": 263,
    "start_time": "2025-02-04T13:52:01.221Z"
   },
   {
    "duration": 264,
    "start_time": "2025-02-04T13:52:17.641Z"
   },
   {
    "duration": 263,
    "start_time": "2025-02-04T13:52:30.846Z"
   },
   {
    "duration": 275,
    "start_time": "2025-02-04T13:53:16.019Z"
   },
   {
    "duration": 355,
    "start_time": "2025-02-04T13:53:26.031Z"
   },
   {
    "duration": 17,
    "start_time": "2025-02-04T13:54:27.425Z"
   },
   {
    "duration": 23,
    "start_time": "2025-02-04T13:54:55.455Z"
   },
   {
    "duration": 27,
    "start_time": "2025-02-04T13:56:19.115Z"
   },
   {
    "duration": 33,
    "start_time": "2025-02-04T13:56:53.328Z"
   },
   {
    "duration": 41,
    "start_time": "2025-02-04T13:57:36.488Z"
   },
   {
    "duration": 14,
    "start_time": "2025-02-04T13:57:47.419Z"
   },
   {
    "duration": 1336,
    "start_time": "2025-02-04T13:58:31.903Z"
   },
   {
    "duration": 2017,
    "start_time": "2025-02-04T13:58:33.241Z"
   },
   {
    "duration": 16,
    "start_time": "2025-02-04T13:58:35.260Z"
   },
   {
    "duration": 37,
    "start_time": "2025-02-04T13:58:35.278Z"
   },
   {
    "duration": 110,
    "start_time": "2025-02-04T13:58:35.318Z"
   },
   {
    "duration": 52,
    "start_time": "2025-02-04T13:58:35.430Z"
   },
   {
    "duration": 20,
    "start_time": "2025-02-04T13:58:35.484Z"
   },
   {
    "duration": 51,
    "start_time": "2025-02-04T13:58:35.506Z"
   },
   {
    "duration": 29,
    "start_time": "2025-02-04T13:58:35.559Z"
   },
   {
    "duration": 18,
    "start_time": "2025-02-04T13:58:35.590Z"
   },
   {
    "duration": 42,
    "start_time": "2025-02-04T13:58:35.611Z"
   },
   {
    "duration": 20,
    "start_time": "2025-02-04T13:58:35.655Z"
   },
   {
    "duration": 39,
    "start_time": "2025-02-04T13:58:35.677Z"
   },
   {
    "duration": 36,
    "start_time": "2025-02-04T13:58:35.721Z"
   },
   {
    "duration": 43,
    "start_time": "2025-02-04T13:58:35.758Z"
   },
   {
    "duration": 30,
    "start_time": "2025-02-04T13:58:35.804Z"
   },
   {
    "duration": 68,
    "start_time": "2025-02-04T13:58:35.836Z"
   },
   {
    "duration": 10,
    "start_time": "2025-02-04T13:58:35.906Z"
   },
   {
    "duration": 32,
    "start_time": "2025-02-04T13:58:35.918Z"
   },
   {
    "duration": 19,
    "start_time": "2025-02-04T13:58:35.952Z"
   },
   {
    "duration": 184,
    "start_time": "2025-02-04T13:58:35.973Z"
   },
   {
    "duration": 8,
    "start_time": "2025-02-04T13:58:36.159Z"
   },
   {
    "duration": 39,
    "start_time": "2025-02-04T13:58:36.169Z"
   },
   {
    "duration": 11,
    "start_time": "2025-02-04T13:58:36.209Z"
   },
   {
    "duration": 67,
    "start_time": "2025-02-04T13:58:36.222Z"
   },
   {
    "duration": 74,
    "start_time": "2025-02-04T13:58:36.291Z"
   },
   {
    "duration": 171,
    "start_time": "2025-02-04T13:58:36.367Z"
   },
   {
    "duration": 168,
    "start_time": "2025-02-04T13:58:36.541Z"
   },
   {
    "duration": 47,
    "start_time": "2025-02-04T13:58:36.711Z"
   },
   {
    "duration": 48,
    "start_time": "2025-02-04T13:58:36.760Z"
   },
   {
    "duration": 29,
    "start_time": "2025-02-04T13:58:36.810Z"
   },
   {
    "duration": 18,
    "start_time": "2025-02-04T13:58:36.841Z"
   },
   {
    "duration": 103,
    "start_time": "2025-02-04T13:58:36.861Z"
   },
   {
    "duration": 100,
    "start_time": "2025-02-04T13:58:36.966Z"
   },
   {
    "duration": 13,
    "start_time": "2025-02-04T13:58:37.068Z"
   },
   {
    "duration": 188,
    "start_time": "2025-02-04T13:58:37.082Z"
   },
   {
    "duration": 177,
    "start_time": "2025-02-04T13:58:37.271Z"
   },
   {
    "duration": 18,
    "start_time": "2025-02-04T13:58:37.450Z"
   },
   {
    "duration": 44,
    "start_time": "2025-02-04T13:58:37.469Z"
   },
   {
    "duration": 172,
    "start_time": "2025-02-04T13:58:37.515Z"
   },
   {
    "duration": 4,
    "start_time": "2025-02-04T14:19:27.417Z"
   },
   {
    "duration": 6,
    "start_time": "2025-02-04T14:19:46.436Z"
   },
   {
    "duration": 11,
    "start_time": "2025-02-04T14:21:47.903Z"
   },
   {
    "duration": 158,
    "start_time": "2025-02-04T14:23:14.407Z"
   },
   {
    "duration": 498,
    "start_time": "2025-02-04T14:23:36.518Z"
   },
   {
    "duration": 269,
    "start_time": "2025-02-04T14:24:05.317Z"
   },
   {
    "duration": 1269,
    "start_time": "2025-02-04T14:25:09.233Z"
   },
   {
    "duration": 8,
    "start_time": "2025-02-04T14:25:16.929Z"
   },
   {
    "duration": 21,
    "start_time": "2025-02-04T14:26:43.293Z"
   },
   {
    "duration": 1250,
    "start_time": "2025-02-04T14:26:53.302Z"
   },
   {
    "duration": 1951,
    "start_time": "2025-02-04T14:26:54.554Z"
   },
   {
    "duration": 14,
    "start_time": "2025-02-04T14:26:56.507Z"
   },
   {
    "duration": 13,
    "start_time": "2025-02-04T14:26:56.523Z"
   },
   {
    "duration": 125,
    "start_time": "2025-02-04T14:26:56.538Z"
   },
   {
    "duration": 68,
    "start_time": "2025-02-04T14:26:56.665Z"
   },
   {
    "duration": 6,
    "start_time": "2025-02-04T14:26:56.735Z"
   },
   {
    "duration": 36,
    "start_time": "2025-02-04T14:26:56.744Z"
   },
   {
    "duration": 29,
    "start_time": "2025-02-04T14:26:56.800Z"
   },
   {
    "duration": 9,
    "start_time": "2025-02-04T14:26:56.833Z"
   },
   {
    "duration": 56,
    "start_time": "2025-02-04T14:26:56.844Z"
   },
   {
    "duration": 8,
    "start_time": "2025-02-04T14:26:56.902Z"
   },
   {
    "duration": 15,
    "start_time": "2025-02-04T14:26:56.912Z"
   },
   {
    "duration": 11,
    "start_time": "2025-02-04T14:26:56.928Z"
   },
   {
    "duration": 11,
    "start_time": "2025-02-04T14:26:56.940Z"
   },
   {
    "duration": 8,
    "start_time": "2025-02-04T14:26:56.953Z"
   },
   {
    "duration": 78,
    "start_time": "2025-02-04T14:26:56.962Z"
   },
   {
    "duration": 10,
    "start_time": "2025-02-04T14:26:57.042Z"
   },
   {
    "duration": 11,
    "start_time": "2025-02-04T14:26:57.054Z"
   },
   {
    "duration": 2,
    "start_time": "2025-02-04T14:26:57.067Z"
   },
   {
    "duration": 180,
    "start_time": "2025-02-04T14:26:57.099Z"
   },
   {
    "duration": 9,
    "start_time": "2025-02-04T14:26:57.281Z"
   },
   {
    "duration": 26,
    "start_time": "2025-02-04T14:26:57.300Z"
   },
   {
    "duration": 12,
    "start_time": "2025-02-04T14:26:57.328Z"
   },
   {
    "duration": 21,
    "start_time": "2025-02-04T14:26:57.341Z"
   },
   {
    "duration": 12,
    "start_time": "2025-02-04T14:26:57.364Z"
   },
   {
    "duration": 80,
    "start_time": "2025-02-04T14:26:57.378Z"
   },
   {
    "duration": 174,
    "start_time": "2025-02-04T14:26:57.462Z"
   },
   {
    "duration": 62,
    "start_time": "2025-02-04T14:26:57.638Z"
   },
   {
    "duration": 29,
    "start_time": "2025-02-04T14:26:57.702Z"
   },
   {
    "duration": 21,
    "start_time": "2025-02-04T14:26:57.733Z"
   },
   {
    "duration": 17,
    "start_time": "2025-02-04T14:26:57.756Z"
   },
   {
    "duration": 80,
    "start_time": "2025-02-04T14:26:57.800Z"
   },
   {
    "duration": 99,
    "start_time": "2025-02-04T14:26:57.881Z"
   },
   {
    "duration": 28,
    "start_time": "2025-02-04T14:26:57.981Z"
   },
   {
    "duration": 196,
    "start_time": "2025-02-04T14:26:58.011Z"
   },
   {
    "duration": 184,
    "start_time": "2025-02-04T14:26:58.209Z"
   },
   {
    "duration": 19,
    "start_time": "2025-02-04T14:26:58.395Z"
   },
   {
    "duration": 21,
    "start_time": "2025-02-04T14:26:58.416Z"
   },
   {
    "duration": 206,
    "start_time": "2025-02-04T14:26:58.438Z"
   },
   {
    "duration": 13,
    "start_time": "2025-02-04T14:27:20.209Z"
   },
   {
    "duration": 160,
    "start_time": "2025-02-04T14:27:36.132Z"
   },
   {
    "duration": 158,
    "start_time": "2025-02-04T14:28:50.775Z"
   },
   {
    "duration": 166,
    "start_time": "2025-02-04T14:29:56.278Z"
   },
   {
    "duration": 15,
    "start_time": "2025-02-04T14:34:58.147Z"
   },
   {
    "duration": 50,
    "start_time": "2025-02-04T14:44:34.476Z"
   },
   {
    "duration": 1066,
    "start_time": "2025-02-04T14:44:52.655Z"
   },
   {
    "duration": 302,
    "start_time": "2025-02-04T14:52:20.340Z"
   },
   {
    "duration": 283,
    "start_time": "2025-02-04T14:52:40.871Z"
   },
   {
    "duration": 96,
    "start_time": "2025-02-04T14:58:10.604Z"
   },
   {
    "duration": 1431,
    "start_time": "2025-02-04T17:13:50.204Z"
   },
   {
    "duration": 2161,
    "start_time": "2025-02-04T17:13:51.637Z"
   },
   {
    "duration": 14,
    "start_time": "2025-02-04T17:13:53.800Z"
   },
   {
    "duration": 13,
    "start_time": "2025-02-04T17:13:53.816Z"
   },
   {
    "duration": 121,
    "start_time": "2025-02-04T17:13:53.830Z"
   },
   {
    "duration": 49,
    "start_time": "2025-02-04T17:13:53.957Z"
   },
   {
    "duration": 11,
    "start_time": "2025-02-04T17:13:54.008Z"
   },
   {
    "duration": 49,
    "start_time": "2025-02-04T17:13:54.020Z"
   },
   {
    "duration": 24,
    "start_time": "2025-02-04T17:13:54.071Z"
   },
   {
    "duration": 10,
    "start_time": "2025-02-04T17:13:54.098Z"
   },
   {
    "duration": 28,
    "start_time": "2025-02-04T17:13:54.109Z"
   },
   {
    "duration": 8,
    "start_time": "2025-02-04T17:13:54.158Z"
   },
   {
    "duration": 20,
    "start_time": "2025-02-04T17:13:54.167Z"
   },
   {
    "duration": 10,
    "start_time": "2025-02-04T17:13:54.188Z"
   },
   {
    "duration": 13,
    "start_time": "2025-02-04T17:13:54.199Z"
   },
   {
    "duration": 5,
    "start_time": "2025-02-04T17:13:54.214Z"
   },
   {
    "duration": 77,
    "start_time": "2025-02-04T17:13:54.221Z"
   },
   {
    "duration": 9,
    "start_time": "2025-02-04T17:13:54.300Z"
   },
   {
    "duration": 12,
    "start_time": "2025-02-04T17:13:54.311Z"
   },
   {
    "duration": 3,
    "start_time": "2025-02-04T17:13:54.324Z"
   },
   {
    "duration": 191,
    "start_time": "2025-02-04T17:13:54.329Z"
   },
   {
    "duration": 8,
    "start_time": "2025-02-04T17:13:54.521Z"
   },
   {
    "duration": 36,
    "start_time": "2025-02-04T17:13:54.531Z"
   },
   {
    "duration": 11,
    "start_time": "2025-02-04T17:13:54.569Z"
   },
   {
    "duration": 12,
    "start_time": "2025-02-04T17:13:54.581Z"
   },
   {
    "duration": 11,
    "start_time": "2025-02-04T17:13:54.595Z"
   },
   {
    "duration": 85,
    "start_time": "2025-02-04T17:13:54.608Z"
   },
   {
    "duration": 170,
    "start_time": "2025-02-04T17:13:54.696Z"
   },
   {
    "duration": 44,
    "start_time": "2025-02-04T17:13:54.868Z"
   },
   {
    "duration": 49,
    "start_time": "2025-02-04T17:13:54.914Z"
   },
   {
    "duration": 21,
    "start_time": "2025-02-04T17:13:54.965Z"
   },
   {
    "duration": 17,
    "start_time": "2025-02-04T17:13:54.988Z"
   },
   {
    "duration": 104,
    "start_time": "2025-02-04T17:13:55.007Z"
   },
   {
    "duration": 87,
    "start_time": "2025-02-04T17:13:55.113Z"
   },
   {
    "duration": 10,
    "start_time": "2025-02-04T17:13:55.202Z"
   },
   {
    "duration": 193,
    "start_time": "2025-02-04T17:13:55.214Z"
   },
   {
    "duration": 157,
    "start_time": "2025-02-04T17:13:55.408Z"
   },
   {
    "duration": 17,
    "start_time": "2025-02-04T17:13:55.567Z"
   },
   {
    "duration": 285,
    "start_time": "2025-02-04T17:13:55.585Z"
   },
   {
    "duration": 183,
    "start_time": "2025-02-04T17:13:55.872Z"
   },
   {
    "duration": 193,
    "start_time": "2025-02-04T17:17:44.055Z"
   },
   {
    "duration": 270,
    "start_time": "2025-02-04T17:20:10.644Z"
   },
   {
    "duration": 22,
    "start_time": "2025-02-04T17:22:58.954Z"
   },
   {
    "duration": 85,
    "start_time": "2025-02-04T17:25:39.841Z"
   },
   {
    "duration": 31,
    "start_time": "2025-02-04T17:25:45.424Z"
   },
   {
    "duration": 19,
    "start_time": "2025-02-04T17:26:39.948Z"
   },
   {
    "duration": 20,
    "start_time": "2025-02-04T17:27:58.042Z"
   },
   {
    "duration": 22,
    "start_time": "2025-02-04T17:28:00.594Z"
   },
   {
    "duration": 6,
    "start_time": "2025-02-04T17:28:16.060Z"
   },
   {
    "duration": 5,
    "start_time": "2025-02-04T17:30:01.968Z"
   },
   {
    "duration": 21,
    "start_time": "2025-02-04T17:32:04.096Z"
   },
   {
    "duration": 103,
    "start_time": "2025-02-04T17:35:50.843Z"
   },
   {
    "duration": 9,
    "start_time": "2025-02-04T17:36:02.327Z"
   },
   {
    "duration": 1138,
    "start_time": "2025-02-04T17:43:36.142Z"
   },
   {
    "duration": 1783,
    "start_time": "2025-02-04T17:43:37.282Z"
   },
   {
    "duration": 12,
    "start_time": "2025-02-04T17:43:39.067Z"
   },
   {
    "duration": 11,
    "start_time": "2025-02-04T17:43:39.081Z"
   },
   {
    "duration": 105,
    "start_time": "2025-02-04T17:43:39.093Z"
   },
   {
    "duration": 34,
    "start_time": "2025-02-04T17:43:39.200Z"
   },
   {
    "duration": 23,
    "start_time": "2025-02-04T17:43:39.236Z"
   },
   {
    "duration": 30,
    "start_time": "2025-02-04T17:43:39.261Z"
   },
   {
    "duration": 24,
    "start_time": "2025-02-04T17:43:39.292Z"
   },
   {
    "duration": 7,
    "start_time": "2025-02-04T17:43:39.318Z"
   },
   {
    "duration": 43,
    "start_time": "2025-02-04T17:43:39.327Z"
   },
   {
    "duration": 7,
    "start_time": "2025-02-04T17:43:39.371Z"
   },
   {
    "duration": 11,
    "start_time": "2025-02-04T17:43:39.380Z"
   },
   {
    "duration": 9,
    "start_time": "2025-02-04T17:43:39.393Z"
   },
   {
    "duration": 9,
    "start_time": "2025-02-04T17:43:39.403Z"
   },
   {
    "duration": 6,
    "start_time": "2025-02-04T17:43:39.413Z"
   },
   {
    "duration": 73,
    "start_time": "2025-02-04T17:43:39.421Z"
   },
   {
    "duration": 8,
    "start_time": "2025-02-04T17:43:39.496Z"
   },
   {
    "duration": 11,
    "start_time": "2025-02-04T17:43:39.506Z"
   },
   {
    "duration": 3,
    "start_time": "2025-02-04T17:43:39.518Z"
   },
   {
    "duration": 180,
    "start_time": "2025-02-04T17:43:39.522Z"
   },
   {
    "duration": 8,
    "start_time": "2025-02-04T17:43:39.703Z"
   },
   {
    "duration": 23,
    "start_time": "2025-02-04T17:43:39.712Z"
   },
   {
    "duration": 26,
    "start_time": "2025-02-04T17:43:39.737Z"
   },
   {
    "duration": 12,
    "start_time": "2025-02-04T17:43:39.765Z"
   },
   {
    "duration": 10,
    "start_time": "2025-02-04T17:43:39.779Z"
   },
   {
    "duration": 70,
    "start_time": "2025-02-04T17:43:39.791Z"
   },
   {
    "duration": 156,
    "start_time": "2025-02-04T17:43:39.864Z"
   },
   {
    "duration": 50,
    "start_time": "2025-02-04T17:43:40.021Z"
   },
   {
    "duration": 26,
    "start_time": "2025-02-04T17:43:40.072Z"
   },
   {
    "duration": 19,
    "start_time": "2025-02-04T17:43:40.099Z"
   },
   {
    "duration": 39,
    "start_time": "2025-02-04T17:43:40.120Z"
   },
   {
    "duration": 72,
    "start_time": "2025-02-04T17:43:40.160Z"
   },
   {
    "duration": 94,
    "start_time": "2025-02-04T17:43:40.234Z"
   },
   {
    "duration": 11,
    "start_time": "2025-02-04T17:43:40.329Z"
   },
   {
    "duration": 177,
    "start_time": "2025-02-04T17:43:40.341Z"
   },
   {
    "duration": 159,
    "start_time": "2025-02-04T17:43:40.520Z"
   },
   {
    "duration": 17,
    "start_time": "2025-02-04T17:43:40.681Z"
   },
   {
    "duration": 279,
    "start_time": "2025-02-04T17:43:40.699Z"
   },
   {
    "duration": 182,
    "start_time": "2025-02-04T17:43:40.980Z"
   },
   {
    "duration": 21,
    "start_time": "2025-02-04T17:43:41.164Z"
   },
   {
    "duration": 25,
    "start_time": "2025-02-04T17:43:41.187Z"
   },
   {
    "duration": 7,
    "start_time": "2025-02-04T17:43:41.214Z"
   },
   {
    "duration": 7,
    "start_time": "2025-02-04T17:50:18.427Z"
   },
   {
    "duration": 9,
    "start_time": "2025-02-04T17:51:08.443Z"
   },
   {
    "duration": 6,
    "start_time": "2025-02-04T18:00:17.432Z"
   },
   {
    "duration": 37,
    "start_time": "2025-02-04T18:00:30.653Z"
   },
   {
    "duration": 41,
    "start_time": "2025-02-04T18:01:16.525Z"
   },
   {
    "duration": 27,
    "start_time": "2025-02-04T18:01:37.419Z"
   },
   {
    "duration": 20,
    "start_time": "2025-02-04T18:01:38.568Z"
   },
   {
    "duration": 5,
    "start_time": "2025-02-04T18:01:39.517Z"
   },
   {
    "duration": 139,
    "start_time": "2025-02-04T18:02:09.564Z"
   },
   {
    "duration": 22,
    "start_time": "2025-02-04T18:02:54.620Z"
   },
   {
    "duration": 141,
    "start_time": "2025-02-04T18:02:59.809Z"
   },
   {
    "duration": 83,
    "start_time": "2025-02-04T18:03:12.631Z"
   },
   {
    "duration": 8,
    "start_time": "2025-02-04T18:03:17.159Z"
   },
   {
    "duration": 128,
    "start_time": "2025-02-04T18:03:53.004Z"
   },
   {
    "duration": 132,
    "start_time": "2025-02-04T18:06:57.012Z"
   },
   {
    "duration": 125,
    "start_time": "2025-02-04T18:07:39.257Z"
   },
   {
    "duration": 73,
    "start_time": "2025-02-04T18:17:23.140Z"
   },
   {
    "duration": 93,
    "start_time": "2025-02-04T18:19:02.393Z"
   },
   {
    "duration": 43,
    "start_time": "2025-02-04T18:19:23.526Z"
   },
   {
    "duration": 1183,
    "start_time": "2025-02-04T18:19:45.071Z"
   },
   {
    "duration": 2000,
    "start_time": "2025-02-04T18:19:46.257Z"
   },
   {
    "duration": 12,
    "start_time": "2025-02-04T18:19:48.259Z"
   },
   {
    "duration": 12,
    "start_time": "2025-02-04T18:19:48.272Z"
   },
   {
    "duration": 111,
    "start_time": "2025-02-04T18:19:48.285Z"
   },
   {
    "duration": 45,
    "start_time": "2025-02-04T18:19:48.397Z"
   },
   {
    "duration": 16,
    "start_time": "2025-02-04T18:19:48.443Z"
   },
   {
    "duration": 31,
    "start_time": "2025-02-04T18:19:48.460Z"
   },
   {
    "duration": 24,
    "start_time": "2025-02-04T18:19:48.492Z"
   },
   {
    "duration": 7,
    "start_time": "2025-02-04T18:19:48.518Z"
   },
   {
    "duration": 48,
    "start_time": "2025-02-04T18:19:48.527Z"
   },
   {
    "duration": 7,
    "start_time": "2025-02-04T18:19:48.576Z"
   },
   {
    "duration": 13,
    "start_time": "2025-02-04T18:19:48.584Z"
   },
   {
    "duration": 9,
    "start_time": "2025-02-04T18:19:48.599Z"
   },
   {
    "duration": 9,
    "start_time": "2025-02-04T18:19:48.609Z"
   },
   {
    "duration": 6,
    "start_time": "2025-02-04T18:19:48.620Z"
   },
   {
    "duration": 73,
    "start_time": "2025-02-04T18:19:48.627Z"
   },
   {
    "duration": 9,
    "start_time": "2025-02-04T18:19:48.702Z"
   },
   {
    "duration": 12,
    "start_time": "2025-02-04T18:19:48.712Z"
   },
   {
    "duration": 33,
    "start_time": "2025-02-04T18:19:48.725Z"
   },
   {
    "duration": 162,
    "start_time": "2025-02-04T18:19:48.760Z"
   },
   {
    "duration": 8,
    "start_time": "2025-02-04T18:19:48.923Z"
   },
   {
    "duration": 37,
    "start_time": "2025-02-04T18:19:48.932Z"
   },
   {
    "duration": 12,
    "start_time": "2025-02-04T18:19:48.971Z"
   },
   {
    "duration": 12,
    "start_time": "2025-02-04T18:19:48.984Z"
   },
   {
    "duration": 11,
    "start_time": "2025-02-04T18:19:48.997Z"
   },
   {
    "duration": 80,
    "start_time": "2025-02-04T18:19:49.010Z"
   },
   {
    "duration": 157,
    "start_time": "2025-02-04T18:19:49.093Z"
   },
   {
    "duration": 45,
    "start_time": "2025-02-04T18:19:49.251Z"
   },
   {
    "duration": 24,
    "start_time": "2025-02-04T18:19:49.298Z"
   },
   {
    "duration": 41,
    "start_time": "2025-02-04T18:19:49.324Z"
   },
   {
    "duration": 16,
    "start_time": "2025-02-04T18:19:49.366Z"
   },
   {
    "duration": 90,
    "start_time": "2025-02-04T18:19:49.383Z"
   },
   {
    "duration": 84,
    "start_time": "2025-02-04T18:19:49.475Z"
   },
   {
    "duration": 11,
    "start_time": "2025-02-04T18:19:49.561Z"
   },
   {
    "duration": 171,
    "start_time": "2025-02-04T18:19:49.574Z"
   },
   {
    "duration": 157,
    "start_time": "2025-02-04T18:19:49.747Z"
   },
   {
    "duration": 17,
    "start_time": "2025-02-04T18:19:49.906Z"
   },
   {
    "duration": 278,
    "start_time": "2025-02-04T18:19:49.925Z"
   },
   {
    "duration": 174,
    "start_time": "2025-02-04T18:19:50.204Z"
   },
   {
    "duration": 20,
    "start_time": "2025-02-04T18:19:50.380Z"
   },
   {
    "duration": 22,
    "start_time": "2025-02-04T18:19:50.401Z"
   },
   {
    "duration": 7,
    "start_time": "2025-02-04T18:19:50.424Z"
   },
   {
    "duration": 30,
    "start_time": "2025-02-04T18:19:50.432Z"
   },
   {
    "duration": 214,
    "start_time": "2025-02-04T18:19:50.464Z"
   },
   {
    "duration": 66,
    "start_time": "2025-02-04T18:19:50.679Z"
   },
   {
    "duration": 17,
    "start_time": "2025-02-04T18:19:50.746Z"
   },
   {
    "duration": 153,
    "start_time": "2025-02-04T18:21:50.452Z"
   },
   {
    "duration": 364,
    "start_time": "2025-02-04T18:22:21.050Z"
   },
   {
    "duration": 13,
    "start_time": "2025-02-04T18:31:37.757Z"
   },
   {
    "duration": 37,
    "start_time": "2025-02-04T18:32:29.718Z"
   },
   {
    "duration": 1229,
    "start_time": "2025-02-04T18:35:29.741Z"
   },
   {
    "duration": 2141,
    "start_time": "2025-02-04T18:35:30.972Z"
   },
   {
    "duration": 12,
    "start_time": "2025-02-04T18:35:33.115Z"
   },
   {
    "duration": 20,
    "start_time": "2025-02-04T18:35:33.128Z"
   },
   {
    "duration": 101,
    "start_time": "2025-02-04T18:35:33.158Z"
   },
   {
    "duration": 29,
    "start_time": "2025-02-04T18:35:33.260Z"
   },
   {
    "duration": 4,
    "start_time": "2025-02-04T18:35:33.291Z"
   },
   {
    "duration": 37,
    "start_time": "2025-02-04T18:35:33.297Z"
   },
   {
    "duration": 41,
    "start_time": "2025-02-04T18:35:33.336Z"
   },
   {
    "duration": 7,
    "start_time": "2025-02-04T18:35:33.380Z"
   },
   {
    "duration": 20,
    "start_time": "2025-02-04T18:35:33.388Z"
   },
   {
    "duration": 8,
    "start_time": "2025-02-04T18:35:33.409Z"
   },
   {
    "duration": 43,
    "start_time": "2025-02-04T18:35:33.418Z"
   },
   {
    "duration": 9,
    "start_time": "2025-02-04T18:35:33.463Z"
   },
   {
    "duration": 11,
    "start_time": "2025-02-04T18:35:33.473Z"
   },
   {
    "duration": 7,
    "start_time": "2025-02-04T18:35:33.485Z"
   },
   {
    "duration": 64,
    "start_time": "2025-02-04T18:35:33.494Z"
   },
   {
    "duration": 9,
    "start_time": "2025-02-04T18:35:33.560Z"
   },
   {
    "duration": 17,
    "start_time": "2025-02-04T18:35:33.571Z"
   },
   {
    "duration": 3,
    "start_time": "2025-02-04T18:35:33.589Z"
   },
   {
    "duration": 176,
    "start_time": "2025-02-04T18:35:33.594Z"
   },
   {
    "duration": 7,
    "start_time": "2025-02-04T18:35:33.772Z"
   },
   {
    "duration": 26,
    "start_time": "2025-02-04T18:35:33.781Z"
   },
   {
    "duration": 11,
    "start_time": "2025-02-04T18:35:33.809Z"
   },
   {
    "duration": 36,
    "start_time": "2025-02-04T18:35:33.822Z"
   },
   {
    "duration": 13,
    "start_time": "2025-02-04T18:35:33.859Z"
   },
   {
    "duration": 55,
    "start_time": "2025-02-04T18:35:33.874Z"
   },
   {
    "duration": 166,
    "start_time": "2025-02-04T18:35:33.933Z"
   },
   {
    "duration": 42,
    "start_time": "2025-02-04T18:35:34.100Z"
   },
   {
    "duration": 26,
    "start_time": "2025-02-04T18:35:34.157Z"
   },
   {
    "duration": 19,
    "start_time": "2025-02-04T18:35:34.185Z"
   },
   {
    "duration": 14,
    "start_time": "2025-02-04T18:35:34.206Z"
   },
   {
    "duration": 102,
    "start_time": "2025-02-04T18:35:34.222Z"
   },
   {
    "duration": 90,
    "start_time": "2025-02-04T18:35:34.326Z"
   },
   {
    "duration": 10,
    "start_time": "2025-02-04T18:35:34.418Z"
   },
   {
    "duration": 170,
    "start_time": "2025-02-04T18:35:34.430Z"
   },
   {
    "duration": 158,
    "start_time": "2025-02-04T18:35:34.601Z"
   },
   {
    "duration": 17,
    "start_time": "2025-02-04T18:35:34.761Z"
   },
   {
    "duration": 279,
    "start_time": "2025-02-04T18:35:34.780Z"
   },
   {
    "duration": 190,
    "start_time": "2025-02-04T18:35:35.061Z"
   },
   {
    "duration": 21,
    "start_time": "2025-02-04T18:35:35.253Z"
   },
   {
    "duration": 24,
    "start_time": "2025-02-04T18:35:35.275Z"
   },
   {
    "duration": 13,
    "start_time": "2025-02-04T18:35:35.300Z"
   },
   {
    "duration": 10,
    "start_time": "2025-02-04T18:35:35.314Z"
   },
   {
    "duration": 233,
    "start_time": "2025-02-04T18:35:35.326Z"
   },
   {
    "duration": 14,
    "start_time": "2025-02-04T18:35:35.561Z"
   },
   {
    "duration": 54,
    "start_time": "2025-02-04T18:35:35.576Z"
   },
   {
    "duration": 27,
    "start_time": "2025-02-04T18:51:54.816Z"
   },
   {
    "duration": 17,
    "start_time": "2025-02-04T18:51:59.400Z"
   },
   {
    "duration": 244,
    "start_time": "2025-02-04T18:54:38.525Z"
   },
   {
    "duration": 18,
    "start_time": "2025-02-04T18:54:47.220Z"
   },
   {
    "duration": 52,
    "start_time": "2025-02-04T18:55:15.348Z"
   },
   {
    "duration": 38,
    "start_time": "2025-02-04T18:56:06.074Z"
   },
   {
    "duration": 1117,
    "start_time": "2025-02-04T18:56:26.052Z"
   },
   {
    "duration": 1904,
    "start_time": "2025-02-04T18:56:27.171Z"
   },
   {
    "duration": 12,
    "start_time": "2025-02-04T18:56:29.076Z"
   },
   {
    "duration": 10,
    "start_time": "2025-02-04T18:56:29.091Z"
   },
   {
    "duration": 115,
    "start_time": "2025-02-04T18:56:29.102Z"
   },
   {
    "duration": 29,
    "start_time": "2025-02-04T18:56:29.219Z"
   },
   {
    "duration": 5,
    "start_time": "2025-02-04T18:56:29.258Z"
   },
   {
    "duration": 31,
    "start_time": "2025-02-04T18:56:29.265Z"
   },
   {
    "duration": 25,
    "start_time": "2025-02-04T18:56:29.299Z"
   },
   {
    "duration": 32,
    "start_time": "2025-02-04T18:56:29.327Z"
   },
   {
    "duration": 20,
    "start_time": "2025-02-04T18:56:29.362Z"
   },
   {
    "duration": 20,
    "start_time": "2025-02-04T18:56:29.384Z"
   },
   {
    "duration": 14,
    "start_time": "2025-02-04T18:56:29.405Z"
   },
   {
    "duration": 10,
    "start_time": "2025-02-04T18:56:29.421Z"
   },
   {
    "duration": 33,
    "start_time": "2025-02-04T18:56:29.432Z"
   },
   {
    "duration": 7,
    "start_time": "2025-02-04T18:56:29.466Z"
   },
   {
    "duration": 39,
    "start_time": "2025-02-04T18:56:29.475Z"
   },
   {
    "duration": 9,
    "start_time": "2025-02-04T18:56:29.516Z"
   },
   {
    "duration": 40,
    "start_time": "2025-02-04T18:56:29.526Z"
   },
   {
    "duration": 2,
    "start_time": "2025-02-04T18:56:29.568Z"
   },
   {
    "duration": 167,
    "start_time": "2025-02-04T18:56:29.572Z"
   },
   {
    "duration": 8,
    "start_time": "2025-02-04T18:56:29.740Z"
   },
   {
    "duration": 24,
    "start_time": "2025-02-04T18:56:29.757Z"
   },
   {
    "duration": 11,
    "start_time": "2025-02-04T18:56:29.782Z"
   },
   {
    "duration": 11,
    "start_time": "2025-02-04T18:56:29.794Z"
   },
   {
    "duration": 11,
    "start_time": "2025-02-04T18:56:29.807Z"
   },
   {
    "duration": 80,
    "start_time": "2025-02-04T18:56:29.820Z"
   },
   {
    "duration": 161,
    "start_time": "2025-02-04T18:56:29.905Z"
   },
   {
    "duration": 43,
    "start_time": "2025-02-04T18:56:30.068Z"
   },
   {
    "duration": 25,
    "start_time": "2025-02-04T18:56:30.113Z"
   },
   {
    "duration": 40,
    "start_time": "2025-02-04T18:56:30.139Z"
   },
   {
    "duration": 15,
    "start_time": "2025-02-04T18:56:30.180Z"
   },
   {
    "duration": 95,
    "start_time": "2025-02-04T18:56:30.196Z"
   },
   {
    "duration": 88,
    "start_time": "2025-02-04T18:56:30.292Z"
   },
   {
    "duration": 11,
    "start_time": "2025-02-04T18:56:30.381Z"
   },
   {
    "duration": 178,
    "start_time": "2025-02-04T18:56:30.393Z"
   },
   {
    "duration": 160,
    "start_time": "2025-02-04T18:56:30.573Z"
   },
   {
    "duration": 26,
    "start_time": "2025-02-04T18:56:30.735Z"
   },
   {
    "duration": 278,
    "start_time": "2025-02-04T18:56:30.763Z"
   },
   {
    "duration": 181,
    "start_time": "2025-02-04T18:56:31.043Z"
   },
   {
    "duration": 37,
    "start_time": "2025-02-04T18:56:31.225Z"
   },
   {
    "duration": 21,
    "start_time": "2025-02-04T18:56:31.264Z"
   },
   {
    "duration": 7,
    "start_time": "2025-02-04T18:56:31.286Z"
   },
   {
    "duration": 12,
    "start_time": "2025-02-04T18:56:31.298Z"
   },
   {
    "duration": 230,
    "start_time": "2025-02-04T18:56:31.312Z"
   },
   {
    "duration": 17,
    "start_time": "2025-02-04T18:56:31.543Z"
   },
   {
    "duration": 33,
    "start_time": "2025-02-04T18:56:31.562Z"
   },
   {
    "duration": 267,
    "start_time": "2025-02-04T18:56:31.598Z"
   },
   {
    "duration": 53,
    "start_time": "2025-02-04T18:56:31.867Z"
   },
   {
    "duration": 20,
    "start_time": "2025-02-04T18:58:09.897Z"
   },
   {
    "duration": 1196,
    "start_time": "2025-02-04T18:58:27.432Z"
   },
   {
    "duration": 1837,
    "start_time": "2025-02-04T18:58:28.630Z"
   },
   {
    "duration": 14,
    "start_time": "2025-02-04T18:58:30.469Z"
   },
   {
    "duration": 15,
    "start_time": "2025-02-04T18:58:30.485Z"
   },
   {
    "duration": 123,
    "start_time": "2025-02-04T18:58:30.502Z"
   },
   {
    "duration": 32,
    "start_time": "2025-02-04T18:58:30.626Z"
   },
   {
    "duration": 4,
    "start_time": "2025-02-04T18:58:30.660Z"
   },
   {
    "duration": 32,
    "start_time": "2025-02-04T18:58:30.666Z"
   },
   {
    "duration": 25,
    "start_time": "2025-02-04T18:58:30.699Z"
   },
   {
    "duration": 7,
    "start_time": "2025-02-04T18:58:30.727Z"
   },
   {
    "duration": 20,
    "start_time": "2025-02-04T18:58:30.758Z"
   },
   {
    "duration": 11,
    "start_time": "2025-02-04T18:58:30.780Z"
   },
   {
    "duration": 20,
    "start_time": "2025-02-04T18:58:30.792Z"
   },
   {
    "duration": 9,
    "start_time": "2025-02-04T18:58:30.814Z"
   },
   {
    "duration": 9,
    "start_time": "2025-02-04T18:58:30.824Z"
   },
   {
    "duration": 7,
    "start_time": "2025-02-04T18:58:30.857Z"
   },
   {
    "duration": 40,
    "start_time": "2025-02-04T18:58:30.865Z"
   },
   {
    "duration": 8,
    "start_time": "2025-02-04T18:58:30.907Z"
   },
   {
    "duration": 11,
    "start_time": "2025-02-04T18:58:30.917Z"
   },
   {
    "duration": 29,
    "start_time": "2025-02-04T18:58:30.929Z"
   },
   {
    "duration": 166,
    "start_time": "2025-02-04T18:58:30.960Z"
   },
   {
    "duration": 8,
    "start_time": "2025-02-04T18:58:31.127Z"
   },
   {
    "duration": 32,
    "start_time": "2025-02-04T18:58:31.136Z"
   },
   {
    "duration": 11,
    "start_time": "2025-02-04T18:58:31.170Z"
   },
   {
    "duration": 15,
    "start_time": "2025-02-04T18:58:31.183Z"
   },
   {
    "duration": 14,
    "start_time": "2025-02-04T18:58:31.200Z"
   },
   {
    "duration": 92,
    "start_time": "2025-02-04T18:58:31.216Z"
   },
   {
    "duration": 162,
    "start_time": "2025-02-04T18:58:31.311Z"
   },
   {
    "duration": 43,
    "start_time": "2025-02-04T18:58:31.475Z"
   },
   {
    "duration": 50,
    "start_time": "2025-02-04T18:58:31.521Z"
   },
   {
    "duration": 31,
    "start_time": "2025-02-04T18:58:31.573Z"
   },
   {
    "duration": 19,
    "start_time": "2025-02-04T18:58:31.606Z"
   },
   {
    "duration": 100,
    "start_time": "2025-02-04T18:58:31.627Z"
   },
   {
    "duration": 92,
    "start_time": "2025-02-04T18:58:31.729Z"
   },
   {
    "duration": 11,
    "start_time": "2025-02-04T18:58:31.823Z"
   },
   {
    "duration": 180,
    "start_time": "2025-02-04T18:58:31.835Z"
   },
   {
    "duration": 159,
    "start_time": "2025-02-04T18:58:32.016Z"
   },
   {
    "duration": 19,
    "start_time": "2025-02-04T18:58:32.178Z"
   },
   {
    "duration": 287,
    "start_time": "2025-02-04T18:58:32.199Z"
   },
   {
    "duration": 175,
    "start_time": "2025-02-04T18:58:32.488Z"
   },
   {
    "duration": 19,
    "start_time": "2025-02-04T18:58:32.665Z"
   },
   {
    "duration": 20,
    "start_time": "2025-02-04T18:58:32.686Z"
   },
   {
    "duration": 6,
    "start_time": "2025-02-04T18:58:32.708Z"
   },
   {
    "duration": 8,
    "start_time": "2025-02-04T18:58:32.715Z"
   },
   {
    "duration": 239,
    "start_time": "2025-02-04T18:58:32.725Z"
   },
   {
    "duration": 12,
    "start_time": "2025-02-04T18:58:32.965Z"
   },
   {
    "duration": 26,
    "start_time": "2025-02-04T18:58:32.979Z"
   },
   {
    "duration": 272,
    "start_time": "2025-02-04T18:58:33.006Z"
   },
   {
    "duration": 52,
    "start_time": "2025-02-04T18:58:33.280Z"
   },
   {
    "duration": 34,
    "start_time": "2025-02-04T18:58:33.333Z"
   },
   {
    "duration": 1135,
    "start_time": "2025-02-04T19:04:22.896Z"
   },
   {
    "duration": 1840,
    "start_time": "2025-02-04T19:04:24.033Z"
   },
   {
    "duration": 13,
    "start_time": "2025-02-04T19:04:25.875Z"
   },
   {
    "duration": 11,
    "start_time": "2025-02-04T19:04:25.890Z"
   },
   {
    "duration": 116,
    "start_time": "2025-02-04T19:04:25.902Z"
   },
   {
    "duration": 62,
    "start_time": "2025-02-04T19:04:26.020Z"
   },
   {
    "duration": 5,
    "start_time": "2025-02-04T19:04:26.084Z"
   },
   {
    "duration": 32,
    "start_time": "2025-02-04T19:04:26.091Z"
   },
   {
    "duration": 41,
    "start_time": "2025-02-04T19:04:26.125Z"
   },
   {
    "duration": 7,
    "start_time": "2025-02-04T19:04:26.169Z"
   },
   {
    "duration": 21,
    "start_time": "2025-02-04T19:04:26.177Z"
   },
   {
    "duration": 9,
    "start_time": "2025-02-04T19:04:26.200Z"
   },
   {
    "duration": 12,
    "start_time": "2025-02-04T19:04:26.211Z"
   },
   {
    "duration": 36,
    "start_time": "2025-02-04T19:04:26.224Z"
   },
   {
    "duration": 19,
    "start_time": "2025-02-04T19:04:26.261Z"
   },
   {
    "duration": 6,
    "start_time": "2025-02-04T19:04:26.282Z"
   },
   {
    "duration": 39,
    "start_time": "2025-02-04T19:04:26.290Z"
   },
   {
    "duration": 9,
    "start_time": "2025-02-04T19:04:26.330Z"
   },
   {
    "duration": 11,
    "start_time": "2025-02-04T19:04:26.358Z"
   },
   {
    "duration": 3,
    "start_time": "2025-02-04T19:04:26.371Z"
   },
   {
    "duration": 175,
    "start_time": "2025-02-04T19:04:26.375Z"
   },
   {
    "duration": 12,
    "start_time": "2025-02-04T19:04:26.551Z"
   },
   {
    "duration": 25,
    "start_time": "2025-02-04T19:04:26.564Z"
   },
   {
    "duration": 10,
    "start_time": "2025-02-04T19:04:26.591Z"
   },
   {
    "duration": 12,
    "start_time": "2025-02-04T19:04:26.603Z"
   },
   {
    "duration": 11,
    "start_time": "2025-02-04T19:04:26.616Z"
   },
   {
    "duration": 81,
    "start_time": "2025-02-04T19:04:26.629Z"
   },
   {
    "duration": 158,
    "start_time": "2025-02-04T19:04:26.713Z"
   },
   {
    "duration": 43,
    "start_time": "2025-02-04T19:04:26.872Z"
   },
   {
    "duration": 42,
    "start_time": "2025-02-04T19:04:26.917Z"
   },
   {
    "duration": 21,
    "start_time": "2025-02-04T19:04:26.960Z"
   },
   {
    "duration": 15,
    "start_time": "2025-02-04T19:04:26.983Z"
   },
   {
    "duration": 99,
    "start_time": "2025-02-04T19:04:27.000Z"
   },
   {
    "duration": 84,
    "start_time": "2025-02-04T19:04:27.100Z"
   },
   {
    "duration": 11,
    "start_time": "2025-02-04T19:04:27.185Z"
   },
   {
    "duration": 183,
    "start_time": "2025-02-04T19:04:27.198Z"
   },
   {
    "duration": 166,
    "start_time": "2025-02-04T19:04:27.383Z"
   },
   {
    "duration": 22,
    "start_time": "2025-02-04T19:04:27.551Z"
   },
   {
    "duration": 290,
    "start_time": "2025-02-04T19:04:27.575Z"
   },
   {
    "duration": 214,
    "start_time": "2025-02-04T19:04:27.868Z"
   },
   {
    "duration": 21,
    "start_time": "2025-02-04T19:04:28.084Z"
   },
   {
    "duration": 22,
    "start_time": "2025-02-04T19:04:28.107Z"
   },
   {
    "duration": 32,
    "start_time": "2025-02-04T19:04:28.131Z"
   },
   {
    "duration": 8,
    "start_time": "2025-02-04T19:04:28.165Z"
   },
   {
    "duration": 222,
    "start_time": "2025-02-04T19:04:28.175Z"
   },
   {
    "duration": 13,
    "start_time": "2025-02-04T19:04:28.399Z"
   },
   {
    "duration": 48,
    "start_time": "2025-02-04T19:04:28.414Z"
   },
   {
    "duration": 262,
    "start_time": "2025-02-04T19:04:28.464Z"
   },
   {
    "duration": 57,
    "start_time": "2025-02-04T19:04:28.727Z"
   },
   {
    "duration": 18,
    "start_time": "2025-02-04T19:04:28.785Z"
   },
   {
    "duration": 9,
    "start_time": "2025-02-04T19:08:51.034Z"
   },
   {
    "duration": 51,
    "start_time": "2025-02-04T19:08:52.944Z"
   },
   {
    "duration": 1191,
    "start_time": "2025-02-04T19:09:02.499Z"
   },
   {
    "duration": 2136,
    "start_time": "2025-02-04T19:09:03.692Z"
   },
   {
    "duration": 13,
    "start_time": "2025-02-04T19:09:05.830Z"
   },
   {
    "duration": 30,
    "start_time": "2025-02-04T19:09:05.845Z"
   },
   {
    "duration": 100,
    "start_time": "2025-02-04T19:09:05.877Z"
   },
   {
    "duration": 50,
    "start_time": "2025-02-04T19:09:05.978Z"
   },
   {
    "duration": 5,
    "start_time": "2025-02-04T19:09:06.029Z"
   },
   {
    "duration": 51,
    "start_time": "2025-02-04T19:09:06.036Z"
   },
   {
    "duration": 29,
    "start_time": "2025-02-04T19:09:06.089Z"
   },
   {
    "duration": 7,
    "start_time": "2025-02-04T19:09:06.120Z"
   },
   {
    "duration": 37,
    "start_time": "2025-02-04T19:09:06.128Z"
   },
   {
    "duration": 8,
    "start_time": "2025-02-04T19:09:06.167Z"
   },
   {
    "duration": 21,
    "start_time": "2025-02-04T19:09:06.177Z"
   },
   {
    "duration": 18,
    "start_time": "2025-02-04T19:09:06.199Z"
   },
   {
    "duration": 11,
    "start_time": "2025-02-04T19:09:06.218Z"
   },
   {
    "duration": 7,
    "start_time": "2025-02-04T19:09:06.230Z"
   },
   {
    "duration": 58,
    "start_time": "2025-02-04T19:09:06.238Z"
   },
   {
    "duration": 8,
    "start_time": "2025-02-04T19:09:06.298Z"
   },
   {
    "duration": 16,
    "start_time": "2025-02-04T19:09:06.308Z"
   },
   {
    "duration": 2,
    "start_time": "2025-02-04T19:09:06.325Z"
   },
   {
    "duration": 178,
    "start_time": "2025-02-04T19:09:06.329Z"
   },
   {
    "duration": 7,
    "start_time": "2025-02-04T19:09:06.509Z"
   },
   {
    "duration": 23,
    "start_time": "2025-02-04T19:09:06.518Z"
   },
   {
    "duration": 11,
    "start_time": "2025-02-04T19:09:06.557Z"
   },
   {
    "duration": 11,
    "start_time": "2025-02-04T19:09:06.570Z"
   },
   {
    "duration": 11,
    "start_time": "2025-02-04T19:09:06.583Z"
   },
   {
    "duration": 74,
    "start_time": "2025-02-04T19:09:06.596Z"
   },
   {
    "duration": 156,
    "start_time": "2025-02-04T19:09:06.674Z"
   },
   {
    "duration": 55,
    "start_time": "2025-02-04T19:09:06.832Z"
   },
   {
    "duration": 25,
    "start_time": "2025-02-04T19:09:06.888Z"
   },
   {
    "duration": 20,
    "start_time": "2025-02-04T19:09:06.915Z"
   },
   {
    "duration": 17,
    "start_time": "2025-02-04T19:09:06.957Z"
   },
   {
    "duration": 90,
    "start_time": "2025-02-04T19:09:06.976Z"
   },
   {
    "duration": 75,
    "start_time": "2025-02-04T19:09:07.068Z"
   },
   {
    "duration": 24,
    "start_time": "2025-02-04T19:09:07.144Z"
   },
   {
    "duration": 177,
    "start_time": "2025-02-04T19:09:07.170Z"
   },
   {
    "duration": 167,
    "start_time": "2025-02-04T19:09:07.349Z"
   },
   {
    "duration": 17,
    "start_time": "2025-02-04T19:09:07.518Z"
   },
   {
    "duration": 279,
    "start_time": "2025-02-04T19:09:07.537Z"
   },
   {
    "duration": 181,
    "start_time": "2025-02-04T19:09:07.818Z"
   },
   {
    "duration": 21,
    "start_time": "2025-02-04T19:09:08.001Z"
   },
   {
    "duration": 38,
    "start_time": "2025-02-04T19:09:08.023Z"
   },
   {
    "duration": 7,
    "start_time": "2025-02-04T19:09:08.063Z"
   },
   {
    "duration": 9,
    "start_time": "2025-02-04T19:09:08.071Z"
   },
   {
    "duration": 223,
    "start_time": "2025-02-04T19:09:08.081Z"
   },
   {
    "duration": 12,
    "start_time": "2025-02-04T19:09:08.306Z"
   },
   {
    "duration": 44,
    "start_time": "2025-02-04T19:09:08.320Z"
   },
   {
    "duration": 1562,
    "start_time": "2025-02-04T19:09:08.365Z"
   },
   {
    "duration": 0,
    "start_time": "2025-02-04T19:09:09.928Z"
   },
   {
    "duration": 0,
    "start_time": "2025-02-04T19:09:09.930Z"
   },
   {
    "duration": 0,
    "start_time": "2025-02-04T19:09:09.930Z"
   },
   {
    "duration": 1141,
    "start_time": "2025-02-04T19:09:45.563Z"
   },
   {
    "duration": 1942,
    "start_time": "2025-02-04T19:09:46.706Z"
   },
   {
    "duration": 18,
    "start_time": "2025-02-04T19:09:48.649Z"
   },
   {
    "duration": 12,
    "start_time": "2025-02-04T19:09:48.669Z"
   },
   {
    "duration": 118,
    "start_time": "2025-02-04T19:09:48.683Z"
   },
   {
    "duration": 56,
    "start_time": "2025-02-04T19:09:48.803Z"
   },
   {
    "duration": 6,
    "start_time": "2025-02-04T19:09:48.860Z"
   },
   {
    "duration": 31,
    "start_time": "2025-02-04T19:09:48.867Z"
   },
   {
    "duration": 31,
    "start_time": "2025-02-04T19:09:48.900Z"
   },
   {
    "duration": 29,
    "start_time": "2025-02-04T19:09:48.934Z"
   },
   {
    "duration": 21,
    "start_time": "2025-02-04T19:09:48.965Z"
   },
   {
    "duration": 6,
    "start_time": "2025-02-04T19:09:48.988Z"
   },
   {
    "duration": 12,
    "start_time": "2025-02-04T19:09:48.996Z"
   },
   {
    "duration": 10,
    "start_time": "2025-02-04T19:09:49.009Z"
   },
   {
    "duration": 45,
    "start_time": "2025-02-04T19:09:49.020Z"
   },
   {
    "duration": 7,
    "start_time": "2025-02-04T19:09:49.066Z"
   },
   {
    "duration": 39,
    "start_time": "2025-02-04T19:09:49.075Z"
   },
   {
    "duration": 8,
    "start_time": "2025-02-04T19:09:49.115Z"
   },
   {
    "duration": 38,
    "start_time": "2025-02-04T19:09:49.125Z"
   },
   {
    "duration": 2,
    "start_time": "2025-02-04T19:09:49.165Z"
   },
   {
    "duration": 166,
    "start_time": "2025-02-04T19:09:49.168Z"
   },
   {
    "duration": 8,
    "start_time": "2025-02-04T19:09:49.335Z"
   },
   {
    "duration": 30,
    "start_time": "2025-02-04T19:09:49.344Z"
   },
   {
    "duration": 11,
    "start_time": "2025-02-04T19:09:49.375Z"
   },
   {
    "duration": 11,
    "start_time": "2025-02-04T19:09:49.387Z"
   },
   {
    "duration": 10,
    "start_time": "2025-02-04T19:09:49.400Z"
   },
   {
    "duration": 78,
    "start_time": "2025-02-04T19:09:49.412Z"
   },
   {
    "duration": 164,
    "start_time": "2025-02-04T19:09:49.493Z"
   },
   {
    "duration": 42,
    "start_time": "2025-02-04T19:09:49.659Z"
   },
   {
    "duration": 24,
    "start_time": "2025-02-04T19:09:49.702Z"
   },
   {
    "duration": 44,
    "start_time": "2025-02-04T19:09:49.728Z"
   },
   {
    "duration": 18,
    "start_time": "2025-02-04T19:09:49.774Z"
   },
   {
    "duration": 90,
    "start_time": "2025-02-04T19:09:49.793Z"
   },
   {
    "duration": 87,
    "start_time": "2025-02-04T19:09:49.885Z"
   },
   {
    "duration": 10,
    "start_time": "2025-02-04T19:09:49.974Z"
   },
   {
    "duration": 174,
    "start_time": "2025-02-04T19:09:49.986Z"
   },
   {
    "duration": 161,
    "start_time": "2025-02-04T19:09:50.162Z"
   },
   {
    "duration": 16,
    "start_time": "2025-02-04T19:09:50.325Z"
   },
   {
    "duration": 293,
    "start_time": "2025-02-04T19:09:50.342Z"
   },
   {
    "duration": 174,
    "start_time": "2025-02-04T19:09:50.636Z"
   },
   {
    "duration": 21,
    "start_time": "2025-02-04T19:09:50.811Z"
   },
   {
    "duration": 38,
    "start_time": "2025-02-04T19:09:50.833Z"
   },
   {
    "duration": 7,
    "start_time": "2025-02-04T19:09:50.872Z"
   },
   {
    "duration": 8,
    "start_time": "2025-02-04T19:09:50.880Z"
   },
   {
    "duration": 229,
    "start_time": "2025-02-04T19:09:50.890Z"
   },
   {
    "duration": 14,
    "start_time": "2025-02-04T19:09:51.120Z"
   },
   {
    "duration": 41,
    "start_time": "2025-02-04T19:09:51.135Z"
   },
   {
    "duration": 280,
    "start_time": "2025-02-04T19:09:51.178Z"
   },
   {
    "duration": 7,
    "start_time": "2025-02-04T19:09:51.459Z"
   },
   {
    "duration": 68,
    "start_time": "2025-02-04T19:09:51.467Z"
   },
   {
    "duration": 34,
    "start_time": "2025-02-04T19:09:51.536Z"
   },
   {
    "duration": 104,
    "start_time": "2025-02-04T19:11:59.292Z"
   },
   {
    "duration": 12,
    "start_time": "2025-02-04T19:12:43.424Z"
   },
   {
    "duration": 97,
    "start_time": "2025-02-04T19:14:09.669Z"
   },
   {
    "duration": 18,
    "start_time": "2025-02-04T19:15:59.080Z"
   },
   {
    "duration": 11,
    "start_time": "2025-02-04T19:16:06.403Z"
   },
   {
    "duration": 1177,
    "start_time": "2025-02-04T19:16:20.608Z"
   },
   {
    "duration": 1913,
    "start_time": "2025-02-04T19:16:21.787Z"
   },
   {
    "duration": 12,
    "start_time": "2025-02-04T19:16:23.702Z"
   },
   {
    "duration": 20,
    "start_time": "2025-02-04T19:16:23.716Z"
   },
   {
    "duration": 111,
    "start_time": "2025-02-04T19:16:23.738Z"
   },
   {
    "duration": 33,
    "start_time": "2025-02-04T19:16:23.851Z"
   },
   {
    "duration": 5,
    "start_time": "2025-02-04T19:16:23.886Z"
   },
   {
    "duration": 32,
    "start_time": "2025-02-04T19:16:23.893Z"
   },
   {
    "duration": 52,
    "start_time": "2025-02-04T19:16:23.927Z"
   },
   {
    "duration": 8,
    "start_time": "2025-02-04T19:16:23.982Z"
   },
   {
    "duration": 28,
    "start_time": "2025-02-04T19:16:23.992Z"
   },
   {
    "duration": 7,
    "start_time": "2025-02-04T19:16:24.022Z"
   },
   {
    "duration": 39,
    "start_time": "2025-02-04T19:16:24.030Z"
   },
   {
    "duration": 9,
    "start_time": "2025-02-04T19:16:24.071Z"
   },
   {
    "duration": 9,
    "start_time": "2025-02-04T19:16:24.082Z"
   },
   {
    "duration": 6,
    "start_time": "2025-02-04T19:16:24.092Z"
   },
   {
    "duration": 64,
    "start_time": "2025-02-04T19:16:24.099Z"
   },
   {
    "duration": 9,
    "start_time": "2025-02-04T19:16:24.164Z"
   },
   {
    "duration": 16,
    "start_time": "2025-02-04T19:16:24.174Z"
   },
   {
    "duration": 3,
    "start_time": "2025-02-04T19:16:24.191Z"
   },
   {
    "duration": 183,
    "start_time": "2025-02-04T19:16:24.195Z"
   },
   {
    "duration": 7,
    "start_time": "2025-02-04T19:16:24.380Z"
   },
   {
    "duration": 24,
    "start_time": "2025-02-04T19:16:24.389Z"
   },
   {
    "duration": 11,
    "start_time": "2025-02-04T19:16:24.415Z"
   },
   {
    "duration": 37,
    "start_time": "2025-02-04T19:16:24.428Z"
   },
   {
    "duration": 11,
    "start_time": "2025-02-04T19:16:24.467Z"
   },
   {
    "duration": 57,
    "start_time": "2025-02-04T19:16:24.480Z"
   },
   {
    "duration": 157,
    "start_time": "2025-02-04T19:16:24.561Z"
   },
   {
    "duration": 53,
    "start_time": "2025-02-04T19:16:24.720Z"
   },
   {
    "duration": 26,
    "start_time": "2025-02-04T19:16:24.775Z"
   },
   {
    "duration": 21,
    "start_time": "2025-02-04T19:16:24.802Z"
   },
   {
    "duration": 43,
    "start_time": "2025-02-04T19:16:24.824Z"
   },
   {
    "duration": 74,
    "start_time": "2025-02-04T19:16:24.869Z"
   },
   {
    "duration": 80,
    "start_time": "2025-02-04T19:16:24.957Z"
   },
   {
    "duration": 22,
    "start_time": "2025-02-04T19:16:25.038Z"
   },
   {
    "duration": 200,
    "start_time": "2025-02-04T19:16:25.062Z"
   },
   {
    "duration": 164,
    "start_time": "2025-02-04T19:16:25.264Z"
   },
   {
    "duration": 17,
    "start_time": "2025-02-04T19:16:25.430Z"
   },
   {
    "duration": 282,
    "start_time": "2025-02-04T19:16:25.448Z"
   },
   {
    "duration": 185,
    "start_time": "2025-02-04T19:16:25.732Z"
   },
   {
    "duration": 20,
    "start_time": "2025-02-04T19:16:25.919Z"
   },
   {
    "duration": 33,
    "start_time": "2025-02-04T19:16:25.941Z"
   },
   {
    "duration": 7,
    "start_time": "2025-02-04T19:16:25.976Z"
   },
   {
    "duration": 8,
    "start_time": "2025-02-04T19:16:25.984Z"
   },
   {
    "duration": 243,
    "start_time": "2025-02-04T19:16:25.994Z"
   },
   {
    "duration": 23,
    "start_time": "2025-02-04T19:16:26.239Z"
   },
   {
    "duration": 25,
    "start_time": "2025-02-04T19:16:26.264Z"
   },
   {
    "duration": 286,
    "start_time": "2025-02-04T19:16:26.291Z"
   },
   {
    "duration": 110,
    "start_time": "2025-02-04T19:16:26.579Z"
   },
   {
    "duration": 19,
    "start_time": "2025-02-04T19:16:26.691Z"
   },
   {
    "duration": 11,
    "start_time": "2025-02-04T19:16:26.712Z"
   },
   {
    "duration": 3,
    "start_time": "2025-02-04T19:16:26.725Z"
   },
   {
    "duration": 77,
    "start_time": "2025-02-04T19:16:26.730Z"
   },
   {
    "duration": 18,
    "start_time": "2025-02-04T19:16:26.809Z"
   },
   {
    "duration": 48,
    "start_time": "2025-02-04T19:17:37.727Z"
   },
   {
    "duration": 15,
    "start_time": "2025-02-04T19:17:41.305Z"
   },
   {
    "duration": 1227,
    "start_time": "2025-02-04T19:19:13.954Z"
   },
   {
    "duration": 1844,
    "start_time": "2025-02-04T19:19:15.184Z"
   },
   {
    "duration": 13,
    "start_time": "2025-02-04T19:19:17.030Z"
   },
   {
    "duration": 21,
    "start_time": "2025-02-04T19:19:17.045Z"
   },
   {
    "duration": 109,
    "start_time": "2025-02-04T19:19:17.067Z"
   },
   {
    "duration": 28,
    "start_time": "2025-02-04T19:19:17.178Z"
   },
   {
    "duration": 4,
    "start_time": "2025-02-04T19:19:17.208Z"
   },
   {
    "duration": 47,
    "start_time": "2025-02-04T19:19:17.214Z"
   },
   {
    "duration": 26,
    "start_time": "2025-02-04T19:19:17.262Z"
   },
   {
    "duration": 8,
    "start_time": "2025-02-04T19:19:17.290Z"
   },
   {
    "duration": 20,
    "start_time": "2025-02-04T19:19:17.299Z"
   },
   {
    "duration": 7,
    "start_time": "2025-02-04T19:19:17.320Z"
   },
   {
    "duration": 40,
    "start_time": "2025-02-04T19:19:17.328Z"
   },
   {
    "duration": 9,
    "start_time": "2025-02-04T19:19:17.370Z"
   },
   {
    "duration": 9,
    "start_time": "2025-02-04T19:19:17.380Z"
   },
   {
    "duration": 6,
    "start_time": "2025-02-04T19:19:17.391Z"
   },
   {
    "duration": 73,
    "start_time": "2025-02-04T19:19:17.398Z"
   },
   {
    "duration": 9,
    "start_time": "2025-02-04T19:19:17.472Z"
   },
   {
    "duration": 11,
    "start_time": "2025-02-04T19:19:17.482Z"
   },
   {
    "duration": 2,
    "start_time": "2025-02-04T19:19:17.495Z"
   },
   {
    "duration": 179,
    "start_time": "2025-02-04T19:19:17.498Z"
   },
   {
    "duration": 7,
    "start_time": "2025-02-04T19:19:17.678Z"
   },
   {
    "duration": 22,
    "start_time": "2025-02-04T19:19:17.687Z"
   },
   {
    "duration": 10,
    "start_time": "2025-02-04T19:19:17.710Z"
   },
   {
    "duration": 11,
    "start_time": "2025-02-04T19:19:17.721Z"
   },
   {
    "duration": 11,
    "start_time": "2025-02-04T19:19:17.757Z"
   },
   {
    "duration": 52,
    "start_time": "2025-02-04T19:19:17.770Z"
   },
   {
    "duration": 161,
    "start_time": "2025-02-04T19:19:17.826Z"
   },
   {
    "duration": 40,
    "start_time": "2025-02-04T19:19:17.989Z"
   },
   {
    "duration": 44,
    "start_time": "2025-02-04T19:19:18.031Z"
   },
   {
    "duration": 19,
    "start_time": "2025-02-04T19:19:18.077Z"
   },
   {
    "duration": 14,
    "start_time": "2025-02-04T19:19:18.098Z"
   },
   {
    "duration": 92,
    "start_time": "2025-02-04T19:19:18.114Z"
   },
   {
    "duration": 98,
    "start_time": "2025-02-04T19:19:18.208Z"
   },
   {
    "duration": 10,
    "start_time": "2025-02-04T19:19:18.307Z"
   },
   {
    "duration": 175,
    "start_time": "2025-02-04T19:19:18.319Z"
   },
   {
    "duration": 155,
    "start_time": "2025-02-04T19:19:18.496Z"
   },
   {
    "duration": 20,
    "start_time": "2025-02-04T19:19:18.652Z"
   },
   {
    "duration": 278,
    "start_time": "2025-02-04T19:19:18.674Z"
   },
   {
    "duration": 182,
    "start_time": "2025-02-04T19:19:18.957Z"
   },
   {
    "duration": 28,
    "start_time": "2025-02-04T19:19:19.140Z"
   },
   {
    "duration": 22,
    "start_time": "2025-02-04T19:19:19.169Z"
   },
   {
    "duration": 7,
    "start_time": "2025-02-04T19:19:19.192Z"
   },
   {
    "duration": 9,
    "start_time": "2025-02-04T19:19:19.201Z"
   },
   {
    "duration": 261,
    "start_time": "2025-02-04T19:19:19.212Z"
   },
   {
    "duration": 12,
    "start_time": "2025-02-04T19:19:19.475Z"
   },
   {
    "duration": 27,
    "start_time": "2025-02-04T19:19:19.488Z"
   },
   {
    "duration": 281,
    "start_time": "2025-02-04T19:19:19.516Z"
   },
   {
    "duration": 104,
    "start_time": "2025-02-04T19:19:19.798Z"
   },
   {
    "duration": 19,
    "start_time": "2025-02-04T19:19:19.904Z"
   },
   {
    "duration": 6,
    "start_time": "2025-02-04T19:19:19.924Z"
   },
   {
    "duration": 2,
    "start_time": "2025-02-04T19:19:19.932Z"
   },
   {
    "duration": 53,
    "start_time": "2025-02-04T19:19:19.957Z"
   },
   {
    "duration": 36,
    "start_time": "2025-02-04T19:19:20.012Z"
   },
   {
    "duration": 11,
    "start_time": "2025-02-04T19:19:37.732Z"
   },
   {
    "duration": 53,
    "start_time": "2025-02-04T19:19:40.201Z"
   },
   {
    "duration": 15,
    "start_time": "2025-02-04T19:19:47.525Z"
   },
   {
    "duration": 51,
    "start_time": "2025-02-04T19:21:35.256Z"
   },
   {
    "duration": 22,
    "start_time": "2025-02-04T19:23:37.439Z"
   },
   {
    "duration": 22,
    "start_time": "2025-02-04T19:23:58.487Z"
   },
   {
    "duration": 10,
    "start_time": "2025-02-04T19:26:21.197Z"
   },
   {
    "duration": 21,
    "start_time": "2025-02-04T19:29:29.638Z"
   },
   {
    "duration": 19,
    "start_time": "2025-02-04T19:30:23.565Z"
   },
   {
    "duration": 10,
    "start_time": "2025-02-04T19:30:26.225Z"
   },
   {
    "duration": 20,
    "start_time": "2025-02-04T19:30:28.926Z"
   },
   {
    "duration": 12,
    "start_time": "2025-02-04T19:32:46.231Z"
   },
   {
    "duration": 16,
    "start_time": "2025-02-04T19:32:48.831Z"
   },
   {
    "duration": 1180,
    "start_time": "2025-02-04T19:38:52.499Z"
   },
   {
    "duration": 2671,
    "start_time": "2025-02-04T19:38:53.682Z"
   },
   {
    "duration": 13,
    "start_time": "2025-02-04T19:38:56.358Z"
   },
   {
    "duration": 13,
    "start_time": "2025-02-04T19:38:56.372Z"
   },
   {
    "duration": 113,
    "start_time": "2025-02-04T19:38:56.386Z"
   },
   {
    "duration": 58,
    "start_time": "2025-02-04T19:38:56.500Z"
   },
   {
    "duration": 6,
    "start_time": "2025-02-04T19:38:56.559Z"
   },
   {
    "duration": 31,
    "start_time": "2025-02-04T19:38:56.566Z"
   },
   {
    "duration": 23,
    "start_time": "2025-02-04T19:38:56.599Z"
   },
   {
    "duration": 7,
    "start_time": "2025-02-04T19:38:56.625Z"
   },
   {
    "duration": 19,
    "start_time": "2025-02-04T19:38:56.659Z"
   },
   {
    "duration": 7,
    "start_time": "2025-02-04T19:38:56.680Z"
   },
   {
    "duration": 13,
    "start_time": "2025-02-04T19:38:56.688Z"
   },
   {
    "duration": 9,
    "start_time": "2025-02-04T19:38:56.703Z"
   },
   {
    "duration": 10,
    "start_time": "2025-02-04T19:38:56.713Z"
   },
   {
    "duration": 36,
    "start_time": "2025-02-04T19:38:56.724Z"
   },
   {
    "duration": 40,
    "start_time": "2025-02-04T19:38:56.762Z"
   },
   {
    "duration": 8,
    "start_time": "2025-02-04T19:38:56.803Z"
   },
   {
    "duration": 11,
    "start_time": "2025-02-04T19:38:56.813Z"
   },
   {
    "duration": 2,
    "start_time": "2025-02-04T19:38:56.826Z"
   },
   {
    "duration": 153,
    "start_time": "2025-02-04T19:38:56.858Z"
   },
   {
    "duration": 7,
    "start_time": "2025-02-04T19:38:57.013Z"
   },
   {
    "duration": 36,
    "start_time": "2025-02-04T19:38:57.022Z"
   },
   {
    "duration": 11,
    "start_time": "2025-02-04T19:38:57.059Z"
   },
   {
    "duration": 12,
    "start_time": "2025-02-04T19:38:57.072Z"
   },
   {
    "duration": 11,
    "start_time": "2025-02-04T19:38:57.085Z"
   },
   {
    "duration": 74,
    "start_time": "2025-02-04T19:38:57.098Z"
   },
   {
    "duration": 156,
    "start_time": "2025-02-04T19:38:57.176Z"
   },
   {
    "duration": 50,
    "start_time": "2025-02-04T19:38:57.334Z"
   },
   {
    "duration": 25,
    "start_time": "2025-02-04T19:38:57.386Z"
   },
   {
    "duration": 21,
    "start_time": "2025-02-04T19:38:57.412Z"
   },
   {
    "duration": 15,
    "start_time": "2025-02-04T19:38:57.459Z"
   },
   {
    "duration": 88,
    "start_time": "2025-02-04T19:38:57.475Z"
   },
   {
    "duration": 79,
    "start_time": "2025-02-04T19:38:57.565Z"
   },
   {
    "duration": 19,
    "start_time": "2025-02-04T19:38:57.645Z"
   },
   {
    "duration": 178,
    "start_time": "2025-02-04T19:38:57.665Z"
   },
   {
    "duration": 185,
    "start_time": "2025-02-04T19:38:57.845Z"
   },
   {
    "duration": 17,
    "start_time": "2025-02-04T19:38:58.031Z"
   },
   {
    "duration": 272,
    "start_time": "2025-02-04T19:38:58.050Z"
   },
   {
    "duration": 256,
    "start_time": "2025-02-04T19:38:58.324Z"
   },
   {
    "duration": 20,
    "start_time": "2025-02-04T19:38:58.582Z"
   },
   {
    "duration": 20,
    "start_time": "2025-02-04T19:38:58.604Z"
   },
   {
    "duration": 6,
    "start_time": "2025-02-04T19:38:58.626Z"
   },
   {
    "duration": 9,
    "start_time": "2025-02-04T19:38:58.658Z"
   },
   {
    "duration": 301,
    "start_time": "2025-02-04T19:38:58.668Z"
   },
   {
    "duration": 13,
    "start_time": "2025-02-04T19:38:58.970Z"
   },
   {
    "duration": 32,
    "start_time": "2025-02-04T19:38:58.984Z"
   },
   {
    "duration": 318,
    "start_time": "2025-02-04T19:38:59.018Z"
   },
   {
    "duration": 120,
    "start_time": "2025-02-04T19:38:59.338Z"
   },
   {
    "duration": 21,
    "start_time": "2025-02-04T19:38:59.459Z"
   },
   {
    "duration": 5,
    "start_time": "2025-02-04T19:38:59.482Z"
   },
   {
    "duration": 14,
    "start_time": "2025-02-04T19:38:59.488Z"
   },
   {
    "duration": 80,
    "start_time": "2025-02-04T19:38:59.503Z"
   },
   {
    "duration": 18,
    "start_time": "2025-02-04T19:38:59.585Z"
   },
   {
    "duration": 17,
    "start_time": "2025-02-04T19:38:59.605Z"
   },
   {
    "duration": 35,
    "start_time": "2025-02-04T19:38:59.624Z"
   },
   {
    "duration": 12,
    "start_time": "2025-02-04T19:38:59.660Z"
   },
   {
    "duration": 16,
    "start_time": "2025-02-04T19:38:59.674Z"
   },
   {
    "duration": 14,
    "start_time": "2025-02-04T19:40:27.437Z"
   },
   {
    "duration": 60,
    "start_time": "2025-02-04T19:40:29.257Z"
   },
   {
    "duration": 23,
    "start_time": "2025-02-04T19:40:32.452Z"
   },
   {
    "duration": 5,
    "start_time": "2025-02-04T19:41:23.019Z"
   },
   {
    "duration": 5,
    "start_time": "2025-02-04T19:41:35.386Z"
   },
   {
    "duration": 23,
    "start_time": "2025-02-04T19:44:37.262Z"
   },
   {
    "duration": 1204,
    "start_time": "2025-02-04T19:46:49.276Z"
   },
   {
    "duration": 2050,
    "start_time": "2025-02-04T19:46:50.482Z"
   },
   {
    "duration": 14,
    "start_time": "2025-02-04T19:46:52.534Z"
   },
   {
    "duration": 17,
    "start_time": "2025-02-04T19:46:52.551Z"
   },
   {
    "duration": 114,
    "start_time": "2025-02-04T19:46:52.569Z"
   },
   {
    "duration": 28,
    "start_time": "2025-02-04T19:46:52.684Z"
   },
   {
    "duration": 6,
    "start_time": "2025-02-04T19:46:52.714Z"
   },
   {
    "duration": 52,
    "start_time": "2025-02-04T19:46:52.723Z"
   },
   {
    "duration": 25,
    "start_time": "2025-02-04T19:46:52.776Z"
   },
   {
    "duration": 8,
    "start_time": "2025-02-04T19:46:52.803Z"
   },
   {
    "duration": 20,
    "start_time": "2025-02-04T19:46:52.812Z"
   },
   {
    "duration": 7,
    "start_time": "2025-02-04T19:46:52.858Z"
   },
   {
    "duration": 13,
    "start_time": "2025-02-04T19:46:52.867Z"
   },
   {
    "duration": 10,
    "start_time": "2025-02-04T19:46:52.881Z"
   },
   {
    "duration": 13,
    "start_time": "2025-02-04T19:46:52.892Z"
   },
   {
    "duration": 6,
    "start_time": "2025-02-04T19:46:52.907Z"
   },
   {
    "duration": 72,
    "start_time": "2025-02-04T19:46:52.914Z"
   },
   {
    "duration": 8,
    "start_time": "2025-02-04T19:46:52.988Z"
   },
   {
    "duration": 10,
    "start_time": "2025-02-04T19:46:52.998Z"
   },
   {
    "duration": 3,
    "start_time": "2025-02-04T19:46:53.010Z"
   },
   {
    "duration": 176,
    "start_time": "2025-02-04T19:46:53.014Z"
   },
   {
    "duration": 7,
    "start_time": "2025-02-04T19:46:53.191Z"
   },
   {
    "duration": 24,
    "start_time": "2025-02-04T19:46:53.200Z"
   },
   {
    "duration": 33,
    "start_time": "2025-02-04T19:46:53.225Z"
   },
   {
    "duration": 14,
    "start_time": "2025-02-04T19:46:53.259Z"
   },
   {
    "duration": 11,
    "start_time": "2025-02-04T19:46:53.275Z"
   },
   {
    "duration": 79,
    "start_time": "2025-02-04T19:46:53.287Z"
   },
   {
    "duration": 161,
    "start_time": "2025-02-04T19:46:53.371Z"
   },
   {
    "duration": 50,
    "start_time": "2025-02-04T19:46:53.534Z"
   },
   {
    "duration": 26,
    "start_time": "2025-02-04T19:46:53.586Z"
   },
   {
    "duration": 20,
    "start_time": "2025-02-04T19:46:53.613Z"
   },
   {
    "duration": 16,
    "start_time": "2025-02-04T19:46:53.659Z"
   },
   {
    "duration": 92,
    "start_time": "2025-02-04T19:46:53.677Z"
   },
   {
    "duration": 94,
    "start_time": "2025-02-04T19:46:53.771Z"
   },
   {
    "duration": 12,
    "start_time": "2025-02-04T19:46:53.866Z"
   },
   {
    "duration": 178,
    "start_time": "2025-02-04T19:46:53.880Z"
   },
   {
    "duration": 159,
    "start_time": "2025-02-04T19:46:54.060Z"
   },
   {
    "duration": 18,
    "start_time": "2025-02-04T19:46:54.220Z"
   },
   {
    "duration": 288,
    "start_time": "2025-02-04T19:46:54.240Z"
   },
   {
    "duration": 169,
    "start_time": "2025-02-04T19:46:54.529Z"
   },
   {
    "duration": 21,
    "start_time": "2025-02-04T19:46:54.699Z"
   },
   {
    "duration": 37,
    "start_time": "2025-02-04T19:46:54.722Z"
   },
   {
    "duration": 7,
    "start_time": "2025-02-04T19:46:54.760Z"
   },
   {
    "duration": 10,
    "start_time": "2025-02-04T19:46:54.769Z"
   },
   {
    "duration": 224,
    "start_time": "2025-02-04T19:46:54.781Z"
   },
   {
    "duration": 12,
    "start_time": "2025-02-04T19:46:55.007Z"
   },
   {
    "duration": 43,
    "start_time": "2025-02-04T19:46:55.021Z"
   },
   {
    "duration": 328,
    "start_time": "2025-02-04T19:46:55.066Z"
   },
   {
    "duration": 5,
    "start_time": "2025-02-04T19:46:55.396Z"
   },
   {
    "duration": 25,
    "start_time": "2025-02-04T19:46:55.402Z"
   },
   {
    "duration": 135,
    "start_time": "2025-02-04T19:46:55.429Z"
   },
   {
    "duration": 20,
    "start_time": "2025-02-04T19:46:55.566Z"
   },
   {
    "duration": 75,
    "start_time": "2025-02-04T19:46:55.588Z"
   },
   {
    "duration": 20,
    "start_time": "2025-02-04T19:46:55.664Z"
   },
   {
    "duration": 20,
    "start_time": "2025-02-04T19:46:55.685Z"
   },
   {
    "duration": 11,
    "start_time": "2025-02-04T19:46:55.706Z"
   },
   {
    "duration": 12,
    "start_time": "2025-02-04T19:46:55.718Z"
   },
   {
    "duration": 22,
    "start_time": "2025-02-04T19:46:55.758Z"
   },
   {
    "duration": 125,
    "start_time": "2025-02-04T19:47:59.964Z"
   },
   {
    "duration": 5,
    "start_time": "2025-02-04T19:48:23.185Z"
   },
   {
    "duration": 14,
    "start_time": "2025-02-04T19:49:37.133Z"
   },
   {
    "duration": 4,
    "start_time": "2025-02-04T19:56:51.808Z"
   },
   {
    "duration": 1187,
    "start_time": "2025-02-04T20:01:03.092Z"
   },
   {
    "duration": 2046,
    "start_time": "2025-02-04T20:01:04.281Z"
   },
   {
    "duration": 15,
    "start_time": "2025-02-04T20:01:06.330Z"
   },
   {
    "duration": 12,
    "start_time": "2025-02-04T20:01:06.361Z"
   },
   {
    "duration": 113,
    "start_time": "2025-02-04T20:01:06.375Z"
   },
   {
    "duration": 50,
    "start_time": "2025-02-04T20:01:06.490Z"
   },
   {
    "duration": 5,
    "start_time": "2025-02-04T20:01:06.542Z"
   },
   {
    "duration": 32,
    "start_time": "2025-02-04T20:01:06.558Z"
   },
   {
    "duration": 25,
    "start_time": "2025-02-04T20:01:06.591Z"
   },
   {
    "duration": 7,
    "start_time": "2025-02-04T20:01:06.618Z"
   },
   {
    "duration": 47,
    "start_time": "2025-02-04T20:01:06.627Z"
   },
   {
    "duration": 10,
    "start_time": "2025-02-04T20:01:06.676Z"
   },
   {
    "duration": 12,
    "start_time": "2025-02-04T20:01:06.688Z"
   },
   {
    "duration": 9,
    "start_time": "2025-02-04T20:01:06.701Z"
   },
   {
    "duration": 11,
    "start_time": "2025-02-04T20:01:06.711Z"
   },
   {
    "duration": 6,
    "start_time": "2025-02-04T20:01:06.723Z"
   },
   {
    "duration": 40,
    "start_time": "2025-02-04T20:01:06.757Z"
   },
   {
    "duration": 9,
    "start_time": "2025-02-04T20:01:06.799Z"
   },
   {
    "duration": 15,
    "start_time": "2025-02-04T20:01:06.809Z"
   },
   {
    "duration": 3,
    "start_time": "2025-02-04T20:01:06.825Z"
   },
   {
    "duration": 238,
    "start_time": "2025-02-04T20:01:06.829Z"
   },
   {
    "duration": 8,
    "start_time": "2025-02-04T20:01:07.069Z"
   },
   {
    "duration": 26,
    "start_time": "2025-02-04T20:01:07.078Z"
   },
   {
    "duration": 10,
    "start_time": "2025-02-04T20:01:07.106Z"
   },
   {
    "duration": 11,
    "start_time": "2025-02-04T20:01:07.117Z"
   },
   {
    "duration": 33,
    "start_time": "2025-02-04T20:01:07.130Z"
   },
   {
    "duration": 55,
    "start_time": "2025-02-04T20:01:07.164Z"
   },
   {
    "duration": 165,
    "start_time": "2025-02-04T20:01:07.223Z"
   },
   {
    "duration": 46,
    "start_time": "2025-02-04T20:01:07.390Z"
   },
   {
    "duration": 40,
    "start_time": "2025-02-04T20:01:07.437Z"
   },
   {
    "duration": 20,
    "start_time": "2025-02-04T20:01:07.479Z"
   },
   {
    "duration": 14,
    "start_time": "2025-02-04T20:01:07.501Z"
   },
   {
    "duration": 101,
    "start_time": "2025-02-04T20:01:07.517Z"
   },
   {
    "duration": 96,
    "start_time": "2025-02-04T20:01:07.620Z"
   },
   {
    "duration": 11,
    "start_time": "2025-02-04T20:01:07.717Z"
   },
   {
    "duration": 182,
    "start_time": "2025-02-04T20:01:07.730Z"
   },
   {
    "duration": 158,
    "start_time": "2025-02-04T20:01:07.913Z"
   },
   {
    "duration": 17,
    "start_time": "2025-02-04T20:01:08.073Z"
   },
   {
    "duration": 290,
    "start_time": "2025-02-04T20:01:08.091Z"
   },
   {
    "duration": 178,
    "start_time": "2025-02-04T20:01:08.382Z"
   },
   {
    "duration": 21,
    "start_time": "2025-02-04T20:01:08.562Z"
   },
   {
    "duration": 22,
    "start_time": "2025-02-04T20:01:08.585Z"
   },
   {
    "duration": 7,
    "start_time": "2025-02-04T20:01:08.608Z"
   },
   {
    "duration": 8,
    "start_time": "2025-02-04T20:01:08.616Z"
   },
   {
    "duration": 215,
    "start_time": "2025-02-04T20:01:08.658Z"
   },
   {
    "duration": 13,
    "start_time": "2025-02-04T20:01:08.875Z"
   },
   {
    "duration": 32,
    "start_time": "2025-02-04T20:01:08.890Z"
   },
   {
    "duration": 320,
    "start_time": "2025-02-04T20:01:08.924Z"
   },
   {
    "duration": 12,
    "start_time": "2025-02-04T20:01:09.246Z"
   },
   {
    "duration": 25,
    "start_time": "2025-02-04T20:01:09.260Z"
   },
   {
    "duration": 133,
    "start_time": "2025-02-04T20:01:09.287Z"
   },
   {
    "duration": 20,
    "start_time": "2025-02-04T20:01:09.422Z"
   },
   {
    "duration": 59,
    "start_time": "2025-02-04T20:01:09.457Z"
   },
   {
    "duration": 20,
    "start_time": "2025-02-04T20:01:09.518Z"
   },
   {
    "duration": 32,
    "start_time": "2025-02-04T20:01:09.540Z"
   },
   {
    "duration": 11,
    "start_time": "2025-02-04T20:01:09.574Z"
   },
   {
    "duration": 12,
    "start_time": "2025-02-04T20:01:09.586Z"
   },
   {
    "duration": 21,
    "start_time": "2025-02-04T20:01:09.599Z"
   },
   {
    "duration": 42,
    "start_time": "2025-02-04T20:01:09.622Z"
   },
   {
    "duration": 1267,
    "start_time": "2025-02-05T12:53:31.914Z"
   },
   {
    "duration": 2308,
    "start_time": "2025-02-05T12:53:33.185Z"
   },
   {
    "duration": 20,
    "start_time": "2025-02-05T12:53:35.497Z"
   },
   {
    "duration": 24,
    "start_time": "2025-02-05T12:53:35.542Z"
   },
   {
    "duration": 113,
    "start_time": "2025-02-05T12:53:35.609Z"
   },
   {
    "duration": 64,
    "start_time": "2025-02-05T12:53:35.723Z"
   },
   {
    "duration": 6,
    "start_time": "2025-02-05T12:53:35.789Z"
   },
   {
    "duration": 51,
    "start_time": "2025-02-05T12:53:35.801Z"
   },
   {
    "duration": 86,
    "start_time": "2025-02-05T12:53:35.855Z"
   },
   {
    "duration": 14,
    "start_time": "2025-02-05T12:53:35.942Z"
   },
   {
    "duration": 50,
    "start_time": "2025-02-05T12:53:35.957Z"
   },
   {
    "duration": 53,
    "start_time": "2025-02-05T12:53:36.009Z"
   },
   {
    "duration": 68,
    "start_time": "2025-02-05T12:53:36.064Z"
   },
   {
    "duration": 21,
    "start_time": "2025-02-05T12:53:36.134Z"
   },
   {
    "duration": 53,
    "start_time": "2025-02-05T12:53:36.157Z"
   },
   {
    "duration": 30,
    "start_time": "2025-02-05T12:53:36.218Z"
   },
   {
    "duration": 77,
    "start_time": "2025-02-05T12:53:36.251Z"
   },
   {
    "duration": 12,
    "start_time": "2025-02-05T12:53:36.330Z"
   },
   {
    "duration": 49,
    "start_time": "2025-02-05T12:53:36.344Z"
   },
   {
    "duration": 3,
    "start_time": "2025-02-05T12:53:36.395Z"
   },
   {
    "duration": 224,
    "start_time": "2025-02-05T12:53:36.400Z"
   },
   {
    "duration": 15,
    "start_time": "2025-02-05T12:53:36.626Z"
   },
   {
    "duration": 110,
    "start_time": "2025-02-05T12:53:36.642Z"
   },
   {
    "duration": 11,
    "start_time": "2025-02-05T12:53:36.754Z"
   },
   {
    "duration": 65,
    "start_time": "2025-02-05T12:53:36.767Z"
   },
   {
    "duration": 17,
    "start_time": "2025-02-05T12:53:36.834Z"
   },
   {
    "duration": 65,
    "start_time": "2025-02-05T12:53:36.853Z"
   },
   {
    "duration": 183,
    "start_time": "2025-02-05T12:53:36.920Z"
   },
   {
    "duration": 55,
    "start_time": "2025-02-05T12:53:37.106Z"
   },
   {
    "duration": 115,
    "start_time": "2025-02-05T12:53:37.164Z"
   },
   {
    "duration": 25,
    "start_time": "2025-02-05T12:53:37.281Z"
   },
   {
    "duration": 23,
    "start_time": "2025-02-05T12:53:37.308Z"
   },
   {
    "duration": 103,
    "start_time": "2025-02-05T12:53:37.332Z"
   },
   {
    "duration": 101,
    "start_time": "2025-02-05T12:53:37.436Z"
   },
   {
    "duration": 11,
    "start_time": "2025-02-05T12:53:37.538Z"
   },
   {
    "duration": 229,
    "start_time": "2025-02-05T12:53:37.551Z"
   },
   {
    "duration": 189,
    "start_time": "2025-02-05T12:53:37.782Z"
   },
   {
    "duration": 18,
    "start_time": "2025-02-05T12:53:37.972Z"
   },
   {
    "duration": 343,
    "start_time": "2025-02-05T12:53:37.992Z"
   },
   {
    "duration": 227,
    "start_time": "2025-02-05T12:53:38.337Z"
   },
   {
    "duration": 23,
    "start_time": "2025-02-05T12:53:38.566Z"
   },
   {
    "duration": 33,
    "start_time": "2025-02-05T12:53:38.603Z"
   },
   {
    "duration": 8,
    "start_time": "2025-02-05T12:53:38.638Z"
   },
   {
    "duration": 12,
    "start_time": "2025-02-05T12:53:38.648Z"
   },
   {
    "duration": 321,
    "start_time": "2025-02-05T12:53:38.662Z"
   },
   {
    "duration": 15,
    "start_time": "2025-02-05T12:53:38.985Z"
   },
   {
    "duration": 53,
    "start_time": "2025-02-05T12:53:39.002Z"
   },
   {
    "duration": 400,
    "start_time": "2025-02-05T12:53:39.057Z"
   },
   {
    "duration": 5,
    "start_time": "2025-02-05T12:53:39.458Z"
   },
   {
    "duration": 37,
    "start_time": "2025-02-05T12:53:39.465Z"
   },
   {
    "duration": 139,
    "start_time": "2025-02-05T12:53:39.514Z"
   },
   {
    "duration": 26,
    "start_time": "2025-02-05T12:53:39.655Z"
   },
   {
    "duration": 97,
    "start_time": "2025-02-05T12:53:39.683Z"
   },
   {
    "duration": 51,
    "start_time": "2025-02-05T12:53:39.782Z"
   },
   {
    "duration": 40,
    "start_time": "2025-02-05T12:53:39.835Z"
   },
   {
    "duration": 28,
    "start_time": "2025-02-05T12:53:39.877Z"
   },
   {
    "duration": 35,
    "start_time": "2025-02-05T12:53:39.907Z"
   },
   {
    "duration": 47,
    "start_time": "2025-02-05T12:53:39.944Z"
   },
   {
    "duration": 30,
    "start_time": "2025-02-05T12:53:39.992Z"
   },
   {
    "duration": 49,
    "start_time": "2025-02-05T20:01:59.982Z"
   },
   {
    "duration": 1387,
    "start_time": "2025-02-05T20:02:04.988Z"
   },
   {
    "duration": 2655,
    "start_time": "2025-02-05T20:02:06.378Z"
   },
   {
    "duration": 13,
    "start_time": "2025-02-05T20:02:09.035Z"
   },
   {
    "duration": 84,
    "start_time": "2025-02-05T20:02:09.051Z"
   },
   {
    "duration": 106,
    "start_time": "2025-02-05T20:02:09.137Z"
   },
   {
    "duration": 28,
    "start_time": "2025-02-05T20:02:09.245Z"
   },
   {
    "duration": 5,
    "start_time": "2025-02-05T20:02:09.275Z"
   },
   {
    "duration": 57,
    "start_time": "2025-02-05T20:02:09.281Z"
   },
   {
    "duration": 51,
    "start_time": "2025-02-05T20:02:09.341Z"
   },
   {
    "duration": 8,
    "start_time": "2025-02-05T20:02:09.395Z"
   },
   {
    "duration": 36,
    "start_time": "2025-02-05T20:02:09.405Z"
   },
   {
    "duration": 54,
    "start_time": "2025-02-05T20:02:09.442Z"
   },
   {
    "duration": 30,
    "start_time": "2025-02-05T20:02:09.499Z"
   },
   {
    "duration": 10,
    "start_time": "2025-02-05T20:02:09.530Z"
   },
   {
    "duration": 40,
    "start_time": "2025-02-05T20:02:09.542Z"
   },
   {
    "duration": 8,
    "start_time": "2025-02-05T20:02:09.584Z"
   },
   {
    "duration": 47,
    "start_time": "2025-02-05T20:02:09.593Z"
   },
   {
    "duration": 10,
    "start_time": "2025-02-05T20:02:09.641Z"
   },
   {
    "duration": 14,
    "start_time": "2025-02-05T20:02:09.652Z"
   },
   {
    "duration": 3,
    "start_time": "2025-02-05T20:02:09.667Z"
   },
   {
    "duration": 189,
    "start_time": "2025-02-05T20:02:09.672Z"
   },
   {
    "duration": 7,
    "start_time": "2025-02-05T20:02:09.863Z"
   },
   {
    "duration": 27,
    "start_time": "2025-02-05T20:02:09.872Z"
   },
   {
    "duration": 12,
    "start_time": "2025-02-05T20:02:09.910Z"
   },
   {
    "duration": 15,
    "start_time": "2025-02-05T20:02:09.924Z"
   },
   {
    "duration": 12,
    "start_time": "2025-02-05T20:02:09.941Z"
   },
   {
    "duration": 84,
    "start_time": "2025-02-05T20:02:09.955Z"
   },
   {
    "duration": 172,
    "start_time": "2025-02-05T20:02:10.042Z"
   },
   {
    "duration": 42,
    "start_time": "2025-02-05T20:02:10.216Z"
   },
   {
    "duration": 25,
    "start_time": "2025-02-05T20:02:10.260Z"
   },
   {
    "duration": 45,
    "start_time": "2025-02-05T20:02:10.287Z"
   },
   {
    "duration": 35,
    "start_time": "2025-02-05T20:02:10.334Z"
   },
   {
    "duration": 87,
    "start_time": "2025-02-05T20:02:10.371Z"
   },
   {
    "duration": 99,
    "start_time": "2025-02-05T20:02:10.460Z"
   },
   {
    "duration": 11,
    "start_time": "2025-02-05T20:02:10.560Z"
   },
   {
    "duration": 178,
    "start_time": "2025-02-05T20:02:10.572Z"
   },
   {
    "duration": 202,
    "start_time": "2025-02-05T20:02:10.752Z"
   },
   {
    "duration": 19,
    "start_time": "2025-02-05T20:02:10.956Z"
   },
   {
    "duration": 309,
    "start_time": "2025-02-05T20:02:10.977Z"
   },
   {
    "duration": 187,
    "start_time": "2025-02-05T20:02:11.288Z"
   },
   {
    "duration": 34,
    "start_time": "2025-02-05T20:02:11.477Z"
   },
   {
    "duration": 24,
    "start_time": "2025-02-05T20:02:11.513Z"
   },
   {
    "duration": 8,
    "start_time": "2025-02-05T20:02:11.539Z"
   },
   {
    "duration": 13,
    "start_time": "2025-02-05T20:02:11.549Z"
   },
   {
    "duration": 236,
    "start_time": "2025-02-05T20:02:11.564Z"
   },
   {
    "duration": 17,
    "start_time": "2025-02-05T20:02:11.802Z"
   },
   {
    "duration": 31,
    "start_time": "2025-02-05T20:02:11.821Z"
   },
   {
    "duration": 328,
    "start_time": "2025-02-05T20:02:11.854Z"
   },
   {
    "duration": 5,
    "start_time": "2025-02-05T20:02:12.184Z"
   },
   {
    "duration": 39,
    "start_time": "2025-02-05T20:02:12.191Z"
   },
   {
    "duration": 150,
    "start_time": "2025-02-05T20:02:12.232Z"
   },
   {
    "duration": 29,
    "start_time": "2025-02-05T20:02:12.384Z"
   },
   {
    "duration": 62,
    "start_time": "2025-02-05T20:02:12.415Z"
   },
   {
    "duration": 41,
    "start_time": "2025-02-05T20:02:12.479Z"
   },
   {
    "duration": 22,
    "start_time": "2025-02-05T20:02:12.522Z"
   },
   {
    "duration": 15,
    "start_time": "2025-02-05T20:02:12.546Z"
   },
   {
    "duration": 13,
    "start_time": "2025-02-05T20:02:12.563Z"
   },
   {
    "duration": 48,
    "start_time": "2025-02-05T20:02:12.578Z"
   },
   {
    "duration": 14,
    "start_time": "2025-02-05T20:02:12.628Z"
   },
   {
    "duration": 14,
    "start_time": "2025-02-05T20:02:12.643Z"
   },
   {
    "duration": 30,
    "start_time": "2025-02-05T20:07:51.136Z"
   },
   {
    "duration": 28,
    "start_time": "2025-02-05T20:08:20.063Z"
   },
   {
    "duration": 17,
    "start_time": "2025-02-05T20:08:32.007Z"
   },
   {
    "duration": 1199,
    "start_time": "2025-02-05T20:09:25.144Z"
   },
   {
    "duration": 1962,
    "start_time": "2025-02-05T20:09:26.345Z"
   },
   {
    "duration": 13,
    "start_time": "2025-02-05T20:09:28.309Z"
   },
   {
    "duration": 56,
    "start_time": "2025-02-05T20:09:28.324Z"
   },
   {
    "duration": 108,
    "start_time": "2025-02-05T20:09:28.382Z"
   },
   {
    "duration": 58,
    "start_time": "2025-02-05T20:09:28.492Z"
   },
   {
    "duration": 5,
    "start_time": "2025-02-05T20:09:28.552Z"
   },
   {
    "duration": 36,
    "start_time": "2025-02-05T20:09:28.558Z"
   },
   {
    "duration": 44,
    "start_time": "2025-02-05T20:09:28.596Z"
   },
   {
    "duration": 14,
    "start_time": "2025-02-05T20:09:28.642Z"
   },
   {
    "duration": 22,
    "start_time": "2025-02-05T20:09:28.657Z"
   },
   {
    "duration": 15,
    "start_time": "2025-02-05T20:09:28.680Z"
   },
   {
    "duration": 25,
    "start_time": "2025-02-05T20:09:28.696Z"
   },
   {
    "duration": 10,
    "start_time": "2025-02-05T20:09:28.723Z"
   },
   {
    "duration": 24,
    "start_time": "2025-02-05T20:09:28.734Z"
   },
   {
    "duration": 6,
    "start_time": "2025-02-05T20:09:28.759Z"
   },
   {
    "duration": 104,
    "start_time": "2025-02-05T20:09:28.767Z"
   },
   {
    "duration": 9,
    "start_time": "2025-02-05T20:09:28.873Z"
   },
   {
    "duration": 38,
    "start_time": "2025-02-05T20:09:28.885Z"
   },
   {
    "duration": 3,
    "start_time": "2025-02-05T20:09:28.925Z"
   },
   {
    "duration": 165,
    "start_time": "2025-02-05T20:09:28.931Z"
   },
   {
    "duration": 12,
    "start_time": "2025-02-05T20:09:29.098Z"
   },
   {
    "duration": 53,
    "start_time": "2025-02-05T20:09:29.112Z"
   },
   {
    "duration": 12,
    "start_time": "2025-02-05T20:09:29.167Z"
   },
   {
    "duration": 13,
    "start_time": "2025-02-05T20:09:29.181Z"
   },
   {
    "duration": 27,
    "start_time": "2025-02-05T20:09:29.196Z"
   },
   {
    "duration": 60,
    "start_time": "2025-02-05T20:09:29.225Z"
   },
   {
    "duration": 170,
    "start_time": "2025-02-05T20:09:29.289Z"
   },
   {
    "duration": 64,
    "start_time": "2025-02-05T20:09:29.461Z"
   },
   {
    "duration": 27,
    "start_time": "2025-02-05T20:09:29.528Z"
   },
   {
    "duration": 21,
    "start_time": "2025-02-05T20:09:29.557Z"
   },
   {
    "duration": 39,
    "start_time": "2025-02-05T20:09:29.580Z"
   },
   {
    "duration": 99,
    "start_time": "2025-02-05T20:09:29.621Z"
   },
   {
    "duration": 93,
    "start_time": "2025-02-05T20:09:29.723Z"
   },
   {
    "duration": 18,
    "start_time": "2025-02-05T20:09:29.818Z"
   },
   {
    "duration": 203,
    "start_time": "2025-02-05T20:09:29.838Z"
   },
   {
    "duration": 176,
    "start_time": "2025-02-05T20:09:30.044Z"
   },
   {
    "duration": 27,
    "start_time": "2025-02-05T20:09:30.222Z"
   },
   {
    "duration": 303,
    "start_time": "2025-02-05T20:09:30.252Z"
   },
   {
    "duration": 189,
    "start_time": "2025-02-05T20:09:30.556Z"
   },
   {
    "duration": 22,
    "start_time": "2025-02-05T20:09:30.746Z"
   },
   {
    "duration": 42,
    "start_time": "2025-02-05T20:09:30.769Z"
   },
   {
    "duration": 30,
    "start_time": "2025-02-05T20:09:30.812Z"
   },
   {
    "duration": 8,
    "start_time": "2025-02-05T20:09:30.844Z"
   },
   {
    "duration": 222,
    "start_time": "2025-02-05T20:09:30.854Z"
   },
   {
    "duration": 12,
    "start_time": "2025-02-05T20:09:31.078Z"
   },
   {
    "duration": 94,
    "start_time": "2025-02-05T20:09:31.091Z"
   },
   {
    "duration": 308,
    "start_time": "2025-02-05T20:09:31.187Z"
   },
   {
    "duration": 5,
    "start_time": "2025-02-05T20:09:31.496Z"
   },
   {
    "duration": 53,
    "start_time": "2025-02-05T20:09:31.502Z"
   },
   {
    "duration": 116,
    "start_time": "2025-02-05T20:09:31.557Z"
   },
   {
    "duration": 21,
    "start_time": "2025-02-05T20:09:31.674Z"
   },
   {
    "duration": 64,
    "start_time": "2025-02-05T20:09:31.696Z"
   },
   {
    "duration": 22,
    "start_time": "2025-02-05T20:09:31.762Z"
   },
   {
    "duration": 32,
    "start_time": "2025-02-05T20:09:31.786Z"
   },
   {
    "duration": 57,
    "start_time": "2025-02-05T20:09:31.819Z"
   },
   {
    "duration": 11,
    "start_time": "2025-02-05T20:09:31.878Z"
   },
   {
    "duration": 27,
    "start_time": "2025-02-05T20:09:31.890Z"
   },
   {
    "duration": 25,
    "start_time": "2025-02-05T20:09:31.918Z"
   },
   {
    "duration": 29,
    "start_time": "2025-02-05T20:09:31.945Z"
   },
   {
    "duration": 19,
    "start_time": "2025-02-05T20:09:49.913Z"
   },
   {
    "duration": 41,
    "start_time": "2025-02-05T20:16:30.078Z"
   },
   {
    "duration": 19,
    "start_time": "2025-02-05T20:16:36.166Z"
   },
   {
    "duration": 66,
    "start_time": "2025-02-05T20:20:02.617Z"
   },
   {
    "duration": 1213,
    "start_time": "2025-02-05T20:20:26.346Z"
   },
   {
    "duration": 1904,
    "start_time": "2025-02-05T20:20:27.561Z"
   },
   {
    "duration": 13,
    "start_time": "2025-02-05T20:20:29.467Z"
   },
   {
    "duration": 29,
    "start_time": "2025-02-05T20:20:29.483Z"
   },
   {
    "duration": 111,
    "start_time": "2025-02-05T20:20:29.514Z"
   },
   {
    "duration": 29,
    "start_time": "2025-02-05T20:20:29.627Z"
   },
   {
    "duration": 5,
    "start_time": "2025-02-05T20:20:29.658Z"
   },
   {
    "duration": 61,
    "start_time": "2025-02-05T20:20:29.665Z"
   },
   {
    "duration": 25,
    "start_time": "2025-02-05T20:20:29.727Z"
   },
   {
    "duration": 8,
    "start_time": "2025-02-05T20:20:29.755Z"
   },
   {
    "duration": 51,
    "start_time": "2025-02-05T20:20:29.765Z"
   },
   {
    "duration": 8,
    "start_time": "2025-02-05T20:20:29.818Z"
   },
   {
    "duration": 14,
    "start_time": "2025-02-05T20:20:29.827Z"
   },
   {
    "duration": 10,
    "start_time": "2025-02-05T20:20:29.843Z"
   },
   {
    "duration": 10,
    "start_time": "2025-02-05T20:20:29.855Z"
   },
   {
    "duration": 43,
    "start_time": "2025-02-05T20:20:29.867Z"
   },
   {
    "duration": 42,
    "start_time": "2025-02-05T20:20:29.912Z"
   },
   {
    "duration": 8,
    "start_time": "2025-02-05T20:20:29.956Z"
   },
   {
    "duration": 51,
    "start_time": "2025-02-05T20:20:29.965Z"
   },
   {
    "duration": 23,
    "start_time": "2025-02-05T20:20:30.018Z"
   },
   {
    "duration": 220,
    "start_time": "2025-02-05T20:20:30.044Z"
   },
   {
    "duration": 7,
    "start_time": "2025-02-05T20:20:30.266Z"
   },
   {
    "duration": 49,
    "start_time": "2025-02-05T20:20:30.275Z"
   },
   {
    "duration": 11,
    "start_time": "2025-02-05T20:20:30.326Z"
   },
   {
    "duration": 12,
    "start_time": "2025-02-05T20:20:30.338Z"
   },
   {
    "duration": 12,
    "start_time": "2025-02-05T20:20:30.352Z"
   },
   {
    "duration": 82,
    "start_time": "2025-02-05T20:20:30.365Z"
   },
   {
    "duration": 168,
    "start_time": "2025-02-05T20:20:30.451Z"
   },
   {
    "duration": 44,
    "start_time": "2025-02-05T20:20:30.621Z"
   },
   {
    "duration": 52,
    "start_time": "2025-02-05T20:20:30.666Z"
   },
   {
    "duration": 20,
    "start_time": "2025-02-05T20:20:30.720Z"
   },
   {
    "duration": 16,
    "start_time": "2025-02-05T20:20:30.742Z"
   },
   {
    "duration": 116,
    "start_time": "2025-02-05T20:20:30.759Z"
   },
   {
    "duration": 92,
    "start_time": "2025-02-05T20:20:30.877Z"
   },
   {
    "duration": 11,
    "start_time": "2025-02-05T20:20:30.971Z"
   },
   {
    "duration": 184,
    "start_time": "2025-02-05T20:20:30.983Z"
   },
   {
    "duration": 176,
    "start_time": "2025-02-05T20:20:31.169Z"
   },
   {
    "duration": 18,
    "start_time": "2025-02-05T20:20:31.347Z"
   },
   {
    "duration": 318,
    "start_time": "2025-02-05T20:20:31.368Z"
   },
   {
    "duration": 192,
    "start_time": "2025-02-05T20:20:31.688Z"
   },
   {
    "duration": 31,
    "start_time": "2025-02-05T20:20:31.882Z"
   },
   {
    "duration": 26,
    "start_time": "2025-02-05T20:20:31.915Z"
   },
   {
    "duration": 17,
    "start_time": "2025-02-05T20:20:31.943Z"
   },
   {
    "duration": 9,
    "start_time": "2025-02-05T20:20:31.962Z"
   },
   {
    "duration": 253,
    "start_time": "2025-02-05T20:20:31.973Z"
   },
   {
    "duration": 14,
    "start_time": "2025-02-05T20:20:32.228Z"
   },
   {
    "duration": 38,
    "start_time": "2025-02-05T20:20:32.244Z"
   },
   {
    "duration": 374,
    "start_time": "2025-02-05T20:20:32.283Z"
   },
   {
    "duration": 5,
    "start_time": "2025-02-05T20:20:32.658Z"
   },
   {
    "duration": 31,
    "start_time": "2025-02-05T20:20:32.664Z"
   },
   {
    "duration": 130,
    "start_time": "2025-02-05T20:20:32.709Z"
   },
   {
    "duration": 20,
    "start_time": "2025-02-05T20:20:32.841Z"
   },
   {
    "duration": 79,
    "start_time": "2025-02-05T20:20:32.862Z"
   },
   {
    "duration": 25,
    "start_time": "2025-02-05T20:20:32.943Z"
   },
   {
    "duration": 40,
    "start_time": "2025-02-05T20:20:32.970Z"
   },
   {
    "duration": 14,
    "start_time": "2025-02-05T20:20:33.013Z"
   },
   {
    "duration": 13,
    "start_time": "2025-02-05T20:20:33.029Z"
   },
   {
    "duration": 24,
    "start_time": "2025-02-05T20:20:33.043Z"
   },
   {
    "duration": 50,
    "start_time": "2025-02-05T20:20:33.068Z"
   },
   {
    "duration": 104,
    "start_time": "2025-02-05T20:20:33.119Z"
   },
   {
    "duration": 18,
    "start_time": "2025-02-05T20:20:33.225Z"
   },
   {
    "duration": 54,
    "start_time": "2025-02-05T20:21:18.388Z"
   },
   {
    "duration": 21,
    "start_time": "2025-02-05T20:21:41.433Z"
   },
   {
    "duration": 48,
    "start_time": "2025-02-05T20:21:48.381Z"
   },
   {
    "duration": 20,
    "start_time": "2025-02-05T20:21:52.468Z"
   },
   {
    "duration": 11,
    "start_time": "2025-02-05T20:26:56.947Z"
   },
   {
    "duration": 443,
    "start_time": "2025-02-05T20:35:07.666Z"
   },
   {
    "duration": 220,
    "start_time": "2025-02-05T20:41:29.203Z"
   },
   {
    "duration": 137,
    "start_time": "2025-02-05T20:42:58.965Z"
   },
   {
    "duration": 138,
    "start_time": "2025-02-05T20:43:31.864Z"
   },
   {
    "duration": 11,
    "start_time": "2025-02-05T20:47:43.049Z"
   },
   {
    "duration": 9,
    "start_time": "2025-02-05T20:48:21.736Z"
   },
   {
    "duration": 52,
    "start_time": "2025-02-05T20:51:34.979Z"
   },
   {
    "duration": 40,
    "start_time": "2025-02-05T21:06:09.744Z"
   },
   {
    "duration": 13,
    "start_time": "2025-02-05T21:07:00.724Z"
   },
   {
    "duration": 1231,
    "start_time": "2025-02-05T21:07:57.492Z"
   },
   {
    "duration": 2209,
    "start_time": "2025-02-05T21:07:58.725Z"
   },
   {
    "duration": 13,
    "start_time": "2025-02-05T21:08:00.935Z"
   },
   {
    "duration": 22,
    "start_time": "2025-02-05T21:08:00.950Z"
   },
   {
    "duration": 106,
    "start_time": "2025-02-05T21:08:00.973Z"
   },
   {
    "duration": 38,
    "start_time": "2025-02-05T21:08:01.081Z"
   },
   {
    "duration": 5,
    "start_time": "2025-02-05T21:08:01.120Z"
   },
   {
    "duration": 40,
    "start_time": "2025-02-05T21:08:01.127Z"
   },
   {
    "duration": 27,
    "start_time": "2025-02-05T21:08:01.169Z"
   },
   {
    "duration": 16,
    "start_time": "2025-02-05T21:08:01.198Z"
   },
   {
    "duration": 34,
    "start_time": "2025-02-05T21:08:01.216Z"
   },
   {
    "duration": 7,
    "start_time": "2025-02-05T21:08:01.251Z"
   },
   {
    "duration": 18,
    "start_time": "2025-02-05T21:08:01.259Z"
   },
   {
    "duration": 43,
    "start_time": "2025-02-05T21:08:01.278Z"
   },
   {
    "duration": 32,
    "start_time": "2025-02-05T21:08:01.323Z"
   },
   {
    "duration": 8,
    "start_time": "2025-02-05T21:08:01.356Z"
   },
   {
    "duration": 45,
    "start_time": "2025-02-05T21:08:01.366Z"
   },
   {
    "duration": 9,
    "start_time": "2025-02-05T21:08:01.412Z"
   },
   {
    "duration": 50,
    "start_time": "2025-02-05T21:08:01.423Z"
   },
   {
    "duration": 3,
    "start_time": "2025-02-05T21:08:01.474Z"
   },
   {
    "duration": 163,
    "start_time": "2025-02-05T21:08:01.478Z"
   },
   {
    "duration": 7,
    "start_time": "2025-02-05T21:08:01.643Z"
   },
   {
    "duration": 27,
    "start_time": "2025-02-05T21:08:01.651Z"
   },
   {
    "duration": 10,
    "start_time": "2025-02-05T21:08:01.680Z"
   },
   {
    "duration": 24,
    "start_time": "2025-02-05T21:08:01.692Z"
   },
   {
    "duration": 13,
    "start_time": "2025-02-05T21:08:01.718Z"
   },
   {
    "duration": 71,
    "start_time": "2025-02-05T21:08:01.733Z"
   },
   {
    "duration": 156,
    "start_time": "2025-02-05T21:08:01.812Z"
   },
   {
    "duration": 57,
    "start_time": "2025-02-05T21:08:01.969Z"
   },
   {
    "duration": 25,
    "start_time": "2025-02-05T21:08:02.028Z"
   },
   {
    "duration": 22,
    "start_time": "2025-02-05T21:08:02.055Z"
   },
   {
    "duration": 42,
    "start_time": "2025-02-05T21:08:02.078Z"
   },
   {
    "duration": 92,
    "start_time": "2025-02-05T21:08:02.122Z"
   },
   {
    "duration": 99,
    "start_time": "2025-02-05T21:08:02.216Z"
   },
   {
    "duration": 17,
    "start_time": "2025-02-05T21:08:02.318Z"
   },
   {
    "duration": 182,
    "start_time": "2025-02-05T21:08:02.337Z"
   },
   {
    "duration": 169,
    "start_time": "2025-02-05T21:08:02.521Z"
   },
   {
    "duration": 30,
    "start_time": "2025-02-05T21:08:02.691Z"
   },
   {
    "duration": 309,
    "start_time": "2025-02-05T21:08:02.723Z"
   },
   {
    "duration": 194,
    "start_time": "2025-02-05T21:08:03.033Z"
   },
   {
    "duration": 21,
    "start_time": "2025-02-05T21:08:03.228Z"
   },
   {
    "duration": 25,
    "start_time": "2025-02-05T21:08:03.251Z"
   },
   {
    "duration": 6,
    "start_time": "2025-02-05T21:08:03.277Z"
   },
   {
    "duration": 28,
    "start_time": "2025-02-05T21:08:03.285Z"
   },
   {
    "duration": 226,
    "start_time": "2025-02-05T21:08:03.314Z"
   },
   {
    "duration": 14,
    "start_time": "2025-02-05T21:08:03.542Z"
   },
   {
    "duration": 52,
    "start_time": "2025-02-05T21:08:03.557Z"
   },
   {
    "duration": 368,
    "start_time": "2025-02-05T21:08:03.611Z"
   },
   {
    "duration": 5,
    "start_time": "2025-02-05T21:08:03.980Z"
   },
   {
    "duration": 44,
    "start_time": "2025-02-05T21:08:03.987Z"
   },
   {
    "duration": 130,
    "start_time": "2025-02-05T21:08:04.033Z"
   },
   {
    "duration": 20,
    "start_time": "2025-02-05T21:08:04.165Z"
   },
   {
    "duration": 76,
    "start_time": "2025-02-05T21:08:04.187Z"
   },
   {
    "duration": 19,
    "start_time": "2025-02-05T21:08:04.265Z"
   },
   {
    "duration": 72,
    "start_time": "2025-02-05T21:08:04.285Z"
   },
   {
    "duration": 18,
    "start_time": "2025-02-05T21:08:04.359Z"
   },
   {
    "duration": 12,
    "start_time": "2025-02-05T21:08:04.378Z"
   },
   {
    "duration": 23,
    "start_time": "2025-02-05T21:08:04.392Z"
   },
   {
    "duration": 14,
    "start_time": "2025-02-05T21:08:04.416Z"
   },
   {
    "duration": 51,
    "start_time": "2025-02-05T21:08:04.431Z"
   },
   {
    "duration": 167,
    "start_time": "2025-02-05T21:08:04.484Z"
   },
   {
    "duration": 10,
    "start_time": "2025-02-05T21:08:04.652Z"
   },
   {
    "duration": 51,
    "start_time": "2025-02-05T21:08:04.664Z"
   },
   {
    "duration": 74,
    "start_time": "2025-02-05T21:08:04.716Z"
   },
   {
    "duration": 9,
    "start_time": "2025-02-05T21:08:20.752Z"
   },
   {
    "duration": 25,
    "start_time": "2025-02-05T21:08:26.856Z"
   },
   {
    "duration": 9,
    "start_time": "2025-02-05T21:09:41.075Z"
   },
   {
    "duration": 6,
    "start_time": "2025-02-05T21:17:47.479Z"
   },
   {
    "duration": 7,
    "start_time": "2025-02-05T21:18:35.375Z"
   },
   {
    "duration": 7,
    "start_time": "2025-02-05T21:20:18.367Z"
   },
   {
    "duration": 9,
    "start_time": "2025-02-05T21:25:41.531Z"
   },
   {
    "duration": 9,
    "start_time": "2025-02-05T21:26:21.711Z"
   },
   {
    "duration": 9,
    "start_time": "2025-02-05T21:26:38.780Z"
   },
   {
    "duration": 7,
    "start_time": "2025-02-05T21:27:22.377Z"
   },
   {
    "duration": 7,
    "start_time": "2025-02-05T21:27:33.870Z"
   },
   {
    "duration": 7,
    "start_time": "2025-02-05T21:28:00.575Z"
   },
   {
    "duration": 7,
    "start_time": "2025-02-05T21:28:07.015Z"
   },
   {
    "duration": 6,
    "start_time": "2025-02-05T21:28:14.283Z"
   },
   {
    "duration": 7,
    "start_time": "2025-02-05T21:28:17.989Z"
   },
   {
    "duration": 7,
    "start_time": "2025-02-05T21:28:22.600Z"
   },
   {
    "duration": 7,
    "start_time": "2025-02-05T21:28:35.289Z"
   },
   {
    "duration": 9,
    "start_time": "2025-02-05T21:33:43.109Z"
   },
   {
    "duration": 9,
    "start_time": "2025-02-05T21:33:51.233Z"
   },
   {
    "duration": 10,
    "start_time": "2025-02-05T21:33:57.284Z"
   },
   {
    "duration": 8,
    "start_time": "2025-02-05T21:37:35.722Z"
   },
   {
    "duration": 7,
    "start_time": "2025-02-05T21:37:48.464Z"
   },
   {
    "duration": 1313,
    "start_time": "2025-02-06T12:56:20.161Z"
   },
   {
    "duration": 2429,
    "start_time": "2025-02-06T12:56:21.476Z"
   },
   {
    "duration": 13,
    "start_time": "2025-02-06T12:56:23.906Z"
   },
   {
    "duration": 15,
    "start_time": "2025-02-06T12:56:23.921Z"
   },
   {
    "duration": 100,
    "start_time": "2025-02-06T12:56:23.937Z"
   },
   {
    "duration": 28,
    "start_time": "2025-02-06T12:56:24.047Z"
   },
   {
    "duration": 4,
    "start_time": "2025-02-06T12:56:24.077Z"
   },
   {
    "duration": 105,
    "start_time": "2025-02-06T12:56:24.083Z"
   },
   {
    "duration": 25,
    "start_time": "2025-02-06T12:56:24.189Z"
   },
   {
    "duration": 7,
    "start_time": "2025-02-06T12:56:24.216Z"
   },
   {
    "duration": 27,
    "start_time": "2025-02-06T12:56:24.225Z"
   },
   {
    "duration": 14,
    "start_time": "2025-02-06T12:56:24.254Z"
   },
   {
    "duration": 36,
    "start_time": "2025-02-06T12:56:24.269Z"
   },
   {
    "duration": 27,
    "start_time": "2025-02-06T12:56:24.306Z"
   },
   {
    "duration": 15,
    "start_time": "2025-02-06T12:56:24.335Z"
   },
   {
    "duration": 6,
    "start_time": "2025-02-06T12:56:24.352Z"
   },
   {
    "duration": 42,
    "start_time": "2025-02-06T12:56:24.359Z"
   },
   {
    "duration": 9,
    "start_time": "2025-02-06T12:56:24.403Z"
   },
   {
    "duration": 37,
    "start_time": "2025-02-06T12:56:24.413Z"
   },
   {
    "duration": 3,
    "start_time": "2025-02-06T12:56:24.451Z"
   },
   {
    "duration": 158,
    "start_time": "2025-02-06T12:56:24.455Z"
   },
   {
    "duration": 7,
    "start_time": "2025-02-06T12:56:24.614Z"
   },
   {
    "duration": 66,
    "start_time": "2025-02-06T12:56:24.622Z"
   },
   {
    "duration": 9,
    "start_time": "2025-02-06T12:56:24.690Z"
   },
   {
    "duration": 42,
    "start_time": "2025-02-06T12:56:24.700Z"
   },
   {
    "duration": 12,
    "start_time": "2025-02-06T12:56:24.743Z"
   },
   {
    "duration": 76,
    "start_time": "2025-02-06T12:56:24.756Z"
   },
   {
    "duration": 142,
    "start_time": "2025-02-06T12:56:24.835Z"
   },
   {
    "duration": 42,
    "start_time": "2025-02-06T12:56:24.979Z"
   },
   {
    "duration": 43,
    "start_time": "2025-02-06T12:56:25.023Z"
   },
   {
    "duration": 22,
    "start_time": "2025-02-06T12:56:25.068Z"
   },
   {
    "duration": 39,
    "start_time": "2025-02-06T12:56:25.092Z"
   },
   {
    "duration": 161,
    "start_time": "2025-02-06T12:56:25.133Z"
   },
   {
    "duration": 91,
    "start_time": "2025-02-06T12:56:25.295Z"
   },
   {
    "duration": 12,
    "start_time": "2025-02-06T12:56:25.388Z"
   },
   {
    "duration": 186,
    "start_time": "2025-02-06T12:56:25.402Z"
   },
   {
    "duration": 175,
    "start_time": "2025-02-06T12:56:25.590Z"
   },
   {
    "duration": 19,
    "start_time": "2025-02-06T12:56:25.767Z"
   },
   {
    "duration": 387,
    "start_time": "2025-02-06T12:56:25.789Z"
   },
   {
    "duration": 183,
    "start_time": "2025-02-06T12:56:26.178Z"
   },
   {
    "duration": 22,
    "start_time": "2025-02-06T12:56:26.363Z"
   },
   {
    "duration": 22,
    "start_time": "2025-02-06T12:56:26.386Z"
   },
   {
    "duration": 7,
    "start_time": "2025-02-06T12:56:26.410Z"
   },
   {
    "duration": 9,
    "start_time": "2025-02-06T12:56:26.448Z"
   },
   {
    "duration": 212,
    "start_time": "2025-02-06T12:56:26.458Z"
   },
   {
    "duration": 11,
    "start_time": "2025-02-06T12:56:26.672Z"
   },
   {
    "duration": 49,
    "start_time": "2025-02-06T12:56:26.685Z"
   },
   {
    "duration": 403,
    "start_time": "2025-02-06T12:56:26.736Z"
   },
   {
    "duration": 9,
    "start_time": "2025-02-06T12:56:27.141Z"
   },
   {
    "duration": 125,
    "start_time": "2025-02-06T12:56:27.152Z"
   },
   {
    "duration": 125,
    "start_time": "2025-02-06T12:56:27.279Z"
   },
   {
    "duration": 20,
    "start_time": "2025-02-06T12:56:27.406Z"
   },
   {
    "duration": 71,
    "start_time": "2025-02-06T12:56:27.427Z"
   },
   {
    "duration": 21,
    "start_time": "2025-02-06T12:56:27.499Z"
   },
   {
    "duration": 32,
    "start_time": "2025-02-06T12:56:27.522Z"
   },
   {
    "duration": 10,
    "start_time": "2025-02-06T12:56:27.556Z"
   },
   {
    "duration": 46,
    "start_time": "2025-02-06T12:56:27.568Z"
   },
   {
    "duration": 21,
    "start_time": "2025-02-06T12:56:27.616Z"
   },
   {
    "duration": 24,
    "start_time": "2025-02-06T12:56:27.639Z"
   },
   {
    "duration": 45,
    "start_time": "2025-02-06T12:56:27.664Z"
   },
   {
    "duration": 134,
    "start_time": "2025-02-06T12:56:27.710Z"
   },
   {
    "duration": 33,
    "start_time": "2025-02-06T12:56:27.847Z"
   },
   {
    "duration": 37,
    "start_time": "2025-02-06T12:56:27.881Z"
   },
   {
    "duration": 6,
    "start_time": "2025-02-06T12:56:27.920Z"
   },
   {
    "duration": 10,
    "start_time": "2025-02-06T12:56:27.928Z"
   },
   {
    "duration": 7,
    "start_time": "2025-02-06T12:56:27.939Z"
   },
   {
    "duration": 25,
    "start_time": "2025-02-06T12:56:27.948Z"
   },
   {
    "duration": 9,
    "start_time": "2025-02-06T12:58:12.417Z"
   },
   {
    "duration": 12,
    "start_time": "2025-02-06T13:06:55.751Z"
   },
   {
    "duration": 12,
    "start_time": "2025-02-06T13:12:20.725Z"
   },
   {
    "duration": 9,
    "start_time": "2025-02-06T13:12:26.212Z"
   },
   {
    "duration": 10,
    "start_time": "2025-02-06T13:12:30.833Z"
   },
   {
    "duration": 10,
    "start_time": "2025-02-06T13:12:44.805Z"
   },
   {
    "duration": 4,
    "start_time": "2025-02-06T13:19:42.304Z"
   },
   {
    "duration": 18,
    "start_time": "2025-02-06T13:20:21.266Z"
   },
   {
    "duration": 18,
    "start_time": "2025-02-06T13:20:46.294Z"
   },
   {
    "duration": 10,
    "start_time": "2025-02-06T13:23:33.493Z"
   },
   {
    "duration": 24,
    "start_time": "2025-02-06T13:28:47.149Z"
   },
   {
    "duration": 21,
    "start_time": "2025-02-06T13:29:00.985Z"
   },
   {
    "duration": 1238,
    "start_time": "2025-02-06T13:30:05.641Z"
   },
   {
    "duration": 2250,
    "start_time": "2025-02-06T13:30:06.881Z"
   },
   {
    "duration": 17,
    "start_time": "2025-02-06T13:30:09.133Z"
   },
   {
    "duration": 45,
    "start_time": "2025-02-06T13:30:09.152Z"
   },
   {
    "duration": 131,
    "start_time": "2025-02-06T13:30:09.198Z"
   },
   {
    "duration": 32,
    "start_time": "2025-02-06T13:30:09.330Z"
   },
   {
    "duration": 5,
    "start_time": "2025-02-06T13:30:09.364Z"
   },
   {
    "duration": 54,
    "start_time": "2025-02-06T13:30:09.370Z"
   },
   {
    "duration": 38,
    "start_time": "2025-02-06T13:30:09.426Z"
   },
   {
    "duration": 12,
    "start_time": "2025-02-06T13:30:09.466Z"
   },
   {
    "duration": 44,
    "start_time": "2025-02-06T13:30:09.479Z"
   },
   {
    "duration": 41,
    "start_time": "2025-02-06T13:30:09.525Z"
   },
   {
    "duration": 39,
    "start_time": "2025-02-06T13:30:09.568Z"
   },
   {
    "duration": 24,
    "start_time": "2025-02-06T13:30:09.609Z"
   },
   {
    "duration": 39,
    "start_time": "2025-02-06T13:30:09.634Z"
   },
   {
    "duration": 32,
    "start_time": "2025-02-06T13:30:09.675Z"
   },
   {
    "duration": 52,
    "start_time": "2025-02-06T13:30:09.709Z"
   },
   {
    "duration": 9,
    "start_time": "2025-02-06T13:30:09.762Z"
   },
   {
    "duration": 135,
    "start_time": "2025-02-06T13:30:09.772Z"
   },
   {
    "duration": 102,
    "start_time": "2025-02-06T13:30:09.908Z"
   },
   {
    "duration": 176,
    "start_time": "2025-02-06T13:30:10.011Z"
   },
   {
    "duration": 7,
    "start_time": "2025-02-06T13:30:10.189Z"
   },
   {
    "duration": 121,
    "start_time": "2025-02-06T13:30:10.198Z"
   },
   {
    "duration": 11,
    "start_time": "2025-02-06T13:30:10.320Z"
   },
   {
    "duration": 11,
    "start_time": "2025-02-06T13:30:10.332Z"
   },
   {
    "duration": 22,
    "start_time": "2025-02-06T13:30:10.345Z"
   },
   {
    "duration": 83,
    "start_time": "2025-02-06T13:30:10.369Z"
   },
   {
    "duration": 159,
    "start_time": "2025-02-06T13:30:10.456Z"
   },
   {
    "duration": 51,
    "start_time": "2025-02-06T13:30:10.617Z"
   },
   {
    "duration": 25,
    "start_time": "2025-02-06T13:30:10.670Z"
   },
   {
    "duration": 112,
    "start_time": "2025-02-06T13:30:10.696Z"
   },
   {
    "duration": 75,
    "start_time": "2025-02-06T13:30:10.810Z"
   },
   {
    "duration": 75,
    "start_time": "2025-02-06T13:30:10.886Z"
   },
   {
    "duration": 97,
    "start_time": "2025-02-06T13:30:10.962Z"
   },
   {
    "duration": 11,
    "start_time": "2025-02-06T13:30:11.061Z"
   },
   {
    "duration": 193,
    "start_time": "2025-02-06T13:30:11.074Z"
   },
   {
    "duration": 167,
    "start_time": "2025-02-06T13:30:11.269Z"
   },
   {
    "duration": 22,
    "start_time": "2025-02-06T13:30:11.437Z"
   },
   {
    "duration": 276,
    "start_time": "2025-02-06T13:30:11.461Z"
   },
   {
    "duration": 183,
    "start_time": "2025-02-06T13:30:11.738Z"
   },
   {
    "duration": 29,
    "start_time": "2025-02-06T13:30:11.923Z"
   },
   {
    "duration": 64,
    "start_time": "2025-02-06T13:30:11.953Z"
   },
   {
    "duration": 9,
    "start_time": "2025-02-06T13:30:12.019Z"
   },
   {
    "duration": 16,
    "start_time": "2025-02-06T13:30:12.030Z"
   },
   {
    "duration": 254,
    "start_time": "2025-02-06T13:30:12.048Z"
   },
   {
    "duration": 13,
    "start_time": "2025-02-06T13:30:12.304Z"
   },
   {
    "duration": 53,
    "start_time": "2025-02-06T13:30:12.318Z"
   },
   {
    "duration": 353,
    "start_time": "2025-02-06T13:30:12.372Z"
   },
   {
    "duration": 6,
    "start_time": "2025-02-06T13:30:12.726Z"
   },
   {
    "duration": 37,
    "start_time": "2025-02-06T13:30:12.733Z"
   },
   {
    "duration": 124,
    "start_time": "2025-02-06T13:30:12.772Z"
   },
   {
    "duration": 20,
    "start_time": "2025-02-06T13:30:12.897Z"
   },
   {
    "duration": 71,
    "start_time": "2025-02-06T13:30:12.919Z"
   },
   {
    "duration": 19,
    "start_time": "2025-02-06T13:30:12.992Z"
   },
   {
    "duration": 39,
    "start_time": "2025-02-06T13:30:13.012Z"
   },
   {
    "duration": 30,
    "start_time": "2025-02-06T13:30:13.053Z"
   },
   {
    "duration": 25,
    "start_time": "2025-02-06T13:30:13.084Z"
   },
   {
    "duration": 21,
    "start_time": "2025-02-06T13:30:13.111Z"
   },
   {
    "duration": 14,
    "start_time": "2025-02-06T13:30:13.134Z"
   },
   {
    "duration": 46,
    "start_time": "2025-02-06T13:30:13.150Z"
   },
   {
    "duration": 151,
    "start_time": "2025-02-06T13:30:13.197Z"
   },
   {
    "duration": 11,
    "start_time": "2025-02-06T13:30:13.349Z"
   },
   {
    "duration": 47,
    "start_time": "2025-02-06T13:30:13.361Z"
   },
   {
    "duration": 36,
    "start_time": "2025-02-06T13:30:13.409Z"
   },
   {
    "duration": 14,
    "start_time": "2025-02-06T13:30:13.446Z"
   },
   {
    "duration": 21,
    "start_time": "2025-02-06T13:30:13.461Z"
   },
   {
    "duration": 16,
    "start_time": "2025-02-06T13:30:13.483Z"
   },
   {
    "duration": 27,
    "start_time": "2025-02-06T13:30:13.500Z"
   },
   {
    "duration": 8,
    "start_time": "2025-02-06T13:30:13.528Z"
   },
   {
    "duration": 5,
    "start_time": "2025-02-06T13:33:34.939Z"
   },
   {
    "duration": 8,
    "start_time": "2025-02-06T13:35:27.717Z"
   },
   {
    "duration": 12,
    "start_time": "2025-02-06T13:36:50.816Z"
   },
   {
    "duration": 11,
    "start_time": "2025-02-06T13:37:18.161Z"
   },
   {
    "duration": 112,
    "start_time": "2025-02-06T13:37:55.244Z"
   },
   {
    "duration": 13,
    "start_time": "2025-02-06T13:38:21.077Z"
   },
   {
    "duration": 17,
    "start_time": "2025-02-06T13:39:43.859Z"
   },
   {
    "duration": 18,
    "start_time": "2025-02-06T13:40:24.023Z"
   },
   {
    "duration": 18,
    "start_time": "2025-02-06T13:41:06.113Z"
   },
   {
    "duration": 11,
    "start_time": "2025-02-06T13:42:37.320Z"
   },
   {
    "duration": 9,
    "start_time": "2025-02-06T13:44:26.676Z"
   },
   {
    "duration": 9,
    "start_time": "2025-02-06T13:44:31.434Z"
   },
   {
    "duration": 5,
    "start_time": "2025-02-06T13:46:09.191Z"
   },
   {
    "duration": 8,
    "start_time": "2025-02-06T13:46:20.740Z"
   },
   {
    "duration": 12,
    "start_time": "2025-02-06T13:47:29.328Z"
   },
   {
    "duration": 1243,
    "start_time": "2025-02-06T13:47:30.094Z"
   },
   {
    "duration": 1146,
    "start_time": "2025-02-06T13:47:45.500Z"
   },
   {
    "duration": 3412,
    "start_time": "2025-02-06T13:47:46.648Z"
   },
   {
    "duration": 11,
    "start_time": "2025-02-06T13:47:50.062Z"
   },
   {
    "duration": 25,
    "start_time": "2025-02-06T13:47:50.075Z"
   },
   {
    "duration": 96,
    "start_time": "2025-02-06T13:47:50.102Z"
   },
   {
    "duration": 26,
    "start_time": "2025-02-06T13:47:50.199Z"
   },
   {
    "duration": 12,
    "start_time": "2025-02-06T13:47:50.227Z"
   },
   {
    "duration": 117,
    "start_time": "2025-02-06T13:47:50.240Z"
   },
   {
    "duration": 36,
    "start_time": "2025-02-06T13:47:50.358Z"
   },
   {
    "duration": 11,
    "start_time": "2025-02-06T13:47:50.397Z"
   },
   {
    "duration": 22,
    "start_time": "2025-02-06T13:47:50.410Z"
   },
   {
    "duration": 7,
    "start_time": "2025-02-06T13:47:50.433Z"
   },
   {
    "duration": 27,
    "start_time": "2025-02-06T13:47:50.442Z"
   },
   {
    "duration": 10,
    "start_time": "2025-02-06T13:47:50.471Z"
   },
   {
    "duration": 13,
    "start_time": "2025-02-06T13:47:50.483Z"
   },
   {
    "duration": 10,
    "start_time": "2025-02-06T13:47:50.498Z"
   },
   {
    "duration": 55,
    "start_time": "2025-02-06T13:47:50.510Z"
   },
   {
    "duration": 8,
    "start_time": "2025-02-06T13:47:50.566Z"
   },
   {
    "duration": 22,
    "start_time": "2025-02-06T13:47:50.576Z"
   },
   {
    "duration": 15,
    "start_time": "2025-02-06T13:47:50.599Z"
   },
   {
    "duration": 155,
    "start_time": "2025-02-06T13:47:50.616Z"
   },
   {
    "duration": 7,
    "start_time": "2025-02-06T13:47:50.773Z"
   },
   {
    "duration": 26,
    "start_time": "2025-02-06T13:47:50.781Z"
   },
   {
    "duration": 10,
    "start_time": "2025-02-06T13:47:50.808Z"
   },
   {
    "duration": 28,
    "start_time": "2025-02-06T13:47:50.820Z"
   },
   {
    "duration": 12,
    "start_time": "2025-02-06T13:47:50.849Z"
   },
   {
    "duration": 78,
    "start_time": "2025-02-06T13:47:50.862Z"
   },
   {
    "duration": 162,
    "start_time": "2025-02-06T13:47:50.944Z"
   },
   {
    "duration": 46,
    "start_time": "2025-02-06T13:47:51.108Z"
   },
   {
    "duration": 25,
    "start_time": "2025-02-06T13:47:51.155Z"
   },
   {
    "duration": 44,
    "start_time": "2025-02-06T13:47:51.182Z"
   },
   {
    "duration": 24,
    "start_time": "2025-02-06T13:47:51.228Z"
   },
   {
    "duration": 74,
    "start_time": "2025-02-06T13:47:51.253Z"
   },
   {
    "duration": 94,
    "start_time": "2025-02-06T13:47:51.328Z"
   },
   {
    "duration": 26,
    "start_time": "2025-02-06T13:47:51.424Z"
   },
   {
    "duration": 196,
    "start_time": "2025-02-06T13:47:51.452Z"
   },
   {
    "duration": 175,
    "start_time": "2025-02-06T13:47:51.650Z"
   },
   {
    "duration": 32,
    "start_time": "2025-02-06T13:47:51.827Z"
   },
   {
    "duration": 282,
    "start_time": "2025-02-06T13:47:51.861Z"
   },
   {
    "duration": 189,
    "start_time": "2025-02-06T13:47:52.149Z"
   },
   {
    "duration": 26,
    "start_time": "2025-02-06T13:47:52.341Z"
   },
   {
    "duration": 22,
    "start_time": "2025-02-06T13:47:52.369Z"
   },
   {
    "duration": 15,
    "start_time": "2025-02-06T13:47:52.392Z"
   },
   {
    "duration": 16,
    "start_time": "2025-02-06T13:47:52.409Z"
   },
   {
    "duration": 256,
    "start_time": "2025-02-06T13:47:52.427Z"
   },
   {
    "duration": 13,
    "start_time": "2025-02-06T13:47:52.684Z"
   },
   {
    "duration": 49,
    "start_time": "2025-02-06T13:47:52.698Z"
   },
   {
    "duration": 340,
    "start_time": "2025-02-06T13:47:52.749Z"
   },
   {
    "duration": 5,
    "start_time": "2025-02-06T13:47:53.091Z"
   },
   {
    "duration": 28,
    "start_time": "2025-02-06T13:47:53.098Z"
   },
   {
    "duration": 122,
    "start_time": "2025-02-06T13:47:53.128Z"
   },
   {
    "duration": 20,
    "start_time": "2025-02-06T13:47:53.252Z"
   },
   {
    "duration": 84,
    "start_time": "2025-02-06T13:47:53.274Z"
   },
   {
    "duration": 96,
    "start_time": "2025-02-06T13:47:53.359Z"
   },
   {
    "duration": 34,
    "start_time": "2025-02-06T13:47:53.456Z"
   },
   {
    "duration": 24,
    "start_time": "2025-02-06T13:47:53.492Z"
   },
   {
    "duration": 16,
    "start_time": "2025-02-06T13:47:53.518Z"
   },
   {
    "duration": 23,
    "start_time": "2025-02-06T13:47:53.536Z"
   },
   {
    "duration": 14,
    "start_time": "2025-02-06T13:47:53.560Z"
   },
   {
    "duration": 82,
    "start_time": "2025-02-06T13:47:53.576Z"
   },
   {
    "duration": 168,
    "start_time": "2025-02-06T13:47:53.660Z"
   },
   {
    "duration": 20,
    "start_time": "2025-02-06T13:47:53.829Z"
   },
   {
    "duration": 17,
    "start_time": "2025-02-06T13:47:53.851Z"
   },
   {
    "duration": 43,
    "start_time": "2025-02-06T13:47:53.870Z"
   },
   {
    "duration": 8,
    "start_time": "2025-02-06T13:47:53.915Z"
   },
   {
    "duration": 132,
    "start_time": "2025-02-06T13:47:53.924Z"
   },
   {
    "duration": 24,
    "start_time": "2025-02-06T13:47:54.058Z"
   },
   {
    "duration": 56,
    "start_time": "2025-02-06T13:47:54.084Z"
   },
   {
    "duration": 1468,
    "start_time": "2025-02-06T13:47:54.142Z"
   },
   {
    "duration": 0,
    "start_time": "2025-02-06T13:47:55.612Z"
   },
   {
    "duration": 0,
    "start_time": "2025-02-06T13:47:55.613Z"
   },
   {
    "duration": 9,
    "start_time": "2025-02-06T13:48:16.378Z"
   },
   {
    "duration": 13,
    "start_time": "2025-02-06T13:49:27.799Z"
   },
   {
    "duration": 10,
    "start_time": "2025-02-06T13:49:30.736Z"
   },
   {
    "duration": 8,
    "start_time": "2025-02-06T13:49:33.067Z"
   },
   {
    "duration": 9,
    "start_time": "2025-02-06T13:50:10.636Z"
   },
   {
    "duration": 8,
    "start_time": "2025-02-06T13:51:40.217Z"
   },
   {
    "duration": 11,
    "start_time": "2025-02-06T13:51:45.474Z"
   },
   {
    "duration": 1508,
    "start_time": "2025-02-06T13:53:06.197Z"
   },
   {
    "duration": 8,
    "start_time": "2025-02-06T13:53:20.162Z"
   },
   {
    "duration": 7,
    "start_time": "2025-02-06T13:53:45.596Z"
   },
   {
    "duration": 9,
    "start_time": "2025-02-06T13:54:22.633Z"
   },
   {
    "duration": 1447,
    "start_time": "2025-02-06T17:29:55.633Z"
   },
   {
    "duration": 2017,
    "start_time": "2025-02-06T17:29:57.082Z"
   },
   {
    "duration": 12,
    "start_time": "2025-02-06T17:29:59.101Z"
   },
   {
    "duration": 13,
    "start_time": "2025-02-06T17:29:59.115Z"
   },
   {
    "duration": 118,
    "start_time": "2025-02-06T17:29:59.130Z"
   },
   {
    "duration": 53,
    "start_time": "2025-02-06T17:29:59.250Z"
   },
   {
    "duration": 5,
    "start_time": "2025-02-06T17:29:59.304Z"
   },
   {
    "duration": 49,
    "start_time": "2025-02-06T17:29:59.311Z"
   },
   {
    "duration": 25,
    "start_time": "2025-02-06T17:29:59.362Z"
   },
   {
    "duration": 8,
    "start_time": "2025-02-06T17:29:59.389Z"
   },
   {
    "duration": 20,
    "start_time": "2025-02-06T17:29:59.399Z"
   },
   {
    "duration": 38,
    "start_time": "2025-02-06T17:29:59.421Z"
   },
   {
    "duration": 14,
    "start_time": "2025-02-06T17:29:59.460Z"
   },
   {
    "duration": 10,
    "start_time": "2025-02-06T17:29:59.475Z"
   },
   {
    "duration": 9,
    "start_time": "2025-02-06T17:29:59.487Z"
   },
   {
    "duration": 6,
    "start_time": "2025-02-06T17:29:59.497Z"
   },
   {
    "duration": 72,
    "start_time": "2025-02-06T17:29:59.505Z"
   },
   {
    "duration": 9,
    "start_time": "2025-02-06T17:29:59.578Z"
   },
   {
    "duration": 11,
    "start_time": "2025-02-06T17:29:59.588Z"
   },
   {
    "duration": 3,
    "start_time": "2025-02-06T17:29:59.601Z"
   },
   {
    "duration": 163,
    "start_time": "2025-02-06T17:29:59.606Z"
   },
   {
    "duration": 8,
    "start_time": "2025-02-06T17:29:59.770Z"
   },
   {
    "duration": 24,
    "start_time": "2025-02-06T17:29:59.779Z"
   },
   {
    "duration": 10,
    "start_time": "2025-02-06T17:29:59.805Z"
   },
   {
    "duration": 12,
    "start_time": "2025-02-06T17:29:59.817Z"
   },
   {
    "duration": 37,
    "start_time": "2025-02-06T17:29:59.831Z"
   },
   {
    "duration": 54,
    "start_time": "2025-02-06T17:29:59.869Z"
   },
   {
    "duration": 170,
    "start_time": "2025-02-06T17:29:59.927Z"
   },
   {
    "duration": 43,
    "start_time": "2025-02-06T17:30:00.099Z"
   },
   {
    "duration": 39,
    "start_time": "2025-02-06T17:30:00.144Z"
   },
   {
    "duration": 47,
    "start_time": "2025-02-06T17:30:00.184Z"
   },
   {
    "duration": 14,
    "start_time": "2025-02-06T17:30:00.233Z"
   },
   {
    "duration": 74,
    "start_time": "2025-02-06T17:30:00.249Z"
   },
   {
    "duration": 94,
    "start_time": "2025-02-06T17:30:00.325Z"
   },
   {
    "duration": 10,
    "start_time": "2025-02-06T17:30:00.421Z"
   },
   {
    "duration": 175,
    "start_time": "2025-02-06T17:30:00.433Z"
   },
   {
    "duration": 157,
    "start_time": "2025-02-06T17:30:00.610Z"
   },
   {
    "duration": 17,
    "start_time": "2025-02-06T17:30:00.769Z"
   },
   {
    "duration": 292,
    "start_time": "2025-02-06T17:30:00.787Z"
   },
   {
    "duration": 204,
    "start_time": "2025-02-06T17:30:01.081Z"
   },
   {
    "duration": 20,
    "start_time": "2025-02-06T17:30:01.287Z"
   },
   {
    "duration": 19,
    "start_time": "2025-02-06T17:30:01.309Z"
   },
   {
    "duration": 33,
    "start_time": "2025-02-06T17:30:01.330Z"
   },
   {
    "duration": 8,
    "start_time": "2025-02-06T17:30:01.364Z"
   },
   {
    "duration": 228,
    "start_time": "2025-02-06T17:30:01.374Z"
   },
   {
    "duration": 18,
    "start_time": "2025-02-06T17:30:01.604Z"
   },
   {
    "duration": 62,
    "start_time": "2025-02-06T17:30:01.624Z"
   },
   {
    "duration": 463,
    "start_time": "2025-02-06T17:30:01.688Z"
   },
   {
    "duration": 7,
    "start_time": "2025-02-06T17:30:02.153Z"
   },
   {
    "duration": 28,
    "start_time": "2025-02-06T17:30:02.162Z"
   },
   {
    "duration": 127,
    "start_time": "2025-02-06T17:30:02.192Z"
   },
   {
    "duration": 20,
    "start_time": "2025-02-06T17:30:02.321Z"
   },
   {
    "duration": 71,
    "start_time": "2025-02-06T17:30:02.343Z"
   },
   {
    "duration": 19,
    "start_time": "2025-02-06T17:30:02.415Z"
   },
   {
    "duration": 40,
    "start_time": "2025-02-06T17:30:02.435Z"
   },
   {
    "duration": 12,
    "start_time": "2025-02-06T17:30:02.476Z"
   },
   {
    "duration": 41,
    "start_time": "2025-02-06T17:30:02.490Z"
   },
   {
    "duration": 27,
    "start_time": "2025-02-06T17:30:02.532Z"
   },
   {
    "duration": 23,
    "start_time": "2025-02-06T17:30:02.560Z"
   },
   {
    "duration": 54,
    "start_time": "2025-02-06T17:30:02.585Z"
   },
   {
    "duration": 142,
    "start_time": "2025-02-06T17:30:02.641Z"
   },
   {
    "duration": 12,
    "start_time": "2025-02-06T17:30:02.784Z"
   },
   {
    "duration": 17,
    "start_time": "2025-02-06T17:30:02.797Z"
   },
   {
    "duration": 56,
    "start_time": "2025-02-06T17:30:02.816Z"
   },
   {
    "duration": 8,
    "start_time": "2025-02-06T17:30:02.873Z"
   },
   {
    "duration": 15,
    "start_time": "2025-02-06T17:30:02.883Z"
   },
   {
    "duration": 7,
    "start_time": "2025-02-06T17:30:02.899Z"
   },
   {
    "duration": 141,
    "start_time": "2025-02-06T17:30:02.907Z"
   },
   {
    "duration": 0,
    "start_time": "2025-02-06T17:30:03.050Z"
   },
   {
    "duration": 0,
    "start_time": "2025-02-06T17:30:03.058Z"
   },
   {
    "duration": 0,
    "start_time": "2025-02-06T17:30:03.059Z"
   },
   {
    "duration": 0,
    "start_time": "2025-02-06T17:30:03.060Z"
   },
   {
    "duration": 1177,
    "start_time": "2025-02-06T17:30:28.001Z"
   },
   {
    "duration": 1979,
    "start_time": "2025-02-06T17:30:29.179Z"
   },
   {
    "duration": 13,
    "start_time": "2025-02-06T17:30:31.160Z"
   },
   {
    "duration": 11,
    "start_time": "2025-02-06T17:30:31.174Z"
   },
   {
    "duration": 112,
    "start_time": "2025-02-06T17:30:31.186Z"
   },
   {
    "duration": 30,
    "start_time": "2025-02-06T17:30:31.299Z"
   },
   {
    "duration": 5,
    "start_time": "2025-02-06T17:30:31.330Z"
   },
   {
    "duration": 49,
    "start_time": "2025-02-06T17:30:31.337Z"
   },
   {
    "duration": 25,
    "start_time": "2025-02-06T17:30:31.388Z"
   },
   {
    "duration": 7,
    "start_time": "2025-02-06T17:30:31.416Z"
   },
   {
    "duration": 40,
    "start_time": "2025-02-06T17:30:31.424Z"
   },
   {
    "duration": 7,
    "start_time": "2025-02-06T17:30:31.465Z"
   },
   {
    "duration": 20,
    "start_time": "2025-02-06T17:30:31.473Z"
   },
   {
    "duration": 9,
    "start_time": "2025-02-06T17:30:31.494Z"
   },
   {
    "duration": 15,
    "start_time": "2025-02-06T17:30:31.504Z"
   },
   {
    "duration": 7,
    "start_time": "2025-02-06T17:30:31.521Z"
   },
   {
    "duration": 75,
    "start_time": "2025-02-06T17:30:31.530Z"
   },
   {
    "duration": 10,
    "start_time": "2025-02-06T17:30:31.607Z"
   },
   {
    "duration": 19,
    "start_time": "2025-02-06T17:30:31.619Z"
   },
   {
    "duration": 3,
    "start_time": "2025-02-06T17:30:31.657Z"
   },
   {
    "duration": 167,
    "start_time": "2025-02-06T17:30:31.662Z"
   },
   {
    "duration": 8,
    "start_time": "2025-02-06T17:30:31.831Z"
   },
   {
    "duration": 39,
    "start_time": "2025-02-06T17:30:31.841Z"
   },
   {
    "duration": 11,
    "start_time": "2025-02-06T17:30:31.881Z"
   },
   {
    "duration": 13,
    "start_time": "2025-02-06T17:30:31.893Z"
   },
   {
    "duration": 11,
    "start_time": "2025-02-06T17:30:31.907Z"
   },
   {
    "duration": 82,
    "start_time": "2025-02-06T17:30:31.920Z"
   },
   {
    "duration": 162,
    "start_time": "2025-02-06T17:30:32.006Z"
   },
   {
    "duration": 42,
    "start_time": "2025-02-06T17:30:32.169Z"
   },
   {
    "duration": 25,
    "start_time": "2025-02-06T17:30:32.213Z"
   },
   {
    "duration": 22,
    "start_time": "2025-02-06T17:30:32.257Z"
   },
   {
    "duration": 16,
    "start_time": "2025-02-06T17:30:32.280Z"
   },
   {
    "duration": 99,
    "start_time": "2025-02-06T17:30:32.297Z"
   },
   {
    "duration": 90,
    "start_time": "2025-02-06T17:30:32.397Z"
   },
   {
    "duration": 10,
    "start_time": "2025-02-06T17:30:32.489Z"
   },
   {
    "duration": 181,
    "start_time": "2025-02-06T17:30:32.500Z"
   },
   {
    "duration": 156,
    "start_time": "2025-02-06T17:30:32.683Z"
   },
   {
    "duration": 25,
    "start_time": "2025-02-06T17:30:32.841Z"
   },
   {
    "duration": 273,
    "start_time": "2025-02-06T17:30:32.868Z"
   },
   {
    "duration": 180,
    "start_time": "2025-02-06T17:30:33.143Z"
   },
   {
    "duration": 37,
    "start_time": "2025-02-06T17:30:33.325Z"
   },
   {
    "duration": 20,
    "start_time": "2025-02-06T17:30:33.364Z"
   },
   {
    "duration": 7,
    "start_time": "2025-02-06T17:30:33.386Z"
   },
   {
    "duration": 14,
    "start_time": "2025-02-06T17:30:33.395Z"
   },
   {
    "duration": 241,
    "start_time": "2025-02-06T17:30:33.410Z"
   },
   {
    "duration": 16,
    "start_time": "2025-02-06T17:30:33.652Z"
   },
   {
    "duration": 40,
    "start_time": "2025-02-06T17:30:33.670Z"
   },
   {
    "duration": 335,
    "start_time": "2025-02-06T17:30:33.712Z"
   },
   {
    "duration": 10,
    "start_time": "2025-02-06T17:30:34.049Z"
   },
   {
    "duration": 31,
    "start_time": "2025-02-06T17:30:34.060Z"
   },
   {
    "duration": 121,
    "start_time": "2025-02-06T17:30:34.093Z"
   },
   {
    "duration": 22,
    "start_time": "2025-02-06T17:30:34.216Z"
   },
   {
    "duration": 75,
    "start_time": "2025-02-06T17:30:34.239Z"
   },
   {
    "duration": 21,
    "start_time": "2025-02-06T17:30:34.316Z"
   },
   {
    "duration": 37,
    "start_time": "2025-02-06T17:30:34.339Z"
   },
   {
    "duration": 11,
    "start_time": "2025-02-06T17:30:34.378Z"
   },
   {
    "duration": 11,
    "start_time": "2025-02-06T17:30:34.391Z"
   },
   {
    "duration": 23,
    "start_time": "2025-02-06T17:30:34.403Z"
   },
   {
    "duration": 43,
    "start_time": "2025-02-06T17:30:34.427Z"
   },
   {
    "duration": 46,
    "start_time": "2025-02-06T17:30:34.472Z"
   },
   {
    "duration": 165,
    "start_time": "2025-02-06T17:30:34.519Z"
   },
   {
    "duration": 11,
    "start_time": "2025-02-06T17:30:34.685Z"
   },
   {
    "duration": 17,
    "start_time": "2025-02-06T17:30:34.697Z"
   },
   {
    "duration": 56,
    "start_time": "2025-02-06T17:30:34.715Z"
   },
   {
    "duration": 8,
    "start_time": "2025-02-06T17:30:34.772Z"
   },
   {
    "duration": 8,
    "start_time": "2025-02-06T17:30:34.781Z"
   },
   {
    "duration": 11,
    "start_time": "2025-02-06T17:30:34.790Z"
   },
   {
    "duration": 12,
    "start_time": "2025-02-06T17:30:34.802Z"
   },
   {
    "duration": 7,
    "start_time": "2025-02-06T17:30:34.816Z"
   },
   {
    "duration": 40,
    "start_time": "2025-02-06T17:30:34.824Z"
   },
   {
    "duration": 9,
    "start_time": "2025-02-06T17:30:34.865Z"
   },
   {
    "duration": 10,
    "start_time": "2025-02-06T17:30:34.876Z"
   },
   {
    "duration": 1154,
    "start_time": "2025-02-06T17:31:26.318Z"
   },
   {
    "duration": 1970,
    "start_time": "2025-02-06T17:31:27.474Z"
   },
   {
    "duration": 14,
    "start_time": "2025-02-06T17:31:29.446Z"
   },
   {
    "duration": 12,
    "start_time": "2025-02-06T17:31:29.462Z"
   },
   {
    "duration": 120,
    "start_time": "2025-02-06T17:31:29.476Z"
   },
   {
    "duration": 48,
    "start_time": "2025-02-06T17:31:29.598Z"
   },
   {
    "duration": 5,
    "start_time": "2025-02-06T17:31:29.657Z"
   },
   {
    "duration": 31,
    "start_time": "2025-02-06T17:31:29.663Z"
   },
   {
    "duration": 23,
    "start_time": "2025-02-06T17:31:29.695Z"
   },
   {
    "duration": 10,
    "start_time": "2025-02-06T17:31:29.721Z"
   },
   {
    "duration": 41,
    "start_time": "2025-02-06T17:31:29.732Z"
   },
   {
    "duration": 7,
    "start_time": "2025-02-06T17:31:29.774Z"
   },
   {
    "duration": 17,
    "start_time": "2025-02-06T17:31:29.783Z"
   },
   {
    "duration": 9,
    "start_time": "2025-02-06T17:31:29.801Z"
   },
   {
    "duration": 11,
    "start_time": "2025-02-06T17:31:29.811Z"
   },
   {
    "duration": 6,
    "start_time": "2025-02-06T17:31:29.824Z"
   },
   {
    "duration": 40,
    "start_time": "2025-02-06T17:31:29.857Z"
   },
   {
    "duration": 8,
    "start_time": "2025-02-06T17:31:29.899Z"
   },
   {
    "duration": 36,
    "start_time": "2025-02-06T17:31:29.909Z"
   },
   {
    "duration": 3,
    "start_time": "2025-02-06T17:31:29.947Z"
   },
   {
    "duration": 144,
    "start_time": "2025-02-06T17:31:29.951Z"
   },
   {
    "duration": 7,
    "start_time": "2025-02-06T17:31:30.097Z"
   },
   {
    "duration": 103,
    "start_time": "2025-02-06T17:31:30.105Z"
   },
   {
    "duration": 10,
    "start_time": "2025-02-06T17:31:30.210Z"
   },
   {
    "duration": 27,
    "start_time": "2025-02-06T17:31:30.221Z"
   },
   {
    "duration": 12,
    "start_time": "2025-02-06T17:31:30.250Z"
   },
   {
    "duration": 57,
    "start_time": "2025-02-06T17:31:30.264Z"
   },
   {
    "duration": 169,
    "start_time": "2025-02-06T17:31:30.326Z"
   },
   {
    "duration": 42,
    "start_time": "2025-02-06T17:31:30.497Z"
   },
   {
    "duration": 41,
    "start_time": "2025-02-06T17:31:30.541Z"
   },
   {
    "duration": 20,
    "start_time": "2025-02-06T17:31:30.583Z"
   },
   {
    "duration": 15,
    "start_time": "2025-02-06T17:31:30.604Z"
   },
   {
    "duration": 98,
    "start_time": "2025-02-06T17:31:30.620Z"
   },
   {
    "duration": 91,
    "start_time": "2025-02-06T17:31:30.720Z"
   },
   {
    "duration": 10,
    "start_time": "2025-02-06T17:31:30.812Z"
   },
   {
    "duration": 169,
    "start_time": "2025-02-06T17:31:30.823Z"
   },
   {
    "duration": 162,
    "start_time": "2025-02-06T17:31:30.993Z"
   },
   {
    "duration": 19,
    "start_time": "2025-02-06T17:31:31.156Z"
   },
   {
    "duration": 287,
    "start_time": "2025-02-06T17:31:31.177Z"
   },
   {
    "duration": 205,
    "start_time": "2025-02-06T17:31:31.466Z"
   },
   {
    "duration": 21,
    "start_time": "2025-02-06T17:31:31.673Z"
   },
   {
    "duration": 22,
    "start_time": "2025-02-06T17:31:31.696Z"
   },
   {
    "duration": 7,
    "start_time": "2025-02-06T17:31:31.719Z"
   },
   {
    "duration": 33,
    "start_time": "2025-02-06T17:31:31.728Z"
   },
   {
    "duration": 223,
    "start_time": "2025-02-06T17:31:31.763Z"
   },
   {
    "duration": 12,
    "start_time": "2025-02-06T17:31:31.988Z"
   },
   {
    "duration": 31,
    "start_time": "2025-02-06T17:31:32.001Z"
   },
   {
    "duration": 326,
    "start_time": "2025-02-06T17:31:32.034Z"
   },
   {
    "duration": 5,
    "start_time": "2025-02-06T17:31:32.361Z"
   },
   {
    "duration": 27,
    "start_time": "2025-02-06T17:31:32.368Z"
   },
   {
    "duration": 130,
    "start_time": "2025-02-06T17:31:32.397Z"
   },
   {
    "duration": 30,
    "start_time": "2025-02-06T17:31:32.528Z"
   },
   {
    "duration": 59,
    "start_time": "2025-02-06T17:31:32.560Z"
   },
   {
    "duration": 37,
    "start_time": "2025-02-06T17:31:32.621Z"
   },
   {
    "duration": 24,
    "start_time": "2025-02-06T17:31:32.660Z"
   },
   {
    "duration": 11,
    "start_time": "2025-02-06T17:31:32.686Z"
   },
   {
    "duration": 12,
    "start_time": "2025-02-06T17:31:32.699Z"
   },
   {
    "duration": 22,
    "start_time": "2025-02-06T17:31:32.712Z"
   },
   {
    "duration": 34,
    "start_time": "2025-02-06T17:31:32.736Z"
   },
   {
    "duration": 52,
    "start_time": "2025-02-06T17:31:32.771Z"
   },
   {
    "duration": 154,
    "start_time": "2025-02-06T17:31:32.825Z"
   },
   {
    "duration": 10,
    "start_time": "2025-02-06T17:31:32.980Z"
   },
   {
    "duration": 16,
    "start_time": "2025-02-06T17:31:32.991Z"
   },
   {
    "duration": 57,
    "start_time": "2025-02-06T17:31:33.009Z"
   },
   {
    "duration": 8,
    "start_time": "2025-02-06T17:31:33.068Z"
   },
   {
    "duration": 8,
    "start_time": "2025-02-06T17:31:33.077Z"
   },
   {
    "duration": 5,
    "start_time": "2025-02-06T17:31:33.087Z"
   },
   {
    "duration": 12,
    "start_time": "2025-02-06T17:31:33.094Z"
   },
   {
    "duration": 7,
    "start_time": "2025-02-06T17:31:33.107Z"
   },
   {
    "duration": 43,
    "start_time": "2025-02-06T17:31:33.116Z"
   },
   {
    "duration": 8,
    "start_time": "2025-02-06T17:31:33.160Z"
   },
   {
    "duration": 8,
    "start_time": "2025-02-06T17:31:33.169Z"
   },
   {
    "duration": 1191,
    "start_time": "2025-02-06T17:32:22.275Z"
   },
   {
    "duration": 1903,
    "start_time": "2025-02-06T17:32:23.468Z"
   },
   {
    "duration": 12,
    "start_time": "2025-02-06T17:32:25.373Z"
   },
   {
    "duration": 11,
    "start_time": "2025-02-06T17:32:25.387Z"
   },
   {
    "duration": 112,
    "start_time": "2025-02-06T17:32:25.400Z"
   },
   {
    "duration": 30,
    "start_time": "2025-02-06T17:32:25.514Z"
   },
   {
    "duration": 13,
    "start_time": "2025-02-06T17:32:25.545Z"
   },
   {
    "duration": 35,
    "start_time": "2025-02-06T17:32:25.560Z"
   },
   {
    "duration": 23,
    "start_time": "2025-02-06T17:32:25.597Z"
   },
   {
    "duration": 8,
    "start_time": "2025-02-06T17:32:25.622Z"
   },
   {
    "duration": 44,
    "start_time": "2025-02-06T17:32:25.631Z"
   },
   {
    "duration": 7,
    "start_time": "2025-02-06T17:32:25.677Z"
   },
   {
    "duration": 13,
    "start_time": "2025-02-06T17:32:25.685Z"
   },
   {
    "duration": 10,
    "start_time": "2025-02-06T17:32:25.699Z"
   },
   {
    "duration": 10,
    "start_time": "2025-02-06T17:32:25.710Z"
   },
   {
    "duration": 40,
    "start_time": "2025-02-06T17:32:25.721Z"
   },
   {
    "duration": 39,
    "start_time": "2025-02-06T17:32:25.762Z"
   },
   {
    "duration": 9,
    "start_time": "2025-02-06T17:32:25.803Z"
   },
   {
    "duration": 11,
    "start_time": "2025-02-06T17:32:25.813Z"
   },
   {
    "duration": 3,
    "start_time": "2025-02-06T17:32:25.826Z"
   },
   {
    "duration": 167,
    "start_time": "2025-02-06T17:32:25.858Z"
   },
   {
    "duration": 8,
    "start_time": "2025-02-06T17:32:26.027Z"
   },
   {
    "duration": 40,
    "start_time": "2025-02-06T17:32:26.036Z"
   },
   {
    "duration": 11,
    "start_time": "2025-02-06T17:32:26.078Z"
   },
   {
    "duration": 11,
    "start_time": "2025-02-06T17:32:26.090Z"
   },
   {
    "duration": 19,
    "start_time": "2025-02-06T17:32:26.103Z"
   },
   {
    "duration": 77,
    "start_time": "2025-02-06T17:32:26.123Z"
   },
   {
    "duration": 160,
    "start_time": "2025-02-06T17:32:26.204Z"
   },
   {
    "duration": 41,
    "start_time": "2025-02-06T17:32:26.365Z"
   },
   {
    "duration": 27,
    "start_time": "2025-02-06T17:32:26.408Z"
   },
   {
    "duration": 35,
    "start_time": "2025-02-06T17:32:26.442Z"
   },
   {
    "duration": 15,
    "start_time": "2025-02-06T17:32:26.479Z"
   },
   {
    "duration": 94,
    "start_time": "2025-02-06T17:32:26.495Z"
   },
   {
    "duration": 93,
    "start_time": "2025-02-06T17:32:26.590Z"
   },
   {
    "duration": 10,
    "start_time": "2025-02-06T17:32:26.684Z"
   },
   {
    "duration": 172,
    "start_time": "2025-02-06T17:32:26.696Z"
   },
   {
    "duration": 151,
    "start_time": "2025-02-06T17:32:26.869Z"
   },
   {
    "duration": 18,
    "start_time": "2025-02-06T17:32:27.021Z"
   },
   {
    "duration": 289,
    "start_time": "2025-02-06T17:32:27.041Z"
   },
   {
    "duration": 186,
    "start_time": "2025-02-06T17:32:27.331Z"
   },
   {
    "duration": 20,
    "start_time": "2025-02-06T17:32:27.519Z"
   },
   {
    "duration": 32,
    "start_time": "2025-02-06T17:32:27.541Z"
   },
   {
    "duration": 6,
    "start_time": "2025-02-06T17:32:27.575Z"
   },
   {
    "duration": 8,
    "start_time": "2025-02-06T17:32:27.583Z"
   },
   {
    "duration": 219,
    "start_time": "2025-02-06T17:32:27.592Z"
   },
   {
    "duration": 12,
    "start_time": "2025-02-06T17:32:27.813Z"
   },
   {
    "duration": 47,
    "start_time": "2025-02-06T17:32:27.826Z"
   },
   {
    "duration": 310,
    "start_time": "2025-02-06T17:32:27.875Z"
   },
   {
    "duration": 5,
    "start_time": "2025-02-06T17:32:28.187Z"
   },
   {
    "duration": 26,
    "start_time": "2025-02-06T17:32:28.194Z"
   },
   {
    "duration": 134,
    "start_time": "2025-02-06T17:32:28.222Z"
   },
   {
    "duration": 19,
    "start_time": "2025-02-06T17:32:28.358Z"
   },
   {
    "duration": 60,
    "start_time": "2025-02-06T17:32:28.378Z"
   },
   {
    "duration": 20,
    "start_time": "2025-02-06T17:32:28.457Z"
   },
   {
    "duration": 18,
    "start_time": "2025-02-06T17:32:28.478Z"
   },
   {
    "duration": 12,
    "start_time": "2025-02-06T17:32:28.498Z"
   },
   {
    "duration": 11,
    "start_time": "2025-02-06T17:32:28.511Z"
   },
   {
    "duration": 51,
    "start_time": "2025-02-06T17:32:28.524Z"
   },
   {
    "duration": 13,
    "start_time": "2025-02-06T17:32:28.576Z"
   },
   {
    "duration": 44,
    "start_time": "2025-02-06T17:32:28.591Z"
   },
   {
    "duration": 163,
    "start_time": "2025-02-06T17:32:28.637Z"
   },
   {
    "duration": 10,
    "start_time": "2025-02-06T17:32:28.802Z"
   },
   {
    "duration": 17,
    "start_time": "2025-02-06T17:32:28.814Z"
   },
   {
    "duration": 62,
    "start_time": "2025-02-06T17:32:28.833Z"
   },
   {
    "duration": 9,
    "start_time": "2025-02-06T17:32:28.896Z"
   },
   {
    "duration": 9,
    "start_time": "2025-02-06T17:32:28.906Z"
   },
   {
    "duration": 6,
    "start_time": "2025-02-06T17:32:28.917Z"
   },
   {
    "duration": 38,
    "start_time": "2025-02-06T17:32:28.924Z"
   },
   {
    "duration": 7,
    "start_time": "2025-02-06T17:32:28.964Z"
   },
   {
    "duration": 8,
    "start_time": "2025-02-06T17:32:28.973Z"
   },
   {
    "duration": 8,
    "start_time": "2025-02-06T17:32:28.982Z"
   },
   {
    "duration": 9,
    "start_time": "2025-02-06T17:32:28.991Z"
   },
   {
    "duration": 9,
    "start_time": "2025-02-06T17:34:17.499Z"
   },
   {
    "duration": 1176,
    "start_time": "2025-02-06T17:34:34.794Z"
   },
   {
    "duration": 2203,
    "start_time": "2025-02-06T17:34:35.972Z"
   },
   {
    "duration": 12,
    "start_time": "2025-02-06T17:34:38.177Z"
   },
   {
    "duration": 17,
    "start_time": "2025-02-06T17:34:38.191Z"
   },
   {
    "duration": 112,
    "start_time": "2025-02-06T17:34:38.209Z"
   },
   {
    "duration": 56,
    "start_time": "2025-02-06T17:34:38.323Z"
   },
   {
    "duration": 5,
    "start_time": "2025-02-06T17:34:38.380Z"
   },
   {
    "duration": 32,
    "start_time": "2025-02-06T17:34:38.386Z"
   },
   {
    "duration": 41,
    "start_time": "2025-02-06T17:34:38.420Z"
   },
   {
    "duration": 7,
    "start_time": "2025-02-06T17:34:38.464Z"
   },
   {
    "duration": 20,
    "start_time": "2025-02-06T17:34:38.473Z"
   },
   {
    "duration": 6,
    "start_time": "2025-02-06T17:34:38.495Z"
   },
   {
    "duration": 12,
    "start_time": "2025-02-06T17:34:38.503Z"
   },
   {
    "duration": 10,
    "start_time": "2025-02-06T17:34:38.516Z"
   },
   {
    "duration": 9,
    "start_time": "2025-02-06T17:34:38.559Z"
   },
   {
    "duration": 18,
    "start_time": "2025-02-06T17:34:38.570Z"
   },
   {
    "duration": 41,
    "start_time": "2025-02-06T17:34:38.590Z"
   },
   {
    "duration": 27,
    "start_time": "2025-02-06T17:34:38.632Z"
   },
   {
    "duration": 21,
    "start_time": "2025-02-06T17:34:38.660Z"
   },
   {
    "duration": 8,
    "start_time": "2025-02-06T17:34:38.682Z"
   },
   {
    "duration": 163,
    "start_time": "2025-02-06T17:34:38.691Z"
   },
   {
    "duration": 7,
    "start_time": "2025-02-06T17:34:38.856Z"
   },
   {
    "duration": 23,
    "start_time": "2025-02-06T17:34:38.865Z"
   },
   {
    "duration": 10,
    "start_time": "2025-02-06T17:34:38.889Z"
   },
   {
    "duration": 12,
    "start_time": "2025-02-06T17:34:38.900Z"
   },
   {
    "duration": 10,
    "start_time": "2025-02-06T17:34:38.914Z"
   },
   {
    "duration": 83,
    "start_time": "2025-02-06T17:34:38.926Z"
   },
   {
    "duration": 154,
    "start_time": "2025-02-06T17:34:39.012Z"
   },
   {
    "duration": 41,
    "start_time": "2025-02-06T17:34:39.167Z"
   },
   {
    "duration": 26,
    "start_time": "2025-02-06T17:34:39.210Z"
   },
   {
    "duration": 21,
    "start_time": "2025-02-06T17:34:39.258Z"
   },
   {
    "duration": 14,
    "start_time": "2025-02-06T17:34:39.281Z"
   },
   {
    "duration": 98,
    "start_time": "2025-02-06T17:34:39.297Z"
   },
   {
    "duration": 88,
    "start_time": "2025-02-06T17:34:39.397Z"
   },
   {
    "duration": 10,
    "start_time": "2025-02-06T17:34:39.487Z"
   },
   {
    "duration": 173,
    "start_time": "2025-02-06T17:34:39.499Z"
   },
   {
    "duration": 168,
    "start_time": "2025-02-06T17:34:39.673Z"
   },
   {
    "duration": 26,
    "start_time": "2025-02-06T17:34:39.842Z"
   },
   {
    "duration": 277,
    "start_time": "2025-02-06T17:34:39.870Z"
   },
   {
    "duration": 182,
    "start_time": "2025-02-06T17:34:40.148Z"
   },
   {
    "duration": 29,
    "start_time": "2025-02-06T17:34:40.331Z"
   },
   {
    "duration": 21,
    "start_time": "2025-02-06T17:34:40.362Z"
   },
   {
    "duration": 6,
    "start_time": "2025-02-06T17:34:40.384Z"
   },
   {
    "duration": 8,
    "start_time": "2025-02-06T17:34:40.392Z"
   },
   {
    "duration": 247,
    "start_time": "2025-02-06T17:34:40.401Z"
   },
   {
    "duration": 18,
    "start_time": "2025-02-06T17:34:40.650Z"
   },
   {
    "duration": 32,
    "start_time": "2025-02-06T17:34:40.670Z"
   },
   {
    "duration": 330,
    "start_time": "2025-02-06T17:34:40.704Z"
   },
   {
    "duration": 6,
    "start_time": "2025-02-06T17:34:41.036Z"
   },
   {
    "duration": 40,
    "start_time": "2025-02-06T17:34:41.044Z"
   },
   {
    "duration": 122,
    "start_time": "2025-02-06T17:34:41.085Z"
   },
   {
    "duration": 19,
    "start_time": "2025-02-06T17:34:41.209Z"
   },
   {
    "duration": 74,
    "start_time": "2025-02-06T17:34:41.229Z"
   },
   {
    "duration": 19,
    "start_time": "2025-02-06T17:34:41.305Z"
   },
   {
    "duration": 39,
    "start_time": "2025-02-06T17:34:41.326Z"
   },
   {
    "duration": 11,
    "start_time": "2025-02-06T17:34:41.366Z"
   },
   {
    "duration": 11,
    "start_time": "2025-02-06T17:34:41.379Z"
   },
   {
    "duration": 22,
    "start_time": "2025-02-06T17:34:41.391Z"
   },
   {
    "duration": 44,
    "start_time": "2025-02-06T17:34:41.415Z"
   },
   {
    "duration": 46,
    "start_time": "2025-02-06T17:34:41.461Z"
   },
   {
    "duration": 179,
    "start_time": "2025-02-06T17:34:41.508Z"
   },
   {
    "duration": 10,
    "start_time": "2025-02-06T17:34:41.688Z"
   },
   {
    "duration": 16,
    "start_time": "2025-02-06T17:34:41.699Z"
   },
   {
    "duration": 57,
    "start_time": "2025-02-06T17:34:41.716Z"
   },
   {
    "duration": 8,
    "start_time": "2025-02-06T17:34:41.775Z"
   },
   {
    "duration": 9,
    "start_time": "2025-02-06T17:34:41.785Z"
   },
   {
    "duration": 6,
    "start_time": "2025-02-06T17:34:41.795Z"
   },
   {
    "duration": 13,
    "start_time": "2025-02-06T17:34:41.802Z"
   },
   {
    "duration": 8,
    "start_time": "2025-02-06T17:34:41.816Z"
   },
   {
    "duration": 8,
    "start_time": "2025-02-06T17:34:41.858Z"
   },
   {
    "duration": 8,
    "start_time": "2025-02-06T17:34:41.868Z"
   },
   {
    "duration": 16,
    "start_time": "2025-02-06T17:34:41.877Z"
   },
   {
    "duration": 108,
    "start_time": "2025-02-06T17:35:13.218Z"
   },
   {
    "duration": 12,
    "start_time": "2025-02-06T17:35:17.458Z"
   },
   {
    "duration": 1369,
    "start_time": "2025-02-06T17:45:36.965Z"
   },
   {
    "duration": 21,
    "start_time": "2025-02-06T17:46:01.824Z"
   },
   {
    "duration": 22,
    "start_time": "2025-02-06T17:47:29.297Z"
   },
   {
    "duration": 15,
    "start_time": "2025-02-06T17:48:11.731Z"
   },
   {
    "duration": 10,
    "start_time": "2025-02-06T17:48:20.828Z"
   },
   {
    "duration": 10,
    "start_time": "2025-02-06T17:48:28.468Z"
   },
   {
    "duration": 11,
    "start_time": "2025-02-06T17:57:23.370Z"
   },
   {
    "duration": 15,
    "start_time": "2025-02-06T17:59:57.436Z"
   },
   {
    "duration": 71,
    "start_time": "2025-02-06T18:04:23.376Z"
   },
   {
    "duration": 24,
    "start_time": "2025-02-06T18:04:30.115Z"
   },
   {
    "duration": 1161,
    "start_time": "2025-02-06T18:04:43.514Z"
   },
   {
    "duration": 1953,
    "start_time": "2025-02-06T18:04:44.677Z"
   },
   {
    "duration": 11,
    "start_time": "2025-02-06T18:04:46.632Z"
   },
   {
    "duration": 22,
    "start_time": "2025-02-06T18:04:46.645Z"
   },
   {
    "duration": 119,
    "start_time": "2025-02-06T18:04:46.669Z"
   },
   {
    "duration": 48,
    "start_time": "2025-02-06T18:04:46.791Z"
   },
   {
    "duration": 18,
    "start_time": "2025-02-06T18:04:46.841Z"
   },
   {
    "duration": 34,
    "start_time": "2025-02-06T18:04:46.861Z"
   },
   {
    "duration": 24,
    "start_time": "2025-02-06T18:04:46.897Z"
   },
   {
    "duration": 35,
    "start_time": "2025-02-06T18:04:46.925Z"
   },
   {
    "duration": 20,
    "start_time": "2025-02-06T18:04:46.963Z"
   },
   {
    "duration": 7,
    "start_time": "2025-02-06T18:04:46.985Z"
   },
   {
    "duration": 13,
    "start_time": "2025-02-06T18:04:46.993Z"
   },
   {
    "duration": 10,
    "start_time": "2025-02-06T18:04:47.007Z"
   },
   {
    "duration": 48,
    "start_time": "2025-02-06T18:04:47.018Z"
   },
   {
    "duration": 6,
    "start_time": "2025-02-06T18:04:47.068Z"
   },
   {
    "duration": 39,
    "start_time": "2025-02-06T18:04:47.076Z"
   },
   {
    "duration": 9,
    "start_time": "2025-02-06T18:04:47.116Z"
   },
   {
    "duration": 37,
    "start_time": "2025-02-06T18:04:47.126Z"
   },
   {
    "duration": 3,
    "start_time": "2025-02-06T18:04:47.164Z"
   },
   {
    "duration": 169,
    "start_time": "2025-02-06T18:04:47.168Z"
   },
   {
    "duration": 8,
    "start_time": "2025-02-06T18:04:47.339Z"
   },
   {
    "duration": 33,
    "start_time": "2025-02-06T18:04:47.348Z"
   },
   {
    "duration": 10,
    "start_time": "2025-02-06T18:04:47.383Z"
   },
   {
    "duration": 12,
    "start_time": "2025-02-06T18:04:47.394Z"
   },
   {
    "duration": 12,
    "start_time": "2025-02-06T18:04:47.408Z"
   },
   {
    "duration": 78,
    "start_time": "2025-02-06T18:04:47.421Z"
   },
   {
    "duration": 159,
    "start_time": "2025-02-06T18:04:47.503Z"
   },
   {
    "duration": 42,
    "start_time": "2025-02-06T18:04:47.663Z"
   },
   {
    "duration": 25,
    "start_time": "2025-02-06T18:04:47.706Z"
   },
   {
    "duration": 41,
    "start_time": "2025-02-06T18:04:47.732Z"
   },
   {
    "duration": 15,
    "start_time": "2025-02-06T18:04:47.775Z"
   },
   {
    "duration": 93,
    "start_time": "2025-02-06T18:04:47.791Z"
   },
   {
    "duration": 85,
    "start_time": "2025-02-06T18:04:47.885Z"
   },
   {
    "duration": 10,
    "start_time": "2025-02-06T18:04:47.971Z"
   },
   {
    "duration": 178,
    "start_time": "2025-02-06T18:04:47.982Z"
   },
   {
    "duration": 155,
    "start_time": "2025-02-06T18:04:48.161Z"
   },
   {
    "duration": 17,
    "start_time": "2025-02-06T18:04:48.318Z"
   },
   {
    "duration": 286,
    "start_time": "2025-02-06T18:04:48.336Z"
   },
   {
    "duration": 179,
    "start_time": "2025-02-06T18:04:48.624Z"
   },
   {
    "duration": 22,
    "start_time": "2025-02-06T18:04:48.805Z"
   },
   {
    "duration": 38,
    "start_time": "2025-02-06T18:04:48.829Z"
   },
   {
    "duration": 7,
    "start_time": "2025-02-06T18:04:48.869Z"
   },
   {
    "duration": 9,
    "start_time": "2025-02-06T18:04:48.878Z"
   },
   {
    "duration": 239,
    "start_time": "2025-02-06T18:04:48.888Z"
   },
   {
    "duration": 13,
    "start_time": "2025-02-06T18:04:49.128Z"
   },
   {
    "duration": 30,
    "start_time": "2025-02-06T18:04:49.158Z"
   },
   {
    "duration": 302,
    "start_time": "2025-02-06T18:04:49.189Z"
   },
   {
    "duration": 5,
    "start_time": "2025-02-06T18:04:49.492Z"
   },
   {
    "duration": 26,
    "start_time": "2025-02-06T18:04:49.498Z"
   },
   {
    "duration": 130,
    "start_time": "2025-02-06T18:04:49.525Z"
   },
   {
    "duration": 18,
    "start_time": "2025-02-06T18:04:49.657Z"
   },
   {
    "duration": 58,
    "start_time": "2025-02-06T18:04:49.676Z"
   },
   {
    "duration": 37,
    "start_time": "2025-02-06T18:04:49.736Z"
   },
   {
    "duration": 19,
    "start_time": "2025-02-06T18:04:49.774Z"
   },
   {
    "duration": 11,
    "start_time": "2025-02-06T18:04:49.794Z"
   },
   {
    "duration": 12,
    "start_time": "2025-02-06T18:04:49.806Z"
   },
   {
    "duration": 50,
    "start_time": "2025-02-06T18:04:49.819Z"
   },
   {
    "duration": 14,
    "start_time": "2025-02-06T18:04:49.870Z"
   },
   {
    "duration": 44,
    "start_time": "2025-02-06T18:04:49.885Z"
   },
   {
    "duration": 162,
    "start_time": "2025-02-06T18:04:49.931Z"
   },
   {
    "duration": 11,
    "start_time": "2025-02-06T18:04:50.094Z"
   },
   {
    "duration": 16,
    "start_time": "2025-02-06T18:04:50.106Z"
   },
   {
    "duration": 62,
    "start_time": "2025-02-06T18:04:50.123Z"
   },
   {
    "duration": 8,
    "start_time": "2025-02-06T18:04:50.186Z"
   },
   {
    "duration": 9,
    "start_time": "2025-02-06T18:04:50.195Z"
   },
   {
    "duration": 6,
    "start_time": "2025-02-06T18:04:50.205Z"
   },
   {
    "duration": 12,
    "start_time": "2025-02-06T18:04:50.212Z"
   },
   {
    "duration": 34,
    "start_time": "2025-02-06T18:04:50.226Z"
   },
   {
    "duration": 9,
    "start_time": "2025-02-06T18:04:50.261Z"
   },
   {
    "duration": 7,
    "start_time": "2025-02-06T18:04:50.272Z"
   },
   {
    "duration": 7,
    "start_time": "2025-02-06T18:04:50.281Z"
   },
   {
    "duration": 22,
    "start_time": "2025-02-06T18:04:50.290Z"
   },
   {
    "duration": 19,
    "start_time": "2025-02-06T18:06:20.817Z"
   },
   {
    "duration": 1426,
    "start_time": "2025-02-06T18:07:29.801Z"
   },
   {
    "duration": 11,
    "start_time": "2025-02-06T18:07:46.978Z"
   },
   {
    "duration": 8,
    "start_time": "2025-02-06T18:11:47.407Z"
   },
   {
    "duration": 1327,
    "start_time": "2025-02-06T18:11:53.828Z"
   },
   {
    "duration": 41,
    "start_time": "2025-02-06T18:13:17.222Z"
   },
   {
    "duration": 13,
    "start_time": "2025-02-06T18:13:42.111Z"
   },
   {
    "duration": 75,
    "start_time": "2025-02-06T18:17:21.892Z"
   },
   {
    "duration": 84,
    "start_time": "2025-02-06T18:17:30.678Z"
   },
   {
    "duration": 82,
    "start_time": "2025-02-06T18:17:45.451Z"
   },
   {
    "duration": 77,
    "start_time": "2025-02-06T18:17:51.686Z"
   },
   {
    "duration": 26,
    "start_time": "2025-02-06T18:19:58.069Z"
   },
   {
    "duration": 25,
    "start_time": "2025-02-06T18:20:17.001Z"
   },
   {
    "duration": 22,
    "start_time": "2025-02-06T18:20:33.502Z"
   },
   {
    "duration": 89,
    "start_time": "2025-02-06T18:26:31.516Z"
   },
   {
    "duration": 75,
    "start_time": "2025-02-06T18:26:49.680Z"
   },
   {
    "duration": 80,
    "start_time": "2025-02-06T18:26:54.357Z"
   },
   {
    "duration": 21,
    "start_time": "2025-02-06T18:28:12.162Z"
   },
   {
    "duration": 21,
    "start_time": "2025-02-06T18:28:35.038Z"
   },
   {
    "duration": 22,
    "start_time": "2025-02-06T18:29:55.263Z"
   },
   {
    "duration": 24,
    "start_time": "2025-02-06T18:32:26.149Z"
   },
   {
    "duration": 143,
    "start_time": "2025-02-06T18:32:34.641Z"
   },
   {
    "duration": 151,
    "start_time": "2025-02-06T18:34:32.908Z"
   },
   {
    "duration": 150,
    "start_time": "2025-02-06T18:35:15.301Z"
   },
   {
    "duration": 1267,
    "start_time": "2025-02-06T18:36:55.853Z"
   },
   {
    "duration": 1262,
    "start_time": "2025-02-06T18:37:10.752Z"
   },
   {
    "duration": 1182,
    "start_time": "2025-02-06T18:37:57.084Z"
   },
   {
    "duration": 1963,
    "start_time": "2025-02-06T18:37:58.268Z"
   },
   {
    "duration": 12,
    "start_time": "2025-02-06T18:38:00.233Z"
   },
   {
    "duration": 19,
    "start_time": "2025-02-06T18:38:00.247Z"
   },
   {
    "duration": 113,
    "start_time": "2025-02-06T18:38:00.267Z"
   },
   {
    "duration": 30,
    "start_time": "2025-02-06T18:38:00.382Z"
   },
   {
    "duration": 6,
    "start_time": "2025-02-06T18:38:00.414Z"
   },
   {
    "duration": 74,
    "start_time": "2025-02-06T18:38:00.421Z"
   },
   {
    "duration": 26,
    "start_time": "2025-02-06T18:38:00.497Z"
   },
   {
    "duration": 8,
    "start_time": "2025-02-06T18:38:00.525Z"
   },
   {
    "duration": 35,
    "start_time": "2025-02-06T18:38:00.535Z"
   },
   {
    "duration": 7,
    "start_time": "2025-02-06T18:38:00.572Z"
   },
   {
    "duration": 13,
    "start_time": "2025-02-06T18:38:00.581Z"
   },
   {
    "duration": 11,
    "start_time": "2025-02-06T18:38:00.595Z"
   },
   {
    "duration": 10,
    "start_time": "2025-02-06T18:38:00.607Z"
   },
   {
    "duration": 7,
    "start_time": "2025-02-06T18:38:00.618Z"
   },
   {
    "duration": 43,
    "start_time": "2025-02-06T18:38:00.659Z"
   },
   {
    "duration": 9,
    "start_time": "2025-02-06T18:38:00.704Z"
   },
   {
    "duration": 43,
    "start_time": "2025-02-06T18:38:00.715Z"
   },
   {
    "duration": 3,
    "start_time": "2025-02-06T18:38:00.760Z"
   },
   {
    "duration": 171,
    "start_time": "2025-02-06T18:38:00.765Z"
   },
   {
    "duration": 9,
    "start_time": "2025-02-06T18:38:00.938Z"
   },
   {
    "duration": 34,
    "start_time": "2025-02-06T18:38:00.948Z"
   },
   {
    "duration": 12,
    "start_time": "2025-02-06T18:38:00.983Z"
   },
   {
    "duration": 13,
    "start_time": "2025-02-06T18:38:00.997Z"
   },
   {
    "duration": 12,
    "start_time": "2025-02-06T18:38:01.012Z"
   },
   {
    "duration": 85,
    "start_time": "2025-02-06T18:38:01.026Z"
   },
   {
    "duration": 167,
    "start_time": "2025-02-06T18:38:01.116Z"
   },
   {
    "duration": 42,
    "start_time": "2025-02-06T18:38:01.285Z"
   },
   {
    "duration": 43,
    "start_time": "2025-02-06T18:38:01.329Z"
   },
   {
    "duration": 21,
    "start_time": "2025-02-06T18:38:01.374Z"
   },
   {
    "duration": 15,
    "start_time": "2025-02-06T18:38:01.397Z"
   },
   {
    "duration": 103,
    "start_time": "2025-02-06T18:38:01.414Z"
   },
   {
    "duration": 110,
    "start_time": "2025-02-06T18:38:01.519Z"
   },
   {
    "duration": 11,
    "start_time": "2025-02-06T18:38:01.631Z"
   },
   {
    "duration": 178,
    "start_time": "2025-02-06T18:38:01.644Z"
   },
   {
    "duration": 175,
    "start_time": "2025-02-06T18:38:01.825Z"
   },
   {
    "duration": 18,
    "start_time": "2025-02-06T18:38:02.002Z"
   },
   {
    "duration": 315,
    "start_time": "2025-02-06T18:38:02.022Z"
   },
   {
    "duration": 190,
    "start_time": "2025-02-06T18:38:02.338Z"
   },
   {
    "duration": 32,
    "start_time": "2025-02-06T18:38:02.530Z"
   },
   {
    "duration": 21,
    "start_time": "2025-02-06T18:38:02.564Z"
   },
   {
    "duration": 14,
    "start_time": "2025-02-06T18:38:02.587Z"
   },
   {
    "duration": 60,
    "start_time": "2025-02-06T18:38:02.602Z"
   },
   {
    "duration": 345,
    "start_time": "2025-02-06T18:38:02.664Z"
   },
   {
    "duration": 13,
    "start_time": "2025-02-06T18:38:03.011Z"
   },
   {
    "duration": 47,
    "start_time": "2025-02-06T18:38:03.026Z"
   },
   {
    "duration": 323,
    "start_time": "2025-02-06T18:38:03.075Z"
   },
   {
    "duration": 5,
    "start_time": "2025-02-06T18:38:03.400Z"
   },
   {
    "duration": 28,
    "start_time": "2025-02-06T18:38:03.406Z"
   },
   {
    "duration": 133,
    "start_time": "2025-02-06T18:38:03.435Z"
   },
   {
    "duration": 21,
    "start_time": "2025-02-06T18:38:03.570Z"
   },
   {
    "duration": 81,
    "start_time": "2025-02-06T18:38:03.592Z"
   },
   {
    "duration": 17,
    "start_time": "2025-02-06T18:38:03.678Z"
   },
   {
    "duration": 18,
    "start_time": "2025-02-06T18:38:03.697Z"
   },
   {
    "duration": 11,
    "start_time": "2025-02-06T18:38:03.716Z"
   },
   {
    "duration": 44,
    "start_time": "2025-02-06T18:38:03.728Z"
   },
   {
    "duration": 22,
    "start_time": "2025-02-06T18:38:03.774Z"
   },
   {
    "duration": 14,
    "start_time": "2025-02-06T18:38:03.798Z"
   },
   {
    "duration": 78,
    "start_time": "2025-02-06T18:38:03.813Z"
   },
   {
    "duration": 156,
    "start_time": "2025-02-06T18:38:03.893Z"
   },
   {
    "duration": 11,
    "start_time": "2025-02-06T18:38:04.058Z"
   },
   {
    "duration": 21,
    "start_time": "2025-02-06T18:38:04.071Z"
   },
   {
    "duration": 40,
    "start_time": "2025-02-06T18:38:04.094Z"
   },
   {
    "duration": 29,
    "start_time": "2025-02-06T18:38:04.136Z"
   },
   {
    "duration": 10,
    "start_time": "2025-02-06T18:38:04.166Z"
   },
   {
    "duration": 8,
    "start_time": "2025-02-06T18:38:04.178Z"
   },
   {
    "duration": 20,
    "start_time": "2025-02-06T18:38:04.188Z"
   },
   {
    "duration": 9,
    "start_time": "2025-02-06T18:38:04.210Z"
   },
   {
    "duration": 39,
    "start_time": "2025-02-06T18:38:04.221Z"
   },
   {
    "duration": 8,
    "start_time": "2025-02-06T18:38:04.262Z"
   },
   {
    "duration": 10,
    "start_time": "2025-02-06T18:38:04.272Z"
   },
   {
    "duration": 28,
    "start_time": "2025-02-06T18:38:04.283Z"
   },
   {
    "duration": 1445,
    "start_time": "2025-02-06T18:38:04.313Z"
   },
   {
    "duration": 0,
    "start_time": "2025-02-06T18:38:05.759Z"
   },
   {
    "duration": 1303,
    "start_time": "2025-02-06T18:38:55.278Z"
   },
   {
    "duration": 172,
    "start_time": "2025-02-06T18:39:17.392Z"
   },
   {
    "duration": 135,
    "start_time": "2025-02-06T18:39:52.484Z"
   },
   {
    "duration": 95,
    "start_time": "2025-02-06T18:40:57.326Z"
   },
   {
    "duration": 160,
    "start_time": "2025-02-06T18:42:15.460Z"
   },
   {
    "duration": 234,
    "start_time": "2025-02-06T18:42:27.806Z"
   },
   {
    "duration": 145,
    "start_time": "2025-02-06T18:42:44.401Z"
   },
   {
    "duration": 152,
    "start_time": "2025-02-06T18:43:01.991Z"
   },
   {
    "duration": 152,
    "start_time": "2025-02-06T18:45:43.911Z"
   },
   {
    "duration": 153,
    "start_time": "2025-02-06T18:45:57.259Z"
   },
   {
    "duration": 154,
    "start_time": "2025-02-06T18:46:02.658Z"
   },
   {
    "duration": 1162,
    "start_time": "2025-02-06T20:19:59.415Z"
   },
   {
    "duration": 2290,
    "start_time": "2025-02-06T20:20:00.579Z"
   },
   {
    "duration": 14,
    "start_time": "2025-02-06T20:20:02.870Z"
   },
   {
    "duration": 14,
    "start_time": "2025-02-06T20:20:02.886Z"
   },
   {
    "duration": 115,
    "start_time": "2025-02-06T20:20:02.901Z"
   },
   {
    "duration": 57,
    "start_time": "2025-02-06T20:20:03.018Z"
   },
   {
    "duration": 5,
    "start_time": "2025-02-06T20:20:03.076Z"
   },
   {
    "duration": 33,
    "start_time": "2025-02-06T20:20:03.082Z"
   },
   {
    "duration": 44,
    "start_time": "2025-02-06T20:20:03.116Z"
   },
   {
    "duration": 7,
    "start_time": "2025-02-06T20:20:03.162Z"
   },
   {
    "duration": 21,
    "start_time": "2025-02-06T20:20:03.171Z"
   },
   {
    "duration": 7,
    "start_time": "2025-02-06T20:20:03.194Z"
   },
   {
    "duration": 22,
    "start_time": "2025-02-06T20:20:03.202Z"
   },
   {
    "duration": 9,
    "start_time": "2025-02-06T20:20:03.226Z"
   },
   {
    "duration": 10,
    "start_time": "2025-02-06T20:20:03.258Z"
   },
   {
    "duration": 8,
    "start_time": "2025-02-06T20:20:03.270Z"
   },
   {
    "duration": 45,
    "start_time": "2025-02-06T20:20:03.279Z"
   },
   {
    "duration": 9,
    "start_time": "2025-02-06T20:20:03.326Z"
   },
   {
    "duration": 12,
    "start_time": "2025-02-06T20:20:03.358Z"
   },
   {
    "duration": 3,
    "start_time": "2025-02-06T20:20:03.372Z"
   },
   {
    "duration": 188,
    "start_time": "2025-02-06T20:20:03.377Z"
   },
   {
    "duration": 10,
    "start_time": "2025-02-06T20:20:03.566Z"
   },
   {
    "duration": 25,
    "start_time": "2025-02-06T20:20:03.577Z"
   },
   {
    "duration": 10,
    "start_time": "2025-02-06T20:20:03.604Z"
   },
   {
    "duration": 12,
    "start_time": "2025-02-06T20:20:03.615Z"
   },
   {
    "duration": 39,
    "start_time": "2025-02-06T20:20:03.629Z"
   },
   {
    "duration": 62,
    "start_time": "2025-02-06T20:20:03.670Z"
   },
   {
    "duration": 162,
    "start_time": "2025-02-06T20:20:03.735Z"
   },
   {
    "duration": 43,
    "start_time": "2025-02-06T20:20:03.898Z"
   },
   {
    "duration": 39,
    "start_time": "2025-02-06T20:20:03.943Z"
   },
   {
    "duration": 21,
    "start_time": "2025-02-06T20:20:03.983Z"
   },
   {
    "duration": 21,
    "start_time": "2025-02-06T20:20:04.005Z"
   },
   {
    "duration": 103,
    "start_time": "2025-02-06T20:20:04.028Z"
   },
   {
    "duration": 91,
    "start_time": "2025-02-06T20:20:04.132Z"
   },
   {
    "duration": 11,
    "start_time": "2025-02-06T20:20:04.224Z"
   },
   {
    "duration": 177,
    "start_time": "2025-02-06T20:20:04.236Z"
   },
   {
    "duration": 168,
    "start_time": "2025-02-06T20:20:04.414Z"
   },
   {
    "duration": 18,
    "start_time": "2025-02-06T20:20:04.584Z"
   },
   {
    "duration": 292,
    "start_time": "2025-02-06T20:20:04.603Z"
   },
   {
    "duration": 192,
    "start_time": "2025-02-06T20:20:04.897Z"
   },
   {
    "duration": 21,
    "start_time": "2025-02-06T20:20:05.090Z"
   },
   {
    "duration": 26,
    "start_time": "2025-02-06T20:20:05.113Z"
   },
   {
    "duration": 19,
    "start_time": "2025-02-06T20:20:05.140Z"
   },
   {
    "duration": 18,
    "start_time": "2025-02-06T20:20:05.161Z"
   },
   {
    "duration": 247,
    "start_time": "2025-02-06T20:20:05.181Z"
   },
   {
    "duration": 12,
    "start_time": "2025-02-06T20:20:05.430Z"
   },
   {
    "duration": 47,
    "start_time": "2025-02-06T20:20:05.443Z"
   },
   {
    "duration": 334,
    "start_time": "2025-02-06T20:20:05.491Z"
   },
   {
    "duration": 5,
    "start_time": "2025-02-06T20:20:05.827Z"
   },
   {
    "duration": 40,
    "start_time": "2025-02-06T20:20:05.834Z"
   },
   {
    "duration": 127,
    "start_time": "2025-02-06T20:20:05.876Z"
   },
   {
    "duration": 19,
    "start_time": "2025-02-06T20:20:06.004Z"
   },
   {
    "duration": 70,
    "start_time": "2025-02-06T20:20:06.025Z"
   },
   {
    "duration": 20,
    "start_time": "2025-02-06T20:20:06.096Z"
   },
   {
    "duration": 42,
    "start_time": "2025-02-06T20:20:06.117Z"
   },
   {
    "duration": 12,
    "start_time": "2025-02-06T20:20:06.160Z"
   },
   {
    "duration": 24,
    "start_time": "2025-02-06T20:20:06.174Z"
   },
   {
    "duration": 29,
    "start_time": "2025-02-06T20:20:06.199Z"
   },
   {
    "duration": 14,
    "start_time": "2025-02-06T20:20:06.229Z"
   },
   {
    "duration": 61,
    "start_time": "2025-02-06T20:20:06.244Z"
   },
   {
    "duration": 154,
    "start_time": "2025-02-06T20:20:06.306Z"
   },
   {
    "duration": 11,
    "start_time": "2025-02-06T20:20:06.461Z"
   },
   {
    "duration": 17,
    "start_time": "2025-02-06T20:20:06.473Z"
   },
   {
    "duration": 37,
    "start_time": "2025-02-06T20:20:06.492Z"
   },
   {
    "duration": 32,
    "start_time": "2025-02-06T20:20:06.530Z"
   },
   {
    "duration": 15,
    "start_time": "2025-02-06T20:20:06.564Z"
   },
   {
    "duration": 7,
    "start_time": "2025-02-06T20:20:06.580Z"
   },
   {
    "duration": 13,
    "start_time": "2025-02-06T20:20:06.588Z"
   },
   {
    "duration": 8,
    "start_time": "2025-02-06T20:20:06.602Z"
   },
   {
    "duration": 15,
    "start_time": "2025-02-06T20:20:06.611Z"
   },
   {
    "duration": 48,
    "start_time": "2025-02-06T20:20:06.628Z"
   },
   {
    "duration": 17,
    "start_time": "2025-02-06T20:20:06.678Z"
   },
   {
    "duration": 29,
    "start_time": "2025-02-06T20:20:06.696Z"
   },
   {
    "duration": 150,
    "start_time": "2025-02-06T20:20:06.726Z"
   },
   {
    "duration": 1343,
    "start_time": "2025-02-06T20:55:21.510Z"
   },
   {
    "duration": 2054,
    "start_time": "2025-02-06T20:55:22.855Z"
   },
   {
    "duration": 14,
    "start_time": "2025-02-06T20:55:24.911Z"
   },
   {
    "duration": 25,
    "start_time": "2025-02-06T20:55:24.927Z"
   },
   {
    "duration": 113,
    "start_time": "2025-02-06T20:55:24.954Z"
   },
   {
    "duration": 45,
    "start_time": "2025-02-06T20:55:25.069Z"
   },
   {
    "duration": 5,
    "start_time": "2025-02-06T20:55:25.115Z"
   },
   {
    "duration": 59,
    "start_time": "2025-02-06T20:55:25.121Z"
   },
   {
    "duration": 26,
    "start_time": "2025-02-06T20:55:25.181Z"
   },
   {
    "duration": 7,
    "start_time": "2025-02-06T20:55:25.210Z"
   },
   {
    "duration": 31,
    "start_time": "2025-02-06T20:55:25.218Z"
   },
   {
    "duration": 12,
    "start_time": "2025-02-06T20:55:25.251Z"
   },
   {
    "duration": 18,
    "start_time": "2025-02-06T20:55:25.265Z"
   },
   {
    "duration": 9,
    "start_time": "2025-02-06T20:55:25.284Z"
   },
   {
    "duration": 18,
    "start_time": "2025-02-06T20:55:25.294Z"
   },
   {
    "duration": 6,
    "start_time": "2025-02-06T20:55:25.313Z"
   },
   {
    "duration": 49,
    "start_time": "2025-02-06T20:55:25.348Z"
   },
   {
    "duration": 8,
    "start_time": "2025-02-06T20:55:25.398Z"
   },
   {
    "duration": 35,
    "start_time": "2025-02-06T20:55:25.408Z"
   },
   {
    "duration": 3,
    "start_time": "2025-02-06T20:55:25.444Z"
   },
   {
    "duration": 170,
    "start_time": "2025-02-06T20:55:25.449Z"
   },
   {
    "duration": 8,
    "start_time": "2025-02-06T20:55:25.620Z"
   },
   {
    "duration": 51,
    "start_time": "2025-02-06T20:55:25.629Z"
   },
   {
    "duration": 10,
    "start_time": "2025-02-06T20:55:25.681Z"
   },
   {
    "duration": 146,
    "start_time": "2025-02-06T20:55:25.692Z"
   },
   {
    "duration": 24,
    "start_time": "2025-02-06T20:55:25.839Z"
   },
   {
    "duration": 66,
    "start_time": "2025-02-06T20:55:25.872Z"
   },
   {
    "duration": 184,
    "start_time": "2025-02-06T20:55:25.941Z"
   },
   {
    "duration": 58,
    "start_time": "2025-02-06T20:55:26.127Z"
   },
   {
    "duration": 24,
    "start_time": "2025-02-06T20:55:26.187Z"
   },
   {
    "duration": 46,
    "start_time": "2025-02-06T20:55:26.213Z"
   },
   {
    "duration": 27,
    "start_time": "2025-02-06T20:55:26.261Z"
   },
   {
    "duration": 100,
    "start_time": "2025-02-06T20:55:26.290Z"
   },
   {
    "duration": 88,
    "start_time": "2025-02-06T20:55:26.392Z"
   },
   {
    "duration": 10,
    "start_time": "2025-02-06T20:55:26.481Z"
   },
   {
    "duration": 189,
    "start_time": "2025-02-06T20:55:26.493Z"
   },
   {
    "duration": 161,
    "start_time": "2025-02-06T20:55:26.683Z"
   },
   {
    "duration": 28,
    "start_time": "2025-02-06T20:55:26.845Z"
   },
   {
    "duration": 305,
    "start_time": "2025-02-06T20:55:26.875Z"
   },
   {
    "duration": 193,
    "start_time": "2025-02-06T20:55:27.182Z"
   },
   {
    "duration": 20,
    "start_time": "2025-02-06T20:55:27.376Z"
   },
   {
    "duration": 22,
    "start_time": "2025-02-06T20:55:27.397Z"
   },
   {
    "duration": 34,
    "start_time": "2025-02-06T20:55:27.420Z"
   },
   {
    "duration": 16,
    "start_time": "2025-02-06T20:55:27.456Z"
   },
   {
    "duration": 220,
    "start_time": "2025-02-06T20:55:27.474Z"
   },
   {
    "duration": 11,
    "start_time": "2025-02-06T20:55:27.696Z"
   },
   {
    "duration": 153,
    "start_time": "2025-02-06T20:55:27.709Z"
   },
   {
    "duration": 348,
    "start_time": "2025-02-06T20:55:27.864Z"
   },
   {
    "duration": 8,
    "start_time": "2025-02-06T20:55:28.214Z"
   },
   {
    "duration": 51,
    "start_time": "2025-02-06T20:55:28.224Z"
   },
   {
    "duration": 122,
    "start_time": "2025-02-06T20:55:28.277Z"
   },
   {
    "duration": 17,
    "start_time": "2025-02-06T20:55:28.400Z"
   },
   {
    "duration": 75,
    "start_time": "2025-02-06T20:55:28.419Z"
   },
   {
    "duration": 17,
    "start_time": "2025-02-06T20:55:28.495Z"
   },
   {
    "duration": 37,
    "start_time": "2025-02-06T20:55:28.513Z"
   },
   {
    "duration": 24,
    "start_time": "2025-02-06T20:55:28.551Z"
   },
   {
    "duration": 14,
    "start_time": "2025-02-06T20:55:28.577Z"
   },
   {
    "duration": 21,
    "start_time": "2025-02-06T20:55:28.593Z"
   },
   {
    "duration": 35,
    "start_time": "2025-02-06T20:55:28.616Z"
   },
   {
    "duration": 67,
    "start_time": "2025-02-06T20:55:28.652Z"
   },
   {
    "duration": 134,
    "start_time": "2025-02-06T20:55:28.721Z"
   },
   {
    "duration": 13,
    "start_time": "2025-02-06T20:55:28.857Z"
   },
   {
    "duration": 22,
    "start_time": "2025-02-06T20:55:28.872Z"
   },
   {
    "duration": 74,
    "start_time": "2025-02-06T20:55:28.896Z"
   },
   {
    "duration": 8,
    "start_time": "2025-02-06T20:55:28.972Z"
   },
   {
    "duration": 8,
    "start_time": "2025-02-06T20:55:28.982Z"
   },
   {
    "duration": 6,
    "start_time": "2025-02-06T20:55:28.991Z"
   },
   {
    "duration": 13,
    "start_time": "2025-02-06T20:55:28.999Z"
   },
   {
    "duration": 78,
    "start_time": "2025-02-06T20:55:29.013Z"
   },
   {
    "duration": 40,
    "start_time": "2025-02-06T20:55:29.092Z"
   },
   {
    "duration": 9,
    "start_time": "2025-02-06T20:55:29.133Z"
   },
   {
    "duration": 18,
    "start_time": "2025-02-06T20:55:29.144Z"
   },
   {
    "duration": 28,
    "start_time": "2025-02-06T20:55:29.165Z"
   },
   {
    "duration": 148,
    "start_time": "2025-02-06T20:55:29.195Z"
   },
   {
    "duration": 1316,
    "start_time": "2025-02-07T11:41:29.237Z"
   },
   {
    "duration": 2020,
    "start_time": "2025-02-07T11:41:30.555Z"
   },
   {
    "duration": 13,
    "start_time": "2025-02-07T11:41:32.576Z"
   },
   {
    "duration": 117,
    "start_time": "2025-02-07T11:41:32.591Z"
   },
   {
    "duration": 118,
    "start_time": "2025-02-07T11:41:32.710Z"
   },
   {
    "duration": 62,
    "start_time": "2025-02-07T11:41:32.830Z"
   },
   {
    "duration": 4,
    "start_time": "2025-02-07T11:41:32.894Z"
   },
   {
    "duration": 79,
    "start_time": "2025-02-07T11:41:32.899Z"
   },
   {
    "duration": 32,
    "start_time": "2025-02-07T11:41:32.980Z"
   },
   {
    "duration": 18,
    "start_time": "2025-02-07T11:41:33.015Z"
   },
   {
    "duration": 174,
    "start_time": "2025-02-07T11:41:33.035Z"
   },
   {
    "duration": 31,
    "start_time": "2025-02-07T11:41:33.211Z"
   },
   {
    "duration": 60,
    "start_time": "2025-02-07T11:41:33.244Z"
   },
   {
    "duration": 26,
    "start_time": "2025-02-07T11:41:33.305Z"
   },
   {
    "duration": 14,
    "start_time": "2025-02-07T11:41:33.333Z"
   },
   {
    "duration": 21,
    "start_time": "2025-02-07T11:41:33.349Z"
   },
   {
    "duration": 41,
    "start_time": "2025-02-07T11:41:33.372Z"
   },
   {
    "duration": 9,
    "start_time": "2025-02-07T11:41:33.415Z"
   },
   {
    "duration": 18,
    "start_time": "2025-02-07T11:41:33.425Z"
   },
   {
    "duration": 11,
    "start_time": "2025-02-07T11:41:33.445Z"
   },
   {
    "duration": 173,
    "start_time": "2025-02-07T11:41:33.458Z"
   },
   {
    "duration": 8,
    "start_time": "2025-02-07T11:41:33.632Z"
   },
   {
    "duration": 76,
    "start_time": "2025-02-07T11:41:33.641Z"
   },
   {
    "duration": 10,
    "start_time": "2025-02-07T11:41:33.719Z"
   },
   {
    "duration": 12,
    "start_time": "2025-02-07T11:41:33.730Z"
   },
   {
    "duration": 14,
    "start_time": "2025-02-07T11:41:33.743Z"
   },
   {
    "duration": 76,
    "start_time": "2025-02-07T11:41:33.759Z"
   },
   {
    "duration": 141,
    "start_time": "2025-02-07T11:41:33.839Z"
   },
   {
    "duration": 40,
    "start_time": "2025-02-07T11:41:33.982Z"
   },
   {
    "duration": 53,
    "start_time": "2025-02-07T11:41:34.024Z"
   },
   {
    "duration": 21,
    "start_time": "2025-02-07T11:41:34.078Z"
   },
   {
    "duration": 15,
    "start_time": "2025-02-07T11:41:34.100Z"
   },
   {
    "duration": 103,
    "start_time": "2025-02-07T11:41:34.117Z"
   },
   {
    "duration": 79,
    "start_time": "2025-02-07T11:41:34.221Z"
   },
   {
    "duration": 10,
    "start_time": "2025-02-07T11:41:34.301Z"
   },
   {
    "duration": 171,
    "start_time": "2025-02-07T11:41:34.313Z"
   },
   {
    "duration": 165,
    "start_time": "2025-02-07T11:41:34.485Z"
   },
   {
    "duration": 17,
    "start_time": "2025-02-07T11:41:34.652Z"
   },
   {
    "duration": 349,
    "start_time": "2025-02-07T11:41:34.671Z"
   },
   {
    "duration": 185,
    "start_time": "2025-02-07T11:41:35.021Z"
   },
   {
    "duration": 20,
    "start_time": "2025-02-07T11:41:35.208Z"
   },
   {
    "duration": 48,
    "start_time": "2025-02-07T11:41:35.229Z"
   },
   {
    "duration": 15,
    "start_time": "2025-02-07T11:41:35.278Z"
   },
   {
    "duration": 44,
    "start_time": "2025-02-07T11:41:35.295Z"
   },
   {
    "duration": 256,
    "start_time": "2025-02-07T11:41:35.340Z"
   },
   {
    "duration": 13,
    "start_time": "2025-02-07T11:41:35.597Z"
   },
   {
    "duration": 82,
    "start_time": "2025-02-07T11:41:35.611Z"
   },
   {
    "duration": 373,
    "start_time": "2025-02-07T11:41:35.694Z"
   },
   {
    "duration": 5,
    "start_time": "2025-02-07T11:41:36.068Z"
   },
   {
    "duration": 39,
    "start_time": "2025-02-07T11:41:36.074Z"
   },
   {
    "duration": 113,
    "start_time": "2025-02-07T11:41:36.115Z"
   },
   {
    "duration": 29,
    "start_time": "2025-02-07T11:41:36.229Z"
   },
   {
    "duration": 58,
    "start_time": "2025-02-07T11:41:36.259Z"
   },
   {
    "duration": 31,
    "start_time": "2025-02-07T11:41:36.318Z"
   },
   {
    "duration": 35,
    "start_time": "2025-02-07T11:41:36.350Z"
   },
   {
    "duration": 31,
    "start_time": "2025-02-07T11:41:36.386Z"
   },
   {
    "duration": 19,
    "start_time": "2025-02-07T11:41:36.419Z"
   },
   {
    "duration": 43,
    "start_time": "2025-02-07T11:41:36.439Z"
   },
   {
    "duration": 19,
    "start_time": "2025-02-07T11:41:36.484Z"
   },
   {
    "duration": 61,
    "start_time": "2025-02-07T11:41:36.505Z"
   },
   {
    "duration": 262,
    "start_time": "2025-02-07T11:41:36.567Z"
   },
   {
    "duration": 10,
    "start_time": "2025-02-07T11:41:36.831Z"
   },
   {
    "duration": 38,
    "start_time": "2025-02-07T11:41:36.848Z"
   },
   {
    "duration": 782,
    "start_time": "2025-02-07T11:41:36.888Z"
   },
   {
    "duration": 37,
    "start_time": "2025-02-07T11:41:37.672Z"
   },
   {
    "duration": 8,
    "start_time": "2025-02-07T11:41:37.711Z"
   },
   {
    "duration": 33,
    "start_time": "2025-02-07T11:41:37.720Z"
   },
   {
    "duration": 7,
    "start_time": "2025-02-07T11:41:37.754Z"
   },
   {
    "duration": 14,
    "start_time": "2025-02-07T11:41:37.762Z"
   },
   {
    "duration": 7,
    "start_time": "2025-02-07T11:41:37.777Z"
   },
   {
    "duration": 18,
    "start_time": "2025-02-07T11:41:37.786Z"
   },
   {
    "duration": 10,
    "start_time": "2025-02-07T11:41:37.806Z"
   },
   {
    "duration": 33,
    "start_time": "2025-02-07T11:41:37.817Z"
   },
   {
    "duration": 41,
    "start_time": "2025-02-07T11:41:37.852Z"
   },
   {
    "duration": 147,
    "start_time": "2025-02-07T11:41:37.895Z"
   },
   {
    "duration": 1217,
    "start_time": "2025-02-07T11:59:16.168Z"
   },
   {
    "duration": 2433,
    "start_time": "2025-02-07T11:59:17.387Z"
   },
   {
    "duration": 12,
    "start_time": "2025-02-07T11:59:19.822Z"
   },
   {
    "duration": 13,
    "start_time": "2025-02-07T11:59:19.847Z"
   },
   {
    "duration": 118,
    "start_time": "2025-02-07T11:59:19.862Z"
   },
   {
    "duration": 29,
    "start_time": "2025-02-07T11:59:19.982Z"
   },
   {
    "duration": 13,
    "start_time": "2025-02-07T11:59:20.013Z"
   },
   {
    "duration": 50,
    "start_time": "2025-02-07T11:59:20.028Z"
   },
   {
    "duration": 40,
    "start_time": "2025-02-07T11:59:20.080Z"
   },
   {
    "duration": 27,
    "start_time": "2025-02-07T11:59:20.123Z"
   },
   {
    "duration": 35,
    "start_time": "2025-02-07T11:59:20.151Z"
   },
   {
    "duration": 29,
    "start_time": "2025-02-07T11:59:20.188Z"
   },
   {
    "duration": 33,
    "start_time": "2025-02-07T11:59:20.219Z"
   },
   {
    "duration": 17,
    "start_time": "2025-02-07T11:59:20.253Z"
   },
   {
    "duration": 13,
    "start_time": "2025-02-07T11:59:20.271Z"
   },
   {
    "duration": 11,
    "start_time": "2025-02-07T11:59:20.285Z"
   },
   {
    "duration": 54,
    "start_time": "2025-02-07T11:59:20.297Z"
   },
   {
    "duration": 12,
    "start_time": "2025-02-07T11:59:20.353Z"
   },
   {
    "duration": 32,
    "start_time": "2025-02-07T11:59:20.366Z"
   },
   {
    "duration": 2,
    "start_time": "2025-02-07T11:59:20.400Z"
   },
   {
    "duration": 181,
    "start_time": "2025-02-07T11:59:20.404Z"
   },
   {
    "duration": 8,
    "start_time": "2025-02-07T11:59:20.587Z"
   },
   {
    "duration": 63,
    "start_time": "2025-02-07T11:59:20.597Z"
   },
   {
    "duration": 114,
    "start_time": "2025-02-07T11:59:20.662Z"
   },
   {
    "duration": 11,
    "start_time": "2025-02-07T11:59:20.777Z"
   },
   {
    "duration": 23,
    "start_time": "2025-02-07T11:59:20.790Z"
   },
   {
    "duration": 52,
    "start_time": "2025-02-07T11:59:20.815Z"
   },
   {
    "duration": 164,
    "start_time": "2025-02-07T11:59:20.871Z"
   },
   {
    "duration": 57,
    "start_time": "2025-02-07T11:59:21.036Z"
   },
   {
    "duration": 25,
    "start_time": "2025-02-07T11:59:21.095Z"
   },
   {
    "duration": 203,
    "start_time": "2025-02-07T11:59:21.122Z"
   },
   {
    "duration": 18,
    "start_time": "2025-02-07T11:59:21.326Z"
   },
   {
    "duration": 88,
    "start_time": "2025-02-07T11:59:21.345Z"
   },
   {
    "duration": 85,
    "start_time": "2025-02-07T11:59:21.435Z"
   },
   {
    "duration": 11,
    "start_time": "2025-02-07T11:59:21.522Z"
   },
   {
    "duration": 183,
    "start_time": "2025-02-07T11:59:21.547Z"
   },
   {
    "duration": 178,
    "start_time": "2025-02-07T11:59:21.731Z"
   },
   {
    "duration": 19,
    "start_time": "2025-02-07T11:59:21.910Z"
   },
   {
    "duration": 284,
    "start_time": "2025-02-07T11:59:21.931Z"
   },
   {
    "duration": 186,
    "start_time": "2025-02-07T11:59:22.217Z"
   },
   {
    "duration": 20,
    "start_time": "2025-02-07T11:59:22.404Z"
   },
   {
    "duration": 35,
    "start_time": "2025-02-07T11:59:22.426Z"
   },
   {
    "duration": 7,
    "start_time": "2025-02-07T11:59:22.462Z"
   },
   {
    "duration": 10,
    "start_time": "2025-02-07T11:59:22.471Z"
   },
   {
    "duration": 237,
    "start_time": "2025-02-07T11:59:22.483Z"
   },
   {
    "duration": 13,
    "start_time": "2025-02-07T11:59:22.722Z"
   },
   {
    "duration": 54,
    "start_time": "2025-02-07T11:59:22.748Z"
   },
   {
    "duration": 327,
    "start_time": "2025-02-07T11:59:22.804Z"
   },
   {
    "duration": 19,
    "start_time": "2025-02-07T11:59:23.132Z"
   },
   {
    "duration": 68,
    "start_time": "2025-02-07T11:59:23.153Z"
   },
   {
    "duration": 184,
    "start_time": "2025-02-07T11:59:23.223Z"
   },
   {
    "duration": 20,
    "start_time": "2025-02-07T11:59:23.409Z"
   },
   {
    "duration": 82,
    "start_time": "2025-02-07T11:59:23.430Z"
   },
   {
    "duration": 36,
    "start_time": "2025-02-07T11:59:23.513Z"
   },
   {
    "duration": 24,
    "start_time": "2025-02-07T11:59:23.552Z"
   },
   {
    "duration": 11,
    "start_time": "2025-02-07T11:59:23.578Z"
   },
   {
    "duration": 13,
    "start_time": "2025-02-07T11:59:23.590Z"
   },
   {
    "duration": 50,
    "start_time": "2025-02-07T11:59:23.605Z"
   },
   {
    "duration": 21,
    "start_time": "2025-02-07T11:59:23.658Z"
   },
   {
    "duration": 84,
    "start_time": "2025-02-07T11:59:23.680Z"
   },
   {
    "duration": 147,
    "start_time": "2025-02-07T11:59:23.766Z"
   },
   {
    "duration": 11,
    "start_time": "2025-02-07T11:59:23.914Z"
   },
   {
    "duration": 34,
    "start_time": "2025-02-07T11:59:23.926Z"
   },
   {
    "duration": 814,
    "start_time": "2025-02-07T11:59:23.962Z"
   },
   {
    "duration": 39,
    "start_time": "2025-02-07T11:59:24.778Z"
   },
   {
    "duration": 7,
    "start_time": "2025-02-07T11:59:24.819Z"
   },
   {
    "duration": 12,
    "start_time": "2025-02-07T11:59:24.847Z"
   },
   {
    "duration": 15,
    "start_time": "2025-02-07T11:59:24.861Z"
   },
   {
    "duration": 18,
    "start_time": "2025-02-07T11:59:24.877Z"
   },
   {
    "duration": 10,
    "start_time": "2025-02-07T11:59:24.897Z"
   },
   {
    "duration": 17,
    "start_time": "2025-02-07T11:59:24.909Z"
   },
   {
    "duration": 22,
    "start_time": "2025-02-07T11:59:24.928Z"
   },
   {
    "duration": 41,
    "start_time": "2025-02-07T11:59:24.952Z"
   },
   {
    "duration": 180,
    "start_time": "2025-02-07T11:59:24.995Z"
   },
   {
    "duration": 0,
    "start_time": "2025-02-07T11:59:25.177Z"
   },
   {
    "duration": 0,
    "start_time": "2025-02-07T11:59:25.178Z"
   },
   {
    "duration": 11,
    "start_time": "2025-02-07T11:59:46.066Z"
   },
   {
    "duration": 13,
    "start_time": "2025-02-07T11:59:49.371Z"
   },
   {
    "duration": 154,
    "start_time": "2025-02-07T11:59:51.184Z"
   },
   {
    "duration": 75,
    "start_time": "2025-02-07T12:03:06.961Z"
   },
   {
    "duration": 9,
    "start_time": "2025-02-07T12:23:55.269Z"
   },
   {
    "duration": 7,
    "start_time": "2025-02-07T12:24:53.555Z"
   },
   {
    "duration": 125,
    "start_time": "2025-02-07T12:27:20.883Z"
   },
   {
    "duration": 10,
    "start_time": "2025-02-07T12:27:30.257Z"
   },
   {
    "duration": 7,
    "start_time": "2025-02-07T12:27:32.790Z"
   },
   {
    "duration": 7,
    "start_time": "2025-02-07T12:28:16.434Z"
   },
   {
    "duration": 9,
    "start_time": "2025-02-07T12:28:25.616Z"
   },
   {
    "duration": 8,
    "start_time": "2025-02-07T12:28:41.493Z"
   },
   {
    "duration": 5,
    "start_time": "2025-02-07T12:31:20.389Z"
   },
   {
    "duration": 11,
    "start_time": "2025-02-07T12:32:11.393Z"
   },
   {
    "duration": 13,
    "start_time": "2025-02-07T12:32:52.629Z"
   },
   {
    "duration": 1230,
    "start_time": "2025-02-07T12:33:39.784Z"
   },
   {
    "duration": 15,
    "start_time": "2025-02-07T12:33:54.318Z"
   },
   {
    "duration": 8,
    "start_time": "2025-02-07T12:37:41.402Z"
   },
   {
    "duration": 4,
    "start_time": "2025-02-07T12:38:00.269Z"
   },
   {
    "duration": 12,
    "start_time": "2025-02-07T12:41:46.768Z"
   },
   {
    "duration": 13,
    "start_time": "2025-02-07T12:42:07.683Z"
   },
   {
    "duration": 4,
    "start_time": "2025-02-07T12:42:12.179Z"
   },
   {
    "duration": 9,
    "start_time": "2025-02-07T12:49:48.050Z"
   },
   {
    "duration": 7,
    "start_time": "2025-02-07T12:52:07.226Z"
   },
   {
    "duration": 8,
    "start_time": "2025-02-07T12:52:37.744Z"
   },
   {
    "duration": 9,
    "start_time": "2025-02-07T12:52:45.703Z"
   },
   {
    "duration": 5,
    "start_time": "2025-02-07T12:56:29.328Z"
   },
   {
    "duration": 11,
    "start_time": "2025-02-07T12:56:31.249Z"
   },
   {
    "duration": 15,
    "start_time": "2025-02-07T12:57:13.756Z"
   },
   {
    "duration": 11,
    "start_time": "2025-02-07T13:02:11.566Z"
   },
   {
    "duration": 5,
    "start_time": "2025-02-07T13:02:13.010Z"
   },
   {
    "duration": 13,
    "start_time": "2025-02-07T13:02:14.268Z"
   },
   {
    "duration": 1273,
    "start_time": "2025-02-07T13:14:36.853Z"
   },
   {
    "duration": 2469,
    "start_time": "2025-02-07T13:14:38.128Z"
   },
   {
    "duration": 13,
    "start_time": "2025-02-07T13:14:40.599Z"
   },
   {
    "duration": 21,
    "start_time": "2025-02-07T13:14:40.614Z"
   },
   {
    "duration": 124,
    "start_time": "2025-02-07T13:14:40.637Z"
   },
   {
    "duration": 28,
    "start_time": "2025-02-07T13:14:40.768Z"
   },
   {
    "duration": 5,
    "start_time": "2025-02-07T13:14:40.798Z"
   },
   {
    "duration": 36,
    "start_time": "2025-02-07T13:14:40.804Z"
   },
   {
    "duration": 45,
    "start_time": "2025-02-07T13:14:40.847Z"
   },
   {
    "duration": 8,
    "start_time": "2025-02-07T13:14:40.895Z"
   },
   {
    "duration": 127,
    "start_time": "2025-02-07T13:14:40.905Z"
   },
   {
    "duration": 7,
    "start_time": "2025-02-07T13:14:41.034Z"
   },
   {
    "duration": 33,
    "start_time": "2025-02-07T13:14:41.042Z"
   },
   {
    "duration": 16,
    "start_time": "2025-02-07T13:14:41.079Z"
   },
   {
    "duration": 20,
    "start_time": "2025-02-07T13:14:41.097Z"
   },
   {
    "duration": 9,
    "start_time": "2025-02-07T13:14:41.119Z"
   },
   {
    "duration": 83,
    "start_time": "2025-02-07T13:14:41.130Z"
   },
   {
    "duration": 12,
    "start_time": "2025-02-07T13:14:41.215Z"
   },
   {
    "duration": 22,
    "start_time": "2025-02-07T13:14:41.228Z"
   },
   {
    "duration": 3,
    "start_time": "2025-02-07T13:14:41.253Z"
   },
   {
    "duration": 167,
    "start_time": "2025-02-07T13:14:41.257Z"
   },
   {
    "duration": 8,
    "start_time": "2025-02-07T13:14:41.426Z"
   },
   {
    "duration": 90,
    "start_time": "2025-02-07T13:14:41.435Z"
   },
   {
    "duration": 11,
    "start_time": "2025-02-07T13:14:41.526Z"
   },
   {
    "duration": 14,
    "start_time": "2025-02-07T13:14:41.539Z"
   },
   {
    "duration": 19,
    "start_time": "2025-02-07T13:14:41.554Z"
   },
   {
    "duration": 84,
    "start_time": "2025-02-07T13:14:41.579Z"
   },
   {
    "duration": 203,
    "start_time": "2025-02-07T13:14:41.669Z"
   },
   {
    "duration": 43,
    "start_time": "2025-02-07T13:14:41.874Z"
   },
   {
    "duration": 39,
    "start_time": "2025-02-07T13:14:41.919Z"
   },
   {
    "duration": 29,
    "start_time": "2025-02-07T13:14:41.960Z"
   },
   {
    "duration": 17,
    "start_time": "2025-02-07T13:14:41.991Z"
   },
   {
    "duration": 110,
    "start_time": "2025-02-07T13:14:42.009Z"
   },
   {
    "duration": 92,
    "start_time": "2025-02-07T13:14:42.120Z"
   },
   {
    "duration": 10,
    "start_time": "2025-02-07T13:14:42.214Z"
   },
   {
    "duration": 192,
    "start_time": "2025-02-07T13:14:42.226Z"
   },
   {
    "duration": 172,
    "start_time": "2025-02-07T13:14:42.420Z"
   },
   {
    "duration": 17,
    "start_time": "2025-02-07T13:14:42.593Z"
   },
   {
    "duration": 311,
    "start_time": "2025-02-07T13:14:42.612Z"
   },
   {
    "duration": 180,
    "start_time": "2025-02-07T13:14:42.924Z"
   },
   {
    "duration": 20,
    "start_time": "2025-02-07T13:14:43.106Z"
   },
   {
    "duration": 51,
    "start_time": "2025-02-07T13:14:43.127Z"
   },
   {
    "duration": 6,
    "start_time": "2025-02-07T13:14:43.180Z"
   },
   {
    "duration": 15,
    "start_time": "2025-02-07T13:14:43.187Z"
   },
   {
    "duration": 212,
    "start_time": "2025-02-07T13:14:43.204Z"
   },
   {
    "duration": 11,
    "start_time": "2025-02-07T13:14:43.417Z"
   },
   {
    "duration": 135,
    "start_time": "2025-02-07T13:14:43.430Z"
   },
   {
    "duration": 315,
    "start_time": "2025-02-07T13:14:43.567Z"
   },
   {
    "duration": 6,
    "start_time": "2025-02-07T13:14:43.883Z"
   },
   {
    "duration": 26,
    "start_time": "2025-02-07T13:14:43.891Z"
   },
   {
    "duration": 144,
    "start_time": "2025-02-07T13:14:43.919Z"
   },
   {
    "duration": 20,
    "start_time": "2025-02-07T13:14:44.064Z"
   },
   {
    "duration": 83,
    "start_time": "2025-02-07T13:14:44.086Z"
   },
   {
    "duration": 26,
    "start_time": "2025-02-07T13:14:44.170Z"
   },
   {
    "duration": 26,
    "start_time": "2025-02-07T13:14:44.198Z"
   },
   {
    "duration": 13,
    "start_time": "2025-02-07T13:14:44.226Z"
   },
   {
    "duration": 24,
    "start_time": "2025-02-07T13:14:44.240Z"
   },
   {
    "duration": 22,
    "start_time": "2025-02-07T13:14:44.265Z"
   },
   {
    "duration": 14,
    "start_time": "2025-02-07T13:14:44.288Z"
   },
   {
    "duration": 72,
    "start_time": "2025-02-07T13:14:44.304Z"
   },
   {
    "duration": 141,
    "start_time": "2025-02-07T13:14:44.377Z"
   },
   {
    "duration": 10,
    "start_time": "2025-02-07T13:14:44.520Z"
   },
   {
    "duration": 90,
    "start_time": "2025-02-07T13:14:44.531Z"
   },
   {
    "duration": 772,
    "start_time": "2025-02-07T13:14:44.622Z"
   },
   {
    "duration": 36,
    "start_time": "2025-02-07T13:14:45.396Z"
   },
   {
    "duration": 103,
    "start_time": "2025-02-07T13:14:45.434Z"
   },
   {
    "duration": 29,
    "start_time": "2025-02-07T13:14:45.539Z"
   },
   {
    "duration": 101,
    "start_time": "2025-02-07T13:14:45.569Z"
   },
   {
    "duration": 93,
    "start_time": "2025-02-07T13:14:45.671Z"
   },
   {
    "duration": 8,
    "start_time": "2025-02-07T13:14:45.765Z"
   },
   {
    "duration": 18,
    "start_time": "2025-02-07T13:14:45.774Z"
   },
   {
    "duration": 27,
    "start_time": "2025-02-07T13:14:45.794Z"
   },
   {
    "duration": 63,
    "start_time": "2025-02-07T13:14:45.824Z"
   },
   {
    "duration": 45,
    "start_time": "2025-02-07T13:14:45.888Z"
   },
   {
    "duration": 37,
    "start_time": "2025-02-07T13:14:45.935Z"
   },
   {
    "duration": 14,
    "start_time": "2025-02-07T13:14:45.973Z"
   },
   {
    "duration": 14,
    "start_time": "2025-02-07T13:14:45.991Z"
   },
   {
    "duration": 110,
    "start_time": "2025-02-07T13:14:46.006Z"
   },
   {
    "duration": 45,
    "start_time": "2025-02-07T13:14:46.117Z"
   },
   {
    "duration": 19,
    "start_time": "2025-02-07T13:14:46.163Z"
   },
   {
    "duration": 17,
    "start_time": "2025-02-07T13:14:46.183Z"
   },
   {
    "duration": 8,
    "start_time": "2025-02-07T13:14:46.206Z"
   },
   {
    "duration": 6,
    "start_time": "2025-02-07T13:14:46.216Z"
   },
   {
    "duration": 22,
    "start_time": "2025-02-07T13:14:46.223Z"
   },
   {
    "duration": 16,
    "start_time": "2025-02-07T13:14:46.247Z"
   },
   {
    "duration": 11,
    "start_time": "2025-02-07T13:14:46.265Z"
   },
   {
    "duration": 147,
    "start_time": "2025-02-07T13:14:46.278Z"
   }
  ],
  "colab": {
   "provenance": []
  },
  "kernelspec": {
   "display_name": "Python 3 (ipykernel)",
   "language": "python",
   "name": "python3"
  },
  "language_info": {
   "codemirror_mode": {
    "name": "ipython",
    "version": 3
   },
   "file_extension": ".py",
   "mimetype": "text/x-python",
   "name": "python",
   "nbconvert_exporter": "python",
   "pygments_lexer": "ipython3",
   "version": "3.9.7"
  },
  "toc": {
   "base_numbering": 1,
   "nav_menu": {},
   "number_sections": true,
   "sideBar": true,
   "skip_h1_title": true,
   "title_cell": "Table of Contents",
   "title_sidebar": "Contents",
   "toc_cell": false,
   "toc_position": {
    "height": "calc(100% - 180px)",
    "left": "10px",
    "top": "150px",
    "width": "292px"
   },
   "toc_section_display": true,
   "toc_window_display": false
  }
 },
 "nbformat": 4,
 "nbformat_minor": 1
}
